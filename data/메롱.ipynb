{
 "cells": [
  {
   "cell_type": "code",
   "execution_count": 37,
   "metadata": {},
   "outputs": [],
   "source": [
    "import pandas as pd\n",
    "import numpy as np\n"
   ]
  },
  {
   "cell_type": "code",
   "execution_count": 60,
   "metadata": {},
   "outputs": [
    {
     "data": {
      "text/html": [
       "<div>\n",
       "<style scoped>\n",
       "    .dataframe tbody tr th:only-of-type {\n",
       "        vertical-align: middle;\n",
       "    }\n",
       "\n",
       "    .dataframe tbody tr th {\n",
       "        vertical-align: top;\n",
       "    }\n",
       "\n",
       "    .dataframe thead th {\n",
       "        text-align: right;\n",
       "    }\n",
       "</style>\n",
       "<table border=\"1\" class=\"dataframe\">\n",
       "  <thead>\n",
       "    <tr style=\"text-align: right;\">\n",
       "      <th></th>\n",
       "      <th>날짜</th>\n",
       "      <th>제목</th>\n",
       "      <th>요약</th>\n",
       "    </tr>\n",
       "  </thead>\n",
       "  <tbody>\n",
       "    <tr>\n",
       "      <th>0</th>\n",
       "      <td>2017.03.10.</td>\n",
       "      <td>국제유가, 美원유재고 급증에 속락…WTI 50달러선 무너져</td>\n",
       "      <td>급락한 유가는 이날 이틀째 하강했다. 지난 3일로 끝난 주간의 미 원유재고가 전문가...</td>\n",
       "    </tr>\n",
       "    <tr>\n",
       "      <th>1</th>\n",
       "      <td>2017.03.10.</td>\n",
       "      <td>OPEC·셰일업계 ‘삐걱’…국제유가 40달러로 주저앉나</td>\n",
       "      <td>석유수출국기구(OPEC)가 지난해 힘겨운 감산 합의 끝에 끌어올려 놓은 국제유가가 ...</td>\n",
       "    </tr>\n",
       "    <tr>\n",
       "      <th>2</th>\n",
       "      <td>2017.03.09.</td>\n",
       "      <td>국제유가, 심리저항선 '배럴당 50달러' 무너져</td>\n",
       "      <td>[WTI, 1.5% 내려가 49,54달러 기록…美 과잉생산 우려 배경] 미국 텍사스...</td>\n",
       "    </tr>\n",
       "    <tr>\n",
       "      <th>3</th>\n",
       "      <td>2017.03.09.</td>\n",
       "      <td>[국제유가] 미국 원유재고 증가로 '급락'… WTI 5.4%↓</td>\n",
       "      <td>본문 이미지 영역 국제유가 급락. /사진=머니투데이 DB 8일(현지시간) 국제유가가...</td>\n",
       "    </tr>\n",
       "    <tr>\n",
       "      <th>4</th>\n",
       "      <td>2017.03.09.</td>\n",
       "      <td>국제유가 50달러선 아슬아슬…셰일석유·감산연장 향후 변수</td>\n",
       "      <td>2016.04.18 = 국제유가가 8일(현지시간) 5% 이상 급락했다. 미국 원유 ...</td>\n",
       "    </tr>\n",
       "    <tr>\n",
       "      <th>...</th>\n",
       "      <td>...</td>\n",
       "      <td>...</td>\n",
       "      <td>...</td>\n",
       "    </tr>\n",
       "    <tr>\n",
       "      <th>2339</th>\n",
       "      <td>2017.02.20.</td>\n",
       "      <td>[사설] 짙어진 스태그플레이션 조짐, 선제 대응 급하다</td>\n",
       "      <td>품목별로는 조류인플루엔자(AI) 타격이 컸던 계란 등 축산물(6.3%)과 국제유가 ...</td>\n",
       "    </tr>\n",
       "    <tr>\n",
       "      <th>2340</th>\n",
       "      <td>2017.02.20.</td>\n",
       "      <td>[사설] 짙어진 스태그플레이션 조짐, 선제 대응 급하다</td>\n",
       "      <td>품목별로는 조류인플루엔자(AI) 타격이 컸던 계란 등 축산물(6.3%)과 국제유가 ...</td>\n",
       "    </tr>\n",
       "    <tr>\n",
       "      <th>2341</th>\n",
       "      <td>2017.02.20.</td>\n",
       "      <td>[사설] 짙어진 스태그플레이션 조짐, 선제 대응 급하다</td>\n",
       "      <td>품목별로는 조류인플루엔자(AI) 타격이 컸던 계란 등 축산물(6.3%)과 국제유가 ...</td>\n",
       "    </tr>\n",
       "    <tr>\n",
       "      <th>2342</th>\n",
       "      <td>2017.02.20.</td>\n",
       "      <td>[사설] 짙어진 스태그플레이션 조짐, 선제 대응 급하다</td>\n",
       "      <td>품목별로는 조류인플루엔자(AI) 타격이 컸던 계란 등 축산물(6.3%)과 국제유가 ...</td>\n",
       "    </tr>\n",
       "    <tr>\n",
       "      <th>2343</th>\n",
       "      <td>2017.02.20.</td>\n",
       "      <td>[사설] 짙어진 스태그플레이션 조짐, 선제 대응 급하다</td>\n",
       "      <td>품목별로는 조류인플루엔자(AI) 타격이 컸던 계란 등 축산물(6.3%)과 국제유가 ...</td>\n",
       "    </tr>\n",
       "  </tbody>\n",
       "</table>\n",
       "<p>2344 rows × 3 columns</p>\n",
       "</div>"
      ],
      "text/plain": [
       "               날짜                                  제목  \\\n",
       "0     2017.03.10.    국제유가, 美원유재고 급증에 속락…WTI 50달러선 무너져   \n",
       "1     2017.03.10.      OPEC·셰일업계 ‘삐걱’…국제유가 40달러로 주저앉나   \n",
       "2     2017.03.09.          국제유가, 심리저항선 '배럴당 50달러' 무너져   \n",
       "3     2017.03.09.  [국제유가] 미국 원유재고 증가로 '급락'… WTI 5.4%↓   \n",
       "4     2017.03.09.     국제유가 50달러선 아슬아슬…셰일석유·감산연장 향후 변수   \n",
       "...           ...                                 ...   \n",
       "2339  2017.02.20.      [사설] 짙어진 스태그플레이션 조짐, 선제 대응 급하다   \n",
       "2340  2017.02.20.      [사설] 짙어진 스태그플레이션 조짐, 선제 대응 급하다   \n",
       "2341  2017.02.20.      [사설] 짙어진 스태그플레이션 조짐, 선제 대응 급하다   \n",
       "2342  2017.02.20.      [사설] 짙어진 스태그플레이션 조짐, 선제 대응 급하다   \n",
       "2343  2017.02.20.      [사설] 짙어진 스태그플레이션 조짐, 선제 대응 급하다   \n",
       "\n",
       "                                                     요약  \n",
       "0     급락한 유가는 이날 이틀째 하강했다. 지난 3일로 끝난 주간의 미 원유재고가 전문가...  \n",
       "1     석유수출국기구(OPEC)가 지난해 힘겨운 감산 합의 끝에 끌어올려 놓은 국제유가가 ...  \n",
       "2     [WTI, 1.5% 내려가 49,54달러 기록…美 과잉생산 우려 배경] 미국 텍사스...  \n",
       "3     본문 이미지 영역 국제유가 급락. /사진=머니투데이 DB 8일(현지시간) 국제유가가...  \n",
       "4     2016.04.18 = 국제유가가 8일(현지시간) 5% 이상 급락했다. 미국 원유 ...  \n",
       "...                                                 ...  \n",
       "2339  품목별로는 조류인플루엔자(AI) 타격이 컸던 계란 등 축산물(6.3%)과 국제유가 ...  \n",
       "2340  품목별로는 조류인플루엔자(AI) 타격이 컸던 계란 등 축산물(6.3%)과 국제유가 ...  \n",
       "2341  품목별로는 조류인플루엔자(AI) 타격이 컸던 계란 등 축산물(6.3%)과 국제유가 ...  \n",
       "2342  품목별로는 조류인플루엔자(AI) 타격이 컸던 계란 등 축산물(6.3%)과 국제유가 ...  \n",
       "2343  품목별로는 조류인플루엔자(AI) 타격이 컸던 계란 등 축산물(6.3%)과 국제유가 ...  \n",
       "\n",
       "[2344 rows x 3 columns]"
      ]
     },
     "execution_count": 60,
     "metadata": {},
     "output_type": "execute_result"
    }
   ],
   "source": [
    "df = pd.read_csv('./news/news_20170210_20170310.csv', index_col=0)\n",
    "df"
   ]
  },
  {
   "cell_type": "code",
   "execution_count": 61,
   "metadata": {},
   "outputs": [
    {
     "data": {
      "text/plain": [
       "array(['2017.03.10.', '2017.03.09.', '2017.03.08.', '2017.03.04.',\n",
       "       '2017.03.03.', '2017.03.07.', '2017.03.02.', '2017.03.01.',\n",
       "       '2017.02.28.', '2017.03.06.', '2017.02.26.', '2017.02.27.',\n",
       "       '2017.02.23.', '2017.02.22.', '2017.02.24.', '2017.02.25.',\n",
       "       '2017.02.20.', '2017.02.16.', '2017.02.17.', '2017.02.18.',\n",
       "       '2017.02.15.', '2017.02.14.', '2017.02.11.', '2017.02.10.',\n",
       "       '2017.02.21.', '2017.02.19.', '2017.02.12.', '2017.02.13.',\n",
       "       '2017.03.05.'], dtype=object)"
      ]
     },
     "execution_count": 61,
     "metadata": {},
     "output_type": "execute_result"
    }
   ],
   "source": [
    "df['날짜'].unique()"
   ]
  },
  {
   "cell_type": "code",
   "execution_count": 62,
   "metadata": {},
   "outputs": [],
   "source": [
    "datelst = ['2022.02.09.','2022.02.08.','2022.02.07.','2022.02.06.','2022.02.05.','2022.02.04.','2022.02.03.']"
   ]
  },
  {
   "cell_type": "code",
   "execution_count": 63,
   "metadata": {},
   "outputs": [],
   "source": [
    "df['날짜'] = (\n",
    "    df['날짜'].str.replace('일 전','')\n",
    "    .apply(lambda x : datelst[int(x)-1] if x in ['1','2','3','4','5','6','7'] else x)\n",
    "    .astype('datetime64')\n",
    ")"
   ]
  },
  {
   "cell_type": "code",
   "execution_count": 69,
   "metadata": {},
   "outputs": [
    {
     "data": {
      "text/html": [
       "<div>\n",
       "<style scoped>\n",
       "    .dataframe tbody tr th:only-of-type {\n",
       "        vertical-align: middle;\n",
       "    }\n",
       "\n",
       "    .dataframe tbody tr th {\n",
       "        vertical-align: top;\n",
       "    }\n",
       "\n",
       "    .dataframe thead th {\n",
       "        text-align: right;\n",
       "    }\n",
       "</style>\n",
       "<table border=\"1\" class=\"dataframe\">\n",
       "  <thead>\n",
       "    <tr style=\"text-align: right;\">\n",
       "      <th></th>\n",
       "      <th>날짜</th>\n",
       "      <th>제목</th>\n",
       "      <th>요약</th>\n",
       "    </tr>\n",
       "  </thead>\n",
       "  <tbody>\n",
       "    <tr>\n",
       "      <th>0</th>\n",
       "      <td>2017-03-10</td>\n",
       "      <td>국제유가, 美원유재고 급증에 속락…WTI 50달러선 무너져</td>\n",
       "      <td>급락한 유가는 이날 이틀째 하강했다. 지난 3일로 끝난 주간의 미 원유재고가 전문가...</td>\n",
       "    </tr>\n",
       "    <tr>\n",
       "      <th>1</th>\n",
       "      <td>2017-03-10</td>\n",
       "      <td>OPEC·셰일업계 ‘삐걱’…국제유가 40달러로 주저앉나</td>\n",
       "      <td>석유수출국기구(OPEC)가 지난해 힘겨운 감산 합의 끝에 끌어올려 놓은 국제유가가 ...</td>\n",
       "    </tr>\n",
       "    <tr>\n",
       "      <th>2</th>\n",
       "      <td>2017-03-09</td>\n",
       "      <td>국제유가, 심리저항선 '배럴당 50달러' 무너져</td>\n",
       "      <td>[WTI, 1.5% 내려가 49,54달러 기록…美 과잉생산 우려 배경] 미국 텍사스...</td>\n",
       "    </tr>\n",
       "    <tr>\n",
       "      <th>3</th>\n",
       "      <td>2017-03-09</td>\n",
       "      <td>[국제유가] 미국 원유재고 증가로 '급락'… WTI 5.4%↓</td>\n",
       "      <td>본문 이미지 영역 국제유가 급락. /사진=머니투데이 DB 8일(현지시간) 국제유가가...</td>\n",
       "    </tr>\n",
       "    <tr>\n",
       "      <th>4</th>\n",
       "      <td>2017-03-09</td>\n",
       "      <td>국제유가 50달러선 아슬아슬…셰일석유·감산연장 향후 변수</td>\n",
       "      <td>2016.04.18 = 국제유가가 8일(현지시간) 5% 이상 급락했다. 미국 원유 ...</td>\n",
       "    </tr>\n",
       "    <tr>\n",
       "      <th>...</th>\n",
       "      <td>...</td>\n",
       "      <td>...</td>\n",
       "      <td>...</td>\n",
       "    </tr>\n",
       "    <tr>\n",
       "      <th>2156</th>\n",
       "      <td>2017-02-13</td>\n",
       "      <td>OPEC 감산 이행 불구 WTI 40달러대 후반까지 하락할 수도…2개월 내 셰일 증...</td>\n",
       "      <td>사진=뉴시스 [글로벌이코노믹 이동화 기자] 석유수출국기구(OPEC)의 감산에도 불구...</td>\n",
       "    </tr>\n",
       "    <tr>\n",
       "      <th>2157</th>\n",
       "      <td>2017-02-10</td>\n",
       "      <td>트럼프 '깜짝' 세제개편정책발표 예고·유럽은행 부실우려 완화 …글로벌증시...</td>\n",
       "      <td>9일(현지시간) 국제유가(WTI 쿠싱 현물기준)는 전일대비 배럴당 0.66달러 상승...</td>\n",
       "    </tr>\n",
       "    <tr>\n",
       "      <th>2158</th>\n",
       "      <td>2017-02-17</td>\n",
       "      <td>&lt;마켓 다이얼&gt; 월가 숨고르기, 한국증시 이재용 부회장 구속에 외국인 투심약...</td>\n",
       "      <td>결국 국제유가는 미증시 막판에 보합권 반등에 성공하며 그나마 다우지수는 플러스권에서...</td>\n",
       "    </tr>\n",
       "    <tr>\n",
       "      <th>2159</th>\n",
       "      <td>2017-02-12</td>\n",
       "      <td>고삐 풀린 소비자 물가…자고나면 오른다</td>\n",
       "      <td>국제유가가 반등하면서 교통 물가는 3.8% 껑충 뛰며 4년여 만에 가장 높은 증가세...</td>\n",
       "    </tr>\n",
       "    <tr>\n",
       "      <th>2160</th>\n",
       "      <td>2017-02-20</td>\n",
       "      <td>[사설] 짙어진 스태그플레이션 조짐, 선제 대응 급하다</td>\n",
       "      <td>품목별로는 조류인플루엔자(AI) 타격이 컸던 계란 등 축산물(6.3%)과 국제유가 ...</td>\n",
       "    </tr>\n",
       "  </tbody>\n",
       "</table>\n",
       "<p>1973 rows × 3 columns</p>\n",
       "</div>"
      ],
      "text/plain": [
       "             날짜                                                 제목  \\\n",
       "0    2017-03-10                   국제유가, 美원유재고 급증에 속락…WTI 50달러선 무너져   \n",
       "1    2017-03-10                     OPEC·셰일업계 ‘삐걱’…국제유가 40달러로 주저앉나   \n",
       "2    2017-03-09                         국제유가, 심리저항선 '배럴당 50달러' 무너져   \n",
       "3    2017-03-09                 [국제유가] 미국 원유재고 증가로 '급락'… WTI 5.4%↓   \n",
       "4    2017-03-09                    국제유가 50달러선 아슬아슬…셰일석유·감산연장 향후 변수   \n",
       "...         ...                                                ...   \n",
       "2156 2017-02-13  OPEC 감산 이행 불구 WTI 40달러대 후반까지 하락할 수도…2개월 내 셰일 증...   \n",
       "2157 2017-02-10        트럼프 '깜짝' 세제개편정책발표 예고·유럽은행 부실우려 완화 …글로벌증시...   \n",
       "2158 2017-02-17      <마켓 다이얼> 월가 숨고르기, 한국증시 이재용 부회장 구속에 외국인 투심약...   \n",
       "2159 2017-02-12                              고삐 풀린 소비자 물가…자고나면 오른다   \n",
       "2160 2017-02-20                     [사설] 짙어진 스태그플레이션 조짐, 선제 대응 급하다   \n",
       "\n",
       "                                                     요약  \n",
       "0     급락한 유가는 이날 이틀째 하강했다. 지난 3일로 끝난 주간의 미 원유재고가 전문가...  \n",
       "1     석유수출국기구(OPEC)가 지난해 힘겨운 감산 합의 끝에 끌어올려 놓은 국제유가가 ...  \n",
       "2     [WTI, 1.5% 내려가 49,54달러 기록…美 과잉생산 우려 배경] 미국 텍사스...  \n",
       "3     본문 이미지 영역 국제유가 급락. /사진=머니투데이 DB 8일(현지시간) 국제유가가...  \n",
       "4     2016.04.18 = 국제유가가 8일(현지시간) 5% 이상 급락했다. 미국 원유 ...  \n",
       "...                                                 ...  \n",
       "2156  사진=뉴시스 [글로벌이코노믹 이동화 기자] 석유수출국기구(OPEC)의 감산에도 불구...  \n",
       "2157  9일(현지시간) 국제유가(WTI 쿠싱 현물기준)는 전일대비 배럴당 0.66달러 상승...  \n",
       "2158  결국 국제유가는 미증시 막판에 보합권 반등에 성공하며 그나마 다우지수는 플러스권에서...  \n",
       "2159  국제유가가 반등하면서 교통 물가는 3.8% 껑충 뛰며 4년여 만에 가장 높은 증가세...  \n",
       "2160  품목별로는 조류인플루엔자(AI) 타격이 컸던 계란 등 축산물(6.3%)과 국제유가 ...  \n",
       "\n",
       "[1973 rows x 3 columns]"
      ]
     },
     "execution_count": 69,
     "metadata": {},
     "output_type": "execute_result"
    }
   ],
   "source": [
    "df.drop_duplicates()"
   ]
  },
  {
   "cell_type": "code",
   "execution_count": 78,
   "metadata": {},
   "outputs": [
    {
     "ename": "ValueError",
     "evalue": "Sign not allowed in string format specifier",
     "output_type": "error",
     "traceback": [
      "\u001b[1;31m---------------------------------------------------------------------------\u001b[0m",
      "\u001b[1;31mValueError\u001b[0m                                Traceback (most recent call last)",
      "\u001b[1;32m<ipython-input-78-c6733e3c8c9f>\u001b[0m in \u001b[0;36m<module>\u001b[1;34m\u001b[0m\n\u001b[0;32m      1\u001b[0m \u001b[0mval\u001b[0m \u001b[1;33m=\u001b[0m \u001b[1;34m'2368'\u001b[0m\u001b[1;33m\u001b[0m\u001b[1;33m\u001b[0m\u001b[0m\n\u001b[0;32m      2\u001b[0m \u001b[1;33m\u001b[0m\u001b[0m\n\u001b[1;32m----> 3\u001b[1;33m \u001b[1;34mf'{\"2368\" : 06}'\u001b[0m\u001b[1;33m\u001b[0m\u001b[1;33m\u001b[0m\u001b[0m\n\u001b[0m",
      "\u001b[1;31mValueError\u001b[0m: Sign not allowed in string format specifier"
     ]
    }
   ],
   "source": [
    "val = '2368'\n",
    "\n",
    "f'{\"2368\" : 06}'"
   ]
  },
  {
   "cell_type": "code",
   "execution_count": null,
   "metadata": {},
   "outputs": [],
   "source": []
  }
 ],
 "metadata": {
  "kernelspec": {
   "display_name": "Python 3",
   "language": "python",
   "name": "python3"
  },
  "language_info": {
   "codemirror_mode": {
    "name": "ipython",
    "version": 3
   },
   "file_extension": ".py",
   "mimetype": "text/x-python",
   "name": "python",
   "nbconvert_exporter": "python",
   "pygments_lexer": "ipython3",
   "version": "3.8.3"
  },
  "toc": {
   "base_numbering": 1,
   "nav_menu": {},
   "number_sections": true,
   "sideBar": true,
   "skip_h1_title": false,
   "title_cell": "Table of Contents",
   "title_sidebar": "Contents",
   "toc_cell": false,
   "toc_position": {},
   "toc_section_display": true,
   "toc_window_display": false
  },
  "varInspector": {
   "cols": {
    "lenName": 16,
    "lenType": 16,
    "lenVar": 40
   },
   "kernels_config": {
    "python": {
     "delete_cmd_postfix": "",
     "delete_cmd_prefix": "del ",
     "library": "var_list.py",
     "varRefreshCmd": "print(var_dic_list())"
    },
    "r": {
     "delete_cmd_postfix": ") ",
     "delete_cmd_prefix": "rm(",
     "library": "var_list.r",
     "varRefreshCmd": "cat(var_dic_list()) "
    }
   },
   "types_to_exclude": [
    "module",
    "function",
    "builtin_function_or_method",
    "instance",
    "_Feature"
   ],
   "window_display": true
  }
 },
 "nbformat": 4,
 "nbformat_minor": 4
}
