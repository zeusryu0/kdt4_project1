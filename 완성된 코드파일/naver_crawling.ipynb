{
 "cells": [
  {
   "cell_type": "code",
   "execution_count": 1,
   "id": "1e366055",
   "metadata": {
    "ExecuteTime": {
     "end_time": "2022-02-17T08:12:52.538650Z",
     "start_time": "2022-02-17T08:12:52.220217Z"
    }
   },
   "outputs": [],
   "source": [
    "from selenium.webdriver import Chrome\n",
    "import pandas as pd\n",
    "import numpy as np\n",
    "import requests\n",
    "from bs4 import BeautifulSoup\n",
    "import time\n",
    "\n",
    "import warnings\n",
    "warnings.filterwarnings(action='ignore')\n",
    "\n",
    "from dateutil.relativedelta import relativedelta\n",
    "import datetime as dt"
   ]
  },
  {
   "cell_type": "code",
   "execution_count": 23,
   "id": "91885f2d",
   "metadata": {
    "ExecuteTime": {
     "end_time": "2022-02-18T00:30:37.646356Z",
     "start_time": "2022-02-18T00:30:37.637381Z"
    }
   },
   "outputs": [
    {
     "data": {
      "text/plain": [
       "['러시아',\n",
       " '중간유분',\n",
       " '석유수요',\n",
       " '이란',\n",
       " '중국',\n",
       " '베이커휴즈',\n",
       " '비OPEC',\n",
       " '생산량',\n",
       " '산유국들',\n",
       " '베네수엘라',\n",
       " '이라크',\n",
       " '트럼프',\n",
       " '나이지리아',\n",
       " '원유생산량']"
      ]
     },
     "execution_count": 23,
     "metadata": {},
     "output_type": "execute_result"
    }
   ],
   "source": [
    "# 미국 원유생산 원유시추 원유재고 석유재고 사우디 선물유가 \n",
    "keywords = '러시아 중간유분 석유수요 이란 중국 베이커휴즈 비OPEC 생산량 산유국들 베네수엘라 이라크 트럼프 나이지리아 원유생산량'.split()\n",
    "keywords"
   ]
  },
  {
   "cell_type": "code",
   "execution_count": 20,
   "id": "42613fdd",
   "metadata": {
    "ExecuteTime": {
     "end_time": "2022-02-17T09:23:08.673191Z",
     "start_time": "2022-02-17T09:23:08.665184Z"
    }
   },
   "outputs": [
    {
     "ename": "FileNotFoundError",
     "evalue": "[WinError 3] 지정된 경로를 찾을 수 없습니다: './data/news/Korean/naver'",
     "output_type": "error",
     "traceback": [
      "\u001b[1;31m---------------------------------------------------------------------------\u001b[0m",
      "\u001b[1;31mFileNotFoundError\u001b[0m                         Traceback (most recent call last)",
      "\u001b[1;32m~\\AppData\\Local\\Temp/ipykernel_3204/371444262.py\u001b[0m in \u001b[0;36m<module>\u001b[1;34m\u001b[0m\n\u001b[0;32m      1\u001b[0m \u001b[1;32mimport\u001b[0m \u001b[0mos\u001b[0m\u001b[1;33m\u001b[0m\u001b[1;33m\u001b[0m\u001b[0m\n\u001b[1;32m----> 2\u001b[1;33m \u001b[0mos\u001b[0m\u001b[1;33m.\u001b[0m\u001b[0mlistdir\u001b[0m\u001b[1;33m(\u001b[0m\u001b[1;34m'./data/news/Korean/naver'\u001b[0m\u001b[1;33m)\u001b[0m\u001b[1;33m\u001b[0m\u001b[1;33m\u001b[0m\u001b[0m\n\u001b[0m",
      "\u001b[1;31mFileNotFoundError\u001b[0m: [WinError 3] 지정된 경로를 찾을 수 없습니다: './data/news/Korean/naver'"
     ]
    }
   ],
   "source": [
    "import os\n",
    "os.listdir('./data/news/Korean/'+keyword)\n"
   ]
  },
  {
   "cell_type": "code",
   "execution_count": null,
   "id": "962d951a",
   "metadata": {
    "ExecuteTime": {
     "start_time": "2022-02-18T00:30:46.331Z"
    }
   },
   "outputs": [],
   "source": [
    "homepath = './data/news/Korean/'\n",
    "for keyword in keywords:\n",
    "    filepath = homepath+keyword\n",
    "    try:\n",
    "        os.listdir(filepath)\n",
    "    except:\n",
    "        os.mkdir(filepath)\n",
    "        \n",
    "    start_date = dt.datetime(2017,2,10)\n",
    "    while start_date < dt.datetime(2022,2,10):\n",
    "        date_lst = []\n",
    "        title_lst = []\n",
    "        summary_lst = []\n",
    "        \n",
    "        sdname = start_date.strftime('%Y%m%d')\n",
    "        sdtxt = start_date.strftime('%Y.%m.%d')\n",
    "        start_date += relativedelta(months=1)\n",
    "        edname = start_date.strftime('%Y%m%d')\n",
    "        edtxt = start_date.strftime('%Y.%m.%d')\n",
    "        \n",
    "        for page in range(1,401):\n",
    "            # 전체\n",
    "            # url = f'https://search.naver.com/search.naver?where=news&sm=tab_pge&query={keyword}&sort=2&photo=0&field=0&pd=3&ds={sdtxt}&de={edtxt}&mynews=0&office_type=0&office_section_code=0&news_office_checked=&nso=so:r,p:from{sdname}to{edname},a:all&start=41&page={page}'\n",
    "            # 지면기사\n",
    "            url = f'https://search.naver.com/search.naver?where=news&query={keyword}&sm=tab_opt&sort=2&photo=3&field=0&pd=3&ds={sdtxt}&de={edtxt}&docid=&related=0&mynews=0&office_type=0&office_section_code=0&news_office_checked=&nso=so%3Ar%2Cp%3Afrom{sdname}to{edname}&is_sug_officeid=0&page={page}'\n",
    "            soup = BeautifulSoup(requests.get(url).text,'html.parser')\n",
    "            for article in soup.select('#main_pack > section > div > div.group_news > ul.list_news > li'):\n",
    "                title = article.select('div > div.news_area > a')[0].text\n",
    "                if len(article.select('div > div.news_area > div.news_info > div.info_group > span')) == 1:\n",
    "                    date = article.select('div > div.news_area > div.news_info > div.info_group > span')[0].text\n",
    "                else:\n",
    "                    date = article.select('div > div.news_area > div.news_info > div.info_group > span')[1].text\n",
    "                try:\n",
    "                    summary = article.select('div > div.news_area > div.news_dsc > div.dsc_wrap > a')[0].text\n",
    "                except:\n",
    "                    summary = np.nan\n",
    "                date_lst.append(date)\n",
    "                title_lst.append(title)\n",
    "                summary_lst.append(summary)\n",
    "        \n",
    "        pd.DataFrame({'date':date_lst, 'title':title_lst, 'summary':summary_lst}).to_csv(filepath+f'/news_{keyword}_{sdname}_{edname}.csv')"
   ]
  },
  {
   "cell_type": "code",
   "execution_count": null,
   "id": "231ad12b",
   "metadata": {},
   "outputs": [],
   "source": []
  }
 ],
 "metadata": {
  "kernelspec": {
   "display_name": "study",
   "language": "python",
   "name": "study"
  },
  "language_info": {
   "codemirror_mode": {
    "name": "ipython",
    "version": 3
   },
   "file_extension": ".py",
   "mimetype": "text/x-python",
   "name": "python",
   "nbconvert_exporter": "python",
   "pygments_lexer": "ipython3",
   "version": "3.8.12"
  },
  "toc": {
   "base_numbering": 1,
   "nav_menu": {},
   "number_sections": true,
   "sideBar": true,
   "skip_h1_title": false,
   "title_cell": "Table of Contents",
   "title_sidebar": "Contents",
   "toc_cell": false,
   "toc_position": {},
   "toc_section_display": true,
   "toc_window_display": false
  },
  "varInspector": {
   "cols": {
    "lenName": 16,
    "lenType": 16,
    "lenVar": 40
   },
   "kernels_config": {
    "python": {
     "delete_cmd_postfix": "",
     "delete_cmd_prefix": "del ",
     "library": "var_list.py",
     "varRefreshCmd": "print(var_dic_list())"
    },
    "r": {
     "delete_cmd_postfix": ") ",
     "delete_cmd_prefix": "rm(",
     "library": "var_list.r",
     "varRefreshCmd": "cat(var_dic_list()) "
    }
   },
   "oldHeight": 122.844,
   "position": {
    "height": "40px",
    "left": "768px",
    "right": "20px",
    "top": "118px",
    "width": "250px"
   },
   "types_to_exclude": [
    "module",
    "function",
    "builtin_function_or_method",
    "instance",
    "_Feature"
   ],
   "varInspector_section_display": "none",
   "window_display": true
  }
 },
 "nbformat": 4,
 "nbformat_minor": 5
}
