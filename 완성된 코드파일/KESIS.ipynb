{
 "cells": [
  {
   "cell_type": "code",
   "execution_count": 1,
   "id": "f0917fd7",
   "metadata": {
    "ExecuteTime": {
     "end_time": "2022-02-17T03:40:27.552871Z",
     "start_time": "2022-02-17T03:40:26.026059Z"
    }
   },
   "outputs": [],
   "source": [
    "import pandas as pd \n",
    "import numpy as np\n",
    "import datetime as dt\n",
    "\n",
    "from bs4 import BeautifulSoup\n",
    "from selenium import webdriver\n",
    "import time\n",
    "from selenium.webdriver.common.keys import Keys\n",
    "import warnings\n",
    "import requests\n",
    "import re\n",
    "\n",
    "import seaborn as sns\n",
    "import matplotlib.pyplot as plt\n",
    "warnings.filterwarnings(action='ignore')\n",
    "\n",
    "from dateutil.relativedelta import relativedelta\n",
    "import datetime as dt"
   ]
  },
  {
   "cell_type": "code",
   "execution_count": 9,
   "id": "ebf5de74",
   "metadata": {
    "ExecuteTime": {
     "end_time": "2022-02-16T11:14:04.703123Z",
     "start_time": "2022-02-16T11:14:04.559498Z"
    }
   },
   "outputs": [],
   "source": [
    "url = \"http://www.kesis.net/sub/sub_0001_03.jsp\"\n",
    "headers = {'User-Agent': 'Mozilla/5.0 (Windows NT 10.0; Win64; x64) AppleWebKit/537.36 (KHTML, like Gecko) Chrome/98.0.4758.102 Safari/537.36'}\n",
    "html = requests.get(url,headers=headers)\n",
    "html = requests.get(url)"
   ]
  },
  {
   "cell_type": "code",
   "execution_count": 10,
   "id": "618d9874",
   "metadata": {
    "ExecuteTime": {
     "end_time": "2022-02-16T11:14:04.966545Z",
     "start_time": "2022-02-16T11:14:04.942591Z"
    }
   },
   "outputs": [],
   "source": [
    "soup = BeautifulSoup(html.text,'html.parser')"
   ]
  },
  {
   "cell_type": "code",
   "execution_count": 14,
   "id": "2117e64f",
   "metadata": {
    "ExecuteTime": {
     "end_time": "2022-02-16T11:16:56.103339Z",
     "start_time": "2022-02-16T11:16:56.089137Z"
    }
   },
   "outputs": [
    {
     "data": {
      "text/plain": [
       "[<ul>\n",
       " <li><span class=\"label\">상호 </span>: 에너지경제연구원</li>\n",
       " <li class=\"address\"><span class=\"label\">주소 </span>: (44543) 울산광역시 중구 종가로 405-11 (성안동, 에너지경제연구원)</li>\n",
       " <li class=\"tel\"><span class=\"label\">전화 </span>: 052)714-2114   ㅣ   팩스 : 052)714-2028</li>\n",
       " <li class=\"copyright\">Copyright(c) KEEI. All Rights Reserved.</li>\n",
       " </ul>]"
      ]
     },
     "execution_count": 14,
     "metadata": {},
     "output_type": "execute_result"
    }
   ],
   "source": [
    "soup.select('#form1 >article > ul')"
   ]
  },
  {
   "cell_type": "code",
   "execution_count": 2,
   "id": "ffa6ded6",
   "metadata": {
    "ExecuteTime": {
     "end_time": "2022-02-16T11:44:44.468252Z",
     "start_time": "2022-02-16T11:44:43.435057Z"
    }
   },
   "outputs": [],
   "source": [
    "\n",
    "driver = webdriver.Chrome()"
   ]
  },
  {
   "cell_type": "code",
   "execution_count": 3,
   "id": "3d793ac8",
   "metadata": {
    "ExecuteTime": {
     "end_time": "2022-02-16T11:44:46.748216Z",
     "start_time": "2022-02-16T11:44:46.193722Z"
    }
   },
   "outputs": [],
   "source": [
    "driver.get('http://www.kesis.net/sub/sub_0001_03.jsp')"
   ]
  },
  {
   "cell_type": "code",
   "execution_count": 19,
   "id": "e88f924a",
   "metadata": {
    "ExecuteTime": {
     "end_time": "2022-02-16T11:25:25.352153Z",
     "start_time": "2022-02-16T11:25:25.330212Z"
    }
   },
   "outputs": [
    {
     "data": {
      "text/plain": [
       "'<html lang=\"ko\" xmlns=\"http://www.w3.org/1999/xhtml\"><head><script type=\"text/javascript\" src=\"http://www.kesis.net:80/etr/jquery/jquery-ui/js/jquery-1.8.2.min.js\"></script> \\n<script type=\"text/javascript\" src=\"http://www.kesis.net:80/etr/jquery/jquery-ui/js/jquery-ui-1.8.24.custom.min.js\"></script> \\n<link rel=\"stylesheet\" href=\"http://www.kesis.net:80/etr/jquery/jquery-ui/css/ui-lightness/jquery-ui-1.8.24.custom.css\" type=\"text/css\">\\n<script type=\"text/javascript\" src=\"/etr/script/common.js;jsessionid=eGNghKLDgMlWCY1JV2tRJjNR0oOAETQ4ZdYGNO48RR46eRut7B7w1p5tIt0sFwa9.kwas1_servlet_engine2\"></script>\\n\\n\\n\\n<meta http-equiv=\"Content-Type\" content=\"text/html; charset=utf-8\">\\n<meta name=\"viewport\" content=\"width=device-width, initial-scale=1, minimum-scale=1, maximum-scale=1, user-scalable=no\">\\n<link rel=\"canonical\" href=\"http://www.kesis.net\">\\n<!-- <link rel=\"canonical\" href=\"http://www.kesis.net\"> -->\\n<title>KESIS 국가에너지통계종합정보시스템</title>\\n<meta name=\"description\" content=\"KESIS는 에너지 정보·통계 포털사이트로서 에너지통계연보 및 월보, 지역에너지통계연보, 에너지밸런스, 에너지수급동향, 에너지수요전망, 에너지총조사, 가구에너지패널조사 데이터 등을 제공합니다.\">\\n<link rel=\"stylesheet\" href=\"/etr/css/common.css;jsessionid=eGNghKLDgMlWCY1JV2tRJjNR0oOAETQ4ZdYGNO48RR46eRut7B7w1p5tIt0sFwa9.kwas1_servlet_engine2\" type=\"text/css\">\\n<link rel=\"stylesheet\" href=\"/etr/css/reset.css;jsessionid=eGNghKLDgMlWCY1JV2tRJjNR0oOAETQ4ZdYGNO48RR46eRut7B7w1p5tIt0sFwa9.kwas1_servlet_engine2\" type=\"text/css\">\\n<link rel=\"stylesheet\" href=\"/etr/css/default.css;jsessionid=eGNghKLDgMlWCY1JV2tRJjNR0oOAETQ4ZdYGNO48RR46eRut7B7w1p5tIt0sFwa9.kwas1_servlet_engine2\" type=\"text/css\">\\n<link rel=\"stylesheet\" href=\"/etr/css/header.css;jsessionid=eGNghKLDgMlWCY1JV2tRJjNR0oOAETQ4ZdYGNO48RR46eRut7B7w1p5tIt0sFwa9.kwas1_servlet_engine2\" type=\"text/css\">\\n<link rel=\"stylesheet\" href=\"/etr/css/main_d.css;jsessionid=eGNghKLDgMlWCY1JV2tRJjNR0oOAETQ4ZdYGNO48RR46eRut7B7w1p5tIt0sFwa9.kwas1_servlet_engine2\" type=\"text/css\">\\n<link rel=\"stylesheet\" href=\"/etr/css/main_t.css;jsessionid=eGNghKLDgMlWCY1JV2tRJjNR0oOAETQ4ZdYGNO48RR46eRut7B7w1p5tIt0sFwa9.kwas1_servlet_engine2\" type=\"text/css\">\\n<link rel=\"stylesheet\" href=\"/etr/css/main_m.css;jsessionid=eGNghKLDgMlWCY1JV2tRJjNR0oOAETQ4ZdYGNO48RR46eRut7B7w1p5tIt0sFwa9.kwas1_servlet_engine2\" type=\"text/css\"> \\n<link rel=\"stylesheet\" href=\"/etr/css/sub_d.css;jsessionid=eGNghKLDgMlWCY1JV2tRJjNR0oOAETQ4ZdYGNO48RR46eRut7B7w1p5tIt0sFwa9.kwas1_servlet_engine2\" type=\"text/css\">\\n<link rel=\"stylesheet\" href=\"/etr/css/sub_t.css;jsessionid=eGNghKLDgMlWCY1JV2tRJjNR0oOAETQ4ZdYGNO48RR46eRut7B7w1p5tIt0sFwa9.kwas1_servlet_engine2\" type=\"text/css\">\\n<link rel=\"stylesheet\" href=\"/etr/css/sub_m.css;jsessionid=eGNghKLDgMlWCY1JV2tRJjNR0oOAETQ4ZdYGNO48RR46eRut7B7w1p5tIt0sFwa9.kwas1_servlet_engine2\" type=\"text/css\">\\n<link rel=\"stylesheet\" href=\"/etr/css/newCss.css;jsessionid=eGNghKLDgMlWCY1JV2tRJjNR0oOAETQ4ZdYGNO48RR46eRut7B7w1p5tIt0sFwa9.kwas1_servlet_engine2\" type=\"text/css\">\\n<link rel=\"stylesheet\" href=\"/etr/css/newMain.css;jsessionid=eGNghKLDgMlWCY1JV2tRJjNR0oOAETQ4ZdYGNO48RR46eRut7B7w1p5tIt0sFwa9.kwas1_servlet_engine2\" type=\"text/css\">\\n<script type=\"text/javascript\" src=\"/etr/jquery/function.js;jsessionid=eGNghKLDgMlWCY1JV2tRJjNR0oOAETQ4ZdYGNO48RR46eRut7B7w1p5tIt0sFwa9.kwas1_servlet_engine2\"></script>\\n\\n<script type=\"text/javascript\">\\n\\tvar domainName=\"http://www.kesis.net:80\";\\n\\tvar nowDt=\"\";\\n</script><meta http-equiv=\"Content-Type\" content=\"text/html; charset=UTF-8\"><meta name=\"twitter:card\" content=\"summary\"><meta name=\"twitter:url\" content=\"http://www.kesis.net\"><meta name=\"twitter:title\" content=\"KESIS 국가에너지통계종합정보시스템\"><meta name=\"twitter:image\" content=\"../../etr/imgs/kesis/logo_keei.gif\"><meta property=\"fb:app_id\" content=\"1775175612509713\"><meta property=\"og:title\" content=\"국가에너지통계종합정보시스템\"><meta property=\"og:type\" content=\"website\"><meta property=\"og:image\" content=\"http://www.kesis.net/etr/imgs/kesis/logo_keei.gif\"><meta property=\"og:site_name\" content=\"KESIS 국가에너지통계종합정보시스템\"><meta property=\"og:url\" content=\"http://www.kesis.net\"><meta id=\"facebookContent\" property=\"og:description\" content=\"\"><meta property=\"og:image:width\" content=\"100\"><meta property=\"og:image:height\" content=\"35\"><meta name=\"viewport\" content=\"user-scalable=no, initial-scale=1.0, maximum-scale=1.0, minimum-scale=1.0, width=device-width\"><script src=\"//developers.kakao.com/sdk/js/kakao.min.js\"></script><script type=\"text/javascript\">\\n\\n//통계링크\\nfunction statisPage(reportId,reportType,minYN){\\n\\tform1.reportId.value = reportId;\\n\\tform1.reportType.value = reportType;\\n\\tform1.minYN.value = minYN;\\n\\t\\n\\t\\t$(\"#form1\").attr(\"action\",\"../sub/subChart.jsp?report_id=\"+reportId+\"&reportType=\"+reportType).submit();\\n}\\t\\n\\n// 목록\\nfunction fn_list(CATEGORY_ID,SEQ,M_MENU_NM,S_MENU_NM){\\n\\t$(\"input[name=\\'CATEGORY_ID\\']\").val(CATEGORY_ID);\\n\\t$(\"input[name=\\'SEQ\\']\").val(SEQ);\\n\\t$(\"input[name=\\'M_MENU_NM\\']\").val(M_MENU_NM);\\n\\t$(\"input[name=\\'S_MENU_NM\\']\").val(S_MENU_NM);\\n\\t$(\"#form1\").attr(\"action\",\"../sub/sub_0001_02.jsp\").submit();\\n}\\n\\n// 최근분석\\nfunction Adetail(CATEGORY_ID,SEQ,LOW_SEQ){\\n\\t$(\"input[name=\\'CATEGORY_ID\\']\").val(CATEGORY_ID);\\n\\t$(\"input[name=\\'SEQ\\']\").val(SEQ);\\n\\t$(\"input[name=\\'LOW_SEQ\\']\").val(LOW_SEQ);\\n\\t\\n\\tif(LOW_SEQ == \"\"){\\n\\t\\t$(\"#form1\").attr(\"action\",\"../sub/sub_0001_01.jsp\").submit();\\n\\t} else {\\n\\t\\t$(\"#form1\").attr(\"action\",\"../sub/sub_0001_03.jsp\").submit();\\n\\t}\\n}\\nfunction snsLink(site) {\\n\\tvar obj = document.form1;\\n\\tvar DataLinkUrl = \\'http://www.kesis.net:80\\';\\n\\tvar DataLinkIdArr = obj.RQST_NO.value.split(\\'-\\');\\n\\tvar M_MENU_ID = obj.MAIN_MENU_ID.value\\n\\tvar S_MENU_ID = obj.SUB_MENU_ID.value;\\n\\tvar SBJ = obj.SBJ.value;\\n\\t\\n\\t\\tDataLinkKUrl = DataLinkUrl + \"/sub/sub_0001_03.jsp?CATEGORY_ID=\" + DataLinkIdArr[0] + \"&SEQ=\" + DataLinkIdArr[1] + \"&LOW_SEQ=\" + DataLinkIdArr[2] + \"&M_MENU_ID=\" + M_MENU_ID + \"&S_MENU_ID=\" + S_MENU_ID;\\n\\t\\tif(DataLinkIdArr[0] != \"\"){\\n\\t\\t\\tif (site==\"f\") {\\n\\t\\t\\t\\tfacebookContent\\n\\t\\t\\t\\tdocument.getElementById(\\'facebookContent\\').setAttribute(\\'content\\', SBJ);\\n\\t\\t\\t\\twindow.open(\\'https://www.facebook.com/sharer/sharer.php?u=\\'+encodeURIComponent(DataLinkKUrl), \\'facebooksharedialog\\',\\'menubar=no,toolbar=no,resizable=yes,scrollbars=yes,height=300,width=600\\');\\n\\t\\t\\t}else if(site==\"t\"){\\n\\t\\t\\t\\twindow.open(\"https://twitter.com/intent/tweet?text=[\"+encodeURIComponent(\"KESIS\")+\"]\"+\\'%20-%20\\'+encodeURIComponent(SBJ)+\" \"+encodeURIComponent(\"http://www.kesis.net:80/sub/sub_0001_03.jsp?CATEGORY_ID=null&&SEQ=null&&LOW_SEQ=null&&M_MENU_ID=null&&S_MENU_ID=null\"),\\'twittersharedialog\\', \\'menubar=no,toolbar=no,resizable=yes,scrollbars=yes,height=300,width=600\\');\\n\\t\\t\\t}else if(site==\"k\"){\\n\\t\\t\\t\\twindow.open(\\'https://story.kakao.com/s/share?url=\\'+encodeURIComponent(DataLinkKUrl)+\"&text=[KESIS 국가에너지통계종합정보시스템] \"+encodeURIComponent(SBJ), \\'kakaostorysharedialog\\', \\'menubar=no,toolbar=no,resizable=yes,scrollbars=yes,height=400,width=600\\');\\n\\t\\t\\t}else if(site==\"b\"){\\n\\t\\t\\t\\twindow.open(\"http://share.naver.com/web/shareView.nhn?url=\"+encodeURI(encodeURIComponent(DataLinkKUrl))+\"&title=[KESIS 국가에너지통계종합정보시스템]\"+encodeURI(SBJ),\"naversharedialog\", \"menubar=no,toolbar=no,resizable=yes,scrollbars=yes,height=600,width=600\");\\n\\t\\t\\t}\\n\\t\\t}\\n\\t\\tDataLinkKUrl = DataLinkKUrl.replace(\"https://\",\"http://\");\\n\\t\\t\\n}\\n</script></head>\\n\\n\\n\\n\\n\\n\\n  <!-- 트위터 카드 summary는 웹페이지에 대한 요약정보를 보여주는 카드로 우측에 썸네일을 보여주고 그 옆에 페이지의 제목과 요약 내용을 보여준다. -->\\n  <!-- 트위터 카드를 사용하는 표시하고싶은URL -->\\n  <!-- 트위터 카드에 나타날 웹 사이트의 제목 -->\\n<!-- <meta name=\"twitter:description\" content=\"C.m.A API 이야기,API,OPEN API,XML,PHP,MYSQL,Jvascript,Html,chongmoa.com,홈페이지,cms,쇼핑몰,큐알코드생성,QR Code Generator,IP Address Lookup,유닉스타임변환,Unix Timestamp Converter,유닉스타임을 날짜로 변환,Unix timestamp to DateTime\" />  트위터 카드에 나타날 요약 설명 -->\\n  <!-- 트위터 카드에 보여줄 대표 이미지 URL -->\\n<!-- 페이스북 관련 메타태그 -->\\n      <!-- 앱아이디 -->\\n<!--  웹 사이트의 제목 -->\\n <!-- 사이트 종류 -->\\n <!-- 대표 이미지 URL (이미지를 여러 개 지정할 수 있음) -->\\n <!-- 웹 사이트의 제목 -->\\n <!-- 표시하고싶은URL -->\\n\\n\\n\\n <!-- cfdc8c4bf2ed13736c0d4a54e16a141a -->\\n\\n\\n\\n<body>\\n<form id=\"form1\" name=\"form1\" action=\"\" method=\"post\">\\n<input type=\"hidden\" name=\"CATEGORY_ID\" value=\"\">\\n<input type=\"hidden\" name=\"SEQ\" value=\"\">\\n<input type=\"hidden\" name=\"LOW_SEQ\" value=\"\">\\n<input type=\"hidden\" name=\"RQST_NO\" value=\"\">\\n<input type=\"hidden\" name=\"MAIN_MENU_ID\" value=\"\">\\n<input type=\"hidden\" name=\"SUB_MENU_ID\" value=\"\">\\n<input type=\"hidden\" name=\"SBJ\" value=\"\">\\n<input type=\"hidden\" name=\"reportId\" value=\"\">\\n<input type=\"hidden\" name=\"reportType\" value=\"\">\\n<input type=\"hidden\" name=\"minYN\" value=\"\">\\n  \\n\\n\\n\\n\\n<script type=\"text/javascript\">\\n\\n// 검색창 띄우기\\nfunction doSearch() {\\n  var sParam = \"\"; \\n  var sUrl = \"\";\\n  var queryString = \"\";\\n  \\n  if (form1.srh_txt.value != \"\") {\\n        queryString = form1.srh_txt.value;\\n    }\\n    \\n  $(\"#form1\").attr(\"target\",\"newWindow\");\\n  $(\"input[name=\\'query\\']\").val(queryString);\\n  document.charset=\\'utf-8\\';\\n  \\n  var userID = \"\";\\n  \\n  if (userID==\"\") {\\n      //$(\"#form1\").attr(\"action\",\"http://211.35.39.23:8080/kesis/search.jsp?sessUserId=N\").submit();\\n      //20191212 검색서버 도메인으로 변경\\n//       $(\"#form1\").attr(\"action\",\"http://kssearch.keei.re.kr:8080/kesis/search.jsp?sessUserId=N\").submit();\\n      // 20211116 검색서버 url 변경\\n      $(\"#form1\").attr(\"action\",\"https://kssearch.keei.re.kr:8443/kesis/search.jsp?sessUserId=N&query=\"+encodeURIComponent(queryString)).submit();\\n  }else{\\n      //$(\"#form1\").attr(\"action\",\"http://211.35.39.23:8080/kesis/search.jsp?sessUserId=Y\").submit();\\n       //20191212 검색서버 도메인으로 변경\\n//       $(\"#form1\").attr(\"action\",\"http://kssearch.keei.re.kr:8080/kesis/search.jsp?sessUserId=Y\").submit();\\n       // 20211116 검색서버 url 변경\\n      $(\"#form1\").attr(\"action\",\"https://kssearch.keei.re.kr:8443/kesis/search.jsp?sessUserId=N&query=\"+encodeURIComponent(queryString)).submit();\\n  }\\n    \\n    fnSearchClose();\\n}\\n\\n// 메인페이지\\nfunction mainPage(){\\n  $(location).attr(\"href\",\"../main/main.jsp\");\\n}\\n\\n// 영문페이지\\nfunction engPage() {\\n  $(location).attr(\"href\",\"../main/mainEng.jsp\");\\n}\\n\\n// 메뉴페이지\\nfunction menuPage(S_MENU_ID,S_MENU_NM,M_MENU_ID,M_MENU_NM) {\\n  $(\"input[name=\\'M_MENU_ID\\']\").val(M_MENU_ID);\\n  $(\"input[name=\\'M_MENU_NM\\']\").val(M_MENU_NM);\\n  $(\"input[name=\\'S_MENU_ID\\']\").val(S_MENU_ID);\\n  $(\"input[name=\\'S_MENU_NM\\']\").val(S_MENU_NM);\\n\\n  $(\"#form1\").attr(\"target\",\"_self\")\\n  \\n    if(S_MENU_ID == \\'S_M_010\\') {\\n      // 발간물_전체페이지\\n      $(\"#form1\").attr(\"action\",\"../sub/sub_0002.jsp\");\\n    } else if(M_MENU_ID == \\'M_M_001\\' && S_MENU_ID != \\'S_M_024\\') {\\n      // 주제별페이지\\n      $(\"#form1\").attr(\"action\",\"../sub/sub_0001.jsp\");\\n    } else if(M_MENU_ID == \\'M_M_003\\') {\\n      // 통계페이지\\n      $(\"#form1\").attr(\"action\",\"../sub/sub_0004.jsp\");\\n    } else if(S_MENU_ID == \\'S_M_011\\' || S_MENU_ID == \\'S_M_012\\' || S_MENU_ID == \\'S_M_013\\' || S_MENU_ID == \\'S_M_020\\' || S_MENU_ID == \\'S_M_021\\') {\\n      // 발간물_썸네일없음\\n      $(\"#form1\").attr(\"action\",\"../sub/sub_0003.jsp\");\\n    } else if (S_MENU_ID == \\'S_M_026\\') {\\n        $(\"#form1\").attr(\"action\",\"../sub/sub_InfoBbsList.jsp\");\\n    } else if (M_MENU_ID == \\'M_M_001\\' && S_MENU_ID == \\'S_M_024\\') {\\n        $(\"#form1\").attr(\"action\",\"../sub/sub_EnergyStrategyList.jsp\");\\n    } else if (S_MENU_ID == \\'S_M_025\\') {\\n        window.open(\"http://www.keei.re.kr/web_keei/d_results.nsf/loadview?openpage&viewname=main_report_4&restricttocategory=%EC%A0%84%EC%B2%B4&Count=12&start=1&category=rr&sub=prd&disprss=true\");\\n    } else {\\n      // 발간물_썸네일형식\\n      $(\"#form1\").attr(\"action\",\"../sub/sub_0005.jsp\");\\n    }\\n    \\n    $(\"#form1\").submit();\\n}\\n\\n\\nfunction doMoveLoginPage() {\\n // location.href=\"../main/login.jsp;jsessionid=eGNghKLDgMlWCY1JV2tRJjNR0oOAETQ4ZdYGNO48RR46eRut7B7w1p5tIt0sFwa9.kwas1_servlet_engine2\";  \\n //   $(location).attr(\"href\",\"http://localhost/login/keeilogin.do?strURI=kesdev\");\\n  $(location).attr(\"href\",\"https://imm.keei.re.kr/login/keeilogin.do?strURI=kesis\");\\n\\n}\\n\\n\\n//로그아웃\\nfunction doLogOut() {\\n  location.href=\"/Logout.do;jsessionid=eGNghKLDgMlWCY1JV2tRJjNR0oOAETQ4ZdYGNO48RR46eRut7B7w1p5tIt0sFwa9.kwas1_servlet_engine2\";\\n}\\n\\n//로그아웃SSO\\nfunction doLogOutSso() {\\n//  $(location).attr(\"href\",\"../tmaxsso/ssologout.jsp\");\\n  $(location).attr(\"href\",\"../main/logout.jsp\");\\n}\\n\\n\\n\\n//고객의소리\\nfunction goCustomerVoice(){\\n  //window.location = \"http://voc.keei.re.kr/cust/center/index.do?WSITE_FLG=1\";\\n  //20191212 SSO업체 변경으로 로직변경\\n  //window.open(\"http://voc.keei.re.kr/cust/center/index.do?WSITE_FLG=1\",\"\",\"\");\\n  window.open(\"http://voc.keei.re.kr/cust/center/index.do?WSITE_FLG=1&accessToken=null&refreshToken=null\",\"\",\"\");\\n}\\n</script>\\n\\n<input type=\"hidden\" name=\"M_MENU_ID\" value=\"\">\\n<input type=\"hidden\" name=\"M_MENU_NM\" value=\"\">\\n<input type=\"hidden\" name=\"S_MENU_ID\" value=\"\">\\n<input type=\"hidden\" name=\"S_MENU_NM\" value=\"\">\\n<input type=\"hidden\" name=\"frameCls\" value=\"\">\\n<input type=\"hidden\" name=\"user\" value=\"\">\\n<input type=\"hidden\" name=\"query\" value=\"\">\\n<input type=\"hidden\" name=\"target\" value=\"all\">\\n\\n\\n<header class=\"header\">\\n  <div class=\"center\">\\n    <div class=\"logo_wrap\"><a href=\"javascript:mainPage();\" class=\"logo\"><img src=\"../etr/imgs/kesis/logo_main.gif\" alt=\"kesis로고\"></a></div>\\n    \\n\\n    <div class=\"lo_en\">\\n      \\n        <p><a href=\"javascript:doMoveLoginPage();\" class=\"login\">LOGIN</a></p>\\n      \\n        <p><a href=\"javascript:engPage();\" class=\"english\">ENGLISH</a></p>\\n    </div>\\n    \\n    <div id=\"nav_btn\" class=\"nav_show\">\\n      <div id=\"nav_show\" style=\"display: block;\"><a href=\"javascript:navShow();\"><img src=\"../etr/imgs/kesis/btn_show_nav_m.png\" alt=\"검색\"></a></div>\\n      <div id=\"nav_close\" style=\"display: none;\"><a href=\"javascript:navClose();\"><img src=\"../etr/imgs/kesis/btn_close_nav_m.png\" alt=\"검색닫기\"></a></div>\\n    </div>\\n\\n        \\n    <div class=\"headerSearch\">\\n      <a><img src=\"../etr/imgs/kesis/Gnb_srh.png\" onclick=\"javascript:fnSearchView();\" style=\"cursor: pointer;\" alt=\"검색\"></a>\\n      <div class=\"inner\">\\n        <div id=\"gnb_search\" class=\"gnb_search\">\\n          <span class=\"ico\"><a href=\"javascript:doSearch();\"><img src=\"../etr/imgs/kesis/Gnb_srh.png\" alt=\"검색\"></a></span>\\n          <span class=\"input\"><input type=\"text\" name=\"srh_txt\" class=\"main_search_input\" onkeypress=\"if (event.keyCode==13) javascript:doSearch();\" style=\"width: 665px;\"></span>\\n          <span class=\"gnb_search_close\"><a href=\"javascript:fnSearchClose();\"><img src=\"../etr/imgs/kesis/main_search_close.gif\" alt=\"검색닫기\"></a></span>\\n        </div>\\n            \\n      </div>\\n    </div>\\n  \\n    <nav class=\"header_nav\" style=\"display: none;\">\\n      <div class=\"menu\">      <!-- 11111 <--- 11111에서 부터 22222까지 의미없는 소스 안씀 -->\\n        <div class=\"lSide\"> \\n          \\n            <a href=\"javascript:doMoveLoginPage();\" class=\"login\">login</a>\\n          \\n        </div>\\n        <div class=\"rSide\">\\n        \\n          <a href=\"javascript:engPage();\" class=\"english\"><span>ENGLISH</span></a>\\n        </div>       \\n      </div>                  <!-- 22222  <--- 11111에서 부터 22222까지 의미없는 소스 안씀 -->\\n      <ul class=\"gnb\">  \\n      \\n        \\n          <li id=\"gnb_m1\" class=\"gnb_m1 gnb_logout\">\\n            <div class=\"gnb_m1_title\"><h2>주제별</h2></div>\\n            \\n            \\n            <ul class=\"gnb_m1_sub\">\\n              \\n                \\n                  <li><a href=\"javascript:menuPage(\\'S_M_006\\',\\'에너지종합\\',\\'M_M_001\\',\\'주제별\\');\">에너지종합</a></li>\\n                  \\n                \\n              \\n                \\n                  <li><a href=\"javascript:menuPage(\\'S_M_001\\',\\'석탄\\',\\'M_M_001\\',\\'주제별\\');\">석탄</a></li>\\n                  \\n                \\n              \\n                \\n                  <li><a href=\"javascript:menuPage(\\'S_M_002\\',\\'석유\\',\\'M_M_001\\',\\'주제별\\');\">석유</a></li>\\n                  \\n                \\n              \\n                \\n                  <li><a href=\"javascript:menuPage(\\'S_M_003\\',\\'가스\\',\\'M_M_001\\',\\'주제별\\');\">가스</a></li>\\n                  \\n                \\n              \\n                \\n                  <li><a href=\"javascript:menuPage(\\'S_M_004\\',\\'전력 / 열\\',\\'M_M_001\\',\\'주제별\\');\">전력 / 열</a></li>\\n                  \\n                \\n              \\n                \\n                  <li><a href=\"javascript:menuPage(\\'S_M_005\\',\\'신재생\\',\\'M_M_001\\',\\'주제별\\');\">신재생</a></li>\\n                  \\n                \\n              \\n                \\n                  <li><a href=\"javascript:menuPage(\\'S_M_007\\',\\'온실가스\\',\\'M_M_001\\',\\'주제별\\');\">온실가스</a></li>\\n                  \\n                \\n              \\n                \\n                  <li><a href=\"javascript:menuPage(\\'S_M_008\\',\\'소비 / 효율\\',\\'M_M_001\\',\\'주제별\\');\">소비 / 효율</a></li>\\n                  \\n                \\n              \\n                \\n                  <li><a href=\"javascript:menuPage(\\'S_M_009\\',\\'기타에너지정보\\',\\'M_M_001\\',\\'주제별\\');\">기타에너지정보</a></li>\\n                  \\n                \\n              \\n                \\n                  <li><a href=\"javascript:menuPage(\\'S_M_023\\',\\'경제/사회\\t\\',\\'M_M_001\\',\\'주제별\\');\">경제/사회\\t</a></li>\\n                  \\n                \\n              \\n                \\n                  <li><a href=\"javascript:menuPage(\\'S_M_024\\',\\'에너지정책DB\\',\\'M_M_001\\',\\'주제별\\');\">에너지정책DB</a></li>\\n                  \\n                \\n              \\n                \\n              \\n                \\n              \\n                \\n              \\n                \\n              \\n                \\n              \\n                \\n              \\n                \\n              \\n                \\n              \\n                \\n              \\n                \\n              \\n                \\n              \\n                \\n              \\n            </ul>\\n            \\n          </li>\\n        \\n        \\n          <li id=\"gnb_m2\" class=\"gnb_m2 gnb_logout\">\\n            <div class=\"gnb_m1_title\"><h2>발간물</h2></div>\\n            \\n            \\n            <ul class=\"gnb_m2_sub\">\\n              \\n                \\n              \\n                \\n              \\n                \\n              \\n                \\n              \\n                \\n              \\n                \\n              \\n                \\n              \\n                \\n              \\n                \\n              \\n                \\n              \\n                \\n              \\n                \\n                  <li><a href=\"javascript:menuPage(\\'S_M_010\\',\\'전체\\',\\'M_M_002\\',\\'발간물\\');\">전체</a></li>\\n                  \\n                \\n              \\n                \\n                  <li><a href=\"javascript:menuPage(\\'S_M_011\\',\\'에너지통계월보\\',\\'M_M_002\\',\\'발간물\\');\">에너지통계월보</a></li>\\n                  \\n                \\n              \\n                \\n                  <li><a href=\"javascript:menuPage(\\'S_M_012\\',\\'에너지통계연보\\',\\'M_M_002\\',\\'발간물\\');\">에너지통계연보</a></li>\\n                  \\n                \\n              \\n                \\n                  <li><a href=\"javascript:menuPage(\\'S_M_013\\',\\'지역에너지통계연보\\',\\'M_M_002\\',\\'발간물\\');\">지역에너지통계연보</a></li>\\n                  \\n                \\n              \\n                \\n                  <li><a href=\"javascript:menuPage(\\'S_M_020\\',\\'Energy Info. Korea\\',\\'M_M_002\\',\\'발간물\\');\">Energy Info. Korea</a></li>\\n                  \\n                \\n              \\n                \\n                  <li><a href=\"javascript:menuPage(\\'S_M_021\\',\\'자주 찾는 에너지통계\\',\\'M_M_002\\',\\'발간물\\');\">자주 찾는 에너지통계</a></li>\\n                  \\n                \\n              \\n                \\n                  <li><a href=\"javascript:menuPage(\\'S_M_014\\',\\'에너지총조사\\',\\'M_M_002\\',\\'발간물\\');\">에너지총조사</a></li>\\n                  \\n                \\n              \\n                \\n                  <li><a href=\"javascript:menuPage(\\'S_M_015\\',\\'가구에너지패널조사\\',\\'M_M_002\\',\\'발간물\\');\">가구에너지패널조사</a></li>\\n                  <br>\\n                \\n              \\n                \\n                  <li><a href=\"javascript:menuPage(\\'S_M_016\\',\\'수급동향／브리프\\',\\'M_M_002\\',\\'발간물\\');\">수급동향／브리프</a></li>\\n                  \\n                \\n              \\n                \\n                  <li><a href=\"javascript:menuPage(\\'S_M_017\\',\\'에너지수요전망\\',\\'M_M_002\\',\\'발간물\\');\">에너지수요전망</a></li>\\n                  \\n                \\n              \\n                \\n                  <li><a href=\"javascript:menuPage(\\'S_M_026\\',\\'에너지인포그래픽\\',\\'M_M_002\\',\\'발간물\\');\">에너지인포그래픽</a></li>\\n                  \\n                \\n              \\n                \\n                  <li><a href=\"javascript:menuPage(\\'S_M_025\\',\\'정책연구자료\\',\\'M_M_002\\',\\'발간물\\');\">정책연구자료</a></li>\\n                  \\n                \\n              \\n            </ul>\\n            \\n          </li>\\n        \\n        \\n        \\n      </ul>\\n    </nav>\\n  </div>\\n</header>\\n\\n\\n\\n\\t<!-- path -->\\n\\t<div class=\"path\">\\n\\t\\t<div class=\"inner\">\\n\\t\\t\\t<a href=\"../main/main.jsp\" class=\"home\"><img src=\"../etr/newImg/ico_home.png\" alt=\"홈으로가기\"></a>\\n\\n\\t\\t\\t<div class=\"depth01 depth\">\\n\\t\\t\\t\\t<a href=\"#currentPath01\" class=\"current\"></a>\\n\\t\\t\\t\\t<span class=\"btn\"></span>\\n\\t\\t\\t\\t<div class=\"layer\" style=\"display: none;\">\\n\\t\\t\\t\\t\\t<ul id=\"currentPath01\">\\n\\t\\t\\t\\t\\t\\t<li onclick=\"javascript:doMovePage(\\'../sub/sub_OverView.jsp\\')\"><a>KESIS 개요</a></li>\\n\\t\\t\\t\\t\\t\\t<li onclick=\"javascript:menuPage(\\'S_M_001\\',\\'석탄\\',\\'M_M_001\\',\\'주제별\\');\"><a>주제별</a></li>\\n\\t\\t\\t\\t\\t\\t<li onclick=\"javascript:menuPage(\\'S_M_010\\',\\'전체\\',\\'M_M_002\\',\\'발간물\\');\"><a>발간물</a></li>\\n\\t\\t\\t\\t\\t</ul>\\n\\t\\t\\t\\t</div>\\n\\t\\t\\t</div>\\n\\n\\t\\t\\t<div class=\"depth02 depth\">\\n\\t\\t\\t\\t<a href=\"#currentPath02\" class=\"current\"></a>\\n\\t\\t\\t\\t<span class=\"btn\"></span>\\n\\t\\t\\t\\t<div class=\"layer\" style=\"display: none;\">\\n\\t\\t\\t\\t\\t<ul id=\"currentPath02\">\\n\\t\\t\\t\\t\\t\\t\\n\\t\\t\\t\\t\\t\\t\\t\\n\\t\\t\\t\\t\\t\\t\\n\\t\\t\\t\\t\\t\\t\\t\\n\\t\\t\\t\\t\\t\\t\\n\\t\\t\\t\\t\\t\\t\\t\\n\\t\\t\\t\\t\\t\\t\\n\\t\\t\\t\\t\\t\\t\\t\\n\\t\\t\\t\\t\\t\\t\\n\\t\\t\\t\\t\\t\\t\\t\\n\\t\\t\\t\\t\\t\\t\\n\\t\\t\\t\\t\\t\\t\\t\\n\\t\\t\\t\\t\\t\\t\\n\\t\\t\\t\\t\\t\\t\\t\\n\\t\\t\\t\\t\\t\\t\\n\\t\\t\\t\\t\\t\\t\\t\\n\\t\\t\\t\\t\\t\\t\\n\\t\\t\\t\\t\\t\\t\\t\\n\\t\\t\\t\\t\\t\\t\\n\\t\\t\\t\\t\\t\\t\\t\\n\\t\\t\\t\\t\\t\\t\\n\\t\\t\\t\\t\\t\\t\\t\\n\\t\\t\\t\\t\\t\\t\\n\\t\\t\\t\\t\\t\\t\\t\\n\\t\\t\\t\\t\\t\\t\\n\\t\\t\\t\\t\\t\\t\\t\\n\\t\\t\\t\\t\\t\\t\\n\\t\\t\\t\\t\\t\\t\\t\\n\\t\\t\\t\\t\\t\\t\\n\\t\\t\\t\\t\\t\\t\\t\\n\\t\\t\\t\\t\\t\\t\\n\\t\\t\\t\\t\\t\\t\\t\\n\\t\\t\\t\\t\\t\\t\\n\\t\\t\\t\\t\\t\\t\\t\\n\\t\\t\\t\\t\\t\\t\\n\\t\\t\\t\\t\\t\\t\\t\\n\\t\\t\\t\\t\\t\\t\\n\\t\\t\\t\\t\\t\\t\\t\\n\\t\\t\\t\\t\\t\\t\\n\\t\\t\\t\\t\\t\\t\\t\\n\\t\\t\\t\\t\\t\\t\\n\\t\\t\\t\\t\\t\\t\\t\\n\\t\\t\\t\\t\\t\\t\\n\\t\\t\\t\\t\\t\\t\\t\\n\\t\\t\\t\\t\\t\\t\\n\\t\\t\\t\\t\\t\\t\\t\\n\\t\\t\\t\\t\\t\\t\\n\\t\\t\\t\\t\\t</ul>\\n\\t\\t\\t\\t</div>\\n\\t\\t\\t</div>\\n\\t\\t</div>\\n\\t</div>\\n\\t<!-- // path -->\\n\\n\\t<!--content Start -->\\n\\t<article class=\"content\">\\n\\t<div class=\"pageTit\"><strong></strong></div>\\n\\t\\t<section class=\"table\">\\n\\t\\t\\t<ul class=\"bbs_tbl_view\">\\n\\t\\t\\t\\t<br>\\n\\t\\t\\t\\t<li class=\"td col4 cool4\">\\n\\t\\t\\t\\t\\t<span class=\"color_dark_blue\"><strong style=\"font-size: 17px;\"></strong></span>\\n\\t\\t\\t\\t</li>\\n\\t\\t\\t\\t<li class=\"td col4 cool4\">\\n\\t\\t\\t\\t\\t<div class=\"snsLink\">\\n\\t\\t\\t\\t\\t\\t\\t<a onclick=\"javascript:snsLink(\\'k\\');\" class=\"cacao\" style=\"cursor: pointer;\">카카오스토리</a>\\n\\t\\t\\t\\t\\t\\t\\t<a onclick=\"javascript:snsLink(\\'t\\');\" class=\"twitter\" style=\"cursor: pointer;\">트위터</a>\\n\\t\\t\\t\\t\\t\\t\\t<a onclick=\"javascript:snsLink(\\'f\\');\" class=\"facebook\" style=\"cursor: pointer;\">페이스북</a>\\n\\t\\t\\t\\t\\t\\t\\t<a onclick=\"javascript:snsLink(\\'b\\');\" class=\"blog\" style=\"cursor: pointer;\">블로그</a>\\n\\t\\t\\t\\t\\t\\t</div>\\n\\t\\t\\t\\t\\t<div class=\"data_view_info\">\\n\\t\\t\\t\\t\\t\\t\\t<div class=\"tbl\">\\n\\t\\t\\t\\t\\t\\t\\t\\t<div class=\"row\">\\n\\t\\t\\t\\t\\t\\t\\t\\t\\t<strong></strong>\\n\\t\\t\\t\\t\\t\\t\\t\\t\\t<span>작성자 : </span>\\n\\t\\t\\t\\t\\t\\t\\t\\t</div>\\n\\t\\t\\t\\t\\t\\t\\n\\t\\t\\t\\t\\t\\t\\n\\t\\t\\t\\t\\t\\t</div>\\n\\t\\t\\t\\t\\t</div>\\n\\t\\t\\t\\t</li>\\n\\t\\t\\t\\t<li class=\"td col4 cool4\">\\n\\t\\t\\t\\t\\t</li><li class=\"td2 cont_td col3 cool3\" style=\"padding: 20px 0px;\">\\n\\t\\t\\t\\t\\t\\t\\n\\t\\t\\t\\t\\t</li>\\n\\t\\t\\t\\t\\t<!-- recentAnal -->\\n\\t\\t\\t\\t\\t<div class=\"recentAnal\">\\n\\t\\t\\t\\t\\t\\t<li class=\"td col5 up\" style=\"font-weight: bold;\">● 최근분석</li>\\n\\t\\t\\t\\t\\t\\t\\n\\t\\t\\t\\t\\t\\t\\t<li class=\"td col5\">최근 분석이 없습니다</li>\\n\\t\\t\\t\\t\\t\\t\\n\\t\\t\\t\\t\\t\\t\\n\\t\\t\\t\\t\\t\\t<li class=\"td col5\" style=\"padding-top: 50px; font-weight: bold;\">● 최근데이터</li>\\n\\t\\t\\t\\t\\t\\t\\n\\t\\t\\t\\t\\t\\t\\t<li class=\"td col5 down\">최근 데이터가 없습니다</li>\\n\\t\\t\\t\\t\\t\\t\\n\\t\\t\\t\\t\\t\\t\\n\\t\\t\\t\\t\\t\\t<li class=\"td col5\" style=\"padding-top: 50px; font-weight: bold;\">● 관련데이터</li>\\n\\t\\t\\t\\t\\t\\t\\n\\t\\t\\t\\t\\t\\t\\t<li class=\"td col5 down\">관련 데이터가 없습니다</li>\\n\\t\\t\\t\\t\\t\\t\\n\\t\\t\\t\\t\\t\\t\\n\\t\\t\\t\\t\\t</div>\\n\\t\\t\\t\\t\\n\\t\\t\\t</ul>\\n\\n\\t\\t\\t<div class=\"bbs_btn_wrap\">\\n\\t\\t\\t\\t<div class=\"bbs_btn\" onclick=\"javascript:fn_list(\\'\\',\\'\\',\\'\\',\\'\\');\">목록</div>\\n\\t\\t\\t</div>\\n\\t\\t</section>\\n\\t</article>\\n\\t<!--content End-->\\n\\n<script type=\"text/javascript\">\\n// 공지사항페이지\\nfunction bbsPage(BBS_CLS) {\\n\\t$(\"input[name=\\'BBS_CLS\\']\").val(BBS_CLS);\\n\\t$(location).attr(\"href\",\"../sub/sub_BbsList.jsp\");\\n}\\n\\n//화면이동\\nfunction doMovePage(linkUrl) {\\n\\t$(location).attr(\"href\",linkUrl);\\n}\\n\\n/* function logoLink() {\\n\\t  //window.open(\"https://www.goodcontent.kr/upload_public/CERTIDW/2016-07-0019_8dhg7673pew0vu920160729162740.png\",\"width=400\");\\n\\t  window.open(\"https://www.goodcontent.kr/upload_public/CERTIDW/2018-08-0019_99j0xv90iru5o7j20180904144001.png\",\"width=400\");\\n\\t} */\\n\\n//이용약관, 개인정보처리방침,이메일무단수집거부\\nfunction popUpNotice(flag) {\\n\\n\\tif (flag == \"1\") {\\t// 이용약관\\n\\t\\tsUrl = \"/include/popup_service.html\";\\n\\t}else if (flag == \"2\") {\\t// 개인정보처리방침\\n\\t\\t//sUrl = \"/include/popup_privacy.html\";\\n\\t\\tsUrl = \"http://www.keei.re.kr/main.nsf/privacy.html\";\\n\\t}else if (flag == \"3\") {\\t// 이메일무단수집거부\\n\\t\\tsUrl = \"/include/popup_emailrefuse.html\";\\n\\t}else if (flag == \"4\") {\\n\\t\\tsUrl = \"mailto:energystat@keei.re.kr\";\\n\\t}\\n\\t\\n \\t//window.open(sUrl,\"newWindow\",\"width=600,height=550\");\\n \\tif(flag == \"2\"){\\n    window.open(sUrl);\\n  }else{\\n    window.open(sUrl,\"newWindow\",\"width=600,height=550\");\\n  }\\n \\t\\n \\treturn;\\n}\\n\\n</script>\\n\\n<input type=\"hidden\" name=\"BBS_CLS\" value=\"\">\\n\\n<!--sitemap Start-->\\n<article class=\"sitemap\">\\n\\t<section class=\"sitemap_sec\">\\n\\t\\t<figure class=\"sitemap_sec_f1\">\\n\\t\\t\\t<h3 class=\"sitemap_title\">KESIS</h3>\\n\\t\\t\\t<ul>\\n\\t\\t\\t\\t<li><a href=\"javascript:doMovePage(\\'../sub/sub_OverView.jsp\\')\">KESIS 개요</a></li>\\n\\t\\t\\t\\t<li><a href=\"javascript:bbsPage(\\'103-001\\')\">공지사항</a></li>\\n\\t\\t        <li><a href=\"javascript:doMovePage(\\'../bbs/FAQList.jsp\\')\">FAQ</a></li>\\n        \\t\\t<li><a href=\"javascript:doMovePage(\\'../bbs/QnAList.jsp\\')\">Q&amp;A</a></li>\\n        \\t\\t\\n        <!-- <li><a href=\"javascript:doMovePage(\\'../sub/sub_Statis.jsp\\')\">통계소재정보</a></li> -->\\n\\t\\t\\t\\t<li><a href=\"javascript:doMovePage(\\'../sub/sub_EnergyChange.jsp\\')\">에너지열량환산</a></li>\\n\\t\\t\\t\\t<li><a href=\"javascript:doMovePage(\\'../sub/sub_UnitExchange.jsp\\')\">단위환산기</a></li>\\n\\t\\t\\t \\t\\n \\t\\t\\t</ul>\\n\\t\\t</figure>\\n\\t\\t<figure class=\"sitemap_sec_f2\">\\n\\t\\t\\t<h3 class=\"sitemap_title\">주제별</h3>\\n\\t\\t\\t<ul>\\n\\t\\t\\t\\t\\n\\t\\t\\t\\t\\t\\n\\t\\t\\t\\t\\t\\t<li><a href=\"javascript:menuPage(\\'S_M_006\\',\\'에너지종합\\',\\'M_M_001\\',\\'주제별\\')\">에너지종합</a></li>\\n\\t\\t\\t\\t\\t\\n\\t\\t\\t\\t\\n\\t\\t\\t\\t\\t\\n\\t\\t\\t\\t\\t\\t<li><a href=\"javascript:menuPage(\\'S_M_001\\',\\'석탄\\',\\'M_M_001\\',\\'주제별\\')\">석탄</a></li>\\n\\t\\t\\t\\t\\t\\n\\t\\t\\t\\t\\n\\t\\t\\t\\t\\t\\n\\t\\t\\t\\t\\t\\t<li><a href=\"javascript:menuPage(\\'S_M_002\\',\\'석유\\',\\'M_M_001\\',\\'주제별\\')\">석유</a></li>\\n\\t\\t\\t\\t\\t\\n\\t\\t\\t\\t\\n\\t\\t\\t\\t\\t\\n\\t\\t\\t\\t\\t\\t<li><a href=\"javascript:menuPage(\\'S_M_003\\',\\'가스\\',\\'M_M_001\\',\\'주제별\\')\">가스</a></li>\\n\\t\\t\\t\\t\\t\\n\\t\\t\\t\\t\\n\\t\\t\\t\\t\\t\\n\\t\\t\\t\\t\\t\\t<li><a href=\"javascript:menuPage(\\'S_M_004\\',\\'전력 / 열\\',\\'M_M_001\\',\\'주제별\\')\">전력 / 열</a></li>\\n\\t\\t\\t\\t\\t\\n\\t\\t\\t\\t\\n\\t\\t\\t\\t\\t\\n\\t\\t\\t\\t\\t\\t<li><a href=\"javascript:menuPage(\\'S_M_005\\',\\'신재생\\',\\'M_M_001\\',\\'주제별\\')\">신재생</a></li>\\n\\t\\t\\t\\t\\t\\n\\t\\t\\t\\t\\n\\t\\t\\t\\t\\t\\n\\t\\t\\t\\t\\t\\t<li><a href=\"javascript:menuPage(\\'S_M_007\\',\\'온실가스\\',\\'M_M_001\\',\\'주제별\\')\">온실가스</a></li>\\n\\t\\t\\t\\t\\t\\n\\t\\t\\t\\t\\n\\t\\t\\t\\t\\t\\n\\t\\t\\t\\t\\t\\t<li><a href=\"javascript:menuPage(\\'S_M_008\\',\\'소비 / 효율\\',\\'M_M_001\\',\\'주제별\\')\">소비 / 효율</a></li>\\n\\t\\t\\t\\t\\t\\n\\t\\t\\t\\t\\n\\t\\t\\t\\t\\t\\n\\t\\t\\t\\t\\t\\t<li><a href=\"javascript:menuPage(\\'S_M_009\\',\\'기타에너지정보\\',\\'M_M_001\\',\\'주제별\\')\">기타에너지정보</a></li>\\n\\t\\t\\t\\t\\t\\n\\t\\t\\t\\t\\n\\t\\t\\t\\t\\t\\n\\t\\t\\t\\t\\t\\t<li><a href=\"javascript:menuPage(\\'S_M_023\\',\\'경제/사회\\t\\',\\'M_M_001\\',\\'주제별\\')\">경제/사회\\t</a></li>\\n\\t\\t\\t\\t\\t\\n\\t\\t\\t\\t\\n\\t\\t\\t\\t\\t\\n\\t\\t\\t\\t\\t\\t<li><a href=\"javascript:menuPage(\\'S_M_024\\',\\'에너지정책DB\\',\\'M_M_001\\',\\'주제별\\')\">에너지정책DB</a></li>\\n\\t\\t\\t\\t\\t\\n\\t\\t\\t\\t\\n\\t\\t\\t\\t\\t\\n\\t\\t\\t\\t\\n\\t\\t\\t\\t\\t\\n\\t\\t\\t\\t\\n\\t\\t\\t\\t\\t\\n\\t\\t\\t\\t\\n\\t\\t\\t\\t\\t\\n\\t\\t\\t\\t\\n\\t\\t\\t\\t\\t\\n\\t\\t\\t\\t\\n\\t\\t\\t\\t\\t\\n\\t\\t\\t\\t\\n\\t\\t\\t\\t\\t\\n\\t\\t\\t\\t\\n\\t\\t\\t\\t\\t\\n\\t\\t\\t\\t\\n\\t\\t\\t\\t\\t\\n\\t\\t\\t\\t\\n\\t\\t\\t\\t\\t\\n\\t\\t\\t\\t\\n\\t\\t\\t\\t\\t\\n\\t\\t\\t\\t\\n\\t\\t\\t\\t\\t\\n\\t\\t\\t\\t\\n\\t\\t\\t</ul>\\n\\t\\t</figure>\\n\\t\\t<figure class=\"sitemap_sec_f3\">\\n\\t\\t\\t<h3 class=\"sitemap_title\">발간물</h3>\\n\\t\\t\\t<ul>\\n\\t\\t\\t\\t\\n\\t\\t\\t\\t\\t\\n\\t\\t\\t\\t\\n\\t\\t\\t\\t\\t\\n\\t\\t\\t\\t\\n\\t\\t\\t\\t\\t\\n\\t\\t\\t\\t\\n\\t\\t\\t\\t\\t\\n\\t\\t\\t\\t\\n\\t\\t\\t\\t\\t\\n\\t\\t\\t\\t\\n\\t\\t\\t\\t\\t\\n\\t\\t\\t\\t\\n\\t\\t\\t\\t\\t\\n\\t\\t\\t\\t\\n\\t\\t\\t\\t\\t\\n\\t\\t\\t\\t\\n\\t\\t\\t\\t\\t\\n\\t\\t\\t\\t\\n\\t\\t\\t\\t\\t\\n\\t\\t\\t\\t\\n\\t\\t\\t\\t\\t\\n\\t\\t\\t\\t\\n\\t\\t\\t\\t\\t\\n\\t\\t\\t\\t\\t\\t<li><a href=\"javascript:menuPage(\\'S_M_010\\',\\'전체\\',\\'M_M_002\\',\\'발간물\\')\">전체</a></li>\\n\\t\\t\\t\\t\\t\\n\\t\\t\\t\\t\\n\\t\\t\\t\\t\\t\\n\\t\\t\\t\\t\\t\\t<li><a href=\"javascript:menuPage(\\'S_M_011\\',\\'에너지통계월보\\',\\'M_M_002\\',\\'발간물\\')\">에너지통계월보</a></li>\\n\\t\\t\\t\\t\\t\\n\\t\\t\\t\\t\\n\\t\\t\\t\\t\\t\\n\\t\\t\\t\\t\\t\\t<li><a href=\"javascript:menuPage(\\'S_M_012\\',\\'에너지통계연보\\',\\'M_M_002\\',\\'발간물\\')\">에너지통계연보</a></li>\\n\\t\\t\\t\\t\\t\\n\\t\\t\\t\\t\\n\\t\\t\\t\\t\\t\\n\\t\\t\\t\\t\\t\\t<li><a href=\"javascript:menuPage(\\'S_M_013\\',\\'지역에너지통계연보\\',\\'M_M_002\\',\\'발간물\\')\">지역에너지통계연보</a></li>\\n\\t\\t\\t\\t\\t\\n\\t\\t\\t\\t\\n\\t\\t\\t\\t\\t\\n\\t\\t\\t\\t\\t\\t<li><a href=\"javascript:menuPage(\\'S_M_020\\',\\'Energy Info. Korea\\',\\'M_M_002\\',\\'발간물\\')\">Energy Info. Korea</a></li>\\n\\t\\t\\t\\t\\t\\n\\t\\t\\t\\t\\n\\t\\t\\t\\t\\t\\n\\t\\t\\t\\t\\t\\t<li><a href=\"javascript:menuPage(\\'S_M_021\\',\\'자주 찾는 에너지통계\\',\\'M_M_002\\',\\'발간물\\')\">자주 찾는 에너지통계</a></li>\\n\\t\\t\\t\\t\\t\\n\\t\\t\\t\\t\\n\\t\\t\\t\\t\\t\\n\\t\\t\\t\\t\\t\\t<li><a href=\"javascript:menuPage(\\'S_M_014\\',\\'에너지총조사\\',\\'M_M_002\\',\\'발간물\\')\">에너지총조사</a></li>\\n\\t\\t\\t\\t\\t\\n\\t\\t\\t\\t\\n\\t\\t\\t\\t\\t\\n\\t\\t\\t\\t\\t\\t<li><a href=\"javascript:menuPage(\\'S_M_015\\',\\'가구에너지패널조사\\',\\'M_M_002\\',\\'발간물\\')\">가구에너지패널조사</a></li>\\n\\t\\t\\t\\t\\t\\n\\t\\t\\t\\t\\n\\t\\t\\t\\t\\t\\n\\t\\t\\t\\t\\t\\t<li><a href=\"javascript:menuPage(\\'S_M_016\\',\\'수급동향／브리프\\',\\'M_M_002\\',\\'발간물\\')\">수급동향／브리프</a></li>\\n\\t\\t\\t\\t\\t\\n\\t\\t\\t\\t\\n\\t\\t\\t\\t\\t\\n\\t\\t\\t\\t\\t\\t<li><a href=\"javascript:menuPage(\\'S_M_017\\',\\'에너지수요전망\\',\\'M_M_002\\',\\'발간물\\')\">에너지수요전망</a></li>\\n\\t\\t\\t\\t\\t\\n\\t\\t\\t\\t\\n\\t\\t\\t\\t\\t\\n\\t\\t\\t\\t\\t\\t<li><a href=\"javascript:menuPage(\\'S_M_026\\',\\'에너지인포그래픽\\',\\'M_M_002\\',\\'발간물\\')\">에너지인포그래픽</a></li>\\n\\t\\t\\t\\t\\t\\n\\t\\t\\t\\t\\n\\t\\t\\t\\t\\t\\n\\t\\t\\t\\t\\t\\t<li><a href=\"javascript:menuPage(\\'S_M_025\\',\\'정책연구자료\\',\\'M_M_002\\',\\'발간물\\')\">정책연구자료</a></li>\\n\\t\\t\\t\\t\\t\\n\\t\\t\\t\\t\\n\\t\\t\\t</ul>\\n\\t\\t</figure>\\n\\t\\t<figure class=\"sitemap_sec_f4\">\\n\\t\\t\\t<h3 class=\"sitemap_title\">통계작성기관</h3>\\n\\t\\t\\t<ul>\\n\\t\\t\\t\\t<li><a href=\"http://home.kepco.co.kr/\" target=\"_blank\">한국전력공사</a></li>\\n\\t\\t\\t\\t<li><a href=\"http://www.knoc.co.kr/\" target=\"_blank\">한국석유공사</a></li>\\n\\t\\t\\t\\t<li><a href=\"http://www.kogas.or.kr/\" target=\"_blank\">한국가스공사</a></li>\\n\\t\\t\\t\\t<li><a href=\"http://www.kpx.or.kr/\" target=\"_blank\">전력거래소</a></li>\\n\\t\\t\\t\\t<li><a href=\"http://www.kemco.or.kr/\" target=\"_blank\">한국에너지공단</a></li>\\n\\t\\t\\t\\t<li><a href=\"http://www.citygas.or.kr/\" target=\"_blank\">한국도시가스협회</a></li>\\n\\t\\t\\t\\t<li><a href=\"http://www.kcoal.or.kr/\" target=\"_blank\">대한석탄협회</a></li>\\n\\t\\t\\t</ul>\\n\\t\\t</figure>\\n\\t\\t\\n\\t</section>\\n</article>\\n\\n<!--link Start--> \\n<div class=\"sitelinkWrap\">\\n\\t<article class=\"sitelink\"> \\n\\t\\t<a href=\"http://www.motie.go.kr/\" target=\"_blank\"><img alt=\"산업통상자원부\" src=\"../../etr/imgs/kesis/logo_motie.gif\" style=\"float: left; width: 165;height: 65px;\"></a>\\n\\t\\t<a style=\"font-size: 35px;\">&nbsp;</a>\\n\\t\\t<a href=\"javascript:popUpNotice(1)\" class=\"link1\">이용약관</a>\\n\\t\\t<!-- <a href=\"javascript:popUpNotice(2)\" class=\"link2\">개인정보처리방침</a> -->\\n\\t\\t<a href=\"http://www.keei.re.kr/main.nsf/privacy.html\" target=\"_blank\" class=\"link2\">개인정보처리방침</a>\\n\\t\\t<a href=\"javascript:popUpNotice(3)\" class=\"link3\">이메일무단수집거부</a>\\n\\t\\t<a href=\"mailto:energystat@keei.re.kr\" class=\"link4\">관리자메일</a>\\n\\t\\t<a href=\"http://www.keei.re.kr/\" target=\"_blank\"><img alt=\"에너지경제연구원\" src=\"../../etr/imgs/kesis/logo_keei.gif\" style=\"float:right; width: 157px;height: 65px;\"></a> \\n\\t</article> \\n\\t<div class=\"mSitelink\">\\n\\t\\t<div class=\"selectbox\">\\n\\t\\t\\t<a class=\"selected\"><span>이용약관</span></a>\\n\\t\\t\\t<select name=\"select\" onchange=\"javascript:popUpNotice(this.value)\">\\n\\t\\t\\t<option value=\"1\">이용약관</option>\\n\\t\\t\\t<option value=\"2\">개인정보처리방침</option>\\n\\t\\t\\t<option value=\"3\">이메일무단수집거부</option>\\n\\t\\t\\t<option value=\"4\">관리자메일</option>\\n\\t\\t\\t</select>\\n\\t\\t</div>\\n\\t</div>\\n</div>\\n\\n<article class=\"footer\">\\n<ul>\\n\\t<li><span class=\"label\">상호 </span>: 에너지경제연구원</li>\\n\\t<li class=\"address\"><span class=\"label\">주소 </span>: (44543) 울산광역시 중구 종가로 405-11 (성안동, 에너지경제연구원)</li>\\n\\t<li class=\"tel\"><span class=\"label\">전화 </span>: 052)714-2114   ㅣ   팩스 : 052)714-2028</li>\\n\\t<li class=\"copyright\">Copyright(c) KEEI. All Rights Reserved.</li>\\n</ul>\\n<!-- <span class=\"footerLogo\" onclick=\"logoLink()\" style=\"cursor: pointer;\"></span> -->\\n\\n</article>\\n\\n</form>\\n\\n</body></html>'"
      ]
     },
     "execution_count": 19,
     "metadata": {},
     "output_type": "execute_result"
    }
   ],
   "source": [
    "driver.page_source"
   ]
  },
  {
   "cell_type": "code",
   "execution_count": 5,
   "id": "48a1bcf5",
   "metadata": {
    "ExecuteTime": {
     "end_time": "2022-02-16T11:48:18.580129Z",
     "start_time": "2022-02-16T11:48:18.556753Z"
    }
   },
   "outputs": [
    {
     "data": {
      "text/plain": [
       "\"요약\\n2015년 국제 원유시장은 저유가에도 불구하고 미국의 셰일오일 등 비OPEC 생산이 예상보다 높은 증가세를 유지하고 OPEC의 시장점유율 방어를 위한 생산 확대로 2014년에 이어 공급 과잉 상황이 지속됨. 세계 석유수요는 비OECD 수요의 증가세 둔화에도 불구하고 OECD 수요가 증가세로 전환되면서 전년 대비 1.7백만b/d(1.8%) 증가한 94.5백만b/d를 기록함. 세계 석유공급은 북미 비전통원유 생산의 증가세 지속과 사우디아라비아와 이라크의 생산 확대로 전년 대비 2.6백만b/d(2.8%) 증가한 96.3백만b/d를 기록함. OECD 총 석유재고는 2015년 11월 기준 2,981.9백만 배럴로 전년 동월보다 246.5백만 배럴 증가함.\\n2015년 두바이유 가격은 1월 중순부터 6월 중순까지 반등하다가 이후 다시 하락세로 돌아서 전년($96.56/배럴)보다 48% 하락한 연평균 $50.69/배럴을 기록함. 국제 원유가격 하락의 주요 원인은 세계 석유시장의 공급 과잉 지속과 석유재고의 누적, 이란 핵협상 타결, 중국의 성장률 둔화 우려, 미 달러화 강세 등임. 미국의 원유생산이 5월 이후 감소세로 전환되고 리비아？예멘 내전의 지속 및 이슬람 무력단체 IS의 준동 등 중동？북아프리카 정세 불안은 추가적인 유가 하락을 억제함.\\n2016년 두바이유 가격은 미국 등 비OPEC 생산이 본격적인 감소추세를 보이겠지만 OPEC의 시장점유율 경쟁과 달러화 강세로 전년 대비 24.9% 하락한 $38.05/배럴로 전망됨(기준유가 시나리오).\\n※ 주요 전제 : 세계 경제성장률 3.2% (연평균), 세계 석유수요 1.2백만b/d ↑ (전년 대비), 비OPEC 공급 0.7백만b/d ↓ (전년 대비), OPEC 원유공급 (NGL 제외) 32.9백만b/d, 달러-유로 환율 $1.08/€\\n지정학적 불안에 의해 공급차질이 발생하고 세계 경기회복 가속화로 석유수요가 증대하는 경우, 두바이유 가격은 연평균 $47.63/배럴로 전망됨.\\n※ 주요 전제 : 기준안 대비 세계 석유공급 0.4백만b/d 감소, 세계 석유수요 0.3백만b/d 증가\\n이란의 공급 물량이 예상보다 크게 늘어나고 산유국의 시장점유율 경쟁이 심해지는 한편 중국의 경제성장률 둔화로 석유수요가 둔화되는 경우, 두바이유 가격은 연평균 $27.92/배럴로 전망됨.\\n※ 주요 전제 : 기준안 대비 세게 석유공급 0.4백만b/d 증가, 세계 석유수요 0.4백만b/d 감소\\n자세한 내용은 '2016년 국제 원유 시황과 유가 전망'을 확인하시기 바랍니다.\""
      ]
     },
     "execution_count": 5,
     "metadata": {},
     "output_type": "execute_result"
    }
   ],
   "source": [
    "driver.find_elements_by_css_selector('#form1 > article.content > section> ul > li:nth-child(5)')[0].text\n"
   ]
  },
  {
   "cell_type": "code",
   "execution_count": 11,
   "id": "a45484cc",
   "metadata": {},
   "outputs": [],
   "source": [
    "\n",
    "date_lst = []\n",
    "abstract_lst = []"
   ]
  },
  {
   "cell_type": "code",
   "execution_count": 1007,
   "id": "d9d49e9f",
   "metadata": {
    "ExecuteTime": {
     "end_time": "2022-02-16T11:53:46.130875Z",
     "start_time": "2022-02-16T11:53:46.097619Z"
    },
    "scrolled": false
   },
   "outputs": [
    {
     "name": "stdout",
     "output_type": "stream",
     "text": [
      "2022-02-16\n"
     ]
    },
    {
     "data": {
      "text/plain": [
       "['2월 둘째 주 국제 유가는 우크라이나 사태 지속, 견고한 원유수요 전망, 미국 원유재고 감소 등으로 상승했고, 이란 핵 협상 진전, 미국 고용지표 호조 등은 상승 폭을 제한함.',\n",
       " '우크라이나를 둘러싼 서방국가와 러시아 간의 대립으로 세계 석유공급 차질에 대한 우려가 지속되며 국제 유가는 2014년 이후 최고치를 기록하고 있음(Reuters, 2.11, Guardian, 2.11).',\n",
       " 'OPEC은 10일(목) 월간 보고서를 통해 올해 세계 원유 수요가 전년보다 415백만b/d 증가한 1,070백만b/d를 기록하며 코로나 팬데믹 이전 수준을 회복할 것으로 전망함(Reuters, 2.10).',\n",
       " '미-이란 핵협상(JCPOA)이 진전을 보임에 따라 현재 타이트한 세계 석유공급 문제가 완화될 수 있다는 기대감이 커짐(Reuters, 2.7, 2.8).',\n",
       " '미국의 1월 신규 고용자 수가 전월 대비 46만 7000명 증가하며 예상치(15만명)를 크게 상회함에 따라 미국 연준의 긴축 행보에 힘이 더 실릴 것으로 예상됨(Reuters, 2.5).',\n",
       " '유로화 대비 달러 환율은 2월 11일 기준 $1.1349/€로 전주(2월 4일)의 $1.1446/€에 비해 0.85% 하락(가치 상승)함.',\n",
       " '미국의 주간 원유생산 및 원유시추기 수는 모두 전주보다 증가함.',\n",
       " '지난주 미국 석유재고는 원유, 휘발유 및 중간유분은 모두 전주보다 감소함.',\n",
       " '2월 8일 기준 NYMEX-WTI 선물 유가는 전주(2월 1일) 대비 $1.16/배럴(1.34%) 상승한 $89.36/배럴을 기록함.',\n",
       " '2월 8일 기준으로 NYMEX-WTI 선물가격 원월물(’22.11월)과 최근월물(’22.3월)과의 스프레드는 $(-)8.97/배럴로 백워데이션(backwardation)이 축소됨.',\n",
       " '미국 상품선물거래위원회(CFTC)가 발표한 2월 8일 기준 NYMEX의 투기성 자금에 의한 원유(WTI) 선물거래 순매수는 전주보다 5.5백만 배럴 감소한 363.4백만 배럴을 기록함.',\n",
       " '헤지펀드 등 투기성 자금의 매수 포지션은 7백만 배럴 감소했고 매도 포지션은 1.5백만 배럴 감소함.']"
      ]
     },
     "execution_count": 1007,
     "metadata": {},
     "output_type": "execute_result"
    }
   ],
   "source": [
    "date = driver.find_elements_by_css_selector('#form1 > article.content > section > ul > li:nth-child(3) > div.data_view_info > div > div > strong')[0].text\n",
    "sen = driver.find_elements_by_css_selector('#form1 > article.content > section> ul > li:nth-child(5)')[0].text\n",
    "print(date)\n",
    "st = 12\n",
    "sen_pick = sen.split('\\n')[4:st] + sen.split('\\n')[st+4:-1] \n",
    "sen_pick"
   ]
  },
  {
   "cell_type": "code",
   "execution_count": 1008,
   "id": "98f3312e",
   "metadata": {
    "ExecuteTime": {
     "end_time": "2022-02-16T11:52:03.516213Z",
     "start_time": "2022-02-16T11:52:03.270061Z"
    }
   },
   "outputs": [],
   "source": [
    "date_lst.append(date)\n",
    "abstract_lst.append(sen_pick)\n",
    "driver.back()"
   ]
  },
  {
   "cell_type": "code",
   "execution_count": 1009,
   "id": "da0581a8",
   "metadata": {
    "scrolled": true
   },
   "outputs": [
    {
     "data": {
      "text/html": [
       "<div>\n",
       "<style scoped>\n",
       "    .dataframe tbody tr th:only-of-type {\n",
       "        vertical-align: middle;\n",
       "    }\n",
       "\n",
       "    .dataframe tbody tr th {\n",
       "        vertical-align: top;\n",
       "    }\n",
       "\n",
       "    .dataframe thead th {\n",
       "        text-align: right;\n",
       "    }\n",
       "</style>\n",
       "<table border=\"1\" class=\"dataframe\">\n",
       "  <thead>\n",
       "    <tr style=\"text-align: right;\">\n",
       "      <th></th>\n",
       "      <th>date</th>\n",
       "      <th>abstract</th>\n",
       "    </tr>\n",
       "  </thead>\n",
       "  <tbody>\n",
       "    <tr>\n",
       "      <th>0</th>\n",
       "      <td>2016-08-16</td>\n",
       "      <td>[8월 둘째 주 국제유가는 미국의 원유생산 감소 폭 둔화 전망에도 불구하고 산유국의...</td>\n",
       "    </tr>\n",
       "    <tr>\n",
       "      <th>1</th>\n",
       "      <td>2016-08-23</td>\n",
       "      <td>[8월 셋째 주 국제유가는 주요 산유국의 원유생산 동결 논의와 미국 석유재고 감소,...</td>\n",
       "    </tr>\n",
       "    <tr>\n",
       "      <th>2</th>\n",
       "      <td>2016-08-30</td>\n",
       "      <td>[8월 넷째 주 국제유가는 OPEC의 9월 비공식회의 관련 소식 등 상승 요인과 미...</td>\n",
       "    </tr>\n",
       "    <tr>\n",
       "      <th>3</th>\n",
       "      <td>2016-09-05</td>\n",
       "      <td>[8월 다섯째 주 국제유가는 미국 멕시코만 원유생산 차질에도 불구하고 OPEC-러시...</td>\n",
       "    </tr>\n",
       "    <tr>\n",
       "      <th>4</th>\n",
       "      <td>2016-09-13</td>\n",
       "      <td>[9월 첫째 주 국제유가는 산유국들의 생산 공조 가능성, 미국의 원유재고 급감 등 ...</td>\n",
       "    </tr>\n",
       "    <tr>\n",
       "      <th>...</th>\n",
       "      <td>...</td>\n",
       "      <td>...</td>\n",
       "    </tr>\n",
       "    <tr>\n",
       "      <th>274</th>\n",
       "      <td>2022-01-12</td>\n",
       "      <td>[1월 첫째 주 국제 유가는 카자흐스탄의 반정부 시위, 석유수요의 긍정적 전망, 이...</td>\n",
       "    </tr>\n",
       "    <tr>\n",
       "      <th>275</th>\n",
       "      <td>2022-01-19</td>\n",
       "      <td>[1월 둘째 주 국제 유가는 코로나19 변이 확산의 경제적 영향이 단기적일 것이라는...</td>\n",
       "    </tr>\n",
       "    <tr>\n",
       "      <th>276</th>\n",
       "      <td>2022-01-26</td>\n",
       "      <td>[1월 셋째 주 국제 유가는 주요 산유국의 지정학적 리스크 고조, OPEC+의 증산...</td>\n",
       "    </tr>\n",
       "    <tr>\n",
       "      <th>277</th>\n",
       "      <td>2022-02-09</td>\n",
       "      <td>[2월 첫째 주 국제 유가는 러시아-우크라이나 위기 지속 및 미국 중서부와 북동부의...</td>\n",
       "    </tr>\n",
       "    <tr>\n",
       "      <th>278</th>\n",
       "      <td>2022-02-16</td>\n",
       "      <td>[2월 둘째 주 국제 유가는 우크라이나 사태 지속, 견고한 원유수요 전망, 미국 원...</td>\n",
       "    </tr>\n",
       "  </tbody>\n",
       "</table>\n",
       "<p>279 rows × 2 columns</p>\n",
       "</div>"
      ],
      "text/plain": [
       "           date                                           abstract\n",
       "0    2016-08-16  [8월 둘째 주 국제유가는 미국의 원유생산 감소 폭 둔화 전망에도 불구하고 산유국의...\n",
       "1    2016-08-23  [8월 셋째 주 국제유가는 주요 산유국의 원유생산 동결 논의와 미국 석유재고 감소,...\n",
       "2    2016-08-30  [8월 넷째 주 국제유가는 OPEC의 9월 비공식회의 관련 소식 등 상승 요인과 미...\n",
       "3    2016-09-05  [8월 다섯째 주 국제유가는 미국 멕시코만 원유생산 차질에도 불구하고 OPEC-러시...\n",
       "4    2016-09-13  [9월 첫째 주 국제유가는 산유국들의 생산 공조 가능성, 미국의 원유재고 급감 등 ...\n",
       "..          ...                                                ...\n",
       "274  2022-01-12  [1월 첫째 주 국제 유가는 카자흐스탄의 반정부 시위, 석유수요의 긍정적 전망, 이...\n",
       "275  2022-01-19  [1월 둘째 주 국제 유가는 코로나19 변이 확산의 경제적 영향이 단기적일 것이라는...\n",
       "276  2022-01-26  [1월 셋째 주 국제 유가는 주요 산유국의 지정학적 리스크 고조, OPEC+의 증산...\n",
       "277  2022-02-09  [2월 첫째 주 국제 유가는 러시아-우크라이나 위기 지속 및 미국 중서부와 북동부의...\n",
       "278  2022-02-16  [2월 둘째 주 국제 유가는 우크라이나 사태 지속, 견고한 원유수요 전망, 미국 원...\n",
       "\n",
       "[279 rows x 2 columns]"
      ]
     },
     "execution_count": 1009,
     "metadata": {},
     "output_type": "execute_result"
    }
   ],
   "source": [
    "df = pd.DataFrame({'date':date_lst,'abstract':abstract_lst})\n",
    "df"
   ]
  },
  {
   "cell_type": "code",
   "execution_count": 1010,
   "id": "2dcb1bbf",
   "metadata": {},
   "outputs": [],
   "source": [
    "df.to_csv('kesis_oil.csv')"
   ]
  },
  {
   "cell_type": "code",
   "execution_count": 2,
   "id": "b62c6af8",
   "metadata": {
    "ExecuteTime": {
     "end_time": "2022-02-17T03:40:32.446219Z",
     "start_time": "2022-02-17T03:40:32.417934Z"
    }
   },
   "outputs": [],
   "source": [
    "df = pd.read_csv('kesis_oil.csv', index_col=0)"
   ]
  },
  {
   "cell_type": "code",
   "execution_count": 3,
   "id": "5de7c9c1",
   "metadata": {
    "ExecuteTime": {
     "end_time": "2022-02-17T03:40:33.315589Z",
     "start_time": "2022-02-17T03:40:32.800794Z"
    }
   },
   "outputs": [],
   "source": [
    "import re\n",
    "from konlpy.tag import Hannanum\n",
    "han = Hannanum()"
   ]
  },
  {
   "cell_type": "code",
   "execution_count": 14,
   "id": "84c51346",
   "metadata": {
    "ExecuteTime": {
     "end_time": "2022-02-17T03:44:44.931585Z",
     "start_time": "2022-02-17T03:44:34.043680Z"
    }
   },
   "outputs": [],
   "source": [
    "# 그냥 전체\n",
    "word_ser = pd.Series()\n",
    "for sen in df['abstract']:\n",
    "    sen = re.sub(\"[^가-힣a-zA-Z ]\",' ',sen)\n",
    "    word = han.nouns(sen)\n",
    "    word = [w for w in word if len(w)>1]\n",
    "    word_ser = pd.concat([word_ser,pd.Series(word)])"
   ]
  },
  {
   "cell_type": "code",
   "execution_count": 4,
   "id": "936edd75",
   "metadata": {
    "ExecuteTime": {
     "end_time": "2022-02-17T03:40:56.289637Z",
     "start_time": "2022-02-17T03:40:56.281639Z"
    }
   },
   "outputs": [
    {
     "data": {
      "text/plain": [
       "[\"'8월 다섯째 주 국제유가는 미국 멕시코만 원유생산 차질에도 불구하고 OPEC-러시아의 산유량 동결 가능성 약화와 미국 원유재고 증가 등에 따른 공급과잉 우려로 하락세를 나타냄.\",\n",
       " 'OPEC 산유국들의 연이은 증산 가능성으로 OPEC과 러시아의 산유량 동결 합의가 회의적이라는 시각이 확산됨. 이라크 석유부 장관 Jabar Ali al-Luaibi는 석유기업들에게 원유생산 확대를 요청하고 원유저장시설을 현재 12백만 배럴에서 24백만 배럴로 늘리는 계획을 발표함(8.27). 이란의 Mansour Moazami 산업광물무역부 차관은 노르웨이에서 열린 컨퍼런스에서 이란의 산유량은 현재 3.8백만b/d로 연말까지 4백만b/d로 늘릴 계획이라고 밝힘(8.30). 나이지리아에서는 무장단체 NDA가 Muhammadu Buhari 대통령에 대한 공개서한을 통해 석유시설 공격을 중단한다고 발표함(8.29). 러시아 에너지부 장관 Alexander Novak은 국제 유가가 50달러 수준을 유지하는 한 산유량 동결이 필요하지 않다고 주장함(9.1). 한편, 다음날 Vladimir Putin 대통령은 “경제적 감(sense)과 논리에서 타협점을 찾는 것이 옳다.”며 이란에 대한 절충점을 찾고 산유량 동결에 합의하기를 바란다고 언급함(9.2).',\n",
       " '미국 달러화 가치는 기준금리 인상 가능성 증대로 상승하다가 고용지표 발표 후 하락세로 전환됨. 지난주 Janet Yellen 연준(Fed) 의장의 잭슨홀(Jackson Hole) 연설과 Stanley Fischer 부의장의 인터뷰로 9월 기준금리 인상 가능성이 유력하게 제기되었음. 9월 2일 발표된 8월 미국의 비농업부문 신규고용이 시장 예측치 18만명을 크게 하회하는 15.1만명으로 집계되어 기준금리 인상이 9월 이후로 연기될 것이란 관측이 확산됨. 유로화 대비 달러화 환율은 8월 30일까지 $1.1141/€로 8월 26일보다 0.5% 하락(가치 상승)했으나 미국 고용지표 발표로 9월 2일 한때 $1.1194/€까지 상승함.',\n",
       " '미국의 멕시코만 원유생산 차질과 지난주 원유생산 감소로 유가 하락폭은 제한됨. 미국 안전환경집행국(BSEE)은 북대서양 열대성 폭풍이 멕시코만 동부를 지나갈 것으로 예상되어 6개의 해상 플랫폼 근로자들이 대피해 16.8만b/d의 원유생산이 중단되었다고 발표함(8.29). BSEE는 9월 1일까지 멕시코만의 생산 중단 규모는 원유가 24.3만b/d, 천연가스가 307MMcf/d로 집계했으며, 허리케인 Hermine이 플로리다 주로 이동하면서 일부 근로자들이 조업에 복귀하기 시작한 것으로 알려짐. 에너지정보청(EIA)은 미국의 지난주 원유생산(8월 26일 기준)이 전주보다 6만b/d 감소한 849만b/d를 기록했다고 발표함.',\n",
       " '지난주 미국 석유재고는 원유와 중간유분은 증가하고 휘발유는 감소한 것으로 나타남. 미국 원유재고는 전주 대비 2.3백만 배럴 증가한 525.9백만 배럴을 기록함. 미국 휘발유재고는 전주 대비 0.7백만 배럴 감소한 232.0백만 배럴을 기록했으며, 중간유분재고는 1.5백만 배럴 증가한 154.8백만 배럴을 기록함.',\n",
       " '8월 30일 기준 Nymex-WTI 선물유가는 전주(8월 23일) 대비 $1.75/배럴(3.6%) 하락한 $46.35/배럴을 기록함.',\n",
       " '9월 2일 기준 Nymex-WTI 선물유가 원월물(‘17.6월)과 현물과의 스프레드는 $3.96/배럴로 콘탱고(contango)를 나타냄.',\n",
       " \"미 상품선물거래위원회(CFTC)가 발표한 8월 30일 기준 Nymex의 대형 투기자금에 의한 원유(WTI) 선물거래 순매수는 전주 대비 12.5백만 배럴 감소한 341.3백만 배럴을 기록함.'\"]"
      ]
     },
     "execution_count": 4,
     "metadata": {},
     "output_type": "execute_result"
    }
   ],
   "source": [
    "df['abstract'].apply(lambda x: x.strip('[').strip(']').split(\"', '\"))[3]"
   ]
  },
  {
   "cell_type": "code",
   "execution_count": 25,
   "id": "ed67308f",
   "metadata": {
    "ExecuteTime": {
     "end_time": "2022-02-17T03:48:30.805878Z",
     "start_time": "2022-02-17T03:48:30.788923Z"
    }
   },
   "outputs": [],
   "source": [
    "word_ser.value_counts().head(500).reset_index().to_csv('KESIS_키워드_top_500.csv')"
   ]
  },
  {
   "cell_type": "code",
   "execution_count": 26,
   "id": "0358ae8d",
   "metadata": {
    "ExecuteTime": {
     "end_time": "2022-02-17T05:43:25.229600Z",
     "start_time": "2022-02-17T05:43:25.198405Z"
    }
   },
   "outputs": [
    {
     "data": {
      "text/html": [
       "<div>\n",
       "<style scoped>\n",
       "    .dataframe tbody tr th:only-of-type {\n",
       "        vertical-align: middle;\n",
       "    }\n",
       "\n",
       "    .dataframe tbody tr th {\n",
       "        vertical-align: top;\n",
       "    }\n",
       "\n",
       "    .dataframe thead th {\n",
       "        text-align: right;\n",
       "    }\n",
       "</style>\n",
       "<table border=\"1\" class=\"dataframe\">\n",
       "  <thead>\n",
       "    <tr style=\"text-align: right;\">\n",
       "      <th></th>\n",
       "      <th>date</th>\n",
       "      <th>abstract</th>\n",
       "    </tr>\n",
       "  </thead>\n",
       "  <tbody>\n",
       "    <tr>\n",
       "      <th>0</th>\n",
       "      <td>2016-08-16</td>\n",
       "      <td>['8월 둘째 주 국제유가는 미국의 원유생산 감소 폭 둔화 전망에도 불구하고 산유국...</td>\n",
       "    </tr>\n",
       "    <tr>\n",
       "      <th>1</th>\n",
       "      <td>2016-08-23</td>\n",
       "      <td>['8월 셋째 주 국제유가는 주요 산유국의 원유생산 동결 논의와 미국 석유재고 감소...</td>\n",
       "    </tr>\n",
       "    <tr>\n",
       "      <th>2</th>\n",
       "      <td>2016-08-30</td>\n",
       "      <td>['8월 넷째 주 국제유가는 OPEC의 9월 비공식회의 관련 소식 등 상승 요인과 ...</td>\n",
       "    </tr>\n",
       "    <tr>\n",
       "      <th>3</th>\n",
       "      <td>2016-09-05</td>\n",
       "      <td>['8월 다섯째 주 국제유가는 미국 멕시코만 원유생산 차질에도 불구하고 OPEC-러...</td>\n",
       "    </tr>\n",
       "    <tr>\n",
       "      <th>4</th>\n",
       "      <td>2016-09-13</td>\n",
       "      <td>['9월 첫째 주 국제유가는 산유국들의 생산 공조 가능성, 미국의 원유재고 급감 등...</td>\n",
       "    </tr>\n",
       "    <tr>\n",
       "      <th>...</th>\n",
       "      <td>...</td>\n",
       "      <td>...</td>\n",
       "    </tr>\n",
       "    <tr>\n",
       "      <th>274</th>\n",
       "      <td>2022-01-12</td>\n",
       "      <td>['1월 첫째 주 국제 유가는 카자흐스탄의 반정부 시위, 석유수요의 긍정적 전망, ...</td>\n",
       "    </tr>\n",
       "    <tr>\n",
       "      <th>275</th>\n",
       "      <td>2022-01-19</td>\n",
       "      <td>['1월 둘째 주 국제 유가는 코로나19 변이 확산의 경제적 영향이 단기적일 것이라...</td>\n",
       "    </tr>\n",
       "    <tr>\n",
       "      <th>276</th>\n",
       "      <td>2022-01-26</td>\n",
       "      <td>['1월 셋째 주 국제 유가는 주요 산유국의 지정학적 리스크 고조, OPEC+의 증...</td>\n",
       "    </tr>\n",
       "    <tr>\n",
       "      <th>277</th>\n",
       "      <td>2022-02-09</td>\n",
       "      <td>['2월 첫째 주 국제 유가는 러시아-우크라이나 위기 지속 및 미국 중서부와 북동부...</td>\n",
       "    </tr>\n",
       "    <tr>\n",
       "      <th>278</th>\n",
       "      <td>2022-02-16</td>\n",
       "      <td>['2월 둘째 주 국제 유가는 우크라이나 사태 지속, 견고한 원유수요 전망, 미국 ...</td>\n",
       "    </tr>\n",
       "  </tbody>\n",
       "</table>\n",
       "<p>279 rows × 2 columns</p>\n",
       "</div>"
      ],
      "text/plain": [
       "           date                                           abstract\n",
       "0    2016-08-16  ['8월 둘째 주 국제유가는 미국의 원유생산 감소 폭 둔화 전망에도 불구하고 산유국...\n",
       "1    2016-08-23  ['8월 셋째 주 국제유가는 주요 산유국의 원유생산 동결 논의와 미국 석유재고 감소...\n",
       "2    2016-08-30  ['8월 넷째 주 국제유가는 OPEC의 9월 비공식회의 관련 소식 등 상승 요인과 ...\n",
       "3    2016-09-05  ['8월 다섯째 주 국제유가는 미국 멕시코만 원유생산 차질에도 불구하고 OPEC-러...\n",
       "4    2016-09-13  ['9월 첫째 주 국제유가는 산유국들의 생산 공조 가능성, 미국의 원유재고 급감 등...\n",
       "..          ...                                                ...\n",
       "274  2022-01-12  ['1월 첫째 주 국제 유가는 카자흐스탄의 반정부 시위, 석유수요의 긍정적 전망, ...\n",
       "275  2022-01-19  ['1월 둘째 주 국제 유가는 코로나19 변이 확산의 경제적 영향이 단기적일 것이라...\n",
       "276  2022-01-26  ['1월 셋째 주 국제 유가는 주요 산유국의 지정학적 리스크 고조, OPEC+의 증...\n",
       "277  2022-02-09  ['2월 첫째 주 국제 유가는 러시아-우크라이나 위기 지속 및 미국 중서부와 북동부...\n",
       "278  2022-02-16  ['2월 둘째 주 국제 유가는 우크라이나 사태 지속, 견고한 원유수요 전망, 미국 ...\n",
       "\n",
       "[279 rows x 2 columns]"
      ]
     },
     "execution_count": 26,
     "metadata": {},
     "output_type": "execute_result"
    }
   ],
   "source": [
    "df = pd.read_csv('./data/kesis_oil.csv', index_col=0)\n",
    "df"
   ]
  },
  {
   "cell_type": "code",
   "execution_count": null,
   "id": "80fa5342",
   "metadata": {
    "ExecuteTime": {
     "start_time": "2022-02-17T03:36:38.742Z"
    }
   },
   "outputs": [],
   "source": [
    "word_ser = pd.Series()\n",
    "for ab in df['abstract'].apply(lambda x: x.strip('[').strip(']').split(\"', '\"))[:100]:\n",
    "    for sen in ab:\n",
    "        sen = re.sub(\"[^가-힣a-zA-Z ]\",' ',sen)\n",
    "        word = han.nouns(sen)\n",
    "        word = [w for w in word if len(w)>1]\n",
    "        word_ser = pd.concat([word_ser,pd.Series(word)])"
   ]
  },
  {
   "cell_type": "code",
   "execution_count": 27,
   "id": "a37dcb61",
   "metadata": {
    "ExecuteTime": {
     "end_time": "2022-02-17T05:45:34.873250Z",
     "start_time": "2022-02-17T05:45:21.464517Z"
    }
   },
   "outputs": [],
   "source": [
    "df['keyword'] = df['abstract'].apply(lambda x: han.nouns(re.sub(\"[^가-힣a-zA-Z ]\",' ',x.strip('[').strip(']'))))"
   ]
  },
  {
   "cell_type": "code",
   "execution_count": 30,
   "id": "0f5ef8ad",
   "metadata": {
    "ExecuteTime": {
     "end_time": "2022-02-17T05:46:35.537085Z",
     "start_time": "2022-02-17T05:46:35.512526Z"
    }
   },
   "outputs": [],
   "source": [
    "df['keyword'] = df['keyword'].apply(lambda x: [word for word in x if len(word)>1])"
   ]
  },
  {
   "cell_type": "code",
   "execution_count": 31,
   "id": "60e109bc",
   "metadata": {
    "ExecuteTime": {
     "end_time": "2022-02-17T05:46:38.123626Z",
     "start_time": "2022-02-17T05:46:38.095701Z"
    }
   },
   "outputs": [
    {
     "data": {
      "text/html": [
       "<div>\n",
       "<style scoped>\n",
       "    .dataframe tbody tr th:only-of-type {\n",
       "        vertical-align: middle;\n",
       "    }\n",
       "\n",
       "    .dataframe tbody tr th {\n",
       "        vertical-align: top;\n",
       "    }\n",
       "\n",
       "    .dataframe thead th {\n",
       "        text-align: right;\n",
       "    }\n",
       "</style>\n",
       "<table border=\"1\" class=\"dataframe\">\n",
       "  <thead>\n",
       "    <tr style=\"text-align: right;\">\n",
       "      <th></th>\n",
       "      <th>date</th>\n",
       "      <th>abstract</th>\n",
       "      <th>keyword</th>\n",
       "    </tr>\n",
       "  </thead>\n",
       "  <tbody>\n",
       "    <tr>\n",
       "      <th>0</th>\n",
       "      <td>2016-08-16</td>\n",
       "      <td>['8월 둘째 주 국제유가는 미국의 원유생산 감소 폭 둔화 전망에도 불구하고 산유국...</td>\n",
       "      <td>[둘째, 국제유가, 미국, 원유생산, 감소, 둔화, 전망, 불구, 산유국, 안정화,...</td>\n",
       "    </tr>\n",
       "    <tr>\n",
       "      <th>1</th>\n",
       "      <td>2016-08-23</td>\n",
       "      <td>['8월 셋째 주 국제유가는 주요 산유국의 원유생산 동결 논의와 미국 석유재고 감소...</td>\n",
       "      <td>[셋째, 국제유가, 주요, 산유국, 원유생산, 동결, 논의, 미국, 석유재고, 감소...</td>\n",
       "    </tr>\n",
       "    <tr>\n",
       "      <th>2</th>\n",
       "      <td>2016-08-30</td>\n",
       "      <td>['8월 넷째 주 국제유가는 OPEC의 9월 비공식회의 관련 소식 등 상승 요인과 ...</td>\n",
       "      <td>[넷째, 국제유가, 비공식회의, 관련, 소식, 상승, 요인, 미국, 달러화, 강세,...</td>\n",
       "    </tr>\n",
       "    <tr>\n",
       "      <th>3</th>\n",
       "      <td>2016-09-05</td>\n",
       "      <td>['8월 다섯째 주 국제유가는 미국 멕시코만 원유생산 차질에도 불구하고 OPEC-러...</td>\n",
       "      <td>[다섯째, 국제유가, 미국, 멕시코만, 원유생산, 차질, 불구, 러시아, 산유량, ...</td>\n",
       "    </tr>\n",
       "    <tr>\n",
       "      <th>4</th>\n",
       "      <td>2016-09-13</td>\n",
       "      <td>['9월 첫째 주 국제유가는 산유국들의 생산 공조 가능성, 미국의 원유재고 급감 등...</td>\n",
       "      <td>[첫째, 국제유가, 산유국들, 생산, 공조, 가능성, 미국, 원유재고, 급감, 상승...</td>\n",
       "    </tr>\n",
       "    <tr>\n",
       "      <th>...</th>\n",
       "      <td>...</td>\n",
       "      <td>...</td>\n",
       "      <td>...</td>\n",
       "    </tr>\n",
       "    <tr>\n",
       "      <th>274</th>\n",
       "      <td>2022-01-12</td>\n",
       "      <td>['1월 첫째 주 국제 유가는 카자흐스탄의 반정부 시위, 석유수요의 긍정적 전망, ...</td>\n",
       "      <td>[첫째, 국제, 유가, 카자흐스탄, 반정부, 시위, 석유수요, 긍정적, 전망, 핵합...</td>\n",
       "    </tr>\n",
       "    <tr>\n",
       "      <th>275</th>\n",
       "      <td>2022-01-19</td>\n",
       "      <td>['1월 둘째 주 국제 유가는 코로나19 변이 확산의 경제적 영향이 단기적일 것이라...</td>\n",
       "      <td>[둘째, 국제, 유가, 확산, 경제적, 영향, 단기적, 예상, 미국, 원유재고, 감...</td>\n",
       "    </tr>\n",
       "    <tr>\n",
       "      <th>276</th>\n",
       "      <td>2022-01-26</td>\n",
       "      <td>['1월 셋째 주 국제 유가는 주요 산유국의 지정학적 리스크 고조, OPEC+의 증...</td>\n",
       "      <td>[셋째, 국제, 유가, 주요, 산유국, 지정학적, 리스크, 고조, 증산, 소식, 이...</td>\n",
       "    </tr>\n",
       "    <tr>\n",
       "      <th>277</th>\n",
       "      <td>2022-02-09</td>\n",
       "      <td>['2월 첫째 주 국제 유가는 러시아-우크라이나 위기 지속 및 미국 중서부와 북동부...</td>\n",
       "      <td>[첫째, 국제, 유가, 러시아, 우크라, 지속, 미국, 중서부, 북동부, 한파, 석...</td>\n",
       "    </tr>\n",
       "    <tr>\n",
       "      <th>278</th>\n",
       "      <td>2022-02-16</td>\n",
       "      <td>['2월 둘째 주 국제 유가는 우크라이나 사태 지속, 견고한 원유수요 전망, 미국 ...</td>\n",
       "      <td>[둘째, 국제, 유가, 우크라, 사태, 지속, 견고한, 원유수요, 전망, 미국, 원...</td>\n",
       "    </tr>\n",
       "  </tbody>\n",
       "</table>\n",
       "<p>279 rows × 3 columns</p>\n",
       "</div>"
      ],
      "text/plain": [
       "           date                                           abstract  \\\n",
       "0    2016-08-16  ['8월 둘째 주 국제유가는 미국의 원유생산 감소 폭 둔화 전망에도 불구하고 산유국...   \n",
       "1    2016-08-23  ['8월 셋째 주 국제유가는 주요 산유국의 원유생산 동결 논의와 미국 석유재고 감소...   \n",
       "2    2016-08-30  ['8월 넷째 주 국제유가는 OPEC의 9월 비공식회의 관련 소식 등 상승 요인과 ...   \n",
       "3    2016-09-05  ['8월 다섯째 주 국제유가는 미국 멕시코만 원유생산 차질에도 불구하고 OPEC-러...   \n",
       "4    2016-09-13  ['9월 첫째 주 국제유가는 산유국들의 생산 공조 가능성, 미국의 원유재고 급감 등...   \n",
       "..          ...                                                ...   \n",
       "274  2022-01-12  ['1월 첫째 주 국제 유가는 카자흐스탄의 반정부 시위, 석유수요의 긍정적 전망, ...   \n",
       "275  2022-01-19  ['1월 둘째 주 국제 유가는 코로나19 변이 확산의 경제적 영향이 단기적일 것이라...   \n",
       "276  2022-01-26  ['1월 셋째 주 국제 유가는 주요 산유국의 지정학적 리스크 고조, OPEC+의 증...   \n",
       "277  2022-02-09  ['2월 첫째 주 국제 유가는 러시아-우크라이나 위기 지속 및 미국 중서부와 북동부...   \n",
       "278  2022-02-16  ['2월 둘째 주 국제 유가는 우크라이나 사태 지속, 견고한 원유수요 전망, 미국 ...   \n",
       "\n",
       "                                               keyword  \n",
       "0    [둘째, 국제유가, 미국, 원유생산, 감소, 둔화, 전망, 불구, 산유국, 안정화,...  \n",
       "1    [셋째, 국제유가, 주요, 산유국, 원유생산, 동결, 논의, 미국, 석유재고, 감소...  \n",
       "2    [넷째, 국제유가, 비공식회의, 관련, 소식, 상승, 요인, 미국, 달러화, 강세,...  \n",
       "3    [다섯째, 국제유가, 미국, 멕시코만, 원유생산, 차질, 불구, 러시아, 산유량, ...  \n",
       "4    [첫째, 국제유가, 산유국들, 생산, 공조, 가능성, 미국, 원유재고, 급감, 상승...  \n",
       "..                                                 ...  \n",
       "274  [첫째, 국제, 유가, 카자흐스탄, 반정부, 시위, 석유수요, 긍정적, 전망, 핵합...  \n",
       "275  [둘째, 국제, 유가, 확산, 경제적, 영향, 단기적, 예상, 미국, 원유재고, 감...  \n",
       "276  [셋째, 국제, 유가, 주요, 산유국, 지정학적, 리스크, 고조, 증산, 소식, 이...  \n",
       "277  [첫째, 국제, 유가, 러시아, 우크라, 지속, 미국, 중서부, 북동부, 한파, 석...  \n",
       "278  [둘째, 국제, 유가, 우크라, 사태, 지속, 견고한, 원유수요, 전망, 미국, 원...  \n",
       "\n",
       "[279 rows x 3 columns]"
      ]
     },
     "execution_count": 31,
     "metadata": {},
     "output_type": "execute_result"
    }
   ],
   "source": [
    "df"
   ]
  },
  {
   "cell_type": "code",
   "execution_count": null,
   "id": "e36eecd0",
   "metadata": {},
   "outputs": [],
   "source": []
  }
 ],
 "metadata": {
  "kernelspec": {
   "display_name": "study",
   "language": "python",
   "name": "study"
  },
  "language_info": {
   "codemirror_mode": {
    "name": "ipython",
    "version": 3
   },
   "file_extension": ".py",
   "mimetype": "text/x-python",
   "name": "python",
   "nbconvert_exporter": "python",
   "pygments_lexer": "ipython3",
   "version": "3.8.12"
  },
  "toc": {
   "base_numbering": 1,
   "nav_menu": {},
   "number_sections": true,
   "sideBar": true,
   "skip_h1_title": false,
   "title_cell": "Table of Contents",
   "title_sidebar": "Contents",
   "toc_cell": false,
   "toc_position": {},
   "toc_section_display": true,
   "toc_window_display": false
  },
  "varInspector": {
   "cols": {
    "lenName": 16,
    "lenType": 16,
    "lenVar": 40
   },
   "kernels_config": {
    "python": {
     "delete_cmd_postfix": "",
     "delete_cmd_prefix": "del ",
     "library": "var_list.py",
     "varRefreshCmd": "print(var_dic_list())"
    },
    "r": {
     "delete_cmd_postfix": ") ",
     "delete_cmd_prefix": "rm(",
     "library": "var_list.r",
     "varRefreshCmd": "cat(var_dic_list()) "
    }
   },
   "oldHeight": 122.844,
   "position": {
    "height": "40px",
    "left": "688px",
    "right": "20px",
    "top": "120px",
    "width": "250px"
   },
   "types_to_exclude": [
    "module",
    "function",
    "builtin_function_or_method",
    "instance",
    "_Feature"
   ],
   "varInspector_section_display": "none",
   "window_display": true
  }
 },
 "nbformat": 4,
 "nbformat_minor": 5
}
