{
 "cells": [
  {
   "cell_type": "code",
   "execution_count": 279,
   "id": "a7d1fd90",
   "metadata": {
    "ExecuteTime": {
     "end_time": "2022-02-18T01:08:04.855937Z",
     "start_time": "2022-02-18T01:08:04.838982Z"
    }
   },
   "outputs": [],
   "source": [
    "import pandas as pd \n",
    "import numpy as np\n",
    "import datetime as dt\n",
    "\n",
    "from bs4 import BeautifulSoup\n",
    "from selenium import webdriver\n",
    "import time\n",
    "from selenium.webdriver.common.keys import Keys\n",
    "import warnings\n",
    "import requests\n",
    "import re\n",
    "\n",
    "import seaborn as sns\n",
    "import matplotlib.pyplot as plt\n",
    "warnings.filterwarnings(action='ignore')\n",
    "\n",
    "from dateutil.relativedelta import relativedelta\n",
    "import datetime as dt"
   ]
  },
  {
   "cell_type": "code",
   "execution_count": 9,
   "id": "1191e87b",
   "metadata": {
    "ExecuteTime": {
     "end_time": "2022-02-16T11:14:04.703123Z",
     "start_time": "2022-02-16T11:14:04.559498Z"
    }
   },
   "outputs": [],
   "source": [
    "url = \"http://www.kesis.net/sub/sub_0001_03.jsp\"\n",
    "headers = {'User-Agent': 'Mozilla/5.0 (Windows NT 10.0; Win64; x64) AppleWebKit/537.36 (KHTML, like Gecko) Chrome/98.0.4758.102 Safari/537.36'}\n",
    "html = requests.get(url,headers=headers)\n",
    "html = requests.get(url)"
   ]
  },
  {
   "cell_type": "code",
   "execution_count": 10,
   "id": "9cd39b58",
   "metadata": {
    "ExecuteTime": {
     "end_time": "2022-02-16T11:14:04.966545Z",
     "start_time": "2022-02-16T11:14:04.942591Z"
    }
   },
   "outputs": [],
   "source": [
    "soup = BeautifulSoup(html.text,'html.parser')"
   ]
  },
  {
   "cell_type": "code",
   "execution_count": 14,
   "id": "8b20db07",
   "metadata": {
    "ExecuteTime": {
     "end_time": "2022-02-16T11:16:56.103339Z",
     "start_time": "2022-02-16T11:16:56.089137Z"
    }
   },
   "outputs": [
    {
     "data": {
      "text/plain": [
       "[<ul>\n",
       " <li><span class=\"label\">상호 </span>: 에너지경제연구원</li>\n",
       " <li class=\"address\"><span class=\"label\">주소 </span>: (44543) 울산광역시 중구 종가로 405-11 (성안동, 에너지경제연구원)</li>\n",
       " <li class=\"tel\"><span class=\"label\">전화 </span>: 052)714-2114   ㅣ   팩스 : 052)714-2028</li>\n",
       " <li class=\"copyright\">Copyright(c) KEEI. All Rights Reserved.</li>\n",
       " </ul>]"
      ]
     },
     "execution_count": 14,
     "metadata": {},
     "output_type": "execute_result"
    }
   ],
   "source": [
    "soup.select('#form1 >article > ul')"
   ]
  },
  {
   "cell_type": "code",
   "execution_count": 2,
   "id": "a4ae77b1",
   "metadata": {
    "ExecuteTime": {
     "end_time": "2022-02-16T11:44:44.468252Z",
     "start_time": "2022-02-16T11:44:43.435057Z"
    }
   },
   "outputs": [],
   "source": [
    "\n",
    "driver = webdriver.Chrome()"
   ]
  },
  {
   "cell_type": "code",
   "execution_count": 3,
   "id": "11763f15",
   "metadata": {
    "ExecuteTime": {
     "end_time": "2022-02-16T11:44:46.748216Z",
     "start_time": "2022-02-16T11:44:46.193722Z"
    }
   },
   "outputs": [],
   "source": [
    "driver.get('http://www.kesis.net/sub/sub_0001_03.jsp')"
   ]
  },
  {
   "cell_type": "code",
   "execution_count": 19,
   "id": "bf94bbec",
   "metadata": {
    "ExecuteTime": {
     "end_time": "2022-02-16T11:25:25.352153Z",
     "start_time": "2022-02-16T11:25:25.330212Z"
    }
   },
   "outputs": [
    {
     "data": {
      "text/plain": [
       "'<html lang=\"ko\" xmlns=\"http://www.w3.org/1999/xhtml\"><head><script type=\"text/javascript\" src=\"http://www.kesis.net:80/etr/jquery/jquery-ui/js/jquery-1.8.2.min.js\"></script> \\n<script type=\"text/javascript\" src=\"http://www.kesis.net:80/etr/jquery/jquery-ui/js/jquery-ui-1.8.24.custom.min.js\"></script> \\n<link rel=\"stylesheet\" href=\"http://www.kesis.net:80/etr/jquery/jquery-ui/css/ui-lightness/jquery-ui-1.8.24.custom.css\" type=\"text/css\">\\n<script type=\"text/javascript\" src=\"/etr/script/common.js;jsessionid=eGNghKLDgMlWCY1JV2tRJjNR0oOAETQ4ZdYGNO48RR46eRut7B7w1p5tIt0sFwa9.kwas1_servlet_engine2\"></script>\\n\\n\\n\\n<meta http-equiv=\"Content-Type\" content=\"text/html; charset=utf-8\">\\n<meta name=\"viewport\" content=\"width=device-width, initial-scale=1, minimum-scale=1, maximum-scale=1, user-scalable=no\">\\n<link rel=\"canonical\" href=\"http://www.kesis.net\">\\n<!-- <link rel=\"canonical\" href=\"http://www.kesis.net\"> -->\\n<title>KESIS 국가에너지통계종합정보시스템</title>\\n<meta name=\"description\" content=\"KESIS는 에너지 정보·통계 포털사이트로서 에너지통계연보 및 월보, 지역에너지통계연보, 에너지밸런스, 에너지수급동향, 에너지수요전망, 에너지총조사, 가구에너지패널조사 데이터 등을 제공합니다.\">\\n<link rel=\"stylesheet\" href=\"/etr/css/common.css;jsessionid=eGNghKLDgMlWCY1JV2tRJjNR0oOAETQ4ZdYGNO48RR46eRut7B7w1p5tIt0sFwa9.kwas1_servlet_engine2\" type=\"text/css\">\\n<link rel=\"stylesheet\" href=\"/etr/css/reset.css;jsessionid=eGNghKLDgMlWCY1JV2tRJjNR0oOAETQ4ZdYGNO48RR46eRut7B7w1p5tIt0sFwa9.kwas1_servlet_engine2\" type=\"text/css\">\\n<link rel=\"stylesheet\" href=\"/etr/css/default.css;jsessionid=eGNghKLDgMlWCY1JV2tRJjNR0oOAETQ4ZdYGNO48RR46eRut7B7w1p5tIt0sFwa9.kwas1_servlet_engine2\" type=\"text/css\">\\n<link rel=\"stylesheet\" href=\"/etr/css/header.css;jsessionid=eGNghKLDgMlWCY1JV2tRJjNR0oOAETQ4ZdYGNO48RR46eRut7B7w1p5tIt0sFwa9.kwas1_servlet_engine2\" type=\"text/css\">\\n<link rel=\"stylesheet\" href=\"/etr/css/main_d.css;jsessionid=eGNghKLDgMlWCY1JV2tRJjNR0oOAETQ4ZdYGNO48RR46eRut7B7w1p5tIt0sFwa9.kwas1_servlet_engine2\" type=\"text/css\">\\n<link rel=\"stylesheet\" href=\"/etr/css/main_t.css;jsessionid=eGNghKLDgMlWCY1JV2tRJjNR0oOAETQ4ZdYGNO48RR46eRut7B7w1p5tIt0sFwa9.kwas1_servlet_engine2\" type=\"text/css\">\\n<link rel=\"stylesheet\" href=\"/etr/css/main_m.css;jsessionid=eGNghKLDgMlWCY1JV2tRJjNR0oOAETQ4ZdYGNO48RR46eRut7B7w1p5tIt0sFwa9.kwas1_servlet_engine2\" type=\"text/css\"> \\n<link rel=\"stylesheet\" href=\"/etr/css/sub_d.css;jsessionid=eGNghKLDgMlWCY1JV2tRJjNR0oOAETQ4ZdYGNO48RR46eRut7B7w1p5tIt0sFwa9.kwas1_servlet_engine2\" type=\"text/css\">\\n<link rel=\"stylesheet\" href=\"/etr/css/sub_t.css;jsessionid=eGNghKLDgMlWCY1JV2tRJjNR0oOAETQ4ZdYGNO48RR46eRut7B7w1p5tIt0sFwa9.kwas1_servlet_engine2\" type=\"text/css\">\\n<link rel=\"stylesheet\" href=\"/etr/css/sub_m.css;jsessionid=eGNghKLDgMlWCY1JV2tRJjNR0oOAETQ4ZdYGNO48RR46eRut7B7w1p5tIt0sFwa9.kwas1_servlet_engine2\" type=\"text/css\">\\n<link rel=\"stylesheet\" href=\"/etr/css/newCss.css;jsessionid=eGNghKLDgMlWCY1JV2tRJjNR0oOAETQ4ZdYGNO48RR46eRut7B7w1p5tIt0sFwa9.kwas1_servlet_engine2\" type=\"text/css\">\\n<link rel=\"stylesheet\" href=\"/etr/css/newMain.css;jsessionid=eGNghKLDgMlWCY1JV2tRJjNR0oOAETQ4ZdYGNO48RR46eRut7B7w1p5tIt0sFwa9.kwas1_servlet_engine2\" type=\"text/css\">\\n<script type=\"text/javascript\" src=\"/etr/jquery/function.js;jsessionid=eGNghKLDgMlWCY1JV2tRJjNR0oOAETQ4ZdYGNO48RR46eRut7B7w1p5tIt0sFwa9.kwas1_servlet_engine2\"></script>\\n\\n<script type=\"text/javascript\">\\n\\tvar domainName=\"http://www.kesis.net:80\";\\n\\tvar nowDt=\"\";\\n</script><meta http-equiv=\"Content-Type\" content=\"text/html; charset=UTF-8\"><meta name=\"twitter:card\" content=\"summary\"><meta name=\"twitter:url\" content=\"http://www.kesis.net\"><meta name=\"twitter:title\" content=\"KESIS 국가에너지통계종합정보시스템\"><meta name=\"twitter:image\" content=\"../../etr/imgs/kesis/logo_keei.gif\"><meta property=\"fb:app_id\" content=\"1775175612509713\"><meta property=\"og:title\" content=\"국가에너지통계종합정보시스템\"><meta property=\"og:type\" content=\"website\"><meta property=\"og:image\" content=\"http://www.kesis.net/etr/imgs/kesis/logo_keei.gif\"><meta property=\"og:site_name\" content=\"KESIS 국가에너지통계종합정보시스템\"><meta property=\"og:url\" content=\"http://www.kesis.net\"><meta id=\"facebookContent\" property=\"og:description\" content=\"\"><meta property=\"og:image:width\" content=\"100\"><meta property=\"og:image:height\" content=\"35\"><meta name=\"viewport\" content=\"user-scalable=no, initial-scale=1.0, maximum-scale=1.0, minimum-scale=1.0, width=device-width\"><script src=\"//developers.kakao.com/sdk/js/kakao.min.js\"></script><script type=\"text/javascript\">\\n\\n//통계링크\\nfunction statisPage(reportId,reportType,minYN){\\n\\tform1.reportId.value = reportId;\\n\\tform1.reportType.value = reportType;\\n\\tform1.minYN.value = minYN;\\n\\t\\n\\t\\t$(\"#form1\").attr(\"action\",\"../sub/subChart.jsp?report_id=\"+reportId+\"&reportType=\"+reportType).submit();\\n}\\t\\n\\n// 목록\\nfunction fn_list(CATEGORY_ID,SEQ,M_MENU_NM,S_MENU_NM){\\n\\t$(\"input[name=\\'CATEGORY_ID\\']\").val(CATEGORY_ID);\\n\\t$(\"input[name=\\'SEQ\\']\").val(SEQ);\\n\\t$(\"input[name=\\'M_MENU_NM\\']\").val(M_MENU_NM);\\n\\t$(\"input[name=\\'S_MENU_NM\\']\").val(S_MENU_NM);\\n\\t$(\"#form1\").attr(\"action\",\"../sub/sub_0001_02.jsp\").submit();\\n}\\n\\n// 최근분석\\nfunction Adetail(CATEGORY_ID,SEQ,LOW_SEQ){\\n\\t$(\"input[name=\\'CATEGORY_ID\\']\").val(CATEGORY_ID);\\n\\t$(\"input[name=\\'SEQ\\']\").val(SEQ);\\n\\t$(\"input[name=\\'LOW_SEQ\\']\").val(LOW_SEQ);\\n\\t\\n\\tif(LOW_SEQ == \"\"){\\n\\t\\t$(\"#form1\").attr(\"action\",\"../sub/sub_0001_01.jsp\").submit();\\n\\t} else {\\n\\t\\t$(\"#form1\").attr(\"action\",\"../sub/sub_0001_03.jsp\").submit();\\n\\t}\\n}\\nfunction snsLink(site) {\\n\\tvar obj = document.form1;\\n\\tvar DataLinkUrl = \\'http://www.kesis.net:80\\';\\n\\tvar DataLinkIdArr = obj.RQST_NO.value.split(\\'-\\');\\n\\tvar M_MENU_ID = obj.MAIN_MENU_ID.value\\n\\tvar S_MENU_ID = obj.SUB_MENU_ID.value;\\n\\tvar SBJ = obj.SBJ.value;\\n\\t\\n\\t\\tDataLinkKUrl = DataLinkUrl + \"/sub/sub_0001_03.jsp?CATEGORY_ID=\" + DataLinkIdArr[0] + \"&SEQ=\" + DataLinkIdArr[1] + \"&LOW_SEQ=\" + DataLinkIdArr[2] + \"&M_MENU_ID=\" + M_MENU_ID + \"&S_MENU_ID=\" + S_MENU_ID;\\n\\t\\tif(DataLinkIdArr[0] != \"\"){\\n\\t\\t\\tif (site==\"f\") {\\n\\t\\t\\t\\tfacebookContent\\n\\t\\t\\t\\tdocument.getElementById(\\'facebookContent\\').setAttribute(\\'content\\', SBJ);\\n\\t\\t\\t\\twindow.open(\\'https://www.facebook.com/sharer/sharer.php?u=\\'+encodeURIComponent(DataLinkKUrl), \\'facebooksharedialog\\',\\'menubar=no,toolbar=no,resizable=yes,scrollbars=yes,height=300,width=600\\');\\n\\t\\t\\t}else if(site==\"t\"){\\n\\t\\t\\t\\twindow.open(\"https://twitter.com/intent/tweet?text=[\"+encodeURIComponent(\"KESIS\")+\"]\"+\\'%20-%20\\'+encodeURIComponent(SBJ)+\" \"+encodeURIComponent(\"http://www.kesis.net:80/sub/sub_0001_03.jsp?CATEGORY_ID=null&&SEQ=null&&LOW_SEQ=null&&M_MENU_ID=null&&S_MENU_ID=null\"),\\'twittersharedialog\\', \\'menubar=no,toolbar=no,resizable=yes,scrollbars=yes,height=300,width=600\\');\\n\\t\\t\\t}else if(site==\"k\"){\\n\\t\\t\\t\\twindow.open(\\'https://story.kakao.com/s/share?url=\\'+encodeURIComponent(DataLinkKUrl)+\"&text=[KESIS 국가에너지통계종합정보시스템] \"+encodeURIComponent(SBJ), \\'kakaostorysharedialog\\', \\'menubar=no,toolbar=no,resizable=yes,scrollbars=yes,height=400,width=600\\');\\n\\t\\t\\t}else if(site==\"b\"){\\n\\t\\t\\t\\twindow.open(\"http://share.naver.com/web/shareView.nhn?url=\"+encodeURI(encodeURIComponent(DataLinkKUrl))+\"&title=[KESIS 국가에너지통계종합정보시스템]\"+encodeURI(SBJ),\"naversharedialog\", \"menubar=no,toolbar=no,resizable=yes,scrollbars=yes,height=600,width=600\");\\n\\t\\t\\t}\\n\\t\\t}\\n\\t\\tDataLinkKUrl = DataLinkKUrl.replace(\"https://\",\"http://\");\\n\\t\\t\\n}\\n</script></head>\\n\\n\\n\\n\\n\\n\\n  <!-- 트위터 카드 summary는 웹페이지에 대한 요약정보를 보여주는 카드로 우측에 썸네일을 보여주고 그 옆에 페이지의 제목과 요약 내용을 보여준다. -->\\n  <!-- 트위터 카드를 사용하는 표시하고싶은URL -->\\n  <!-- 트위터 카드에 나타날 웹 사이트의 제목 -->\\n<!-- <meta name=\"twitter:description\" content=\"C.m.A API 이야기,API,OPEN API,XML,PHP,MYSQL,Jvascript,Html,chongmoa.com,홈페이지,cms,쇼핑몰,큐알코드생성,QR Code Generator,IP Address Lookup,유닉스타임변환,Unix Timestamp Converter,유닉스타임을 날짜로 변환,Unix timestamp to DateTime\" />  트위터 카드에 나타날 요약 설명 -->\\n  <!-- 트위터 카드에 보여줄 대표 이미지 URL -->\\n<!-- 페이스북 관련 메타태그 -->\\n      <!-- 앱아이디 -->\\n<!--  웹 사이트의 제목 -->\\n <!-- 사이트 종류 -->\\n <!-- 대표 이미지 URL (이미지를 여러 개 지정할 수 있음) -->\\n <!-- 웹 사이트의 제목 -->\\n <!-- 표시하고싶은URL -->\\n\\n\\n\\n <!-- cfdc8c4bf2ed13736c0d4a54e16a141a -->\\n\\n\\n\\n<body>\\n<form id=\"form1\" name=\"form1\" action=\"\" method=\"post\">\\n<input type=\"hidden\" name=\"CATEGORY_ID\" value=\"\">\\n<input type=\"hidden\" name=\"SEQ\" value=\"\">\\n<input type=\"hidden\" name=\"LOW_SEQ\" value=\"\">\\n<input type=\"hidden\" name=\"RQST_NO\" value=\"\">\\n<input type=\"hidden\" name=\"MAIN_MENU_ID\" value=\"\">\\n<input type=\"hidden\" name=\"SUB_MENU_ID\" value=\"\">\\n<input type=\"hidden\" name=\"SBJ\" value=\"\">\\n<input type=\"hidden\" name=\"reportId\" value=\"\">\\n<input type=\"hidden\" name=\"reportType\" value=\"\">\\n<input type=\"hidden\" name=\"minYN\" value=\"\">\\n  \\n\\n\\n\\n\\n<script type=\"text/javascript\">\\n\\n// 검색창 띄우기\\nfunction doSearch() {\\n  var sParam = \"\"; \\n  var sUrl = \"\";\\n  var queryString = \"\";\\n  \\n  if (form1.srh_txt.value != \"\") {\\n        queryString = form1.srh_txt.value;\\n    }\\n    \\n  $(\"#form1\").attr(\"target\",\"newWindow\");\\n  $(\"input[name=\\'query\\']\").val(queryString);\\n  document.charset=\\'utf-8\\';\\n  \\n  var userID = \"\";\\n  \\n  if (userID==\"\") {\\n      //$(\"#form1\").attr(\"action\",\"http://211.35.39.23:8080/kesis/search.jsp?sessUserId=N\").submit();\\n      //20191212 검색서버 도메인으로 변경\\n//       $(\"#form1\").attr(\"action\",\"http://kssearch.keei.re.kr:8080/kesis/search.jsp?sessUserId=N\").submit();\\n      // 20211116 검색서버 url 변경\\n      $(\"#form1\").attr(\"action\",\"https://kssearch.keei.re.kr:8443/kesis/search.jsp?sessUserId=N&query=\"+encodeURIComponent(queryString)).submit();\\n  }else{\\n      //$(\"#form1\").attr(\"action\",\"http://211.35.39.23:8080/kesis/search.jsp?sessUserId=Y\").submit();\\n       //20191212 검색서버 도메인으로 변경\\n//       $(\"#form1\").attr(\"action\",\"http://kssearch.keei.re.kr:8080/kesis/search.jsp?sessUserId=Y\").submit();\\n       // 20211116 검색서버 url 변경\\n      $(\"#form1\").attr(\"action\",\"https://kssearch.keei.re.kr:8443/kesis/search.jsp?sessUserId=N&query=\"+encodeURIComponent(queryString)).submit();\\n  }\\n    \\n    fnSearchClose();\\n}\\n\\n// 메인페이지\\nfunction mainPage(){\\n  $(location).attr(\"href\",\"../main/main.jsp\");\\n}\\n\\n// 영문페이지\\nfunction engPage() {\\n  $(location).attr(\"href\",\"../main/mainEng.jsp\");\\n}\\n\\n// 메뉴페이지\\nfunction menuPage(S_MENU_ID,S_MENU_NM,M_MENU_ID,M_MENU_NM) {\\n  $(\"input[name=\\'M_MENU_ID\\']\").val(M_MENU_ID);\\n  $(\"input[name=\\'M_MENU_NM\\']\").val(M_MENU_NM);\\n  $(\"input[name=\\'S_MENU_ID\\']\").val(S_MENU_ID);\\n  $(\"input[name=\\'S_MENU_NM\\']\").val(S_MENU_NM);\\n\\n  $(\"#form1\").attr(\"target\",\"_self\")\\n  \\n    if(S_MENU_ID == \\'S_M_010\\') {\\n      // 발간물_전체페이지\\n      $(\"#form1\").attr(\"action\",\"../sub/sub_0002.jsp\");\\n    } else if(M_MENU_ID == \\'M_M_001\\' && S_MENU_ID != \\'S_M_024\\') {\\n      // 주제별페이지\\n      $(\"#form1\").attr(\"action\",\"../sub/sub_0001.jsp\");\\n    } else if(M_MENU_ID == \\'M_M_003\\') {\\n      // 통계페이지\\n      $(\"#form1\").attr(\"action\",\"../sub/sub_0004.jsp\");\\n    } else if(S_MENU_ID == \\'S_M_011\\' || S_MENU_ID == \\'S_M_012\\' || S_MENU_ID == \\'S_M_013\\' || S_MENU_ID == \\'S_M_020\\' || S_MENU_ID == \\'S_M_021\\') {\\n      // 발간물_썸네일없음\\n      $(\"#form1\").attr(\"action\",\"../sub/sub_0003.jsp\");\\n    } else if (S_MENU_ID == \\'S_M_026\\') {\\n        $(\"#form1\").attr(\"action\",\"../sub/sub_InfoBbsList.jsp\");\\n    } else if (M_MENU_ID == \\'M_M_001\\' && S_MENU_ID == \\'S_M_024\\') {\\n        $(\"#form1\").attr(\"action\",\"../sub/sub_EnergyStrategyList.jsp\");\\n    } else if (S_MENU_ID == \\'S_M_025\\') {\\n        window.open(\"http://www.keei.re.kr/web_keei/d_results.nsf/loadview?openpage&viewname=main_report_4&restricttocategory=%EC%A0%84%EC%B2%B4&Count=12&start=1&category=rr&sub=prd&disprss=true\");\\n    } else {\\n      // 발간물_썸네일형식\\n      $(\"#form1\").attr(\"action\",\"../sub/sub_0005.jsp\");\\n    }\\n    \\n    $(\"#form1\").submit();\\n}\\n\\n\\nfunction doMoveLoginPage() {\\n // location.href=\"../main/login.jsp;jsessionid=eGNghKLDgMlWCY1JV2tRJjNR0oOAETQ4ZdYGNO48RR46eRut7B7w1p5tIt0sFwa9.kwas1_servlet_engine2\";  \\n //   $(location).attr(\"href\",\"http://localhost/login/keeilogin.do?strURI=kesdev\");\\n  $(location).attr(\"href\",\"https://imm.keei.re.kr/login/keeilogin.do?strURI=kesis\");\\n\\n}\\n\\n\\n//로그아웃\\nfunction doLogOut() {\\n  location.href=\"/Logout.do;jsessionid=eGNghKLDgMlWCY1JV2tRJjNR0oOAETQ4ZdYGNO48RR46eRut7B7w1p5tIt0sFwa9.kwas1_servlet_engine2\";\\n}\\n\\n//로그아웃SSO\\nfunction doLogOutSso() {\\n//  $(location).attr(\"href\",\"../tmaxsso/ssologout.jsp\");\\n  $(location).attr(\"href\",\"../main/logout.jsp\");\\n}\\n\\n\\n\\n//고객의소리\\nfunction goCustomerVoice(){\\n  //window.location = \"http://voc.keei.re.kr/cust/center/index.do?WSITE_FLG=1\";\\n  //20191212 SSO업체 변경으로 로직변경\\n  //window.open(\"http://voc.keei.re.kr/cust/center/index.do?WSITE_FLG=1\",\"\",\"\");\\n  window.open(\"http://voc.keei.re.kr/cust/center/index.do?WSITE_FLG=1&accessToken=null&refreshToken=null\",\"\",\"\");\\n}\\n</script>\\n\\n<input type=\"hidden\" name=\"M_MENU_ID\" value=\"\">\\n<input type=\"hidden\" name=\"M_MENU_NM\" value=\"\">\\n<input type=\"hidden\" name=\"S_MENU_ID\" value=\"\">\\n<input type=\"hidden\" name=\"S_MENU_NM\" value=\"\">\\n<input type=\"hidden\" name=\"frameCls\" value=\"\">\\n<input type=\"hidden\" name=\"user\" value=\"\">\\n<input type=\"hidden\" name=\"query\" value=\"\">\\n<input type=\"hidden\" name=\"target\" value=\"all\">\\n\\n\\n<header class=\"header\">\\n  <div class=\"center\">\\n    <div class=\"logo_wrap\"><a href=\"javascript:mainPage();\" class=\"logo\"><img src=\"../etr/imgs/kesis/logo_main.gif\" alt=\"kesis로고\"></a></div>\\n    \\n\\n    <div class=\"lo_en\">\\n      \\n        <p><a href=\"javascript:doMoveLoginPage();\" class=\"login\">LOGIN</a></p>\\n      \\n        <p><a href=\"javascript:engPage();\" class=\"english\">ENGLISH</a></p>\\n    </div>\\n    \\n    <div id=\"nav_btn\" class=\"nav_show\">\\n      <div id=\"nav_show\" style=\"display: block;\"><a href=\"javascript:navShow();\"><img src=\"../etr/imgs/kesis/btn_show_nav_m.png\" alt=\"검색\"></a></div>\\n      <div id=\"nav_close\" style=\"display: none;\"><a href=\"javascript:navClose();\"><img src=\"../etr/imgs/kesis/btn_close_nav_m.png\" alt=\"검색닫기\"></a></div>\\n    </div>\\n\\n        \\n    <div class=\"headerSearch\">\\n      <a><img src=\"../etr/imgs/kesis/Gnb_srh.png\" onclick=\"javascript:fnSearchView();\" style=\"cursor: pointer;\" alt=\"검색\"></a>\\n      <div class=\"inner\">\\n        <div id=\"gnb_search\" class=\"gnb_search\">\\n          <span class=\"ico\"><a href=\"javascript:doSearch();\"><img src=\"../etr/imgs/kesis/Gnb_srh.png\" alt=\"검색\"></a></span>\\n          <span class=\"input\"><input type=\"text\" name=\"srh_txt\" class=\"main_search_input\" onkeypress=\"if (event.keyCode==13) javascript:doSearch();\" style=\"width: 665px;\"></span>\\n          <span class=\"gnb_search_close\"><a href=\"javascript:fnSearchClose();\"><img src=\"../etr/imgs/kesis/main_search_close.gif\" alt=\"검색닫기\"></a></span>\\n        </div>\\n            \\n      </div>\\n    </div>\\n  \\n    <nav class=\"header_nav\" style=\"display: none;\">\\n      <div class=\"menu\">      <!-- 11111 <--- 11111에서 부터 22222까지 의미없는 소스 안씀 -->\\n        <div class=\"lSide\"> \\n          \\n            <a href=\"javascript:doMoveLoginPage();\" class=\"login\">login</a>\\n          \\n        </div>\\n        <div class=\"rSide\">\\n        \\n          <a href=\"javascript:engPage();\" class=\"english\"><span>ENGLISH</span></a>\\n        </div>       \\n      </div>                  <!-- 22222  <--- 11111에서 부터 22222까지 의미없는 소스 안씀 -->\\n      <ul class=\"gnb\">  \\n      \\n        \\n          <li id=\"gnb_m1\" class=\"gnb_m1 gnb_logout\">\\n            <div class=\"gnb_m1_title\"><h2>주제별</h2></div>\\n            \\n            \\n            <ul class=\"gnb_m1_sub\">\\n              \\n                \\n                  <li><a href=\"javascript:menuPage(\\'S_M_006\\',\\'에너지종합\\',\\'M_M_001\\',\\'주제별\\');\">에너지종합</a></li>\\n                  \\n                \\n              \\n                \\n                  <li><a href=\"javascript:menuPage(\\'S_M_001\\',\\'석탄\\',\\'M_M_001\\',\\'주제별\\');\">석탄</a></li>\\n                  \\n                \\n              \\n                \\n                  <li><a href=\"javascript:menuPage(\\'S_M_002\\',\\'석유\\',\\'M_M_001\\',\\'주제별\\');\">석유</a></li>\\n                  \\n                \\n              \\n                \\n                  <li><a href=\"javascript:menuPage(\\'S_M_003\\',\\'가스\\',\\'M_M_001\\',\\'주제별\\');\">가스</a></li>\\n                  \\n                \\n              \\n                \\n                  <li><a href=\"javascript:menuPage(\\'S_M_004\\',\\'전력 / 열\\',\\'M_M_001\\',\\'주제별\\');\">전력 / 열</a></li>\\n                  \\n                \\n              \\n                \\n                  <li><a href=\"javascript:menuPage(\\'S_M_005\\',\\'신재생\\',\\'M_M_001\\',\\'주제별\\');\">신재생</a></li>\\n                  \\n                \\n              \\n                \\n                  <li><a href=\"javascript:menuPage(\\'S_M_007\\',\\'온실가스\\',\\'M_M_001\\',\\'주제별\\');\">온실가스</a></li>\\n                  \\n                \\n              \\n                \\n                  <li><a href=\"javascript:menuPage(\\'S_M_008\\',\\'소비 / 효율\\',\\'M_M_001\\',\\'주제별\\');\">소비 / 효율</a></li>\\n                  \\n                \\n              \\n                \\n                  <li><a href=\"javascript:menuPage(\\'S_M_009\\',\\'기타에너지정보\\',\\'M_M_001\\',\\'주제별\\');\">기타에너지정보</a></li>\\n                  \\n                \\n              \\n                \\n                  <li><a href=\"javascript:menuPage(\\'S_M_023\\',\\'경제/사회\\t\\',\\'M_M_001\\',\\'주제별\\');\">경제/사회\\t</a></li>\\n                  \\n                \\n              \\n                \\n                  <li><a href=\"javascript:menuPage(\\'S_M_024\\',\\'에너지정책DB\\',\\'M_M_001\\',\\'주제별\\');\">에너지정책DB</a></li>\\n                  \\n                \\n              \\n                \\n              \\n                \\n              \\n                \\n              \\n                \\n              \\n                \\n              \\n                \\n              \\n                \\n              \\n                \\n              \\n                \\n              \\n                \\n              \\n                \\n              \\n                \\n              \\n            </ul>\\n            \\n          </li>\\n        \\n        \\n          <li id=\"gnb_m2\" class=\"gnb_m2 gnb_logout\">\\n            <div class=\"gnb_m1_title\"><h2>발간물</h2></div>\\n            \\n            \\n            <ul class=\"gnb_m2_sub\">\\n              \\n                \\n              \\n                \\n              \\n                \\n              \\n                \\n              \\n                \\n              \\n                \\n              \\n                \\n              \\n                \\n              \\n                \\n              \\n                \\n              \\n                \\n              \\n                \\n                  <li><a href=\"javascript:menuPage(\\'S_M_010\\',\\'전체\\',\\'M_M_002\\',\\'발간물\\');\">전체</a></li>\\n                  \\n                \\n              \\n                \\n                  <li><a href=\"javascript:menuPage(\\'S_M_011\\',\\'에너지통계월보\\',\\'M_M_002\\',\\'발간물\\');\">에너지통계월보</a></li>\\n                  \\n                \\n              \\n                \\n                  <li><a href=\"javascript:menuPage(\\'S_M_012\\',\\'에너지통계연보\\',\\'M_M_002\\',\\'발간물\\');\">에너지통계연보</a></li>\\n                  \\n                \\n              \\n                \\n                  <li><a href=\"javascript:menuPage(\\'S_M_013\\',\\'지역에너지통계연보\\',\\'M_M_002\\',\\'발간물\\');\">지역에너지통계연보</a></li>\\n                  \\n                \\n              \\n                \\n                  <li><a href=\"javascript:menuPage(\\'S_M_020\\',\\'Energy Info. Korea\\',\\'M_M_002\\',\\'발간물\\');\">Energy Info. Korea</a></li>\\n                  \\n                \\n              \\n                \\n                  <li><a href=\"javascript:menuPage(\\'S_M_021\\',\\'자주 찾는 에너지통계\\',\\'M_M_002\\',\\'발간물\\');\">자주 찾는 에너지통계</a></li>\\n                  \\n                \\n              \\n                \\n                  <li><a href=\"javascript:menuPage(\\'S_M_014\\',\\'에너지총조사\\',\\'M_M_002\\',\\'발간물\\');\">에너지총조사</a></li>\\n                  \\n                \\n              \\n                \\n                  <li><a href=\"javascript:menuPage(\\'S_M_015\\',\\'가구에너지패널조사\\',\\'M_M_002\\',\\'발간물\\');\">가구에너지패널조사</a></li>\\n                  <br>\\n                \\n              \\n                \\n                  <li><a href=\"javascript:menuPage(\\'S_M_016\\',\\'수급동향／브리프\\',\\'M_M_002\\',\\'발간물\\');\">수급동향／브리프</a></li>\\n                  \\n                \\n              \\n                \\n                  <li><a href=\"javascript:menuPage(\\'S_M_017\\',\\'에너지수요전망\\',\\'M_M_002\\',\\'발간물\\');\">에너지수요전망</a></li>\\n                  \\n                \\n              \\n                \\n                  <li><a href=\"javascript:menuPage(\\'S_M_026\\',\\'에너지인포그래픽\\',\\'M_M_002\\',\\'발간물\\');\">에너지인포그래픽</a></li>\\n                  \\n                \\n              \\n                \\n                  <li><a href=\"javascript:menuPage(\\'S_M_025\\',\\'정책연구자료\\',\\'M_M_002\\',\\'발간물\\');\">정책연구자료</a></li>\\n                  \\n                \\n              \\n            </ul>\\n            \\n          </li>\\n        \\n        \\n        \\n      </ul>\\n    </nav>\\n  </div>\\n</header>\\n\\n\\n\\n\\t<!-- path -->\\n\\t<div class=\"path\">\\n\\t\\t<div class=\"inner\">\\n\\t\\t\\t<a href=\"../main/main.jsp\" class=\"home\"><img src=\"../etr/newImg/ico_home.png\" alt=\"홈으로가기\"></a>\\n\\n\\t\\t\\t<div class=\"depth01 depth\">\\n\\t\\t\\t\\t<a href=\"#currentPath01\" class=\"current\"></a>\\n\\t\\t\\t\\t<span class=\"btn\"></span>\\n\\t\\t\\t\\t<div class=\"layer\" style=\"display: none;\">\\n\\t\\t\\t\\t\\t<ul id=\"currentPath01\">\\n\\t\\t\\t\\t\\t\\t<li onclick=\"javascript:doMovePage(\\'../sub/sub_OverView.jsp\\')\"><a>KESIS 개요</a></li>\\n\\t\\t\\t\\t\\t\\t<li onclick=\"javascript:menuPage(\\'S_M_001\\',\\'석탄\\',\\'M_M_001\\',\\'주제별\\');\"><a>주제별</a></li>\\n\\t\\t\\t\\t\\t\\t<li onclick=\"javascript:menuPage(\\'S_M_010\\',\\'전체\\',\\'M_M_002\\',\\'발간물\\');\"><a>발간물</a></li>\\n\\t\\t\\t\\t\\t</ul>\\n\\t\\t\\t\\t</div>\\n\\t\\t\\t</div>\\n\\n\\t\\t\\t<div class=\"depth02 depth\">\\n\\t\\t\\t\\t<a href=\"#currentPath02\" class=\"current\"></a>\\n\\t\\t\\t\\t<span class=\"btn\"></span>\\n\\t\\t\\t\\t<div class=\"layer\" style=\"display: none;\">\\n\\t\\t\\t\\t\\t<ul id=\"currentPath02\">\\n\\t\\t\\t\\t\\t\\t\\n\\t\\t\\t\\t\\t\\t\\t\\n\\t\\t\\t\\t\\t\\t\\n\\t\\t\\t\\t\\t\\t\\t\\n\\t\\t\\t\\t\\t\\t\\n\\t\\t\\t\\t\\t\\t\\t\\n\\t\\t\\t\\t\\t\\t\\n\\t\\t\\t\\t\\t\\t\\t\\n\\t\\t\\t\\t\\t\\t\\n\\t\\t\\t\\t\\t\\t\\t\\n\\t\\t\\t\\t\\t\\t\\n\\t\\t\\t\\t\\t\\t\\t\\n\\t\\t\\t\\t\\t\\t\\n\\t\\t\\t\\t\\t\\t\\t\\n\\t\\t\\t\\t\\t\\t\\n\\t\\t\\t\\t\\t\\t\\t\\n\\t\\t\\t\\t\\t\\t\\n\\t\\t\\t\\t\\t\\t\\t\\n\\t\\t\\t\\t\\t\\t\\n\\t\\t\\t\\t\\t\\t\\t\\n\\t\\t\\t\\t\\t\\t\\n\\t\\t\\t\\t\\t\\t\\t\\n\\t\\t\\t\\t\\t\\t\\n\\t\\t\\t\\t\\t\\t\\t\\n\\t\\t\\t\\t\\t\\t\\n\\t\\t\\t\\t\\t\\t\\t\\n\\t\\t\\t\\t\\t\\t\\n\\t\\t\\t\\t\\t\\t\\t\\n\\t\\t\\t\\t\\t\\t\\n\\t\\t\\t\\t\\t\\t\\t\\n\\t\\t\\t\\t\\t\\t\\n\\t\\t\\t\\t\\t\\t\\t\\n\\t\\t\\t\\t\\t\\t\\n\\t\\t\\t\\t\\t\\t\\t\\n\\t\\t\\t\\t\\t\\t\\n\\t\\t\\t\\t\\t\\t\\t\\n\\t\\t\\t\\t\\t\\t\\n\\t\\t\\t\\t\\t\\t\\t\\n\\t\\t\\t\\t\\t\\t\\n\\t\\t\\t\\t\\t\\t\\t\\n\\t\\t\\t\\t\\t\\t\\n\\t\\t\\t\\t\\t\\t\\t\\n\\t\\t\\t\\t\\t\\t\\n\\t\\t\\t\\t\\t\\t\\t\\n\\t\\t\\t\\t\\t\\t\\n\\t\\t\\t\\t\\t\\t\\t\\n\\t\\t\\t\\t\\t\\t\\n\\t\\t\\t\\t\\t</ul>\\n\\t\\t\\t\\t</div>\\n\\t\\t\\t</div>\\n\\t\\t</div>\\n\\t</div>\\n\\t<!-- // path -->\\n\\n\\t<!--content Start -->\\n\\t<article class=\"content\">\\n\\t<div class=\"pageTit\"><strong></strong></div>\\n\\t\\t<section class=\"table\">\\n\\t\\t\\t<ul class=\"bbs_tbl_view\">\\n\\t\\t\\t\\t<br>\\n\\t\\t\\t\\t<li class=\"td col4 cool4\">\\n\\t\\t\\t\\t\\t<span class=\"color_dark_blue\"><strong style=\"font-size: 17px;\"></strong></span>\\n\\t\\t\\t\\t</li>\\n\\t\\t\\t\\t<li class=\"td col4 cool4\">\\n\\t\\t\\t\\t\\t<div class=\"snsLink\">\\n\\t\\t\\t\\t\\t\\t\\t<a onclick=\"javascript:snsLink(\\'k\\');\" class=\"cacao\" style=\"cursor: pointer;\">카카오스토리</a>\\n\\t\\t\\t\\t\\t\\t\\t<a onclick=\"javascript:snsLink(\\'t\\');\" class=\"twitter\" style=\"cursor: pointer;\">트위터</a>\\n\\t\\t\\t\\t\\t\\t\\t<a onclick=\"javascript:snsLink(\\'f\\');\" class=\"facebook\" style=\"cursor: pointer;\">페이스북</a>\\n\\t\\t\\t\\t\\t\\t\\t<a onclick=\"javascript:snsLink(\\'b\\');\" class=\"blog\" style=\"cursor: pointer;\">블로그</a>\\n\\t\\t\\t\\t\\t\\t</div>\\n\\t\\t\\t\\t\\t<div class=\"data_view_info\">\\n\\t\\t\\t\\t\\t\\t\\t<div class=\"tbl\">\\n\\t\\t\\t\\t\\t\\t\\t\\t<div class=\"row\">\\n\\t\\t\\t\\t\\t\\t\\t\\t\\t<strong></strong>\\n\\t\\t\\t\\t\\t\\t\\t\\t\\t<span>작성자 : </span>\\n\\t\\t\\t\\t\\t\\t\\t\\t</div>\\n\\t\\t\\t\\t\\t\\t\\n\\t\\t\\t\\t\\t\\t\\n\\t\\t\\t\\t\\t\\t</div>\\n\\t\\t\\t\\t\\t</div>\\n\\t\\t\\t\\t</li>\\n\\t\\t\\t\\t<li class=\"td col4 cool4\">\\n\\t\\t\\t\\t\\t</li><li class=\"td2 cont_td col3 cool3\" style=\"padding: 20px 0px;\">\\n\\t\\t\\t\\t\\t\\t\\n\\t\\t\\t\\t\\t</li>\\n\\t\\t\\t\\t\\t<!-- recentAnal -->\\n\\t\\t\\t\\t\\t<div class=\"recentAnal\">\\n\\t\\t\\t\\t\\t\\t<li class=\"td col5 up\" style=\"font-weight: bold;\">● 최근분석</li>\\n\\t\\t\\t\\t\\t\\t\\n\\t\\t\\t\\t\\t\\t\\t<li class=\"td col5\">최근 분석이 없습니다</li>\\n\\t\\t\\t\\t\\t\\t\\n\\t\\t\\t\\t\\t\\t\\n\\t\\t\\t\\t\\t\\t<li class=\"td col5\" style=\"padding-top: 50px; font-weight: bold;\">● 최근데이터</li>\\n\\t\\t\\t\\t\\t\\t\\n\\t\\t\\t\\t\\t\\t\\t<li class=\"td col5 down\">최근 데이터가 없습니다</li>\\n\\t\\t\\t\\t\\t\\t\\n\\t\\t\\t\\t\\t\\t\\n\\t\\t\\t\\t\\t\\t<li class=\"td col5\" style=\"padding-top: 50px; font-weight: bold;\">● 관련데이터</li>\\n\\t\\t\\t\\t\\t\\t\\n\\t\\t\\t\\t\\t\\t\\t<li class=\"td col5 down\">관련 데이터가 없습니다</li>\\n\\t\\t\\t\\t\\t\\t\\n\\t\\t\\t\\t\\t\\t\\n\\t\\t\\t\\t\\t</div>\\n\\t\\t\\t\\t\\n\\t\\t\\t</ul>\\n\\n\\t\\t\\t<div class=\"bbs_btn_wrap\">\\n\\t\\t\\t\\t<div class=\"bbs_btn\" onclick=\"javascript:fn_list(\\'\\',\\'\\',\\'\\',\\'\\');\">목록</div>\\n\\t\\t\\t</div>\\n\\t\\t</section>\\n\\t</article>\\n\\t<!--content End-->\\n\\n<script type=\"text/javascript\">\\n// 공지사항페이지\\nfunction bbsPage(BBS_CLS) {\\n\\t$(\"input[name=\\'BBS_CLS\\']\").val(BBS_CLS);\\n\\t$(location).attr(\"href\",\"../sub/sub_BbsList.jsp\");\\n}\\n\\n//화면이동\\nfunction doMovePage(linkUrl) {\\n\\t$(location).attr(\"href\",linkUrl);\\n}\\n\\n/* function logoLink() {\\n\\t  //window.open(\"https://www.goodcontent.kr/upload_public/CERTIDW/2016-07-0019_8dhg7673pew0vu920160729162740.png\",\"width=400\");\\n\\t  window.open(\"https://www.goodcontent.kr/upload_public/CERTIDW/2018-08-0019_99j0xv90iru5o7j20180904144001.png\",\"width=400\");\\n\\t} */\\n\\n//이용약관, 개인정보처리방침,이메일무단수집거부\\nfunction popUpNotice(flag) {\\n\\n\\tif (flag == \"1\") {\\t// 이용약관\\n\\t\\tsUrl = \"/include/popup_service.html\";\\n\\t}else if (flag == \"2\") {\\t// 개인정보처리방침\\n\\t\\t//sUrl = \"/include/popup_privacy.html\";\\n\\t\\tsUrl = \"http://www.keei.re.kr/main.nsf/privacy.html\";\\n\\t}else if (flag == \"3\") {\\t// 이메일무단수집거부\\n\\t\\tsUrl = \"/include/popup_emailrefuse.html\";\\n\\t}else if (flag == \"4\") {\\n\\t\\tsUrl = \"mailto:energystat@keei.re.kr\";\\n\\t}\\n\\t\\n \\t//window.open(sUrl,\"newWindow\",\"width=600,height=550\");\\n \\tif(flag == \"2\"){\\n    window.open(sUrl);\\n  }else{\\n    window.open(sUrl,\"newWindow\",\"width=600,height=550\");\\n  }\\n \\t\\n \\treturn;\\n}\\n\\n</script>\\n\\n<input type=\"hidden\" name=\"BBS_CLS\" value=\"\">\\n\\n<!--sitemap Start-->\\n<article class=\"sitemap\">\\n\\t<section class=\"sitemap_sec\">\\n\\t\\t<figure class=\"sitemap_sec_f1\">\\n\\t\\t\\t<h3 class=\"sitemap_title\">KESIS</h3>\\n\\t\\t\\t<ul>\\n\\t\\t\\t\\t<li><a href=\"javascript:doMovePage(\\'../sub/sub_OverView.jsp\\')\">KESIS 개요</a></li>\\n\\t\\t\\t\\t<li><a href=\"javascript:bbsPage(\\'103-001\\')\">공지사항</a></li>\\n\\t\\t        <li><a href=\"javascript:doMovePage(\\'../bbs/FAQList.jsp\\')\">FAQ</a></li>\\n        \\t\\t<li><a href=\"javascript:doMovePage(\\'../bbs/QnAList.jsp\\')\">Q&amp;A</a></li>\\n        \\t\\t\\n        <!-- <li><a href=\"javascript:doMovePage(\\'../sub/sub_Statis.jsp\\')\">통계소재정보</a></li> -->\\n\\t\\t\\t\\t<li><a href=\"javascript:doMovePage(\\'../sub/sub_EnergyChange.jsp\\')\">에너지열량환산</a></li>\\n\\t\\t\\t\\t<li><a href=\"javascript:doMovePage(\\'../sub/sub_UnitExchange.jsp\\')\">단위환산기</a></li>\\n\\t\\t\\t \\t\\n \\t\\t\\t</ul>\\n\\t\\t</figure>\\n\\t\\t<figure class=\"sitemap_sec_f2\">\\n\\t\\t\\t<h3 class=\"sitemap_title\">주제별</h3>\\n\\t\\t\\t<ul>\\n\\t\\t\\t\\t\\n\\t\\t\\t\\t\\t\\n\\t\\t\\t\\t\\t\\t<li><a href=\"javascript:menuPage(\\'S_M_006\\',\\'에너지종합\\',\\'M_M_001\\',\\'주제별\\')\">에너지종합</a></li>\\n\\t\\t\\t\\t\\t\\n\\t\\t\\t\\t\\n\\t\\t\\t\\t\\t\\n\\t\\t\\t\\t\\t\\t<li><a href=\"javascript:menuPage(\\'S_M_001\\',\\'석탄\\',\\'M_M_001\\',\\'주제별\\')\">석탄</a></li>\\n\\t\\t\\t\\t\\t\\n\\t\\t\\t\\t\\n\\t\\t\\t\\t\\t\\n\\t\\t\\t\\t\\t\\t<li><a href=\"javascript:menuPage(\\'S_M_002\\',\\'석유\\',\\'M_M_001\\',\\'주제별\\')\">석유</a></li>\\n\\t\\t\\t\\t\\t\\n\\t\\t\\t\\t\\n\\t\\t\\t\\t\\t\\n\\t\\t\\t\\t\\t\\t<li><a href=\"javascript:menuPage(\\'S_M_003\\',\\'가스\\',\\'M_M_001\\',\\'주제별\\')\">가스</a></li>\\n\\t\\t\\t\\t\\t\\n\\t\\t\\t\\t\\n\\t\\t\\t\\t\\t\\n\\t\\t\\t\\t\\t\\t<li><a href=\"javascript:menuPage(\\'S_M_004\\',\\'전력 / 열\\',\\'M_M_001\\',\\'주제별\\')\">전력 / 열</a></li>\\n\\t\\t\\t\\t\\t\\n\\t\\t\\t\\t\\n\\t\\t\\t\\t\\t\\n\\t\\t\\t\\t\\t\\t<li><a href=\"javascript:menuPage(\\'S_M_005\\',\\'신재생\\',\\'M_M_001\\',\\'주제별\\')\">신재생</a></li>\\n\\t\\t\\t\\t\\t\\n\\t\\t\\t\\t\\n\\t\\t\\t\\t\\t\\n\\t\\t\\t\\t\\t\\t<li><a href=\"javascript:menuPage(\\'S_M_007\\',\\'온실가스\\',\\'M_M_001\\',\\'주제별\\')\">온실가스</a></li>\\n\\t\\t\\t\\t\\t\\n\\t\\t\\t\\t\\n\\t\\t\\t\\t\\t\\n\\t\\t\\t\\t\\t\\t<li><a href=\"javascript:menuPage(\\'S_M_008\\',\\'소비 / 효율\\',\\'M_M_001\\',\\'주제별\\')\">소비 / 효율</a></li>\\n\\t\\t\\t\\t\\t\\n\\t\\t\\t\\t\\n\\t\\t\\t\\t\\t\\n\\t\\t\\t\\t\\t\\t<li><a href=\"javascript:menuPage(\\'S_M_009\\',\\'기타에너지정보\\',\\'M_M_001\\',\\'주제별\\')\">기타에너지정보</a></li>\\n\\t\\t\\t\\t\\t\\n\\t\\t\\t\\t\\n\\t\\t\\t\\t\\t\\n\\t\\t\\t\\t\\t\\t<li><a href=\"javascript:menuPage(\\'S_M_023\\',\\'경제/사회\\t\\',\\'M_M_001\\',\\'주제별\\')\">경제/사회\\t</a></li>\\n\\t\\t\\t\\t\\t\\n\\t\\t\\t\\t\\n\\t\\t\\t\\t\\t\\n\\t\\t\\t\\t\\t\\t<li><a href=\"javascript:menuPage(\\'S_M_024\\',\\'에너지정책DB\\',\\'M_M_001\\',\\'주제별\\')\">에너지정책DB</a></li>\\n\\t\\t\\t\\t\\t\\n\\t\\t\\t\\t\\n\\t\\t\\t\\t\\t\\n\\t\\t\\t\\t\\n\\t\\t\\t\\t\\t\\n\\t\\t\\t\\t\\n\\t\\t\\t\\t\\t\\n\\t\\t\\t\\t\\n\\t\\t\\t\\t\\t\\n\\t\\t\\t\\t\\n\\t\\t\\t\\t\\t\\n\\t\\t\\t\\t\\n\\t\\t\\t\\t\\t\\n\\t\\t\\t\\t\\n\\t\\t\\t\\t\\t\\n\\t\\t\\t\\t\\n\\t\\t\\t\\t\\t\\n\\t\\t\\t\\t\\n\\t\\t\\t\\t\\t\\n\\t\\t\\t\\t\\n\\t\\t\\t\\t\\t\\n\\t\\t\\t\\t\\n\\t\\t\\t\\t\\t\\n\\t\\t\\t\\t\\n\\t\\t\\t\\t\\t\\n\\t\\t\\t\\t\\n\\t\\t\\t</ul>\\n\\t\\t</figure>\\n\\t\\t<figure class=\"sitemap_sec_f3\">\\n\\t\\t\\t<h3 class=\"sitemap_title\">발간물</h3>\\n\\t\\t\\t<ul>\\n\\t\\t\\t\\t\\n\\t\\t\\t\\t\\t\\n\\t\\t\\t\\t\\n\\t\\t\\t\\t\\t\\n\\t\\t\\t\\t\\n\\t\\t\\t\\t\\t\\n\\t\\t\\t\\t\\n\\t\\t\\t\\t\\t\\n\\t\\t\\t\\t\\n\\t\\t\\t\\t\\t\\n\\t\\t\\t\\t\\n\\t\\t\\t\\t\\t\\n\\t\\t\\t\\t\\n\\t\\t\\t\\t\\t\\n\\t\\t\\t\\t\\n\\t\\t\\t\\t\\t\\n\\t\\t\\t\\t\\n\\t\\t\\t\\t\\t\\n\\t\\t\\t\\t\\n\\t\\t\\t\\t\\t\\n\\t\\t\\t\\t\\n\\t\\t\\t\\t\\t\\n\\t\\t\\t\\t\\n\\t\\t\\t\\t\\t\\n\\t\\t\\t\\t\\t\\t<li><a href=\"javascript:menuPage(\\'S_M_010\\',\\'전체\\',\\'M_M_002\\',\\'발간물\\')\">전체</a></li>\\n\\t\\t\\t\\t\\t\\n\\t\\t\\t\\t\\n\\t\\t\\t\\t\\t\\n\\t\\t\\t\\t\\t\\t<li><a href=\"javascript:menuPage(\\'S_M_011\\',\\'에너지통계월보\\',\\'M_M_002\\',\\'발간물\\')\">에너지통계월보</a></li>\\n\\t\\t\\t\\t\\t\\n\\t\\t\\t\\t\\n\\t\\t\\t\\t\\t\\n\\t\\t\\t\\t\\t\\t<li><a href=\"javascript:menuPage(\\'S_M_012\\',\\'에너지통계연보\\',\\'M_M_002\\',\\'발간물\\')\">에너지통계연보</a></li>\\n\\t\\t\\t\\t\\t\\n\\t\\t\\t\\t\\n\\t\\t\\t\\t\\t\\n\\t\\t\\t\\t\\t\\t<li><a href=\"javascript:menuPage(\\'S_M_013\\',\\'지역에너지통계연보\\',\\'M_M_002\\',\\'발간물\\')\">지역에너지통계연보</a></li>\\n\\t\\t\\t\\t\\t\\n\\t\\t\\t\\t\\n\\t\\t\\t\\t\\t\\n\\t\\t\\t\\t\\t\\t<li><a href=\"javascript:menuPage(\\'S_M_020\\',\\'Energy Info. Korea\\',\\'M_M_002\\',\\'발간물\\')\">Energy Info. Korea</a></li>\\n\\t\\t\\t\\t\\t\\n\\t\\t\\t\\t\\n\\t\\t\\t\\t\\t\\n\\t\\t\\t\\t\\t\\t<li><a href=\"javascript:menuPage(\\'S_M_021\\',\\'자주 찾는 에너지통계\\',\\'M_M_002\\',\\'발간물\\')\">자주 찾는 에너지통계</a></li>\\n\\t\\t\\t\\t\\t\\n\\t\\t\\t\\t\\n\\t\\t\\t\\t\\t\\n\\t\\t\\t\\t\\t\\t<li><a href=\"javascript:menuPage(\\'S_M_014\\',\\'에너지총조사\\',\\'M_M_002\\',\\'발간물\\')\">에너지총조사</a></li>\\n\\t\\t\\t\\t\\t\\n\\t\\t\\t\\t\\n\\t\\t\\t\\t\\t\\n\\t\\t\\t\\t\\t\\t<li><a href=\"javascript:menuPage(\\'S_M_015\\',\\'가구에너지패널조사\\',\\'M_M_002\\',\\'발간물\\')\">가구에너지패널조사</a></li>\\n\\t\\t\\t\\t\\t\\n\\t\\t\\t\\t\\n\\t\\t\\t\\t\\t\\n\\t\\t\\t\\t\\t\\t<li><a href=\"javascript:menuPage(\\'S_M_016\\',\\'수급동향／브리프\\',\\'M_M_002\\',\\'발간물\\')\">수급동향／브리프</a></li>\\n\\t\\t\\t\\t\\t\\n\\t\\t\\t\\t\\n\\t\\t\\t\\t\\t\\n\\t\\t\\t\\t\\t\\t<li><a href=\"javascript:menuPage(\\'S_M_017\\',\\'에너지수요전망\\',\\'M_M_002\\',\\'발간물\\')\">에너지수요전망</a></li>\\n\\t\\t\\t\\t\\t\\n\\t\\t\\t\\t\\n\\t\\t\\t\\t\\t\\n\\t\\t\\t\\t\\t\\t<li><a href=\"javascript:menuPage(\\'S_M_026\\',\\'에너지인포그래픽\\',\\'M_M_002\\',\\'발간물\\')\">에너지인포그래픽</a></li>\\n\\t\\t\\t\\t\\t\\n\\t\\t\\t\\t\\n\\t\\t\\t\\t\\t\\n\\t\\t\\t\\t\\t\\t<li><a href=\"javascript:menuPage(\\'S_M_025\\',\\'정책연구자료\\',\\'M_M_002\\',\\'발간물\\')\">정책연구자료</a></li>\\n\\t\\t\\t\\t\\t\\n\\t\\t\\t\\t\\n\\t\\t\\t</ul>\\n\\t\\t</figure>\\n\\t\\t<figure class=\"sitemap_sec_f4\">\\n\\t\\t\\t<h3 class=\"sitemap_title\">통계작성기관</h3>\\n\\t\\t\\t<ul>\\n\\t\\t\\t\\t<li><a href=\"http://home.kepco.co.kr/\" target=\"_blank\">한국전력공사</a></li>\\n\\t\\t\\t\\t<li><a href=\"http://www.knoc.co.kr/\" target=\"_blank\">한국석유공사</a></li>\\n\\t\\t\\t\\t<li><a href=\"http://www.kogas.or.kr/\" target=\"_blank\">한국가스공사</a></li>\\n\\t\\t\\t\\t<li><a href=\"http://www.kpx.or.kr/\" target=\"_blank\">전력거래소</a></li>\\n\\t\\t\\t\\t<li><a href=\"http://www.kemco.or.kr/\" target=\"_blank\">한국에너지공단</a></li>\\n\\t\\t\\t\\t<li><a href=\"http://www.citygas.or.kr/\" target=\"_blank\">한국도시가스협회</a></li>\\n\\t\\t\\t\\t<li><a href=\"http://www.kcoal.or.kr/\" target=\"_blank\">대한석탄협회</a></li>\\n\\t\\t\\t</ul>\\n\\t\\t</figure>\\n\\t\\t\\n\\t</section>\\n</article>\\n\\n<!--link Start--> \\n<div class=\"sitelinkWrap\">\\n\\t<article class=\"sitelink\"> \\n\\t\\t<a href=\"http://www.motie.go.kr/\" target=\"_blank\"><img alt=\"산업통상자원부\" src=\"../../etr/imgs/kesis/logo_motie.gif\" style=\"float: left; width: 165;height: 65px;\"></a>\\n\\t\\t<a style=\"font-size: 35px;\">&nbsp;</a>\\n\\t\\t<a href=\"javascript:popUpNotice(1)\" class=\"link1\">이용약관</a>\\n\\t\\t<!-- <a href=\"javascript:popUpNotice(2)\" class=\"link2\">개인정보처리방침</a> -->\\n\\t\\t<a href=\"http://www.keei.re.kr/main.nsf/privacy.html\" target=\"_blank\" class=\"link2\">개인정보처리방침</a>\\n\\t\\t<a href=\"javascript:popUpNotice(3)\" class=\"link3\">이메일무단수집거부</a>\\n\\t\\t<a href=\"mailto:energystat@keei.re.kr\" class=\"link4\">관리자메일</a>\\n\\t\\t<a href=\"http://www.keei.re.kr/\" target=\"_blank\"><img alt=\"에너지경제연구원\" src=\"../../etr/imgs/kesis/logo_keei.gif\" style=\"float:right; width: 157px;height: 65px;\"></a> \\n\\t</article> \\n\\t<div class=\"mSitelink\">\\n\\t\\t<div class=\"selectbox\">\\n\\t\\t\\t<a class=\"selected\"><span>이용약관</span></a>\\n\\t\\t\\t<select name=\"select\" onchange=\"javascript:popUpNotice(this.value)\">\\n\\t\\t\\t<option value=\"1\">이용약관</option>\\n\\t\\t\\t<option value=\"2\">개인정보처리방침</option>\\n\\t\\t\\t<option value=\"3\">이메일무단수집거부</option>\\n\\t\\t\\t<option value=\"4\">관리자메일</option>\\n\\t\\t\\t</select>\\n\\t\\t</div>\\n\\t</div>\\n</div>\\n\\n<article class=\"footer\">\\n<ul>\\n\\t<li><span class=\"label\">상호 </span>: 에너지경제연구원</li>\\n\\t<li class=\"address\"><span class=\"label\">주소 </span>: (44543) 울산광역시 중구 종가로 405-11 (성안동, 에너지경제연구원)</li>\\n\\t<li class=\"tel\"><span class=\"label\">전화 </span>: 052)714-2114   ㅣ   팩스 : 052)714-2028</li>\\n\\t<li class=\"copyright\">Copyright(c) KEEI. All Rights Reserved.</li>\\n</ul>\\n<!-- <span class=\"footerLogo\" onclick=\"logoLink()\" style=\"cursor: pointer;\"></span> -->\\n\\n</article>\\n\\n</form>\\n\\n</body></html>'"
      ]
     },
     "execution_count": 19,
     "metadata": {},
     "output_type": "execute_result"
    }
   ],
   "source": [
    "driver.page_source"
   ]
  },
  {
   "cell_type": "code",
   "execution_count": 5,
   "id": "2cecce93",
   "metadata": {
    "ExecuteTime": {
     "end_time": "2022-02-16T11:48:18.580129Z",
     "start_time": "2022-02-16T11:48:18.556753Z"
    }
   },
   "outputs": [
    {
     "data": {
      "text/plain": [
       "\"요약\\n2015년 국제 원유시장은 저유가에도 불구하고 미국의 셰일오일 등 비OPEC 생산이 예상보다 높은 증가세를 유지하고 OPEC의 시장점유율 방어를 위한 생산 확대로 2014년에 이어 공급 과잉 상황이 지속됨. 세계 석유수요는 비OECD 수요의 증가세 둔화에도 불구하고 OECD 수요가 증가세로 전환되면서 전년 대비 1.7백만b/d(1.8%) 증가한 94.5백만b/d를 기록함. 세계 석유공급은 북미 비전통원유 생산의 증가세 지속과 사우디아라비아와 이라크의 생산 확대로 전년 대비 2.6백만b/d(2.8%) 증가한 96.3백만b/d를 기록함. OECD 총 석유재고는 2015년 11월 기준 2,981.9백만 배럴로 전년 동월보다 246.5백만 배럴 증가함.\\n2015년 두바이유 가격은 1월 중순부터 6월 중순까지 반등하다가 이후 다시 하락세로 돌아서 전년($96.56/배럴)보다 48% 하락한 연평균 $50.69/배럴을 기록함. 국제 원유가격 하락의 주요 원인은 세계 석유시장의 공급 과잉 지속과 석유재고의 누적, 이란 핵협상 타결, 중국의 성장률 둔화 우려, 미 달러화 강세 등임. 미국의 원유생산이 5월 이후 감소세로 전환되고 리비아？예멘 내전의 지속 및 이슬람 무력단체 IS의 준동 등 중동？북아프리카 정세 불안은 추가적인 유가 하락을 억제함.\\n2016년 두바이유 가격은 미국 등 비OPEC 생산이 본격적인 감소추세를 보이겠지만 OPEC의 시장점유율 경쟁과 달러화 강세로 전년 대비 24.9% 하락한 $38.05/배럴로 전망됨(기준유가 시나리오).\\n※ 주요 전제 : 세계 경제성장률 3.2% (연평균), 세계 석유수요 1.2백만b/d ↑ (전년 대비), 비OPEC 공급 0.7백만b/d ↓ (전년 대비), OPEC 원유공급 (NGL 제외) 32.9백만b/d, 달러-유로 환율 $1.08/€\\n지정학적 불안에 의해 공급차질이 발생하고 세계 경기회복 가속화로 석유수요가 증대하는 경우, 두바이유 가격은 연평균 $47.63/배럴로 전망됨.\\n※ 주요 전제 : 기준안 대비 세계 석유공급 0.4백만b/d 감소, 세계 석유수요 0.3백만b/d 증가\\n이란의 공급 물량이 예상보다 크게 늘어나고 산유국의 시장점유율 경쟁이 심해지는 한편 중국의 경제성장률 둔화로 석유수요가 둔화되는 경우, 두바이유 가격은 연평균 $27.92/배럴로 전망됨.\\n※ 주요 전제 : 기준안 대비 세게 석유공급 0.4백만b/d 증가, 세계 석유수요 0.4백만b/d 감소\\n자세한 내용은 '2016년 국제 원유 시황과 유가 전망'을 확인하시기 바랍니다.\""
      ]
     },
     "execution_count": 5,
     "metadata": {},
     "output_type": "execute_result"
    }
   ],
   "source": [
    "driver.find_elements_by_css_selector('#form1 > article.content > section> ul > li:nth-child(5)')[0].text\n"
   ]
  },
  {
   "cell_type": "code",
   "execution_count": 11,
   "id": "c914d1bb",
   "metadata": {},
   "outputs": [],
   "source": [
    "\n",
    "date_lst = []\n",
    "abstract_lst = []"
   ]
  },
  {
   "cell_type": "code",
   "execution_count": 1007,
   "id": "1392e7c6",
   "metadata": {
    "ExecuteTime": {
     "end_time": "2022-02-16T11:53:46.130875Z",
     "start_time": "2022-02-16T11:53:46.097619Z"
    },
    "scrolled": false
   },
   "outputs": [
    {
     "name": "stdout",
     "output_type": "stream",
     "text": [
      "2022-02-16\n"
     ]
    },
    {
     "data": {
      "text/plain": [
       "['2월 둘째 주 국제 유가는 우크라이나 사태 지속, 견고한 원유수요 전망, 미국 원유재고 감소 등으로 상승했고, 이란 핵 협상 진전, 미국 고용지표 호조 등은 상승 폭을 제한함.',\n",
       " '우크라이나를 둘러싼 서방국가와 러시아 간의 대립으로 세계 석유공급 차질에 대한 우려가 지속되며 국제 유가는 2014년 이후 최고치를 기록하고 있음(Reuters, 2.11, Guardian, 2.11).',\n",
       " 'OPEC은 10일(목) 월간 보고서를 통해 올해 세계 원유 수요가 전년보다 415백만b/d 증가한 1,070백만b/d를 기록하며 코로나 팬데믹 이전 수준을 회복할 것으로 전망함(Reuters, 2.10).',\n",
       " '미-이란 핵협상(JCPOA)이 진전을 보임에 따라 현재 타이트한 세계 석유공급 문제가 완화될 수 있다는 기대감이 커짐(Reuters, 2.7, 2.8).',\n",
       " '미국의 1월 신규 고용자 수가 전월 대비 46만 7000명 증가하며 예상치(15만명)를 크게 상회함에 따라 미국 연준의 긴축 행보에 힘이 더 실릴 것으로 예상됨(Reuters, 2.5).',\n",
       " '유로화 대비 달러 환율은 2월 11일 기준 $1.1349/€로 전주(2월 4일)의 $1.1446/€에 비해 0.85% 하락(가치 상승)함.',\n",
       " '미국의 주간 원유생산 및 원유시추기 수는 모두 전주보다 증가함.',\n",
       " '지난주 미국 석유재고는 원유, 휘발유 및 중간유분은 모두 전주보다 감소함.',\n",
       " '2월 8일 기준 NYMEX-WTI 선물 유가는 전주(2월 1일) 대비 $1.16/배럴(1.34%) 상승한 $89.36/배럴을 기록함.',\n",
       " '2월 8일 기준으로 NYMEX-WTI 선물가격 원월물(’22.11월)과 최근월물(’22.3월)과의 스프레드는 $(-)8.97/배럴로 백워데이션(backwardation)이 축소됨.',\n",
       " '미국 상품선물거래위원회(CFTC)가 발표한 2월 8일 기준 NYMEX의 투기성 자금에 의한 원유(WTI) 선물거래 순매수는 전주보다 5.5백만 배럴 감소한 363.4백만 배럴을 기록함.',\n",
       " '헤지펀드 등 투기성 자금의 매수 포지션은 7백만 배럴 감소했고 매도 포지션은 1.5백만 배럴 감소함.']"
      ]
     },
     "execution_count": 1007,
     "metadata": {},
     "output_type": "execute_result"
    }
   ],
   "source": [
    "date = driver.find_elements_by_css_selector('#form1 > article.content > section > ul > li:nth-child(3) > div.data_view_info > div > div > strong')[0].text\n",
    "sen = driver.find_elements_by_css_selector('#form1 > article.content > section> ul > li:nth-child(5)')[0].text\n",
    "print(date)\n",
    "st = 12\n",
    "sen_pick = sen.split('\\n')[4:st] + sen.split('\\n')[st+4:-1] \n",
    "sen_pick"
   ]
  },
  {
   "cell_type": "code",
   "execution_count": 1008,
   "id": "bd950c27",
   "metadata": {
    "ExecuteTime": {
     "end_time": "2022-02-16T11:52:03.516213Z",
     "start_time": "2022-02-16T11:52:03.270061Z"
    }
   },
   "outputs": [],
   "source": [
    "date_lst.append(date)\n",
    "abstract_lst.append(sen_pick)\n",
    "driver.back()"
   ]
  },
  {
   "cell_type": "code",
   "execution_count": 336,
   "id": "d5569e07",
   "metadata": {
    "ExecuteTime": {
     "end_time": "2022-02-18T04:34:24.044820Z",
     "start_time": "2022-02-18T04:34:24.021881Z"
    },
    "scrolled": true
   },
   "outputs": [
    {
     "ename": "NameError",
     "evalue": "name 'date_lst' is not defined",
     "output_type": "error",
     "traceback": [
      "\u001b[1;31m---------------------------------------------------------------------------\u001b[0m",
      "\u001b[1;31mNameError\u001b[0m                                 Traceback (most recent call last)",
      "\u001b[1;32m~\\AppData\\Local\\Temp/ipykernel_14036/92983523.py\u001b[0m in \u001b[0;36m<module>\u001b[1;34m\u001b[0m\n\u001b[1;32m----> 1\u001b[1;33m \u001b[0mdf\u001b[0m \u001b[1;33m=\u001b[0m \u001b[0mpd\u001b[0m\u001b[1;33m.\u001b[0m\u001b[0mDataFrame\u001b[0m\u001b[1;33m(\u001b[0m\u001b[1;33m{\u001b[0m\u001b[1;34m'date'\u001b[0m\u001b[1;33m:\u001b[0m\u001b[0mdate_lst\u001b[0m\u001b[1;33m,\u001b[0m\u001b[1;34m'abstract'\u001b[0m\u001b[1;33m:\u001b[0m\u001b[0mabstract_lst\u001b[0m\u001b[1;33m}\u001b[0m\u001b[1;33m)\u001b[0m\u001b[1;33m\u001b[0m\u001b[1;33m\u001b[0m\u001b[0m\n\u001b[0m\u001b[0;32m      2\u001b[0m \u001b[0mdf\u001b[0m\u001b[1;33m\u001b[0m\u001b[1;33m\u001b[0m\u001b[0m\n",
      "\u001b[1;31mNameError\u001b[0m: name 'date_lst' is not defined"
     ]
    }
   ],
   "source": [
    "df = pd.DataFrame({'date':date_lst,'abstract':abstract_lst})\n",
    "df"
   ]
  },
  {
   "cell_type": "code",
   "execution_count": 337,
   "id": "3c292dec",
   "metadata": {
    "ExecuteTime": {
     "end_time": "2022-02-18T04:34:26.686752Z",
     "start_time": "2022-02-18T04:34:25.367282Z"
    }
   },
   "outputs": [],
   "source": [
    "df.to_csv('kesis_oil.csv')"
   ]
  },
  {
   "cell_type": "code",
   "execution_count": 338,
   "id": "0b3fd125",
   "metadata": {
    "ExecuteTime": {
     "end_time": "2022-02-18T04:34:27.366933Z",
     "start_time": "2022-02-18T04:34:27.337013Z"
    }
   },
   "outputs": [],
   "source": [
    "df = pd.read_csv('./data/kesis_oil.csv', index_col=0)"
   ]
  },
  {
   "cell_type": "code",
   "execution_count": 339,
   "id": "6e0f0def",
   "metadata": {
    "ExecuteTime": {
     "end_time": "2022-02-18T04:34:27.965333Z",
     "start_time": "2022-02-18T04:34:27.959348Z"
    },
    "scrolled": true
   },
   "outputs": [],
   "source": [
    "import re\n",
    "from konlpy.tag import Hannanum\n",
    "han = Hannanum()"
   ]
  },
  {
   "cell_type": "code",
   "execution_count": 340,
   "id": "e8b9aaee",
   "metadata": {
    "ExecuteTime": {
     "end_time": "2022-02-18T04:34:52.207578Z",
     "start_time": "2022-02-18T04:34:29.726653Z"
    }
   },
   "outputs": [],
   "source": [
    "# 전체 데이터에 대해 한글화 하고 합쳐서 샘플 확인\n",
    "word_ser = pd.Series()\n",
    "for sen in df['abstract']:\n",
    "    sen = re.sub(\"[^가-힣a-zA-Z ]\",' ',sen)\n",
    "    word = han.nouns(sen)\n",
    "    word = [w for w in word if len(w)>1]\n",
    "    word_ser = pd.concat([word_ser,pd.Series(word)])"
   ]
  },
  {
   "cell_type": "code",
   "execution_count": 341,
   "id": "163f4312",
   "metadata": {
    "ExecuteTime": {
     "end_time": "2022-02-18T04:34:52.315287Z",
     "start_time": "2022-02-18T04:34:52.301295Z"
    }
   },
   "outputs": [
    {
     "data": {
      "text/plain": [
       "[\"'8월 다섯째 주 국제유가는 미국 멕시코만 원유생산 차질에도 불구하고 OPEC-러시아의 산유량 동결 가능성 약화와 미국 원유재고 증가 등에 따른 공급과잉 우려로 하락세를 나타냄.\",\n",
       " 'OPEC 산유국들의 연이은 증산 가능성으로 OPEC과 러시아의 산유량 동결 합의가 회의적이라는 시각이 확산됨. 이라크 석유부 장관 Jabar Ali al-Luaibi는 석유기업들에게 원유생산 확대를 요청하고 원유저장시설을 현재 12백만 배럴에서 24백만 배럴로 늘리는 계획을 발표함(8.27). 이란의 Mansour Moazami 산업광물무역부 차관은 노르웨이에서 열린 컨퍼런스에서 이란의 산유량은 현재 3.8백만b/d로 연말까지 4백만b/d로 늘릴 계획이라고 밝힘(8.30). 나이지리아에서는 무장단체 NDA가 Muhammadu Buhari 대통령에 대한 공개서한을 통해 석유시설 공격을 중단한다고 발표함(8.29). 러시아 에너지부 장관 Alexander Novak은 국제 유가가 50달러 수준을 유지하는 한 산유량 동결이 필요하지 않다고 주장함(9.1). 한편, 다음날 Vladimir Putin 대통령은 “경제적 감(sense)과 논리에서 타협점을 찾는 것이 옳다.”며 이란에 대한 절충점을 찾고 산유량 동결에 합의하기를 바란다고 언급함(9.2).',\n",
       " '미국 달러화 가치는 기준금리 인상 가능성 증대로 상승하다가 고용지표 발표 후 하락세로 전환됨. 지난주 Janet Yellen 연준(Fed) 의장의 잭슨홀(Jackson Hole) 연설과 Stanley Fischer 부의장의 인터뷰로 9월 기준금리 인상 가능성이 유력하게 제기되었음. 9월 2일 발표된 8월 미국의 비농업부문 신규고용이 시장 예측치 18만명을 크게 하회하는 15.1만명으로 집계되어 기준금리 인상이 9월 이후로 연기될 것이란 관측이 확산됨. 유로화 대비 달러화 환율은 8월 30일까지 $1.1141/€로 8월 26일보다 0.5% 하락(가치 상승)했으나 미국 고용지표 발표로 9월 2일 한때 $1.1194/€까지 상승함.',\n",
       " '미국의 멕시코만 원유생산 차질과 지난주 원유생산 감소로 유가 하락폭은 제한됨. 미국 안전환경집행국(BSEE)은 북대서양 열대성 폭풍이 멕시코만 동부를 지나갈 것으로 예상되어 6개의 해상 플랫폼 근로자들이 대피해 16.8만b/d의 원유생산이 중단되었다고 발표함(8.29). BSEE는 9월 1일까지 멕시코만의 생산 중단 규모는 원유가 24.3만b/d, 천연가스가 307MMcf/d로 집계했으며, 허리케인 Hermine이 플로리다 주로 이동하면서 일부 근로자들이 조업에 복귀하기 시작한 것으로 알려짐. 에너지정보청(EIA)은 미국의 지난주 원유생산(8월 26일 기준)이 전주보다 6만b/d 감소한 849만b/d를 기록했다고 발표함.',\n",
       " '지난주 미국 석유재고는 원유와 중간유분은 증가하고 휘발유는 감소한 것으로 나타남. 미국 원유재고는 전주 대비 2.3백만 배럴 증가한 525.9백만 배럴을 기록함. 미국 휘발유재고는 전주 대비 0.7백만 배럴 감소한 232.0백만 배럴을 기록했으며, 중간유분재고는 1.5백만 배럴 증가한 154.8백만 배럴을 기록함.',\n",
       " '8월 30일 기준 Nymex-WTI 선물유가는 전주(8월 23일) 대비 $1.75/배럴(3.6%) 하락한 $46.35/배럴을 기록함.',\n",
       " '9월 2일 기준 Nymex-WTI 선물유가 원월물(‘17.6월)과 현물과의 스프레드는 $3.96/배럴로 콘탱고(contango)를 나타냄.',\n",
       " \"미 상품선물거래위원회(CFTC)가 발표한 8월 30일 기준 Nymex의 대형 투기자금에 의한 원유(WTI) 선물거래 순매수는 전주 대비 12.5백만 배럴 감소한 341.3백만 배럴을 기록함.'\"]"
      ]
     },
     "execution_count": 341,
     "metadata": {},
     "output_type": "execute_result"
    }
   ],
   "source": [
    "df['abstract'].apply(lambda x: x.strip('[').strip(']').split(\"', '\"))[3]"
   ]
  },
  {
   "cell_type": "code",
   "execution_count": 342,
   "id": "98b1e434",
   "metadata": {
    "ExecuteTime": {
     "end_time": "2022-02-18T04:34:52.423967Z",
     "start_time": "2022-02-18T04:34:52.410004Z"
    }
   },
   "outputs": [],
   "source": [
    "word_ser.value_counts().head(500).reset_index().to_csv('KESIS_키워드_top_500.csv')"
   ]
  },
  {
   "cell_type": "code",
   "execution_count": 343,
   "id": "17a490af",
   "metadata": {
    "ExecuteTime": {
     "end_time": "2022-02-18T04:34:52.547636Z",
     "start_time": "2022-02-18T04:34:52.517716Z"
    }
   },
   "outputs": [
    {
     "data": {
      "text/html": [
       "<div>\n",
       "<style scoped>\n",
       "    .dataframe tbody tr th:only-of-type {\n",
       "        vertical-align: middle;\n",
       "    }\n",
       "\n",
       "    .dataframe tbody tr th {\n",
       "        vertical-align: top;\n",
       "    }\n",
       "\n",
       "    .dataframe thead th {\n",
       "        text-align: right;\n",
       "    }\n",
       "</style>\n",
       "<table border=\"1\" class=\"dataframe\">\n",
       "  <thead>\n",
       "    <tr style=\"text-align: right;\">\n",
       "      <th></th>\n",
       "      <th>date</th>\n",
       "      <th>abstract</th>\n",
       "    </tr>\n",
       "  </thead>\n",
       "  <tbody>\n",
       "    <tr>\n",
       "      <th>0</th>\n",
       "      <td>2016-08-16</td>\n",
       "      <td>['8월 둘째 주 국제유가는 미국의 원유생산 감소 폭 둔화 전망에도 불구하고 산유국...</td>\n",
       "    </tr>\n",
       "    <tr>\n",
       "      <th>1</th>\n",
       "      <td>2016-08-23</td>\n",
       "      <td>['8월 셋째 주 국제유가는 주요 산유국의 원유생산 동결 논의와 미국 석유재고 감소...</td>\n",
       "    </tr>\n",
       "    <tr>\n",
       "      <th>2</th>\n",
       "      <td>2016-08-30</td>\n",
       "      <td>['8월 넷째 주 국제유가는 OPEC의 9월 비공식회의 관련 소식 등 상승 요인과 ...</td>\n",
       "    </tr>\n",
       "    <tr>\n",
       "      <th>3</th>\n",
       "      <td>2016-09-05</td>\n",
       "      <td>['8월 다섯째 주 국제유가는 미국 멕시코만 원유생산 차질에도 불구하고 OPEC-러...</td>\n",
       "    </tr>\n",
       "    <tr>\n",
       "      <th>4</th>\n",
       "      <td>2016-09-13</td>\n",
       "      <td>['9월 첫째 주 국제유가는 산유국들의 생산 공조 가능성, 미국의 원유재고 급감 등...</td>\n",
       "    </tr>\n",
       "    <tr>\n",
       "      <th>...</th>\n",
       "      <td>...</td>\n",
       "      <td>...</td>\n",
       "    </tr>\n",
       "    <tr>\n",
       "      <th>274</th>\n",
       "      <td>2022-01-12</td>\n",
       "      <td>['1월 첫째 주 국제 유가는 카자흐스탄의 반정부 시위, 석유수요의 긍정적 전망, ...</td>\n",
       "    </tr>\n",
       "    <tr>\n",
       "      <th>275</th>\n",
       "      <td>2022-01-19</td>\n",
       "      <td>['1월 둘째 주 국제 유가는 코로나19 변이 확산의 경제적 영향이 단기적일 것이라...</td>\n",
       "    </tr>\n",
       "    <tr>\n",
       "      <th>276</th>\n",
       "      <td>2022-01-26</td>\n",
       "      <td>['1월 셋째 주 국제 유가는 주요 산유국의 지정학적 리스크 고조, OPEC+의 증...</td>\n",
       "    </tr>\n",
       "    <tr>\n",
       "      <th>277</th>\n",
       "      <td>2022-02-09</td>\n",
       "      <td>['2월 첫째 주 국제 유가는 러시아-우크라이나 위기 지속 및 미국 중서부와 북동부...</td>\n",
       "    </tr>\n",
       "    <tr>\n",
       "      <th>278</th>\n",
       "      <td>2022-02-16</td>\n",
       "      <td>['2월 둘째 주 국제 유가는 우크라이나 사태 지속, 견고한 원유수요 전망, 미국 ...</td>\n",
       "    </tr>\n",
       "  </tbody>\n",
       "</table>\n",
       "<p>279 rows × 2 columns</p>\n",
       "</div>"
      ],
      "text/plain": [
       "           date                                           abstract\n",
       "0    2016-08-16  ['8월 둘째 주 국제유가는 미국의 원유생산 감소 폭 둔화 전망에도 불구하고 산유국...\n",
       "1    2016-08-23  ['8월 셋째 주 국제유가는 주요 산유국의 원유생산 동결 논의와 미국 석유재고 감소...\n",
       "2    2016-08-30  ['8월 넷째 주 국제유가는 OPEC의 9월 비공식회의 관련 소식 등 상승 요인과 ...\n",
       "3    2016-09-05  ['8월 다섯째 주 국제유가는 미국 멕시코만 원유생산 차질에도 불구하고 OPEC-러...\n",
       "4    2016-09-13  ['9월 첫째 주 국제유가는 산유국들의 생산 공조 가능성, 미국의 원유재고 급감 등...\n",
       "..          ...                                                ...\n",
       "274  2022-01-12  ['1월 첫째 주 국제 유가는 카자흐스탄의 반정부 시위, 석유수요의 긍정적 전망, ...\n",
       "275  2022-01-19  ['1월 둘째 주 국제 유가는 코로나19 변이 확산의 경제적 영향이 단기적일 것이라...\n",
       "276  2022-01-26  ['1월 셋째 주 국제 유가는 주요 산유국의 지정학적 리스크 고조, OPEC+의 증...\n",
       "277  2022-02-09  ['2월 첫째 주 국제 유가는 러시아-우크라이나 위기 지속 및 미국 중서부와 북동부...\n",
       "278  2022-02-16  ['2월 둘째 주 국제 유가는 우크라이나 사태 지속, 견고한 원유수요 전망, 미국 ...\n",
       "\n",
       "[279 rows x 2 columns]"
      ]
     },
     "execution_count": 343,
     "metadata": {},
     "output_type": "execute_result"
    }
   ],
   "source": [
    "# 전처리 시작\n",
    "df = pd.read_csv('./data/kesis_oil.csv', index_col=0)\n",
    "df"
   ]
  },
  {
   "cell_type": "code",
   "execution_count": 344,
   "id": "40d4eb63",
   "metadata": {
    "ExecuteTime": {
     "end_time": "2022-02-18T04:35:13.355003Z",
     "start_time": "2022-02-18T04:34:52.641385Z"
    }
   },
   "outputs": [],
   "source": [
    "# 각 보고서 별 명사 추출 시작\n",
    "df['keyword'] = df['abstract'].apply(lambda x: han.nouns(re.sub(\"[^가-힣a-zA-Z ]\",' ',x.strip('[').strip(']'))))"
   ]
  },
  {
   "cell_type": "code",
   "execution_count": 359,
   "id": "8ef08871",
   "metadata": {
    "ExecuteTime": {
     "end_time": "2022-02-18T04:46:37.817047Z",
     "start_time": "2022-02-18T04:46:37.773221Z"
    }
   },
   "outputs": [
    {
     "data": {
      "text/plain": [
       "월            279\n",
       "배럴           279\n",
       "기준           279\n",
       "전주           279\n",
       "기록           279\n",
       "발표           279\n",
       "대비           279\n",
       "원유           279\n",
       "일            279\n",
       "백            279\n",
       "미국           279\n",
       "주            277\n",
       "순매수          277\n",
       "선물거래         277\n",
       "상품선물거래위원회    277\n",
       "투기성          274\n",
       "자금           274\n",
       "dtype: int64"
      ]
     },
     "execution_count": 359,
     "metadata": {},
     "output_type": "execute_result"
    }
   ],
   "source": [
    "# 중복 확인\n",
    "chklst = []\n",
    "for lst in df['keyword']:\n",
    "    chklst.extend(pd.Series(lst).unique())\n",
    "    \n",
    "chklst = pd.Series(chklst).value_counts()\n",
    "chklst[chklst>270]"
   ]
  },
  {
   "cell_type": "code",
   "execution_count": 360,
   "id": "c908d2e3",
   "metadata": {
    "ExecuteTime": {
     "end_time": "2022-02-18T04:46:56.213089Z",
     "start_time": "2022-02-18T04:46:56.196162Z"
    }
   },
   "outputs": [],
   "source": [
    "import datetime as dt\n",
    "df['date'] = pd.to_datetime(df['date'])\n",
    "df = df[df['date'] > dt.datetime(2017,2,6)]"
   ]
  },
  {
   "cell_type": "code",
   "execution_count": 361,
   "id": "8c37c0ff",
   "metadata": {
    "ExecuteTime": {
     "end_time": "2022-02-18T04:46:56.724875Z",
     "start_time": "2022-02-18T04:46:56.669993Z"
    }
   },
   "outputs": [
    {
     "data": {
      "text/plain": [
       "date\n",
       "2017-02-07    0.000\n",
       "2017-02-14    0.540\n",
       "2017-02-21    0.280\n",
       "2017-02-28    0.590\n",
       "2017-03-07   -0.640\n",
       "              ...  \n",
       "2022-01-18    1.879\n",
       "2022-01-25   -0.346\n",
       "2022-02-01    0.066\n",
       "2022-02-08    5.827\n",
       "2022-02-15    0.000\n",
       "Freq: W-TUE, Length: 263, dtype: float64"
      ]
     },
     "execution_count": 361,
     "metadata": {},
     "output_type": "execute_result"
    }
   ],
   "source": [
    "# 주간 유가 변화를 토대로 등락 여부 확인\n",
    "oil_df = pd.read_csv('./data/daum_oil.csv')\n",
    "oil_df['date'] = pd.to_datetime(oil_df['date'])\n",
    "dubai_df = oil_df.query('company == \"두바이유선물\"').set_index('date').sort_index()\n",
    "dubai_df = dubai_df[dubai_df.index >= dt.datetime(2017,2,7)]\n",
    "tmp = dubai_df.resample('W-Tue',label='right')['종가'].agg(['first', 'last', 'max','min'])\n",
    "dubai_chart = tmp['last']-tmp['first']\n",
    "dubai_chart"
   ]
  },
  {
   "cell_type": "code",
   "execution_count": 362,
   "id": "d5a2a23c",
   "metadata": {
    "ExecuteTime": {
     "end_time": "2022-02-18T04:47:01.057945Z",
     "start_time": "2022-02-18T04:47:01.045978Z"
    }
   },
   "outputs": [],
   "source": [
    "combine_df = df.set_index('date').resample('W-Tue',label='right')['keyword'].last().reset_index()"
   ]
  },
  {
   "cell_type": "code",
   "execution_count": 363,
   "id": "1726bcf4",
   "metadata": {
    "ExecuteTime": {
     "end_time": "2022-02-18T04:47:01.582114Z",
     "start_time": "2022-02-18T04:47:01.562152Z"
    }
   },
   "outputs": [
    {
     "data": {
      "text/html": [
       "<div>\n",
       "<style scoped>\n",
       "    .dataframe tbody tr th:only-of-type {\n",
       "        vertical-align: middle;\n",
       "    }\n",
       "\n",
       "    .dataframe tbody tr th {\n",
       "        vertical-align: top;\n",
       "    }\n",
       "\n",
       "    .dataframe thead th {\n",
       "        text-align: right;\n",
       "    }\n",
       "</style>\n",
       "<table border=\"1\" class=\"dataframe\">\n",
       "  <thead>\n",
       "    <tr style=\"text-align: right;\">\n",
       "      <th></th>\n",
       "      <th>date</th>\n",
       "      <th>keyword</th>\n",
       "      <th>updown</th>\n",
       "    </tr>\n",
       "  </thead>\n",
       "  <tbody>\n",
       "    <tr>\n",
       "      <th>0</th>\n",
       "      <td>2017-02-07</td>\n",
       "      <td>[월, 첫째, 주, 국제유가, 미국, 원유, 시추활동, 증가, 원유재고, 증, 소식...</td>\n",
       "      <td>0.000</td>\n",
       "    </tr>\n",
       "    <tr>\n",
       "      <th>1</th>\n",
       "      <td>2017-02-14</td>\n",
       "      <td>[월, 둘째, 주, 국제유가, 산유국, 감산, 이행률, 미국, 이, 긴장, 고조, ...</td>\n",
       "      <td>0.540</td>\n",
       "    </tr>\n",
       "    <tr>\n",
       "      <th>2</th>\n",
       "      <td>2017-02-21</td>\n",
       "      <td>[월, 셋째, 주, 국제유가, 미국, 원유, 재고, 증가, 미국, 원유, 증산, 전...</td>\n",
       "      <td>0.280</td>\n",
       "    </tr>\n",
       "    <tr>\n",
       "      <th>3</th>\n",
       "      <td>2017-02-28</td>\n",
       "      <td>[월, 넷째, 주, 국제유가, 미국, 원유시추, 수, 원유, 생산, 증가, 불구, ...</td>\n",
       "      <td>0.590</td>\n",
       "    </tr>\n",
       "    <tr>\n",
       "      <th>4</th>\n",
       "      <td>2017-03-07</td>\n",
       "      <td>[월, 첫째, 주, 국제유가, 월, 중, 준수, 감산이행, 소식, 불구, 미국, 원...</td>\n",
       "      <td>-0.640</td>\n",
       "    </tr>\n",
       "    <tr>\n",
       "      <th>...</th>\n",
       "      <td>...</td>\n",
       "      <td>...</td>\n",
       "      <td>...</td>\n",
       "    </tr>\n",
       "    <tr>\n",
       "      <th>258</th>\n",
       "      <td>2022-01-18</td>\n",
       "      <td>[월, 첫째, 주, 국제, 유가, 카자흐스탄, 반정부, 시위, 석유수요, 긍정적, ...</td>\n",
       "      <td>1.879</td>\n",
       "    </tr>\n",
       "    <tr>\n",
       "      <th>259</th>\n",
       "      <td>2022-01-25</td>\n",
       "      <td>[월, 둘째, 주, 국제, 유가, 코, 변, 확산, 경제적, 영향, 단기적, 것, ...</td>\n",
       "      <td>-0.346</td>\n",
       "    </tr>\n",
       "    <tr>\n",
       "      <th>260</th>\n",
       "      <td>2022-02-01</td>\n",
       "      <td>[월, 셋째, 주, 국제, 유가, 주요, 산유국, 지정학적, 리스크, 고조, 의, ...</td>\n",
       "      <td>0.066</td>\n",
       "    </tr>\n",
       "    <tr>\n",
       "      <th>261</th>\n",
       "      <td>2022-02-08</td>\n",
       "      <td>None</td>\n",
       "      <td>5.827</td>\n",
       "    </tr>\n",
       "    <tr>\n",
       "      <th>262</th>\n",
       "      <td>2022-02-15</td>\n",
       "      <td>[월, 첫째, 주, 국제, 유가, 러시아, 우크라, 위, 지속, 미국, 중서부, 북...</td>\n",
       "      <td>0.000</td>\n",
       "    </tr>\n",
       "  </tbody>\n",
       "</table>\n",
       "<p>263 rows × 3 columns</p>\n",
       "</div>"
      ],
      "text/plain": [
       "          date                                            keyword  updown\n",
       "0   2017-02-07  [월, 첫째, 주, 국제유가, 미국, 원유, 시추활동, 증가, 원유재고, 증, 소식...   0.000\n",
       "1   2017-02-14  [월, 둘째, 주, 국제유가, 산유국, 감산, 이행률, 미국, 이, 긴장, 고조, ...   0.540\n",
       "2   2017-02-21  [월, 셋째, 주, 국제유가, 미국, 원유, 재고, 증가, 미국, 원유, 증산, 전...   0.280\n",
       "3   2017-02-28  [월, 넷째, 주, 국제유가, 미국, 원유시추, 수, 원유, 생산, 증가, 불구, ...   0.590\n",
       "4   2017-03-07  [월, 첫째, 주, 국제유가, 월, 중, 준수, 감산이행, 소식, 불구, 미국, 원...  -0.640\n",
       "..         ...                                                ...     ...\n",
       "258 2022-01-18  [월, 첫째, 주, 국제, 유가, 카자흐스탄, 반정부, 시위, 석유수요, 긍정적, ...   1.879\n",
       "259 2022-01-25  [월, 둘째, 주, 국제, 유가, 코, 변, 확산, 경제적, 영향, 단기적, 것, ...  -0.346\n",
       "260 2022-02-01  [월, 셋째, 주, 국제, 유가, 주요, 산유국, 지정학적, 리스크, 고조, 의, ...   0.066\n",
       "261 2022-02-08                                               None   5.827\n",
       "262 2022-02-15  [월, 첫째, 주, 국제, 유가, 러시아, 우크라, 위, 지속, 미국, 중서부, 북...   0.000\n",
       "\n",
       "[263 rows x 3 columns]"
      ]
     },
     "execution_count": 363,
     "metadata": {},
     "output_type": "execute_result"
    }
   ],
   "source": [
    "combine_df = combine_df.merge(dubai_chart.reset_index(), on = 'date')\n",
    "combine_df.rename(columns={0:'updown'}, inplace=True)\n",
    "combine_df"
   ]
  },
  {
   "cell_type": "code",
   "execution_count": 364,
   "id": "e34c1058",
   "metadata": {
    "ExecuteTime": {
     "end_time": "2022-02-18T04:47:03.152666Z",
     "start_time": "2022-02-18T04:47:03.139701Z"
    }
   },
   "outputs": [
    {
     "data": {
      "text/plain": [
       "배럴      2907\n",
       "전주      2284\n",
       "미국      2061\n",
       "기록      1400\n",
       "증가      1378\n",
       "        ... \n",
       "일방주의       1\n",
       "초안         1\n",
       "마이크        1\n",
       "시진핑        1\n",
       "고용자        1\n",
       "Length: 2928, dtype: int64"
      ]
     },
     "execution_count": 364,
     "metadata": {},
     "output_type": "execute_result"
    }
   ],
   "source": [
    "word_dat = word_ser.value_counts()\n",
    "word_dat"
   ]
  },
  {
   "cell_type": "code",
   "execution_count": 365,
   "id": "ad544fce",
   "metadata": {
    "ExecuteTime": {
     "end_time": "2022-02-18T04:47:05.770612Z",
     "start_time": "2022-02-18T04:47:05.763630Z"
    }
   },
   "outputs": [],
   "source": [
    "word_cnt = word_dat[word_dat>20].apply(lambda x : 0)\n"
   ]
  },
  {
   "cell_type": "code",
   "execution_count": 366,
   "id": "2d3b514f",
   "metadata": {
    "ExecuteTime": {
     "end_time": "2022-02-18T04:47:06.049695Z",
     "start_time": "2022-02-18T04:47:06.038754Z"
    }
   },
   "outputs": [],
   "source": [
    "combine_df.dropna(inplace=True)\n",
    "combine_df['updown'] = combine_df['updown'].apply(lambda x : x>0)"
   ]
  },
  {
   "cell_type": "code",
   "execution_count": 367,
   "id": "415daf18",
   "metadata": {
    "ExecuteTime": {
     "end_time": "2022-02-18T04:47:13.402825Z",
     "start_time": "2022-02-18T04:47:13.388834Z"
    }
   },
   "outputs": [
    {
     "data": {
      "text/plain": [
       "133"
      ]
     },
     "execution_count": 367,
     "metadata": {},
     "output_type": "execute_result"
    }
   ],
   "source": [
    "sum(combine_df['updown'])\n",
    "# len(combine_df[0])"
   ]
  },
  {
   "cell_type": "code",
   "execution_count": 387,
   "id": "7a65ee4c",
   "metadata": {
    "ExecuteTime": {
     "end_time": "2022-02-18T06:04:58.133057Z",
     "start_time": "2022-02-18T06:04:58.114108Z"
    }
   },
   "outputs": [
    {
     "data": {
      "text/plain": [
       "증가      -8.882353\n",
       "감소     -16.323529\n",
       "만b       5.941176\n",
       "원유생산     2.588235\n",
       "상승      19.558824\n",
       "          ...    \n",
       "상승세     -0.147059\n",
       "지난해     -0.500000\n",
       "조정       1.500000\n",
       "방안      -0.264706\n",
       "선언       2.941176\n",
       "Length: 246, dtype: float64"
      ]
     },
     "execution_count": 387,
     "metadata": {},
     "output_type": "execute_result"
    }
   ],
   "source": [
    "word_cnt"
   ]
  },
  {
   "cell_type": "code",
   "execution_count": 368,
   "id": "0efd7491",
   "metadata": {
    "ExecuteTime": {
     "end_time": "2022-02-18T04:48:02.533529Z",
     "start_time": "2022-02-18T04:48:02.133368Z"
    }
   },
   "outputs": [],
   "source": [
    "up = sum(combine_df['updown'])\n",
    "down = len(combine_df)-sum(combine_df['updown'])\n",
    "up_ratio = up/(up+down)\n",
    "down_ratio = down/(up+down)\n",
    "\n",
    "import collections\n",
    "for i,w in enumerate(combine_df['keyword']):\n",
    "    if (combine_df.iloc[i,2]==1):\n",
    "        for noun in w:\n",
    "            if len(noun) < 2 or chklst[noun]>270:\n",
    "                continue\n",
    "            try:\n",
    "                word_cnt[noun] = word_cnt[noun] + down_ratio\n",
    "            except:\n",
    "                continue\n",
    "    else:\n",
    "        for noun in w:\n",
    "            if len(noun) < 2 or chklst[noun]>270:\n",
    "                continue\n",
    "            try:\n",
    "                word_cnt[noun] = word_cnt[noun] - up_ratio\n",
    "            except:\n",
    "                continue"
   ]
  },
  {
   "cell_type": "code",
   "execution_count": 378,
   "id": "fda7ec0b",
   "metadata": {
    "ExecuteTime": {
     "end_time": "2022-02-18T04:52:41.719187Z",
     "start_time": "2022-02-18T04:52:41.710180Z"
    }
   },
   "outputs": [],
   "source": [
    "word_cnt = word_cnt.drop(chklst[chklst>270].index,axis=0,errors='ignore')"
   ]
  },
  {
   "cell_type": "code",
   "execution_count": 379,
   "id": "e80be5fe",
   "metadata": {
    "ExecuteTime": {
     "end_time": "2022-02-18T04:52:44.397755Z",
     "start_time": "2022-02-18T04:52:44.383764Z"
    }
   },
   "outputs": [
    {
     "data": {
      "text/plain": [
       "-0.5686274509803856"
      ]
     },
     "execution_count": 379,
     "metadata": {},
     "output_type": "execute_result"
    }
   ],
   "source": [
    "sent_mean = np.mean(word_cnt)\n",
    "sent_mean"
   ]
  },
  {
   "cell_type": "code",
   "execution_count": 380,
   "id": "7f6c0026",
   "metadata": {
    "ExecuteTime": {
     "end_time": "2022-02-18T04:52:51.429354Z",
     "start_time": "2022-02-18T04:52:51.334544Z"
    }
   },
   "outputs": [],
   "source": [
    "combine_df['senti'] = combine_df['keyword'].apply(lambda nouns : (sum([word_cnt[noun] for noun in nouns if len(noun) > 1 and noun in word_cnt.index])/len(nouns)))"
   ]
  },
  {
   "cell_type": "code",
   "execution_count": 381,
   "id": "7407ef91",
   "metadata": {
    "ExecuteTime": {
     "end_time": "2022-02-18T04:52:53.916332Z",
     "start_time": "2022-02-18T04:52:53.910348Z"
    }
   },
   "outputs": [
    {
     "data": {
      "text/plain": [
       "63"
      ]
     },
     "execution_count": 381,
     "metadata": {},
     "output_type": "execute_result"
    }
   ],
   "source": [
    "sum(res > sent_mean)"
   ]
  },
  {
   "cell_type": "code",
   "execution_count": 383,
   "id": "e292f942",
   "metadata": {
    "ExecuteTime": {
     "end_time": "2022-02-18T05:22:10.141580Z",
     "start_time": "2022-02-18T05:22:10.130581Z"
    }
   },
   "outputs": [],
   "source": [
    "combine_df['senti'] = res"
   ]
  },
  {
   "cell_type": "code",
   "execution_count": 385,
   "id": "2b11683a",
   "metadata": {
    "ExecuteTime": {
     "end_time": "2022-02-18T05:23:04.461209Z",
     "start_time": "2022-02-18T05:23:04.336412Z"
    }
   },
   "outputs": [
    {
     "data": {
      "text/plain": [
       "<AxesSubplot:xlabel='date'>"
      ]
     },
     "execution_count": 385,
     "metadata": {},
     "output_type": "execute_result"
    },
    {
     "data": {
      "image/png": "[encoded data removed]",
      "text/plain": [
       "<Figure size 432x288 with 1 Axes>"
      ]
     },
     "metadata": {
      "needs_background": "light"
     },
     "output_type": "display_data"
    }
   ],
   "source": [
    "combine_df.plot(x = 'date', y = 'senti')"
   ]
  },
  {
   "cell_type": "code",
   "execution_count": 430,
   "id": "55e3e489",
   "metadata": {
    "ExecuteTime": {
     "end_time": "2022-02-18T06:35:46.951287Z",
     "start_time": "2022-02-18T06:35:46.936300Z"
    }
   },
   "outputs": [
    {
     "data": {
      "text/html": [
       "<div>\n",
       "<style scoped>\n",
       "    .dataframe tbody tr th:only-of-type {\n",
       "        vertical-align: middle;\n",
       "    }\n",
       "\n",
       "    .dataframe tbody tr th {\n",
       "        vertical-align: top;\n",
       "    }\n",
       "\n",
       "    .dataframe thead th {\n",
       "        text-align: right;\n",
       "    }\n",
       "</style>\n",
       "<table border=\"1\" class=\"dataframe\">\n",
       "  <thead>\n",
       "    <tr style=\"text-align: right;\">\n",
       "      <th></th>\n",
       "      <th>senti</th>\n",
       "      <th>종가</th>\n",
       "    </tr>\n",
       "  </thead>\n",
       "  <tbody>\n",
       "    <tr>\n",
       "      <th>senti</th>\n",
       "      <td>1.00000</td>\n",
       "      <td>0.28217</td>\n",
       "    </tr>\n",
       "    <tr>\n",
       "      <th>종가</th>\n",
       "      <td>0.28217</td>\n",
       "      <td>1.00000</td>\n",
       "    </tr>\n",
       "  </tbody>\n",
       "</table>\n",
       "</div>"
      ],
      "text/plain": [
       "         senti       종가\n",
       "senti  1.00000  0.28217\n",
       "종가     0.28217  1.00000"
      ]
     },
     "execution_count": 430,
     "metadata": {},
     "output_type": "execute_result"
    }
   ],
   "source": [
    "temp.corr()"
   ]
  },
  {
   "cell_type": "code",
   "execution_count": 429,
   "id": "819a830f",
   "metadata": {
    "ExecuteTime": {
     "end_time": "2022-02-18T06:32:56.860143Z",
     "start_time": "2022-02-18T06:32:56.160404Z"
    }
   },
   "outputs": [
    {
     "data": {
      "text/plain": [
       "<AxesSubplot:xlabel='date', ylabel='종가'>"
      ]
     },
     "execution_count": 429,
     "metadata": {},
     "output_type": "execute_result"
    },
    {
     "data": {
      "image/png": "[encoded data removed]",
      "text/plain": [
       "<Figure size 1080x288 with 1 Axes>"
      ]
     },
     "metadata": {
      "needs_background": "light"
     },
     "output_type": "display_data"
    }
   ],
   "source": [
    "plt.figure(figsize=(15,4))\n",
    "# combine_df.plot(x = 'date', y = 'senti')\n",
    "\n",
    "sns.lineplot(data =dubai_df, x = 'date', y = '종가')"
   ]
  },
  {
   "cell_type": "code",
   "execution_count": 428,
   "id": "e9b106ba",
   "metadata": {
    "ExecuteTime": {
     "end_time": "2022-02-18T06:32:07.405167Z",
     "start_time": "2022-02-18T06:32:06.717942Z"
    },
    "scrolled": true
   },
   "outputs": [
    {
     "data": {
      "text/plain": [
       "<AxesSubplot:xlabel='date', ylabel='senti'>"
      ]
     },
     "execution_count": 428,
     "metadata": {},
     "output_type": "execute_result"
    },
    {
     "data": {
      "image/png": "[encoded data removed]",
      "text/plain": [
       "<Figure size 1080x288 with 1 Axes>"
      ]
     },
     "metadata": {
      "needs_background": "light"
     },
     "output_type": "display_data"
    }
   ],
   "source": [
    "plt.figure(figsize=(15,4))\n",
    "# combine_df.plot(x = 'date', y = 'senti')\n",
    "\n",
    "sns.lineplot(data =combine_df, x = 'date', y = 'senti')"
   ]
  },
  {
   "cell_type": "code",
   "execution_count": 420,
   "id": "786a8fdb",
   "metadata": {
    "ExecuteTime": {
     "end_time": "2022-02-18T06:26:29.832979Z",
     "start_time": "2022-02-18T06:26:29.811037Z"
    }
   },
   "outputs": [],
   "source": [
    "temp = pd.merge(combine_df, dubai_df, how ='inner', on = 'date')\n",
    "temp = temp[['date','senti','종가']]\n",
    "temp.set_index('date',inplace=True)"
   ]
  },
  {
   "cell_type": "code",
   "execution_count": 427,
   "id": "33495149",
   "metadata": {
    "ExecuteTime": {
     "end_time": "2022-02-18T06:31:51.017353Z",
     "start_time": "2022-02-18T06:31:50.997407Z"
    }
   },
   "outputs": [
    {
     "ename": "ValueError",
     "evalue": "Expected 2D array, got 1D array instead:\narray=[-1.55882353 -1.29895381 -1.09140114 -1.13093992 -1.99868607 -1.39532872\n -1.54938138 -1.30586294 -0.56879533 -0.56836514 -0.70133305 -2.11240165\n -2.36000387 -1.11556744 -1.02165592 -1.24009178 -0.61317945 -1.66211131\n -1.01606174 -1.83763599 -0.71985048 -1.46457938 -1.36893879 -1.26587809\n -1.14503043 -1.5342116  -1.20858343 -1.20858343 -0.6559531  -0.28231077\n -0.30348509 -0.80483871 -0.36080373 -1.08625566 -0.73941176 -0.62868937\n -0.75832502 -0.75832502 -0.93438134 -0.68690412 -0.03037784 -0.17578886\n -0.70322712  0.01216351  0.10560128 -0.08014212  0.22237223 -0.63527526\n  0.04668996 -1.16520439 -0.62833333 -0.62833333 -0.84445701 -0.84445701\n -0.45739323 -0.91099325 -0.37114846 -1.04973262 -0.76154436 -0.42418074\n -0.42418074 -0.31235111 -0.63047958 -0.63047958 -0.98747628 -0.68832721\n -0.74802036 -0.79165144 -1.32473811 -0.38206174 -0.77113675 -0.33340489\n -1.49421408 -1.23850632 -1.44914216 -1.3662014  -1.31793635 -1.41023682\n -1.82186459 -1.91604617 -1.50802139 -1.54988466 -1.53600586 -0.67519577\n -0.91705679 -1.1879845  -1.08491303 -1.25421713 -1.17320261 -0.9460945\n -1.18085106 -0.97037815 -0.71149381 -1.09059682 -0.86881992 -0.88562092\n -0.88324964 -0.79540441 -0.41834636 -1.32730525 -0.52941176 -0.61543565\n -0.61543565 -1.39517784 -1.06504525 -1.06504525 -0.83333333 -1.11322568\n -0.79429699 -0.57158713 -1.66176471 -1.04106548 -1.33588235 -0.2863485\n -0.2188914  -1.5982242  -1.45561497 -0.5554939  -0.46823529 -1.99782135\n -1.40299278 -0.57352941 -0.13540511  0.12104072  0.10566449  0.3077342\n  0.33529412 -1.75        0.29914861 -0.20588235 -0.33035714 -1.7459893\n -1.72620321 -1.41448802 -1.68007203 -1.98673587 -0.01117647  0.01361656\n -1.09332579 -2.2290724  -1.34502262 -1.40756303 -1.57781863 -2.87762605\n -0.20754717 -1.42230855 -1.06521739 -0.49647059 -0.41291811 -0.01906318\n -0.97496871 -0.31674208 -1.02036199 -0.81372549 -1.52865275 -0.50113669\n -1.06617647 -1.05235013 -1.36491722 -0.69378919 -1.25414365 -1.29810568\n -1.56840336 -0.91203209 -1.41537002 -2.24301107 -0.50591822 -1.14943074\n -0.75245098 -1.25453025 -1.42816742 -0.88219481 -0.8727451  -0.53515065\n -1.24076607 -0.28027682 -1.0629515  -0.48044883 -0.66839677 -0.91986965\n -0.6621922  -1.34705882 -1.30050795 -0.90455675 -0.68021996 -1.23644926\n -0.18876207 -0.15329236 -1.68114973 -1.1322258  -0.99754219 -1.28751007\n -0.80756815 -0.60831448 -0.48345588 -0.74653979 -0.9750342  -0.57940014\n -0.17381101 -0.45111469 -1.28878474 -1.15699705 -0.31318681 -0.88381621\n -0.44639749 -0.77916251 -1.01502214 -0.97058824 -0.74737679 -1.34440228\n -0.80992647 -0.61464586 -0.08043776 -0.38756303 -0.85294118 -0.30718954\n  0.37504062  0.41348469 -0.15898251 -0.60294118 -0.46850721 -0.64642631\n -0.76470588 -0.77422563 -0.66020025 -1.25454545 -0.30672269 -0.43464052\n -0.70698333 -0.24886878 -0.48921569 -0.69050802 -0.056926  ].\nReshape your data either using array.reshape(-1, 1) if your data has a single feature or array.reshape(1, -1) if it contains a single sample.",
     "output_type": "error",
     "traceback": [
      "\u001b[1;31m---------------------------------------------------------------------------\u001b[0m",
      "\u001b[1;31mValueError\u001b[0m                                Traceback (most recent call last)",
      "\u001b[1;32m~\\AppData\\Local\\Temp/ipykernel_14036/1354345344.py\u001b[0m in \u001b[0;36m<module>\u001b[1;34m\u001b[0m\n\u001b[0;32m      1\u001b[0m \u001b[1;32mfrom\u001b[0m \u001b[0msklearn\u001b[0m\u001b[1;33m.\u001b[0m\u001b[0mpreprocessing\u001b[0m \u001b[1;32mimport\u001b[0m \u001b[0mMinMaxScaler\u001b[0m\u001b[1;33m\u001b[0m\u001b[1;33m\u001b[0m\u001b[0m\n\u001b[1;32m----> 2\u001b[1;33m \u001b[0marr1\u001b[0m \u001b[1;33m=\u001b[0m \u001b[0mMinMaxScaler\u001b[0m\u001b[1;33m(\u001b[0m\u001b[1;33m)\u001b[0m\u001b[1;33m.\u001b[0m\u001b[0mfit_transform\u001b[0m\u001b[1;33m(\u001b[0m\u001b[0mtemp\u001b[0m\u001b[1;33m[\u001b[0m\u001b[1;34m'senti'\u001b[0m\u001b[1;33m]\u001b[0m\u001b[1;33m.\u001b[0m\u001b[0mvalues\u001b[0m\u001b[1;33m)\u001b[0m\u001b[1;33m\u001b[0m\u001b[1;33m\u001b[0m\u001b[0m\n\u001b[0m\u001b[0;32m      3\u001b[0m \u001b[0marr1\u001b[0m\u001b[1;33m\u001b[0m\u001b[1;33m\u001b[0m\u001b[0m\n",
      "\u001b[1;32m~\\anaconda3\\envs\\study\\lib\\site-packages\\sklearn\\base.py\u001b[0m in \u001b[0;36mfit_transform\u001b[1;34m(self, X, y, **fit_params)\u001b[0m\n\u001b[0;32m    850\u001b[0m         \u001b[1;32mif\u001b[0m \u001b[0my\u001b[0m \u001b[1;32mis\u001b[0m \u001b[1;32mNone\u001b[0m\u001b[1;33m:\u001b[0m\u001b[1;33m\u001b[0m\u001b[1;33m\u001b[0m\u001b[0m\n\u001b[0;32m    851\u001b[0m             \u001b[1;31m# fit method of arity 1 (unsupervised transformation)\u001b[0m\u001b[1;33m\u001b[0m\u001b[1;33m\u001b[0m\u001b[1;33m\u001b[0m\u001b[0m\n\u001b[1;32m--> 852\u001b[1;33m             \u001b[1;32mreturn\u001b[0m \u001b[0mself\u001b[0m\u001b[1;33m.\u001b[0m\u001b[0mfit\u001b[0m\u001b[1;33m(\u001b[0m\u001b[0mX\u001b[0m\u001b[1;33m,\u001b[0m \u001b[1;33m**\u001b[0m\u001b[0mfit_params\u001b[0m\u001b[1;33m)\u001b[0m\u001b[1;33m.\u001b[0m\u001b[0mtransform\u001b[0m\u001b[1;33m(\u001b[0m\u001b[0mX\u001b[0m\u001b[1;33m)\u001b[0m\u001b[1;33m\u001b[0m\u001b[1;33m\u001b[0m\u001b[0m\n\u001b[0m\u001b[0;32m    853\u001b[0m         \u001b[1;32melse\u001b[0m\u001b[1;33m:\u001b[0m\u001b[1;33m\u001b[0m\u001b[1;33m\u001b[0m\u001b[0m\n\u001b[0;32m    854\u001b[0m             \u001b[1;31m# fit method of arity 2 (supervised transformation)\u001b[0m\u001b[1;33m\u001b[0m\u001b[1;33m\u001b[0m\u001b[1;33m\u001b[0m\u001b[0m\n",
      "\u001b[1;32m~\\anaconda3\\envs\\study\\lib\\site-packages\\sklearn\\preprocessing\\_data.py\u001b[0m in \u001b[0;36mfit\u001b[1;34m(self, X, y)\u001b[0m\n\u001b[0;32m    414\u001b[0m         \u001b[1;31m# Reset internal state before fitting\u001b[0m\u001b[1;33m\u001b[0m\u001b[1;33m\u001b[0m\u001b[1;33m\u001b[0m\u001b[0m\n\u001b[0;32m    415\u001b[0m         \u001b[0mself\u001b[0m\u001b[1;33m.\u001b[0m\u001b[0m_reset\u001b[0m\u001b[1;33m(\u001b[0m\u001b[1;33m)\u001b[0m\u001b[1;33m\u001b[0m\u001b[1;33m\u001b[0m\u001b[0m\n\u001b[1;32m--> 416\u001b[1;33m         \u001b[1;32mreturn\u001b[0m \u001b[0mself\u001b[0m\u001b[1;33m.\u001b[0m\u001b[0mpartial_fit\u001b[0m\u001b[1;33m(\u001b[0m\u001b[0mX\u001b[0m\u001b[1;33m,\u001b[0m \u001b[0my\u001b[0m\u001b[1;33m)\u001b[0m\u001b[1;33m\u001b[0m\u001b[1;33m\u001b[0m\u001b[0m\n\u001b[0m\u001b[0;32m    417\u001b[0m \u001b[1;33m\u001b[0m\u001b[0m\n\u001b[0;32m    418\u001b[0m     \u001b[1;32mdef\u001b[0m \u001b[0mpartial_fit\u001b[0m\u001b[1;33m(\u001b[0m\u001b[0mself\u001b[0m\u001b[1;33m,\u001b[0m \u001b[0mX\u001b[0m\u001b[1;33m,\u001b[0m \u001b[0my\u001b[0m\u001b[1;33m=\u001b[0m\u001b[1;32mNone\u001b[0m\u001b[1;33m)\u001b[0m\u001b[1;33m:\u001b[0m\u001b[1;33m\u001b[0m\u001b[1;33m\u001b[0m\u001b[0m\n",
      "\u001b[1;32m~\\anaconda3\\envs\\study\\lib\\site-packages\\sklearn\\preprocessing\\_data.py\u001b[0m in \u001b[0;36mpartial_fit\u001b[1;34m(self, X, y)\u001b[0m\n\u001b[0;32m    451\u001b[0m \u001b[1;33m\u001b[0m\u001b[0m\n\u001b[0;32m    452\u001b[0m         \u001b[0mfirst_pass\u001b[0m \u001b[1;33m=\u001b[0m \u001b[1;32mnot\u001b[0m \u001b[0mhasattr\u001b[0m\u001b[1;33m(\u001b[0m\u001b[0mself\u001b[0m\u001b[1;33m,\u001b[0m \u001b[1;34m\"n_samples_seen_\"\u001b[0m\u001b[1;33m)\u001b[0m\u001b[1;33m\u001b[0m\u001b[1;33m\u001b[0m\u001b[0m\n\u001b[1;32m--> 453\u001b[1;33m         X = self._validate_data(\n\u001b[0m\u001b[0;32m    454\u001b[0m             \u001b[0mX\u001b[0m\u001b[1;33m,\u001b[0m\u001b[1;33m\u001b[0m\u001b[1;33m\u001b[0m\u001b[0m\n\u001b[0;32m    455\u001b[0m             \u001b[0mreset\u001b[0m\u001b[1;33m=\u001b[0m\u001b[0mfirst_pass\u001b[0m\u001b[1;33m,\u001b[0m\u001b[1;33m\u001b[0m\u001b[1;33m\u001b[0m\u001b[0m\n",
      "\u001b[1;32m~\\anaconda3\\envs\\study\\lib\\site-packages\\sklearn\\base.py\u001b[0m in \u001b[0;36m_validate_data\u001b[1;34m(self, X, y, reset, validate_separately, **check_params)\u001b[0m\n\u001b[0;32m    564\u001b[0m             \u001b[1;32mraise\u001b[0m \u001b[0mValueError\u001b[0m\u001b[1;33m(\u001b[0m\u001b[1;34m\"Validation should be done on X, y or both.\"\u001b[0m\u001b[1;33m)\u001b[0m\u001b[1;33m\u001b[0m\u001b[1;33m\u001b[0m\u001b[0m\n\u001b[0;32m    565\u001b[0m         \u001b[1;32melif\u001b[0m \u001b[1;32mnot\u001b[0m \u001b[0mno_val_X\u001b[0m \u001b[1;32mand\u001b[0m \u001b[0mno_val_y\u001b[0m\u001b[1;33m:\u001b[0m\u001b[1;33m\u001b[0m\u001b[1;33m\u001b[0m\u001b[0m\n\u001b[1;32m--> 566\u001b[1;33m             \u001b[0mX\u001b[0m \u001b[1;33m=\u001b[0m \u001b[0mcheck_array\u001b[0m\u001b[1;33m(\u001b[0m\u001b[0mX\u001b[0m\u001b[1;33m,\u001b[0m \u001b[1;33m**\u001b[0m\u001b[0mcheck_params\u001b[0m\u001b[1;33m)\u001b[0m\u001b[1;33m\u001b[0m\u001b[1;33m\u001b[0m\u001b[0m\n\u001b[0m\u001b[0;32m    567\u001b[0m             \u001b[0mout\u001b[0m \u001b[1;33m=\u001b[0m \u001b[0mX\u001b[0m\u001b[1;33m\u001b[0m\u001b[1;33m\u001b[0m\u001b[0m\n\u001b[0;32m    568\u001b[0m         \u001b[1;32melif\u001b[0m \u001b[0mno_val_X\u001b[0m \u001b[1;32mand\u001b[0m \u001b[1;32mnot\u001b[0m \u001b[0mno_val_y\u001b[0m\u001b[1;33m:\u001b[0m\u001b[1;33m\u001b[0m\u001b[1;33m\u001b[0m\u001b[0m\n",
      "\u001b[1;32m~\\anaconda3\\envs\\study\\lib\\site-packages\\sklearn\\utils\\validation.py\u001b[0m in \u001b[0;36mcheck_array\u001b[1;34m(array, accept_sparse, accept_large_sparse, dtype, order, copy, force_all_finite, ensure_2d, allow_nd, ensure_min_samples, ensure_min_features, estimator)\u001b[0m\n\u001b[0;32m    767\u001b[0m             \u001b[1;31m# If input is 1D raise error\u001b[0m\u001b[1;33m\u001b[0m\u001b[1;33m\u001b[0m\u001b[1;33m\u001b[0m\u001b[0m\n\u001b[0;32m    768\u001b[0m             \u001b[1;32mif\u001b[0m \u001b[0marray\u001b[0m\u001b[1;33m.\u001b[0m\u001b[0mndim\u001b[0m \u001b[1;33m==\u001b[0m \u001b[1;36m1\u001b[0m\u001b[1;33m:\u001b[0m\u001b[1;33m\u001b[0m\u001b[1;33m\u001b[0m\u001b[0m\n\u001b[1;32m--> 769\u001b[1;33m                 raise ValueError(\n\u001b[0m\u001b[0;32m    770\u001b[0m                     \u001b[1;34m\"Expected 2D array, got 1D array instead:\\narray={}.\\n\"\u001b[0m\u001b[1;33m\u001b[0m\u001b[1;33m\u001b[0m\u001b[0m\n\u001b[0;32m    771\u001b[0m                     \u001b[1;34m\"Reshape your data either using array.reshape(-1, 1) if \"\u001b[0m\u001b[1;33m\u001b[0m\u001b[1;33m\u001b[0m\u001b[0m\n",
      "\u001b[1;31mValueError\u001b[0m: Expected 2D array, got 1D array instead:\narray=[-1.55882353 -1.29895381 -1.09140114 -1.13093992 -1.99868607 -1.39532872\n -1.54938138 -1.30586294 -0.56879533 -0.56836514 -0.70133305 -2.11240165\n -2.36000387 -1.11556744 -1.02165592 -1.24009178 -0.61317945 -1.66211131\n -1.01606174 -1.83763599 -0.71985048 -1.46457938 -1.36893879 -1.26587809\n -1.14503043 -1.5342116  -1.20858343 -1.20858343 -0.6559531  -0.28231077\n -0.30348509 -0.80483871 -0.36080373 -1.08625566 -0.73941176 -0.62868937\n -0.75832502 -0.75832502 -0.93438134 -0.68690412 -0.03037784 -0.17578886\n -0.70322712  0.01216351  0.10560128 -0.08014212  0.22237223 -0.63527526\n  0.04668996 -1.16520439 -0.62833333 -0.62833333 -0.84445701 -0.84445701\n -0.45739323 -0.91099325 -0.37114846 -1.04973262 -0.76154436 -0.42418074\n -0.42418074 -0.31235111 -0.63047958 -0.63047958 -0.98747628 -0.68832721\n -0.74802036 -0.79165144 -1.32473811 -0.38206174 -0.77113675 -0.33340489\n -1.49421408 -1.23850632 -1.44914216 -1.3662014  -1.31793635 -1.41023682\n -1.82186459 -1.91604617 -1.50802139 -1.54988466 -1.53600586 -0.67519577\n -0.91705679 -1.1879845  -1.08491303 -1.25421713 -1.17320261 -0.9460945\n -1.18085106 -0.97037815 -0.71149381 -1.09059682 -0.86881992 -0.88562092\n -0.88324964 -0.79540441 -0.41834636 -1.32730525 -0.52941176 -0.61543565\n -0.61543565 -1.39517784 -1.06504525 -1.06504525 -0.83333333 -1.11322568\n -0.79429699 -0.57158713 -1.66176471 -1.04106548 -1.33588235 -0.2863485\n -0.2188914  -1.5982242  -1.45561497 -0.5554939  -0.46823529 -1.99782135\n -1.40299278 -0.57352941 -0.13540511  0.12104072  0.10566449  0.3077342\n  0.33529412 -1.75        0.29914861 -0.20588235 -0.33035714 -1.7459893\n -1.72620321 -1.41448802 -1.68007203 -1.98673587 -0.01117647  0.01361656\n -1.09332579 -2.2290724  -1.34502262 -1.40756303 -1.57781863 -2.87762605\n -0.20754717 -1.42230855 -1.06521739 -0.49647059 -0.41291811 -0.01906318\n -0.97496871 -0.31674208 -1.02036199 -0.81372549 -1.52865275 -0.50113669\n -1.06617647 -1.05235013 -1.36491722 -0.69378919 -1.25414365 -1.29810568\n -1.56840336 -0.91203209 -1.41537002 -2.24301107 -0.50591822 -1.14943074\n -0.75245098 -1.25453025 -1.42816742 -0.88219481 -0.8727451  -0.53515065\n -1.24076607 -0.28027682 -1.0629515  -0.48044883 -0.66839677 -0.91986965\n -0.6621922  -1.34705882 -1.30050795 -0.90455675 -0.68021996 -1.23644926\n -0.18876207 -0.15329236 -1.68114973 -1.1322258  -0.99754219 -1.28751007\n -0.80756815 -0.60831448 -0.48345588 -0.74653979 -0.9750342  -0.57940014\n -0.17381101 -0.45111469 -1.28878474 -1.15699705 -0.31318681 -0.88381621\n -0.44639749 -0.77916251 -1.01502214 -0.97058824 -0.74737679 -1.34440228\n -0.80992647 -0.61464586 -0.08043776 -0.38756303 -0.85294118 -0.30718954\n  0.37504062  0.41348469 -0.15898251 -0.60294118 -0.46850721 -0.64642631\n -0.76470588 -0.77422563 -0.66020025 -1.25454545 -0.30672269 -0.43464052\n -0.70698333 -0.24886878 -0.48921569 -0.69050802 -0.056926  ].\nReshape your data either using array.reshape(-1, 1) if your data has a single feature or array.reshape(1, -1) if it contains a single sample."
     ]
    }
   ],
   "source": [
    "from sklearn.preprocessing import MinMaxScaler\n",
    "arr1 = MinMaxScaler().fit_transform(temp['senti'].values)\n",
    "arr1\n"
   ]
  },
  {
   "cell_type": "code",
   "execution_count": 421,
   "id": "77aa2707",
   "metadata": {
    "ExecuteTime": {
     "end_time": "2022-02-18T06:26:39.653101Z",
     "start_time": "2022-02-18T06:26:39.498694Z"
    }
   },
   "outputs": [
    {
     "data": {
      "text/plain": [
       "<AxesSubplot:xlabel='date'>"
      ]
     },
     "execution_count": 421,
     "metadata": {},
     "output_type": "execute_result"
    },
    {
     "data": {
      "image/png": "[encoded data removed]",
      "text/plain": [
       "<Figure size 1080x288 with 1 Axes>"
      ]
     },
     "metadata": {
      "needs_background": "light"
     },
     "output_type": "display_data"
    }
   ],
   "source": [
    "plt.figure(figsize=(15,4))\n",
    "# combine_df.plot(x = 'date', y = 'senti')\n",
    "\n",
    "sns.lineplot(data = temp)"
   ]
  },
  {
   "cell_type": "code",
   "execution_count": 414,
   "id": "bfeb0c6b",
   "metadata": {
    "ExecuteTime": {
     "end_time": "2022-02-18T06:21:22.898350Z",
     "start_time": "2022-02-18T06:21:22.888339Z"
    }
   },
   "outputs": [
    {
     "data": {
      "text/html": [
       "<div>\n",
       "<style scoped>\n",
       "    .dataframe tbody tr th:only-of-type {\n",
       "        vertical-align: middle;\n",
       "    }\n",
       "\n",
       "    .dataframe tbody tr th {\n",
       "        vertical-align: top;\n",
       "    }\n",
       "\n",
       "    .dataframe thead th {\n",
       "        text-align: right;\n",
       "    }\n",
       "</style>\n",
       "<table border=\"1\" class=\"dataframe\">\n",
       "  <thead>\n",
       "    <tr style=\"text-align: right;\">\n",
       "      <th></th>\n",
       "      <th>company</th>\n",
       "      <th>종가</th>\n",
       "      <th>전일비</th>\n",
       "      <th>등락률</th>\n",
       "    </tr>\n",
       "    <tr>\n",
       "      <th>date</th>\n",
       "      <th></th>\n",
       "      <th></th>\n",
       "      <th></th>\n",
       "      <th></th>\n",
       "    </tr>\n",
       "  </thead>\n",
       "  <tbody>\n",
       "    <tr>\n",
       "      <th>2017-02-07</th>\n",
       "      <td>두바이유선물</td>\n",
       "      <td>53.900</td>\n",
       "      <td>-0.350</td>\n",
       "      <td>-0.65</td>\n",
       "    </tr>\n",
       "    <tr>\n",
       "      <th>2017-02-08</th>\n",
       "      <td>두바이유선물</td>\n",
       "      <td>53.730</td>\n",
       "      <td>-0.170</td>\n",
       "      <td>-0.32</td>\n",
       "    </tr>\n",
       "    <tr>\n",
       "      <th>2017-02-09</th>\n",
       "      <td>두바이유선물</td>\n",
       "      <td>54.110</td>\n",
       "      <td>0.380</td>\n",
       "      <td>0.71</td>\n",
       "    </tr>\n",
       "    <tr>\n",
       "      <th>2017-02-10</th>\n",
       "      <td>두바이유선물</td>\n",
       "      <td>54.590</td>\n",
       "      <td>0.480</td>\n",
       "      <td>0.89</td>\n",
       "    </tr>\n",
       "    <tr>\n",
       "      <th>2017-02-13</th>\n",
       "      <td>두바이유선물</td>\n",
       "      <td>54.030</td>\n",
       "      <td>-0.560</td>\n",
       "      <td>-1.03</td>\n",
       "    </tr>\n",
       "    <tr>\n",
       "      <th>...</th>\n",
       "      <td>...</td>\n",
       "      <td>...</td>\n",
       "      <td>...</td>\n",
       "      <td>...</td>\n",
       "    </tr>\n",
       "    <tr>\n",
       "      <th>2022-02-03</th>\n",
       "      <td>두바이유선물</td>\n",
       "      <td>89.156</td>\n",
       "      <td>1.391</td>\n",
       "      <td>1.58</td>\n",
       "    </tr>\n",
       "    <tr>\n",
       "      <th>2022-02-04</th>\n",
       "      <td>두바이유선물</td>\n",
       "      <td>91.056</td>\n",
       "      <td>1.900</td>\n",
       "      <td>2.13</td>\n",
       "    </tr>\n",
       "    <tr>\n",
       "      <th>2022-02-07</th>\n",
       "      <td>두바이유선물</td>\n",
       "      <td>90.757</td>\n",
       "      <td>-0.299</td>\n",
       "      <td>-0.33</td>\n",
       "    </tr>\n",
       "    <tr>\n",
       "      <th>2022-02-08</th>\n",
       "      <td>두바이유선물</td>\n",
       "      <td>89.282</td>\n",
       "      <td>-1.475</td>\n",
       "      <td>-1.63</td>\n",
       "    </tr>\n",
       "    <tr>\n",
       "      <th>2022-02-09</th>\n",
       "      <td>두바이유선물</td>\n",
       "      <td>89.883</td>\n",
       "      <td>0.601</td>\n",
       "      <td>0.67</td>\n",
       "    </tr>\n",
       "  </tbody>\n",
       "</table>\n",
       "<p>1233 rows × 4 columns</p>\n",
       "</div>"
      ],
      "text/plain": [
       "           company      종가    전일비   등락률\n",
       "date                                   \n",
       "2017-02-07  두바이유선물  53.900 -0.350 -0.65\n",
       "2017-02-08  두바이유선물  53.730 -0.170 -0.32\n",
       "2017-02-09  두바이유선물  54.110  0.380  0.71\n",
       "2017-02-10  두바이유선물  54.590  0.480  0.89\n",
       "2017-02-13  두바이유선물  54.030 -0.560 -1.03\n",
       "...            ...     ...    ...   ...\n",
       "2022-02-03  두바이유선물  89.156  1.391  1.58\n",
       "2022-02-04  두바이유선물  91.056  1.900  2.13\n",
       "2022-02-07  두바이유선물  90.757 -0.299 -0.33\n",
       "2022-02-08  두바이유선물  89.282 -1.475 -1.63\n",
       "2022-02-09  두바이유선물  89.883  0.601  0.67\n",
       "\n",
       "[1233 rows x 4 columns]"
      ]
     },
     "execution_count": 414,
     "metadata": {},
     "output_type": "execute_result"
    }
   ],
   "source": [
    "dubai_df"
   ]
  },
  {
   "cell_type": "code",
   "execution_count": 290,
   "id": "b23cc53d",
   "metadata": {
    "ExecuteTime": {
     "end_time": "2022-02-18T01:18:24.617291Z",
     "start_time": "2022-02-18T01:18:23.141904Z"
    }
   },
   "outputs": [],
   "source": [
    "import os\n",
    "datelst = ['2022.02.09.','2022.02.08.','2022.02.07.','2022.02.06.','2022.02.05.','2022.02.04.','2022.02.03.']\n",
    "path = r'./data/news/Korean/'\n",
    "kwlst = ['국제유가/']\n",
    "\n",
    "df = pd.concat([pd.concat([pd.read_csv(path+kw+file, index_col = 0) for file in os.listdir(path+kw)]) for kw in kwlst])\n",
    "df['날짜'] = (\n",
    "    df['날짜'].str.replace('일 전','')\n",
    "    .apply(lambda x : datelst[int(x)-1] if x in ['1','2','3','4','5','6','7'] else x)\n",
    "    .astype('datetime64')\n",
    ")"
   ]
  },
  {
   "cell_type": "code",
   "execution_count": 292,
   "id": "9d4cfcf2",
   "metadata": {
    "ExecuteTime": {
     "end_time": "2022-02-18T01:18:36.301360Z",
     "start_time": "2022-02-18T01:18:36.246507Z"
    }
   },
   "outputs": [
    {
     "data": {
      "text/html": [
       "<div>\n",
       "<style scoped>\n",
       "    .dataframe tbody tr th:only-of-type {\n",
       "        vertical-align: middle;\n",
       "    }\n",
       "\n",
       "    .dataframe tbody tr th {\n",
       "        vertical-align: top;\n",
       "    }\n",
       "\n",
       "    .dataframe thead th {\n",
       "        text-align: right;\n",
       "    }\n",
       "</style>\n",
       "<table border=\"1\" class=\"dataframe\">\n",
       "  <thead>\n",
       "    <tr style=\"text-align: right;\">\n",
       "      <th></th>\n",
       "      <th>날짜</th>\n",
       "      <th>제목</th>\n",
       "    </tr>\n",
       "  </thead>\n",
       "  <tbody>\n",
       "    <tr>\n",
       "      <th>0</th>\n",
       "      <td>2017-02-10</td>\n",
       "      <td>해외 자원개발 다시 기지개…'중동·녹색광물' 키워드</td>\n",
       "    </tr>\n",
       "    <tr>\n",
       "      <th>1</th>\n",
       "      <td>2017-02-10</td>\n",
       "      <td>미 원유재고 폭증에도 국제 유가 연일 상승...왜?</td>\n",
       "    </tr>\n",
       "    <tr>\n",
       "      <th>2</th>\n",
       "      <td>2017-02-10</td>\n",
       "      <td>[경제 알지 못해도 쉬워요] 기름값 내려도 정유사 호황 왜</td>\n",
       "    </tr>\n",
       "    <tr>\n",
       "      <th>3</th>\n",
       "      <td>2017-02-10</td>\n",
       "      <td>뉴욕 증시 상승 마감…트럼프 세제 개혁 기대감↑</td>\n",
       "    </tr>\n",
       "    <tr>\n",
       "      <th>4</th>\n",
       "      <td>2017-02-10</td>\n",
       "      <td>국제 유가 상승 마감…재고 감소 기대감 이어져</td>\n",
       "    </tr>\n",
       "    <tr>\n",
       "      <th>...</th>\n",
       "      <td>...</td>\n",
       "      <td>...</td>\n",
       "    </tr>\n",
       "    <tr>\n",
       "      <th>175698</th>\n",
       "      <td>2022-02-09</td>\n",
       "      <td>5조 적자서 7조 흑자로… 정유 빅4 ‘화려한 부활’</td>\n",
       "    </tr>\n",
       "    <tr>\n",
       "      <th>175699</th>\n",
       "      <td>2022-02-09</td>\n",
       "      <td>[기자의 눈] 확장재정 인플레에 녹아버린다</td>\n",
       "    </tr>\n",
       "    <tr>\n",
       "      <th>175700</th>\n",
       "      <td>2022-02-09</td>\n",
       "      <td>작년 경상 흑자 883억弗…전망치 미달</td>\n",
       "    </tr>\n",
       "    <tr>\n",
       "      <th>175701</th>\n",
       "      <td>2022-02-09</td>\n",
       "      <td>이어지는 외식물가 상승세, '가격 공표' 카드 꺼내든 정부</td>\n",
       "    </tr>\n",
       "    <tr>\n",
       "      <th>175702</th>\n",
       "      <td>2022-02-09</td>\n",
       "      <td>[청라언덕] 변수 많은 집값</td>\n",
       "    </tr>\n",
       "  </tbody>\n",
       "</table>\n",
       "<p>175703 rows × 2 columns</p>\n",
       "</div>"
      ],
      "text/plain": [
       "               날짜                                제목\n",
       "0      2017-02-10      해외 자원개발 다시 기지개…'중동·녹색광물' 키워드\n",
       "1      2017-02-10      미 원유재고 폭증에도 국제 유가 연일 상승...왜?\n",
       "2      2017-02-10  [경제 알지 못해도 쉬워요] 기름값 내려도 정유사 호황 왜\n",
       "3      2017-02-10        뉴욕 증시 상승 마감…트럼프 세제 개혁 기대감↑\n",
       "4      2017-02-10         국제 유가 상승 마감…재고 감소 기대감 이어져\n",
       "...           ...                               ...\n",
       "175698 2022-02-09     5조 적자서 7조 흑자로… 정유 빅4 ‘화려한 부활’\n",
       "175699 2022-02-09           [기자의 눈] 확장재정 인플레에 녹아버린다\n",
       "175700 2022-02-09             작년 경상 흑자 883억弗…전망치 미달\n",
       "175701 2022-02-09  이어지는 외식물가 상승세, '가격 공표' 카드 꺼내든 정부\n",
       "175702 2022-02-09                   [청라언덕] 변수 많은 집값\n",
       "\n",
       "[175703 rows x 2 columns]"
      ]
     },
     "execution_count": 292,
     "metadata": {},
     "output_type": "execute_result"
    }
   ],
   "source": [
    "df = df[['날짜','제목']]\n",
    "df = df.sort_values('날짜').reset_index(drop=True)\n",
    "df.dropna()\n"
   ]
  },
  {
   "cell_type": "code",
   "execution_count": 293,
   "id": "0605d677",
   "metadata": {
    "ExecuteTime": {
     "end_time": "2022-02-18T01:19:08.330162Z",
     "start_time": "2022-02-18T01:19:06.423324Z"
    }
   },
   "outputs": [
    {
     "data": {
      "text/html": [
       "<div>\n",
       "<style scoped>\n",
       "    .dataframe tbody tr th:only-of-type {\n",
       "        vertical-align: middle;\n",
       "    }\n",
       "\n",
       "    .dataframe tbody tr th {\n",
       "        vertical-align: top;\n",
       "    }\n",
       "\n",
       "    .dataframe thead th {\n",
       "        text-align: right;\n",
       "    }\n",
       "</style>\n",
       "<table border=\"1\" class=\"dataframe\">\n",
       "  <thead>\n",
       "    <tr style=\"text-align: right;\">\n",
       "      <th></th>\n",
       "      <th>날짜</th>\n",
       "      <th>제목</th>\n",
       "    </tr>\n",
       "  </thead>\n",
       "  <tbody>\n",
       "    <tr>\n",
       "      <th>0</th>\n",
       "      <td>2017-02-10</td>\n",
       "      <td>해외 자원개발 다시 기지개…'중동·녹색광물' 키워드</td>\n",
       "    </tr>\n",
       "    <tr>\n",
       "      <th>1</th>\n",
       "      <td>2017-02-10</td>\n",
       "      <td>미 원유재고 폭증에도 국제 유가 연일 상승...왜?</td>\n",
       "    </tr>\n",
       "    <tr>\n",
       "      <th>2</th>\n",
       "      <td>2017-02-10</td>\n",
       "      <td>[경제 알지 못해도 쉬워요] 기름값 내려도 정유사 호황 왜</td>\n",
       "    </tr>\n",
       "    <tr>\n",
       "      <th>3</th>\n",
       "      <td>2017-02-10</td>\n",
       "      <td>뉴욕 증시 상승 마감…트럼프 세제 개혁 기대감↑</td>\n",
       "    </tr>\n",
       "    <tr>\n",
       "      <th>4</th>\n",
       "      <td>2017-02-10</td>\n",
       "      <td>국제 유가 상승 마감…재고 감소 기대감 이어져</td>\n",
       "    </tr>\n",
       "    <tr>\n",
       "      <th>...</th>\n",
       "      <td>...</td>\n",
       "      <td>...</td>\n",
       "    </tr>\n",
       "    <tr>\n",
       "      <th>175698</th>\n",
       "      <td>2022-02-09</td>\n",
       "      <td>5조 적자서 7조 흑자로… 정유 빅4 ‘화려한 부활’</td>\n",
       "    </tr>\n",
       "    <tr>\n",
       "      <th>175699</th>\n",
       "      <td>2022-02-09</td>\n",
       "      <td>[기자의 눈] 확장재정 인플레에 녹아버린다</td>\n",
       "    </tr>\n",
       "    <tr>\n",
       "      <th>175700</th>\n",
       "      <td>2022-02-09</td>\n",
       "      <td>작년 경상 흑자 883억弗…전망치 미달</td>\n",
       "    </tr>\n",
       "    <tr>\n",
       "      <th>175701</th>\n",
       "      <td>2022-02-09</td>\n",
       "      <td>이어지는 외식물가 상승세, '가격 공표' 카드 꺼내든 정부</td>\n",
       "    </tr>\n",
       "    <tr>\n",
       "      <th>175702</th>\n",
       "      <td>2022-02-09</td>\n",
       "      <td>[청라언덕] 변수 많은 집값</td>\n",
       "    </tr>\n",
       "  </tbody>\n",
       "</table>\n",
       "<p>140995 rows × 2 columns</p>\n",
       "</div>"
      ],
      "text/plain": [
       "               날짜                                제목\n",
       "0      2017-02-10      해외 자원개발 다시 기지개…'중동·녹색광물' 키워드\n",
       "1      2017-02-10      미 원유재고 폭증에도 국제 유가 연일 상승...왜?\n",
       "2      2017-02-10  [경제 알지 못해도 쉬워요] 기름값 내려도 정유사 호황 왜\n",
       "3      2017-02-10        뉴욕 증시 상승 마감…트럼프 세제 개혁 기대감↑\n",
       "4      2017-02-10         국제 유가 상승 마감…재고 감소 기대감 이어져\n",
       "...           ...                               ...\n",
       "175698 2022-02-09     5조 적자서 7조 흑자로… 정유 빅4 ‘화려한 부활’\n",
       "175699 2022-02-09           [기자의 눈] 확장재정 인플레에 녹아버린다\n",
       "175700 2022-02-09             작년 경상 흑자 883억弗…전망치 미달\n",
       "175701 2022-02-09  이어지는 외식물가 상승세, '가격 공표' 카드 꺼내든 정부\n",
       "175702 2022-02-09                   [청라언덕] 변수 많은 집값\n",
       "\n",
       "[140995 rows x 2 columns]"
      ]
     },
     "execution_count": 293,
     "metadata": {},
     "output_type": "execute_result"
    }
   ],
   "source": [
    "df = df[df['날짜'].apply(lambda d : d in dubai_df.index)]\n",
    "df"
   ]
  },
  {
   "cell_type": "code",
   "execution_count": 294,
   "id": "3d37f7a6",
   "metadata": {
    "ExecuteTime": {
     "end_time": "2022-02-18T01:19:10.974083Z",
     "start_time": "2022-02-18T01:19:10.949113Z"
    }
   },
   "outputs": [],
   "source": [
    "df.columns = ['date', 'title']\n",
    "df = pd.merge(df,dubai_df['전일비'].reset_index(),on='date')"
   ]
  },
  {
   "cell_type": "code",
   "execution_count": 295,
   "id": "38d0ae68",
   "metadata": {
    "ExecuteTime": {
     "end_time": "2022-02-18T01:19:11.812888Z",
     "start_time": "2022-02-18T01:19:11.805878Z"
    }
   },
   "outputs": [],
   "source": [
    "df.columns = ['date', 'title', 'updown']"
   ]
  },
  {
   "cell_type": "code",
   "execution_count": 296,
   "id": "eb95a808",
   "metadata": {
    "ExecuteTime": {
     "end_time": "2022-02-18T01:19:14.441783Z",
     "start_time": "2022-02-18T01:19:14.423867Z"
    }
   },
   "outputs": [
    {
     "data": {
      "text/html": [
       "<div>\n",
       "<style scoped>\n",
       "    .dataframe tbody tr th:only-of-type {\n",
       "        vertical-align: middle;\n",
       "    }\n",
       "\n",
       "    .dataframe tbody tr th {\n",
       "        vertical-align: top;\n",
       "    }\n",
       "\n",
       "    .dataframe thead th {\n",
       "        text-align: right;\n",
       "    }\n",
       "</style>\n",
       "<table border=\"1\" class=\"dataframe\">\n",
       "  <thead>\n",
       "    <tr style=\"text-align: right;\">\n",
       "      <th></th>\n",
       "      <th>date</th>\n",
       "      <th>title</th>\n",
       "      <th>updown</th>\n",
       "    </tr>\n",
       "  </thead>\n",
       "  <tbody>\n",
       "    <tr>\n",
       "      <th>0</th>\n",
       "      <td>2017-02-10</td>\n",
       "      <td>해외 자원개발 다시 기지개…'중동·녹색광물' 키워드</td>\n",
       "      <td>0.480</td>\n",
       "    </tr>\n",
       "    <tr>\n",
       "      <th>1</th>\n",
       "      <td>2017-02-10</td>\n",
       "      <td>미 원유재고 폭증에도 국제 유가 연일 상승...왜?</td>\n",
       "      <td>0.480</td>\n",
       "    </tr>\n",
       "    <tr>\n",
       "      <th>2</th>\n",
       "      <td>2017-02-10</td>\n",
       "      <td>[경제 알지 못해도 쉬워요] 기름값 내려도 정유사 호황 왜</td>\n",
       "      <td>0.480</td>\n",
       "    </tr>\n",
       "    <tr>\n",
       "      <th>3</th>\n",
       "      <td>2017-02-10</td>\n",
       "      <td>뉴욕 증시 상승 마감…트럼프 세제 개혁 기대감↑</td>\n",
       "      <td>0.480</td>\n",
       "    </tr>\n",
       "    <tr>\n",
       "      <th>4</th>\n",
       "      <td>2017-02-10</td>\n",
       "      <td>국제 유가 상승 마감…재고 감소 기대감 이어져</td>\n",
       "      <td>0.480</td>\n",
       "    </tr>\n",
       "    <tr>\n",
       "      <th>...</th>\n",
       "      <td>...</td>\n",
       "      <td>...</td>\n",
       "      <td>...</td>\n",
       "    </tr>\n",
       "    <tr>\n",
       "      <th>140990</th>\n",
       "      <td>2022-02-09</td>\n",
       "      <td>5조 적자서 7조 흑자로… 정유 빅4 ‘화려한 부활’</td>\n",
       "      <td>0.601</td>\n",
       "    </tr>\n",
       "    <tr>\n",
       "      <th>140991</th>\n",
       "      <td>2022-02-09</td>\n",
       "      <td>[기자의 눈] 확장재정 인플레에 녹아버린다</td>\n",
       "      <td>0.601</td>\n",
       "    </tr>\n",
       "    <tr>\n",
       "      <th>140992</th>\n",
       "      <td>2022-02-09</td>\n",
       "      <td>작년 경상 흑자 883억弗…전망치 미달</td>\n",
       "      <td>0.601</td>\n",
       "    </tr>\n",
       "    <tr>\n",
       "      <th>140993</th>\n",
       "      <td>2022-02-09</td>\n",
       "      <td>이어지는 외식물가 상승세, '가격 공표' 카드 꺼내든 정부</td>\n",
       "      <td>0.601</td>\n",
       "    </tr>\n",
       "    <tr>\n",
       "      <th>140994</th>\n",
       "      <td>2022-02-09</td>\n",
       "      <td>[청라언덕] 변수 많은 집값</td>\n",
       "      <td>0.601</td>\n",
       "    </tr>\n",
       "  </tbody>\n",
       "</table>\n",
       "<p>140995 rows × 3 columns</p>\n",
       "</div>"
      ],
      "text/plain": [
       "             date                             title  updown\n",
       "0      2017-02-10      해외 자원개발 다시 기지개…'중동·녹색광물' 키워드   0.480\n",
       "1      2017-02-10      미 원유재고 폭증에도 국제 유가 연일 상승...왜?   0.480\n",
       "2      2017-02-10  [경제 알지 못해도 쉬워요] 기름값 내려도 정유사 호황 왜   0.480\n",
       "3      2017-02-10        뉴욕 증시 상승 마감…트럼프 세제 개혁 기대감↑   0.480\n",
       "4      2017-02-10         국제 유가 상승 마감…재고 감소 기대감 이어져   0.480\n",
       "...           ...                               ...     ...\n",
       "140990 2022-02-09     5조 적자서 7조 흑자로… 정유 빅4 ‘화려한 부활’   0.601\n",
       "140991 2022-02-09           [기자의 눈] 확장재정 인플레에 녹아버린다   0.601\n",
       "140992 2022-02-09             작년 경상 흑자 883억弗…전망치 미달   0.601\n",
       "140993 2022-02-09  이어지는 외식물가 상승세, '가격 공표' 카드 꺼내든 정부   0.601\n",
       "140994 2022-02-09                   [청라언덕] 변수 많은 집값   0.601\n",
       "\n",
       "[140995 rows x 3 columns]"
      ]
     },
     "execution_count": 296,
     "metadata": {},
     "output_type": "execute_result"
    }
   ],
   "source": [
    "df"
   ]
  },
  {
   "cell_type": "code",
   "execution_count": 297,
   "id": "245eb9ff",
   "metadata": {
    "ExecuteTime": {
     "end_time": "2022-02-18T01:19:15.596449Z",
     "start_time": "2022-02-18T01:19:15.558550Z"
    }
   },
   "outputs": [],
   "source": [
    "# 전일대비 상승했으면 True로 라벨링\n",
    "df['updown'] = df['updown'].apply(lambda x : x>0)"
   ]
  },
  {
   "cell_type": "code",
   "execution_count": 298,
   "id": "ebb82720",
   "metadata": {
    "ExecuteTime": {
     "end_time": "2022-02-18T01:19:17.095790Z",
     "start_time": "2022-02-18T01:19:16.822522Z"
    },
    "scrolled": true
   },
   "outputs": [],
   "source": [
    "df['title'] = df['title'].str.replace('[^ㄱ-ㅎㅏ-ㅣ가-힣a-zA-Z ]',' ')"
   ]
  },
  {
   "cell_type": "code",
   "execution_count": 299,
   "id": "87b67c86",
   "metadata": {
    "ExecuteTime": {
     "end_time": "2022-02-18T01:23:01.791931Z",
     "start_time": "2022-02-18T01:19:17.694649Z"
    }
   },
   "outputs": [],
   "source": [
    "df['keyword'] = df['title'].apply(lambda x : han.nouns(x))"
   ]
  },
  {
   "cell_type": "code",
   "execution_count": 300,
   "id": "a6776479",
   "metadata": {
    "ExecuteTime": {
     "end_time": "2022-02-18T01:23:01.948680Z",
     "start_time": "2022-02-18T01:23:01.887734Z"
    }
   },
   "outputs": [],
   "source": [
    "df.drop(df[df['keyword'].apply(lambda x : len(x) == 0)].index,inplace=True)"
   ]
  },
  {
   "cell_type": "code",
   "execution_count": 301,
   "id": "257d6a38",
   "metadata": {
    "ExecuteTime": {
     "end_time": "2022-02-18T01:23:26.709691Z",
     "start_time": "2022-02-18T01:23:02.043109Z"
    }
   },
   "outputs": [],
   "source": [
    "vocab = pd.concat([pd.Series(w) for w in df['keyword']])\n",
    "vocab = vocab.reset_index(drop=True)"
   ]
  },
  {
   "cell_type": "code",
   "execution_count": 302,
   "id": "6a883eaf",
   "metadata": {
    "ExecuteTime": {
     "end_time": "2022-02-18T01:23:26.896316Z",
     "start_time": "2022-02-18T01:23:26.804648Z"
    }
   },
   "outputs": [
    {
     "data": {
      "text/plain": [
       "국제유가    30558\n",
       "상승      21786\n",
       "하락      16452\n",
       "유       13193\n",
       "뉴욕증시    12944\n",
       "        ...  \n",
       "감산추진        1\n",
       "재난예산        1\n",
       "굶주림         1\n",
       "휘둘          1\n",
       "청라언덕        1\n",
       "Length: 32919, dtype: int64"
      ]
     },
     "execution_count": 302,
     "metadata": {},
     "output_type": "execute_result"
    }
   ],
   "source": [
    "vcnt = vocab.value_counts()\n",
    "vcnt"
   ]
  },
  {
   "cell_type": "code",
   "execution_count": 303,
   "id": "12afb7d4",
   "metadata": {
    "ExecuteTime": {
     "end_time": "2022-02-18T01:23:26.973486Z",
     "start_time": "2022-02-18T01:23:26.958526Z"
    }
   },
   "outputs": [
    {
     "data": {
      "text/html": [
       "<div>\n",
       "<style scoped>\n",
       "    .dataframe tbody tr th:only-of-type {\n",
       "        vertical-align: middle;\n",
       "    }\n",
       "\n",
       "    .dataframe tbody tr th {\n",
       "        vertical-align: top;\n",
       "    }\n",
       "\n",
       "    .dataframe thead th {\n",
       "        text-align: right;\n",
       "    }\n",
       "</style>\n",
       "<table border=\"1\" class=\"dataframe\">\n",
       "  <thead>\n",
       "    <tr style=\"text-align: right;\">\n",
       "      <th></th>\n",
       "      <th>key</th>\n",
       "      <th>val</th>\n",
       "    </tr>\n",
       "  </thead>\n",
       "  <tbody>\n",
       "    <tr>\n",
       "      <th>0</th>\n",
       "      <td>국제유가</td>\n",
       "      <td>30558</td>\n",
       "    </tr>\n",
       "    <tr>\n",
       "      <th>1</th>\n",
       "      <td>상승</td>\n",
       "      <td>21786</td>\n",
       "    </tr>\n",
       "    <tr>\n",
       "      <th>2</th>\n",
       "      <td>하락</td>\n",
       "      <td>16452</td>\n",
       "    </tr>\n",
       "    <tr>\n",
       "      <th>3</th>\n",
       "      <td>유</td>\n",
       "      <td>13193</td>\n",
       "    </tr>\n",
       "    <tr>\n",
       "      <th>4</th>\n",
       "      <td>뉴욕증시</td>\n",
       "      <td>12944</td>\n",
       "    </tr>\n",
       "    <tr>\n",
       "      <th>...</th>\n",
       "      <td>...</td>\n",
       "      <td>...</td>\n",
       "    </tr>\n",
       "    <tr>\n",
       "      <th>32914</th>\n",
       "      <td>감산추진</td>\n",
       "      <td>1</td>\n",
       "    </tr>\n",
       "    <tr>\n",
       "      <th>32915</th>\n",
       "      <td>재난예산</td>\n",
       "      <td>1</td>\n",
       "    </tr>\n",
       "    <tr>\n",
       "      <th>32916</th>\n",
       "      <td>굶주림</td>\n",
       "      <td>1</td>\n",
       "    </tr>\n",
       "    <tr>\n",
       "      <th>32917</th>\n",
       "      <td>휘둘</td>\n",
       "      <td>1</td>\n",
       "    </tr>\n",
       "    <tr>\n",
       "      <th>32918</th>\n",
       "      <td>청라언덕</td>\n",
       "      <td>1</td>\n",
       "    </tr>\n",
       "  </tbody>\n",
       "</table>\n",
       "<p>32919 rows × 2 columns</p>\n",
       "</div>"
      ],
      "text/plain": [
       "        key    val\n",
       "0      국제유가  30558\n",
       "1        상승  21786\n",
       "2        하락  16452\n",
       "3         유  13193\n",
       "4      뉴욕증시  12944\n",
       "...     ...    ...\n",
       "32914  감산추진      1\n",
       "32915  재난예산      1\n",
       "32916   굶주림      1\n",
       "32917    휘둘      1\n",
       "32918  청라언덕      1\n",
       "\n",
       "[32919 rows x 2 columns]"
      ]
     },
     "execution_count": 303,
     "metadata": {},
     "output_type": "execute_result"
    }
   ],
   "source": [
    "vcnt = vcnt.reset_index()\n",
    "vcnt.columns = ['key','val']\n",
    "vcnt"
   ]
  },
  {
   "cell_type": "code",
   "execution_count": 304,
   "id": "c8b9aeb8",
   "metadata": {
    "ExecuteTime": {
     "end_time": "2022-02-18T01:23:27.066481Z",
     "start_time": "2022-02-18T01:23:27.037315Z"
    }
   },
   "outputs": [],
   "source": [
    "vocab_count = vcnt[vcnt['key'].apply(lambda x : len(x)>1)]\n",
    "vocab_count.set_index('key',inplace=True)\n",
    "\n",
    "senti_dict = vocab_count['val'].apply(lambda x : 0)"
   ]
  },
  {
   "cell_type": "code",
   "execution_count": 333,
   "id": "517acbb0",
   "metadata": {
    "ExecuteTime": {
     "end_time": "2022-02-18T01:59:18.636675Z",
     "start_time": "2022-02-18T01:59:18.621685Z"
    }
   },
   "outputs": [],
   "source": [
    "vocab_count\n",
    "senti_dict = senti_dict[1:]"
   ]
  },
  {
   "cell_type": "code",
   "execution_count": 306,
   "id": "afd799ee",
   "metadata": {
    "ExecuteTime": {
     "end_time": "2022-02-18T01:23:52.916487Z",
     "start_time": "2022-02-18T01:23:27.256062Z"
    }
   },
   "outputs": [],
   "source": [
    "up = df['updown'].sum()\n",
    "down = df['updown'].apply(lambda x : not x).sum()\n",
    "up_ratio = up/(up+down)\n",
    "down_ratio = down/(up+down)\n",
    "\n",
    "import collections\n",
    "for i,w in enumerate(df['keyword']):\n",
    "    if (df.iloc[i]['updown']==1):\n",
    "        for noun in w:\n",
    "            if len(noun)<=1:\n",
    "              continue\n",
    "            senti_dict[noun] = senti_dict[noun] + down_ratio\n",
    "    else:\n",
    "        for noun in w:\n",
    "            if len(noun)<=1:\n",
    "              continue\n",
    "            senti_dict[noun] = senti_dict[noun] - up_ratio"
   ]
  },
  {
   "cell_type": "code",
   "execution_count": 307,
   "id": "e9334a63",
   "metadata": {
    "ExecuteTime": {
     "end_time": "2022-02-18T01:23:53.041212Z",
     "start_time": "2022-02-18T01:23:53.027222Z"
    }
   },
   "outputs": [
    {
     "data": {
      "text/plain": [
       "8990"
      ]
     },
     "execution_count": 307,
     "metadata": {},
     "output_type": "execute_result"
    }
   ],
   "source": [
    "senti_dict2 = senti_dict[senti_dict.abs() > 1]\n",
    "senti_dict2.size"
   ]
  },
  {
   "cell_type": "code",
   "execution_count": 308,
   "id": "d947287c",
   "metadata": {
    "ExecuteTime": {
     "end_time": "2022-02-18T01:23:53.151162Z",
     "start_time": "2022-02-18T01:23:53.138051Z"
    }
   },
   "outputs": [
    {
     "data": {
      "text/plain": [
       "-0.10080237350157557"
      ]
     },
     "execution_count": 308,
     "metadata": {},
     "output_type": "execute_result"
    }
   ],
   "source": [
    "senti_mean = np.mean(senti_dict2)\n",
    "senti_mean"
   ]
  },
  {
   "cell_type": "code",
   "execution_count": 309,
   "id": "c7d61228",
   "metadata": {
    "ExecuteTime": {
     "end_time": "2022-02-18T01:23:56.257834Z",
     "start_time": "2022-02-18T01:23:53.260785Z"
    }
   },
   "outputs": [],
   "source": [
    "df['senti'] = df['keyword'].apply(lambda lst : sum([senti_dict2[noun] for noun in lst if len(noun) > 1 and noun in senti_dict2.index])/len(lst) )"
   ]
  },
  {
   "cell_type": "code",
   "execution_count": 310,
   "id": "5ef6b784",
   "metadata": {
    "ExecuteTime": {
     "end_time": "2022-02-18T01:23:56.369171Z",
     "start_time": "2022-02-18T01:23:56.354186Z"
    }
   },
   "outputs": [
    {
     "name": "stdout",
     "output_type": "stream",
     "text": [
      "일치율: 0.5595071746238908\n"
     ]
    },
    {
     "data": {
      "text/html": [
       "<div>\n",
       "<style scoped>\n",
       "    .dataframe tbody tr th:only-of-type {\n",
       "        vertical-align: middle;\n",
       "    }\n",
       "\n",
       "    .dataframe tbody tr th {\n",
       "        vertical-align: top;\n",
       "    }\n",
       "\n",
       "    .dataframe thead th {\n",
       "        text-align: right;\n",
       "    }\n",
       "</style>\n",
       "<table border=\"1\" class=\"dataframe\">\n",
       "  <thead>\n",
       "    <tr style=\"text-align: right;\">\n",
       "      <th></th>\n",
       "      <th>updown</th>\n",
       "      <th>senti_tf</th>\n",
       "    </tr>\n",
       "  </thead>\n",
       "  <tbody>\n",
       "    <tr>\n",
       "      <th>updown</th>\n",
       "      <td>1.000000</td>\n",
       "      <td>0.120941</td>\n",
       "    </tr>\n",
       "    <tr>\n",
       "      <th>senti_tf</th>\n",
       "      <td>0.120941</td>\n",
       "      <td>1.000000</td>\n",
       "    </tr>\n",
       "  </tbody>\n",
       "</table>\n",
       "</div>"
      ],
      "text/plain": [
       "            updown  senti_tf\n",
       "updown    1.000000  0.120941\n",
       "senti_tf  0.120941  1.000000"
      ]
     },
     "execution_count": 310,
     "metadata": {},
     "output_type": "execute_result"
    }
   ],
   "source": [
    "df['senti_tf'] = df['senti'] > senti_mean\n",
    "correct = df['updown'] == df['senti_tf']\n",
    "print('일치율:',correct.mean())\n",
    "df[['updown','senti_tf']].corr()\n"
   ]
  },
  {
   "cell_type": "code",
   "execution_count": 311,
   "id": "6be56a93",
   "metadata": {
    "ExecuteTime": {
     "end_time": "2022-02-18T01:23:56.587674Z",
     "start_time": "2022-02-18T01:23:56.463974Z"
    }
   },
   "outputs": [
    {
     "data": {
      "text/plain": [
       "<AxesSubplot:xlabel='date'>"
      ]
     },
     "execution_count": 311,
     "metadata": {},
     "output_type": "execute_result"
    },
    {
     "data": {
      "image/png": "[encoded data removed]",
      "text/plain": [
       "<Figure size 432x288 with 1 Axes>"
      ]
     },
     "metadata": {
      "needs_background": "light"
     },
     "output_type": "display_data"
    }
   ],
   "source": [
    "df.groupby('date')['senti'].sum().plot()"
   ]
  },
  {
   "cell_type": "code",
   "execution_count": 312,
   "id": "a4605080",
   "metadata": {
    "ExecuteTime": {
     "end_time": "2022-02-18T01:23:56.818504Z",
     "start_time": "2022-02-18T01:23:56.696546Z"
    }
   },
   "outputs": [
    {
     "data": {
      "text/plain": [
       "<AxesSubplot:xlabel='date'>"
      ]
     },
     "execution_count": 312,
     "metadata": {},
     "output_type": "execute_result"
    },
    {
     "data": {
      "image/png": "[encoded data removed]",
      "text/plain": [
       "<Figure size 432x288 with 1 Axes>"
      ]
     },
     "metadata": {
      "needs_background": "light"
     },
     "output_type": "display_data"
    }
   ],
   "source": [
    "dubai_df['종가'].plot()"
   ]
  },
  {
   "cell_type": "code",
   "execution_count": 313,
   "id": "e043688c",
   "metadata": {
    "ExecuteTime": {
     "end_time": "2022-02-18T01:23:57.098667Z",
     "start_time": "2022-02-18T01:23:56.942872Z"
    }
   },
   "outputs": [],
   "source": [
    "test = combine_df['keyword'].apply(lambda lst : sum([senti_dict[noun] for noun in lst if len(noun) > 1 and noun in senti_dict.index])/len(lst) )"
   ]
  },
  {
   "cell_type": "code",
   "execution_count": 314,
   "id": "cb6bf639",
   "metadata": {
    "ExecuteTime": {
     "end_time": "2022-02-18T01:23:57.208637Z",
     "start_time": "2022-02-18T01:23:57.193678Z"
    }
   },
   "outputs": [
    {
     "data": {
      "text/plain": [
       "3"
      ]
     },
     "execution_count": 314,
     "metadata": {},
     "output_type": "execute_result"
    }
   ],
   "source": [
    "sum(test < 0)"
   ]
  },
  {
   "cell_type": "code",
   "execution_count": 315,
   "id": "10687d63",
   "metadata": {
    "ExecuteTime": {
     "end_time": "2022-02-18T01:23:57.444172Z",
     "start_time": "2022-02-18T01:23:57.319335Z"
    },
    "scrolled": true
   },
   "outputs": [
    {
     "data": {
      "text/plain": [
       "<AxesSubplot:xlabel='date'>"
      ]
     },
     "execution_count": 315,
     "metadata": {},
     "output_type": "execute_result"
    },
    {
     "data": {
      "image/png": "[encoded data removed]",
      "text/plain": [
       "<Figure size 432x288 with 1 Axes>"
      ]
     },
     "metadata": {
      "needs_background": "light"
     },
     "output_type": "display_data"
    }
   ],
   "source": [
    "import datetime as dt\n",
    "df.groupby('date')['senti'].mean().plot()"
   ]
  },
  {
   "cell_type": "code",
   "execution_count": 316,
   "id": "9e26e614",
   "metadata": {
    "ExecuteTime": {
     "end_time": "2022-02-18T01:23:57.569604Z",
     "start_time": "2022-02-18T01:23:57.554617Z"
    }
   },
   "outputs": [
    {
     "data": {
      "text/html": [
       "<div>\n",
       "<style scoped>\n",
       "    .dataframe tbody tr th:only-of-type {\n",
       "        vertical-align: middle;\n",
       "    }\n",
       "\n",
       "    .dataframe tbody tr th {\n",
       "        vertical-align: top;\n",
       "    }\n",
       "\n",
       "    .dataframe thead th {\n",
       "        text-align: right;\n",
       "    }\n",
       "</style>\n",
       "<table border=\"1\" class=\"dataframe\">\n",
       "  <thead>\n",
       "    <tr style=\"text-align: right;\">\n",
       "      <th></th>\n",
       "      <th>date</th>\n",
       "      <th>company</th>\n",
       "      <th>종가</th>\n",
       "      <th>전일비</th>\n",
       "      <th>등락률</th>\n",
       "    </tr>\n",
       "  </thead>\n",
       "  <tbody>\n",
       "    <tr>\n",
       "      <th>0</th>\n",
       "      <td>2017-02-07</td>\n",
       "      <td>두바이유선물</td>\n",
       "      <td>53.90</td>\n",
       "      <td>-0.35</td>\n",
       "      <td>-0.65</td>\n",
       "    </tr>\n",
       "    <tr>\n",
       "      <th>1</th>\n",
       "      <td>2017-02-08</td>\n",
       "      <td>두바이유선물</td>\n",
       "      <td>53.73</td>\n",
       "      <td>-0.17</td>\n",
       "      <td>-0.32</td>\n",
       "    </tr>\n",
       "    <tr>\n",
       "      <th>2</th>\n",
       "      <td>2017-02-09</td>\n",
       "      <td>두바이유선물</td>\n",
       "      <td>54.11</td>\n",
       "      <td>0.38</td>\n",
       "      <td>0.71</td>\n",
       "    </tr>\n",
       "    <tr>\n",
       "      <th>3</th>\n",
       "      <td>2017-02-10</td>\n",
       "      <td>두바이유선물</td>\n",
       "      <td>54.59</td>\n",
       "      <td>0.48</td>\n",
       "      <td>0.89</td>\n",
       "    </tr>\n",
       "    <tr>\n",
       "      <th>4</th>\n",
       "      <td>2017-02-13</td>\n",
       "      <td>두바이유선물</td>\n",
       "      <td>54.03</td>\n",
       "      <td>-0.56</td>\n",
       "      <td>-1.03</td>\n",
       "    </tr>\n",
       "    <tr>\n",
       "      <th>...</th>\n",
       "      <td>...</td>\n",
       "      <td>...</td>\n",
       "      <td>...</td>\n",
       "      <td>...</td>\n",
       "      <td>...</td>\n",
       "    </tr>\n",
       "    <tr>\n",
       "      <th>328</th>\n",
       "      <td>2018-05-29</td>\n",
       "      <td>두바이유선물</td>\n",
       "      <td>74.58</td>\n",
       "      <td>0.13</td>\n",
       "      <td>0.17</td>\n",
       "    </tr>\n",
       "    <tr>\n",
       "      <th>329</th>\n",
       "      <td>2018-05-30</td>\n",
       "      <td>두바이유선물</td>\n",
       "      <td>74.44</td>\n",
       "      <td>-0.14</td>\n",
       "      <td>-0.19</td>\n",
       "    </tr>\n",
       "    <tr>\n",
       "      <th>330</th>\n",
       "      <td>2018-05-31</td>\n",
       "      <td>두바이유선물</td>\n",
       "      <td>74.79</td>\n",
       "      <td>0.35</td>\n",
       "      <td>0.47</td>\n",
       "    </tr>\n",
       "    <tr>\n",
       "      <th>331</th>\n",
       "      <td>2018-06-01</td>\n",
       "      <td>두바이유선물</td>\n",
       "      <td>74.11</td>\n",
       "      <td>-0.68</td>\n",
       "      <td>-0.91</td>\n",
       "    </tr>\n",
       "    <tr>\n",
       "      <th>332</th>\n",
       "      <td>2018-06-04</td>\n",
       "      <td>두바이유선물</td>\n",
       "      <td>73.15</td>\n",
       "      <td>-0.96</td>\n",
       "      <td>-1.30</td>\n",
       "    </tr>\n",
       "  </tbody>\n",
       "</table>\n",
       "<p>333 rows × 5 columns</p>\n",
       "</div>"
      ],
      "text/plain": [
       "          date company     종가   전일비   등락률\n",
       "0   2017-02-07  두바이유선물  53.90 -0.35 -0.65\n",
       "1   2017-02-08  두바이유선물  53.73 -0.17 -0.32\n",
       "2   2017-02-09  두바이유선물  54.11  0.38  0.71\n",
       "3   2017-02-10  두바이유선물  54.59  0.48  0.89\n",
       "4   2017-02-13  두바이유선물  54.03 -0.56 -1.03\n",
       "..         ...     ...    ...   ...   ...\n",
       "328 2018-05-29  두바이유선물  74.58  0.13  0.17\n",
       "329 2018-05-30  두바이유선물  74.44 -0.14 -0.19\n",
       "330 2018-05-31  두바이유선물  74.79  0.35  0.47\n",
       "331 2018-06-01  두바이유선물  74.11 -0.68 -0.91\n",
       "332 2018-06-04  두바이유선물  73.15 -0.96 -1.30\n",
       "\n",
       "[333 rows x 5 columns]"
      ]
     },
     "execution_count": 316,
     "metadata": {},
     "output_type": "execute_result"
    }
   ],
   "source": [
    "dubai_df.reset_index()[dubai_df.reset_index()['date'] < dt.datetime(2018,7,1)]"
   ]
  },
  {
   "cell_type": "code",
   "execution_count": null,
   "id": "5d73f7f5",
   "metadata": {},
   "outputs": [],
   "source": []
  },
  {
   "cell_type": "code",
   "execution_count": 327,
   "id": "1ee1f243",
   "metadata": {
    "ExecuteTime": {
     "end_time": "2022-02-18T01:42:40.320251Z",
     "start_time": "2022-02-18T01:42:36.231187Z"
    }
   },
   "outputs": [],
   "source": [
    "import os\n",
    "datelst = ['2022.02.09.','2022.02.08.','2022.02.07.','2022.02.06.','2022.02.05.','2022.02.04.','2022.02.03.']\n",
    "path = r'./data/news/Korean/'\n",
    "kwlst = ['원유재고/','미국/','원유생산/']\n",
    "\n",
    "df_test = pd.concat([pd.concat([pd.read_csv(path+kw+file, index_col = 0) for file in os.listdir(path+kw)]) for kw in kwlst])\n",
    "df_test['date'] = (\n",
    "    df['date'].astype(str).str.replace('일 전','')\n",
    "    .apply(lambda x : datelst[int(x)-1] if x in ['1','2','3','4','5','6','7'] else x)\n",
    "    .astype('datetime64')\n",
    ")"
   ]
  },
  {
   "cell_type": "code",
   "execution_count": 328,
   "id": "985cc756",
   "metadata": {
    "ExecuteTime": {
     "end_time": "2022-02-18T01:42:40.430553Z",
     "start_time": "2022-02-18T01:42:40.418547Z"
    }
   },
   "outputs": [
    {
     "data": {
      "text/html": [
       "<div>\n",
       "<style scoped>\n",
       "    .dataframe tbody tr th:only-of-type {\n",
       "        vertical-align: middle;\n",
       "    }\n",
       "\n",
       "    .dataframe tbody tr th {\n",
       "        vertical-align: top;\n",
       "    }\n",
       "\n",
       "    .dataframe thead th {\n",
       "        text-align: right;\n",
       "    }\n",
       "</style>\n",
       "<table border=\"1\" class=\"dataframe\">\n",
       "  <thead>\n",
       "    <tr style=\"text-align: right;\">\n",
       "      <th></th>\n",
       "      <th>date</th>\n",
       "      <th>title</th>\n",
       "      <th>summary</th>\n",
       "    </tr>\n",
       "  </thead>\n",
       "  <tbody>\n",
       "    <tr>\n",
       "      <th>0</th>\n",
       "      <td>2017-02-10</td>\n",
       "      <td>[주간상품시황] 미국·유럽 정치 불확실성에 금 가격 상승세</td>\n",
       "      <td>원유 가격은 주초 달러의 상승과 원유 재고 증가에 대한 부담으로 하락장세를 이끌었으...</td>\n",
       "    </tr>\n",
       "    <tr>\n",
       "      <th>1</th>\n",
       "      <td>2017-02-10</td>\n",
       "      <td>OPEC, 요지부동 유가로 골머리</td>\n",
       "      <td>미석유협회(API) 조사결과 지난주 원유재고가 994만배럴 증가한 것으로 추산됐지만...</td>\n",
       "    </tr>\n",
       "    <tr>\n",
       "      <th>2</th>\n",
       "      <td>2017-02-10</td>\n",
       "      <td>[국제상품시황] 미국 연준 금리 인상 가능성에 금값 하락</td>\n",
       "      <td>지난 주 원유재고가 8주 증가세를 이어가며 사상 최고치를 기록하였고, 러시아 2월 ...</td>\n",
       "    </tr>\n",
       "    <tr>\n",
       "      <th>3</th>\n",
       "      <td>2017-02-10</td>\n",
       "      <td>국제유가 50달러선 붕괴 초읽기…바람빠진 감산 효과</td>\n",
       "      <td>미국 에너지정보청(EIA)은 지난 3일로 끝난 주간의 자국 원유재고가 820만배럴 ...</td>\n",
       "    </tr>\n",
       "    <tr>\n",
       "      <th>4</th>\n",
       "      <td>2017-02-10</td>\n",
       "      <td>[기로에 선 유가]①복병 떠오른 美증산…공급과잉 재연될라</td>\n",
       "      <td>- OPEC 감산합의에도 미국 원유재고는 증가 - 공급과잉 우려 상승에 에너지주 파...</td>\n",
       "    </tr>\n",
       "    <tr>\n",
       "      <th>...</th>\n",
       "      <td>...</td>\n",
       "      <td>...</td>\n",
       "      <td>...</td>\n",
       "    </tr>\n",
       "    <tr>\n",
       "      <th>3995</th>\n",
       "      <td>2017-04-10</td>\n",
       "      <td>\"불확실성 장세…'M·O·S·E' ETF 로 넘어야\"</td>\n",
       "      <td>올해 원유 수요가 팬데믹(전염병 대유행) 이전 수준으로 급증하면서 고유가가 지속될 ...</td>\n",
       "    </tr>\n",
       "    <tr>\n",
       "      <th>3996</th>\n",
       "      <td>2017-04-10</td>\n",
       "      <td>에너지수입액 7년 3개월만 최대…경상수지 흑자폭 감소(종합)</td>\n",
       "      <td>지난해 11월 원유, 석탄 등 에너지 수입금액이 7년 3개월 만에 최대를 기록했다....</td>\n",
       "    </tr>\n",
       "    <tr>\n",
       "      <th>3997</th>\n",
       "      <td>2017-04-10</td>\n",
       "      <td>경상수지 19개월 연속 흑자…\"에너지 수입금액 7년만에 최대\"</td>\n",
       "      <td>글로벌 경기 회복의 영향으로 반도체 등 주요 품목의 수출 호조가 이어지고 해외생산수...</td>\n",
       "    </tr>\n",
       "    <tr>\n",
       "      <th>3998</th>\n",
       "      <td>2017-04-10</td>\n",
       "      <td>\"설날 고향갈 때 기름값 꽤 들겠네\"...국제유가에 환율까지 껑충</td>\n",
       "      <td>정유사들이 원유를 수입해서 정제한 뒤 주유소로 보내면 주유소도 1~2주 분량의 재고...</td>\n",
       "    </tr>\n",
       "    <tr>\n",
       "      <th>3999</th>\n",
       "      <td>2017-04-10</td>\n",
       "      <td>원자재 시장 '인도네시아 쇼크'…보크사이트·구리도 수출 금지</td>\n",
       "      <td>전력난으로 알루미늄 생산 비용이 상승했는데 경제 재개로 캔 등 알루미늄을 사용하는 ...</td>\n",
       "    </tr>\n",
       "  </tbody>\n",
       "</table>\n",
       "<p>671600 rows × 3 columns</p>\n",
       "</div>"
      ],
      "text/plain": [
       "           date                                 title  \\\n",
       "0    2017-02-10      [주간상품시황] 미국·유럽 정치 불확실성에 금 가격 상승세   \n",
       "1    2017-02-10                    OPEC, 요지부동 유가로 골머리   \n",
       "2    2017-02-10       [국제상품시황] 미국 연준 금리 인상 가능성에 금값 하락   \n",
       "3    2017-02-10          국제유가 50달러선 붕괴 초읽기…바람빠진 감산 효과   \n",
       "4    2017-02-10       [기로에 선 유가]①복병 떠오른 美증산…공급과잉 재연될라   \n",
       "...         ...                                   ...   \n",
       "3995 2017-04-10         \"불확실성 장세…'M·O·S·E' ETF 로 넘어야\"   \n",
       "3996 2017-04-10     에너지수입액 7년 3개월만 최대…경상수지 흑자폭 감소(종합)   \n",
       "3997 2017-04-10    경상수지 19개월 연속 흑자…\"에너지 수입금액 7년만에 최대\"   \n",
       "3998 2017-04-10  \"설날 고향갈 때 기름값 꽤 들겠네\"...국제유가에 환율까지 껑충   \n",
       "3999 2017-04-10     원자재 시장 '인도네시아 쇼크'…보크사이트·구리도 수출 금지   \n",
       "\n",
       "                                                summary  \n",
       "0     원유 가격은 주초 달러의 상승과 원유 재고 증가에 대한 부담으로 하락장세를 이끌었으...  \n",
       "1     미석유협회(API) 조사결과 지난주 원유재고가 994만배럴 증가한 것으로 추산됐지만...  \n",
       "2     지난 주 원유재고가 8주 증가세를 이어가며 사상 최고치를 기록하였고, 러시아 2월 ...  \n",
       "3     미국 에너지정보청(EIA)은 지난 3일로 끝난 주간의 자국 원유재고가 820만배럴 ...  \n",
       "4     - OPEC 감산합의에도 미국 원유재고는 증가 - 공급과잉 우려 상승에 에너지주 파...  \n",
       "...                                                 ...  \n",
       "3995  올해 원유 수요가 팬데믹(전염병 대유행) 이전 수준으로 급증하면서 고유가가 지속될 ...  \n",
       "3996  지난해 11월 원유, 석탄 등 에너지 수입금액이 7년 3개월 만에 최대를 기록했다....  \n",
       "3997  글로벌 경기 회복의 영향으로 반도체 등 주요 품목의 수출 호조가 이어지고 해외생산수...  \n",
       "3998  정유사들이 원유를 수입해서 정제한 뒤 주유소로 보내면 주유소도 1~2주 분량의 재고...  \n",
       "3999  전력난으로 알루미늄 생산 비용이 상승했는데 경제 재개로 캔 등 알루미늄을 사용하는 ...  \n",
       "\n",
       "[671600 rows x 3 columns]"
      ]
     },
     "execution_count": 328,
     "metadata": {},
     "output_type": "execute_result"
    }
   ],
   "source": [
    "df_test"
   ]
  },
  {
   "cell_type": "code",
   "execution_count": 329,
   "id": "b652f892",
   "metadata": {
    "ExecuteTime": {
     "end_time": "2022-02-18T01:42:40.662601Z",
     "start_time": "2022-02-18T01:42:40.541317Z"
    },
    "scrolled": true
   },
   "outputs": [
    {
     "data": {
      "text/html": [
       "<div>\n",
       "<style scoped>\n",
       "    .dataframe tbody tr th:only-of-type {\n",
       "        vertical-align: middle;\n",
       "    }\n",
       "\n",
       "    .dataframe tbody tr th {\n",
       "        vertical-align: top;\n",
       "    }\n",
       "\n",
       "    .dataframe thead th {\n",
       "        text-align: right;\n",
       "    }\n",
       "</style>\n",
       "<table border=\"1\" class=\"dataframe\">\n",
       "  <thead>\n",
       "    <tr style=\"text-align: right;\">\n",
       "      <th></th>\n",
       "      <th>date</th>\n",
       "      <th>title</th>\n",
       "    </tr>\n",
       "  </thead>\n",
       "  <tbody>\n",
       "    <tr>\n",
       "      <th>0</th>\n",
       "      <td>2017-02-10</td>\n",
       "      <td>[주간상품시황] 미국·유럽 정치 불확실성에 금 가격 상승세</td>\n",
       "    </tr>\n",
       "    <tr>\n",
       "      <th>1</th>\n",
       "      <td>2017-02-10</td>\n",
       "      <td>[기고] K-진단키트의 힘, 기초과학</td>\n",
       "    </tr>\n",
       "    <tr>\n",
       "      <th>2</th>\n",
       "      <td>2017-02-10</td>\n",
       "      <td>[사설] 멀어지는 'V자 회복'…근시안 탈피해 장기대책 강구해야</td>\n",
       "    </tr>\n",
       "    <tr>\n",
       "      <th>3</th>\n",
       "      <td>2017-02-10</td>\n",
       "      <td>[저자와의 만남-김회권 교수] “예수 알려고 신약부터?… 소설 마지막 장부터...</td>\n",
       "    </tr>\n",
       "    <tr>\n",
       "      <th>4</th>\n",
       "      <td>2017-02-10</td>\n",
       "      <td>[줌인]'트럼프 對 바이든'…무역전쟁 재개 Vs 대북압박 심화</td>\n",
       "    </tr>\n",
       "    <tr>\n",
       "      <th>...</th>\n",
       "      <td>...</td>\n",
       "      <td>...</td>\n",
       "    </tr>\n",
       "    <tr>\n",
       "      <th>671595</th>\n",
       "      <td>2017-04-10</td>\n",
       "      <td>국내 거래 급감에···빗썸, UAE에 거래소</td>\n",
       "    </tr>\n",
       "    <tr>\n",
       "      <th>671596</th>\n",
       "      <td>2017-04-10</td>\n",
       "      <td>빗썸, UAE에 공인 암호화폐 거래소 세운다</td>\n",
       "    </tr>\n",
       "    <tr>\n",
       "      <th>671597</th>\n",
       "      <td>2017-04-10</td>\n",
       "      <td>[애널리스트의 마켓뷰]각국 중앙은행들, ‘물가 경계’ 약해져</td>\n",
       "    </tr>\n",
       "    <tr>\n",
       "      <th>671598</th>\n",
       "      <td>2017-04-10</td>\n",
       "      <td>[무너지는 서플라이체인]4,600개 車부품사중 80곳만 R&amp;D 투자...낯뜨거운 미...</td>\n",
       "    </tr>\n",
       "    <tr>\n",
       "      <th>671599</th>\n",
       "      <td>2017-04-10</td>\n",
       "      <td>원자재 시장 '인도네시아 쇼크'…보크사이트·구리도 수출 금지</td>\n",
       "    </tr>\n",
       "  </tbody>\n",
       "</table>\n",
       "<p>671600 rows × 2 columns</p>\n",
       "</div>"
      ],
      "text/plain": [
       "             date                                              title\n",
       "0      2017-02-10                   [주간상품시황] 미국·유럽 정치 불확실성에 금 가격 상승세\n",
       "1      2017-02-10                               [기고] K-진단키트의 힘, 기초과학\n",
       "2      2017-02-10                [사설] 멀어지는 'V자 회복'…근시안 탈피해 장기대책 강구해야\n",
       "3      2017-02-10      [저자와의 만남-김회권 교수] “예수 알려고 신약부터?… 소설 마지막 장부터...\n",
       "4      2017-02-10                 [줌인]'트럼프 對 바이든'…무역전쟁 재개 Vs 대북압박 심화\n",
       "...           ...                                                ...\n",
       "671595 2017-04-10                           국내 거래 급감에···빗썸, UAE에 거래소\n",
       "671596 2017-04-10                           빗썸, UAE에 공인 암호화폐 거래소 세운다\n",
       "671597 2017-04-10                  [애널리스트의 마켓뷰]각국 중앙은행들, ‘물가 경계’ 약해져\n",
       "671598 2017-04-10  [무너지는 서플라이체인]4,600개 車부품사중 80곳만 R&D 투자...낯뜨거운 미...\n",
       "671599 2017-04-10                  원자재 시장 '인도네시아 쇼크'…보크사이트·구리도 수출 금지\n",
       "\n",
       "[671600 rows x 2 columns]"
      ]
     },
     "execution_count": 329,
     "metadata": {},
     "output_type": "execute_result"
    }
   ],
   "source": [
    "df_test = df_test[['date','title']]\n",
    "df_test = df_test.sort_values('date').reset_index(drop=True)\n",
    "df_test.dropna()"
   ]
  },
  {
   "cell_type": "code",
   "execution_count": 330,
   "id": "bbfa6824",
   "metadata": {
    "ExecuteTime": {
     "end_time": "2022-02-18T01:42:47.846067Z",
     "start_time": "2022-02-18T01:42:40.758687Z"
    }
   },
   "outputs": [
    {
     "data": {
      "text/html": [
       "<div>\n",
       "<style scoped>\n",
       "    .dataframe tbody tr th:only-of-type {\n",
       "        vertical-align: middle;\n",
       "    }\n",
       "\n",
       "    .dataframe tbody tr th {\n",
       "        vertical-align: top;\n",
       "    }\n",
       "\n",
       "    .dataframe thead th {\n",
       "        text-align: right;\n",
       "    }\n",
       "</style>\n",
       "<table border=\"1\" class=\"dataframe\">\n",
       "  <thead>\n",
       "    <tr style=\"text-align: right;\">\n",
       "      <th></th>\n",
       "      <th>date</th>\n",
       "      <th>title</th>\n",
       "    </tr>\n",
       "  </thead>\n",
       "  <tbody>\n",
       "    <tr>\n",
       "      <th>0</th>\n",
       "      <td>2017-02-10</td>\n",
       "      <td>[주간상품시황] 미국·유럽 정치 불확실성에 금 가격 상승세</td>\n",
       "    </tr>\n",
       "    <tr>\n",
       "      <th>1</th>\n",
       "      <td>2017-02-10</td>\n",
       "      <td>[기고] K-진단키트의 힘, 기초과학</td>\n",
       "    </tr>\n",
       "    <tr>\n",
       "      <th>2</th>\n",
       "      <td>2017-02-10</td>\n",
       "      <td>[사설] 멀어지는 'V자 회복'…근시안 탈피해 장기대책 강구해야</td>\n",
       "    </tr>\n",
       "    <tr>\n",
       "      <th>3</th>\n",
       "      <td>2017-02-10</td>\n",
       "      <td>[저자와의 만남-김회권 교수] “예수 알려고 신약부터?… 소설 마지막 장부터...</td>\n",
       "    </tr>\n",
       "    <tr>\n",
       "      <th>4</th>\n",
       "      <td>2017-02-10</td>\n",
       "      <td>[줌인]'트럼프 對 바이든'…무역전쟁 재개 Vs 대북압박 심화</td>\n",
       "    </tr>\n",
       "    <tr>\n",
       "      <th>...</th>\n",
       "      <td>...</td>\n",
       "      <td>...</td>\n",
       "    </tr>\n",
       "    <tr>\n",
       "      <th>671595</th>\n",
       "      <td>2017-04-10</td>\n",
       "      <td>국내 거래 급감에···빗썸, UAE에 거래소</td>\n",
       "    </tr>\n",
       "    <tr>\n",
       "      <th>671596</th>\n",
       "      <td>2017-04-10</td>\n",
       "      <td>빗썸, UAE에 공인 암호화폐 거래소 세운다</td>\n",
       "    </tr>\n",
       "    <tr>\n",
       "      <th>671597</th>\n",
       "      <td>2017-04-10</td>\n",
       "      <td>[애널리스트의 마켓뷰]각국 중앙은행들, ‘물가 경계’ 약해져</td>\n",
       "    </tr>\n",
       "    <tr>\n",
       "      <th>671598</th>\n",
       "      <td>2017-04-10</td>\n",
       "      <td>[무너지는 서플라이체인]4,600개 車부품사중 80곳만 R&amp;D 투자...낯뜨거운 미...</td>\n",
       "    </tr>\n",
       "    <tr>\n",
       "      <th>671599</th>\n",
       "      <td>2017-04-10</td>\n",
       "      <td>원자재 시장 '인도네시아 쇼크'…보크사이트·구리도 수출 금지</td>\n",
       "    </tr>\n",
       "  </tbody>\n",
       "</table>\n",
       "<p>671600 rows × 2 columns</p>\n",
       "</div>"
      ],
      "text/plain": [
       "             date                                              title\n",
       "0      2017-02-10                   [주간상품시황] 미국·유럽 정치 불확실성에 금 가격 상승세\n",
       "1      2017-02-10                               [기고] K-진단키트의 힘, 기초과학\n",
       "2      2017-02-10                [사설] 멀어지는 'V자 회복'…근시안 탈피해 장기대책 강구해야\n",
       "3      2017-02-10      [저자와의 만남-김회권 교수] “예수 알려고 신약부터?… 소설 마지막 장부터...\n",
       "4      2017-02-10                 [줌인]'트럼프 對 바이든'…무역전쟁 재개 Vs 대북압박 심화\n",
       "...           ...                                                ...\n",
       "671595 2017-04-10                           국내 거래 급감에···빗썸, UAE에 거래소\n",
       "671596 2017-04-10                           빗썸, UAE에 공인 암호화폐 거래소 세운다\n",
       "671597 2017-04-10                  [애널리스트의 마켓뷰]각국 중앙은행들, ‘물가 경계’ 약해져\n",
       "671598 2017-04-10  [무너지는 서플라이체인]4,600개 車부품사중 80곳만 R&D 투자...낯뜨거운 미...\n",
       "671599 2017-04-10                  원자재 시장 '인도네시아 쇼크'…보크사이트·구리도 수출 금지\n",
       "\n",
       "[671600 rows x 2 columns]"
      ]
     },
     "execution_count": 330,
     "metadata": {},
     "output_type": "execute_result"
    }
   ],
   "source": [
    "df_test = df_test[df_test['date'].apply(lambda d : d in dubai_df.index)]\n",
    "df_test"
   ]
  },
  {
   "cell_type": "code",
   "execution_count": 331,
   "id": "22808a3b",
   "metadata": {
    "ExecuteTime": {
     "end_time": "2022-02-18T01:59:18.418016Z",
     "start_time": "2022-02-18T01:42:47.944805Z"
    }
   },
   "outputs": [],
   "source": [
    "df_test = pd.merge(df_test,dubai_df['전일비'].reset_index(),on='date')\n",
    "df_test.columns = ['date', 'title', 'updown']\n",
    "df_test['updown'] = df_test['updown'].apply(lambda x : x>0)\n",
    "df_test['title'] = df_test['title'].str.replace('[^ㄱ-ㅎㅏ-ㅣ가-힣a-zA-Z ]',' ')\n",
    "df_test['keyword'] = df_test['title'].apply(lambda x : han.nouns(x))\n",
    "df_test['senti'] = df_test['keyword'].apply(lambda lst : sum([senti_dict[noun] for noun in lst if len(noun) > 1 and noun in senti_dict.index])/len(lst) )"
   ]
  },
  {
   "cell_type": "code",
   "execution_count": 332,
   "id": "0d85552a",
   "metadata": {
    "ExecuteTime": {
     "end_time": "2022-02-18T01:59:18.526727Z",
     "start_time": "2022-02-18T01:59:18.512765Z"
    }
   },
   "outputs": [
    {
     "data": {
      "text/html": [
       "<div>\n",
       "<style scoped>\n",
       "    .dataframe tbody tr th:only-of-type {\n",
       "        vertical-align: middle;\n",
       "    }\n",
       "\n",
       "    .dataframe tbody tr th {\n",
       "        vertical-align: top;\n",
       "    }\n",
       "\n",
       "    .dataframe thead th {\n",
       "        text-align: right;\n",
       "    }\n",
       "</style>\n",
       "<table border=\"1\" class=\"dataframe\">\n",
       "  <thead>\n",
       "    <tr style=\"text-align: right;\">\n",
       "      <th></th>\n",
       "      <th>date</th>\n",
       "      <th>title</th>\n",
       "      <th>updown</th>\n",
       "      <th>keyword</th>\n",
       "      <th>senti</th>\n",
       "    </tr>\n",
       "  </thead>\n",
       "  <tbody>\n",
       "    <tr>\n",
       "      <th>0</th>\n",
       "      <td>2017-02-10</td>\n",
       "      <td>주간상품시황  미국 유럽 정치 불확실성에 금 가격 상승세</td>\n",
       "      <td>True</td>\n",
       "      <td>[주간상품시황, 미국, 유럽, 정치, 불확실성, 금, 가격, 상승세]</td>\n",
       "      <td>-1.455009</td>\n",
       "    </tr>\n",
       "    <tr>\n",
       "      <th>1</th>\n",
       "      <td>2017-02-10</td>\n",
       "      <td>기고  K 진단키트의 힘  기초과학</td>\n",
       "      <td>True</td>\n",
       "      <td>[기, 진단키트, 힘, 기초과학]</td>\n",
       "      <td>-0.289148</td>\n",
       "    </tr>\n",
       "    <tr>\n",
       "      <th>2</th>\n",
       "      <td>2017-02-10</td>\n",
       "      <td>사설  멀어지는  V자 회복  근시안 탈피해 장기대책 강구해야</td>\n",
       "      <td>True</td>\n",
       "      <td>[사설, 자, 회복, 근시안, 탈피해, 장기대책, 강구해]</td>\n",
       "      <td>-26.253465</td>\n",
       "    </tr>\n",
       "    <tr>\n",
       "      <th>3</th>\n",
       "      <td>2017-02-10</td>\n",
       "      <td>저자와의 만남 김회권 교수   예수 알려고 신약부터   소설 마지막 장부터</td>\n",
       "      <td>True</td>\n",
       "      <td>[저자, 김회권, 교수, 예수, 신약, 소설, 마지막, 장부터]</td>\n",
       "      <td>-0.810382</td>\n",
       "    </tr>\n",
       "    <tr>\n",
       "      <th>4</th>\n",
       "      <td>2017-02-10</td>\n",
       "      <td>줌인  트럼프   바이든  무역전쟁 재개 Vs 대북압박 심화</td>\n",
       "      <td>True</td>\n",
       "      <td>[트럼프, 바, 무역전쟁, 재개, 대북압박, 심화]</td>\n",
       "      <td>57.896980</td>\n",
       "    </tr>\n",
       "    <tr>\n",
       "      <th>...</th>\n",
       "      <td>...</td>\n",
       "      <td>...</td>\n",
       "      <td>...</td>\n",
       "      <td>...</td>\n",
       "      <td>...</td>\n",
       "    </tr>\n",
       "    <tr>\n",
       "      <th>671595</th>\n",
       "      <td>2017-04-10</td>\n",
       "      <td>국내 거래 급감에   빗썸  UAE에 거래소</td>\n",
       "      <td>True</td>\n",
       "      <td>[국내, 것, 급감, 빗썸, 거래소]</td>\n",
       "      <td>-7.309339</td>\n",
       "    </tr>\n",
       "    <tr>\n",
       "      <th>671596</th>\n",
       "      <td>2017-04-10</td>\n",
       "      <td>빗썸  UAE에 공인 암호화폐 거래소 세운다</td>\n",
       "      <td>True</td>\n",
       "      <td>[빗썸, 공, 암호화폐, 거래소]</td>\n",
       "      <td>-2.542468</td>\n",
       "    </tr>\n",
       "    <tr>\n",
       "      <th>671597</th>\n",
       "      <td>2017-04-10</td>\n",
       "      <td>애널리스트의 마켓뷰 각국 중앙은행들   물가 경계  약해져</td>\n",
       "      <td>True</td>\n",
       "      <td>[애널리스트, 마켓뷰, 각국, 중앙은행들, 물, 경계]</td>\n",
       "      <td>-2.942994</td>\n",
       "    </tr>\n",
       "    <tr>\n",
       "      <th>671598</th>\n",
       "      <td>2017-04-10</td>\n",
       "      <td>무너지는 서플라이체인      개  부품사중   곳만 R D 투자   낯뜨거운 미...</td>\n",
       "      <td>True</td>\n",
       "      <td>[서플라이체, 개, 부품사중, 곳, 투, 미래]</td>\n",
       "      <td>-1.109508</td>\n",
       "    </tr>\n",
       "    <tr>\n",
       "      <th>671599</th>\n",
       "      <td>2017-04-10</td>\n",
       "      <td>원자재 시장  인도네시아 쇼크  보크사이트 구리도 수출 금지</td>\n",
       "      <td>True</td>\n",
       "      <td>[원자재, 시장, 인도네시아, 쇼크, 보크사이트, 구리, 수출, 금지]</td>\n",
       "      <td>-18.074459</td>\n",
       "    </tr>\n",
       "  </tbody>\n",
       "</table>\n",
       "<p>671600 rows × 5 columns</p>\n",
       "</div>"
      ],
      "text/plain": [
       "             date                                              title  updown  \\\n",
       "0      2017-02-10                    주간상품시황  미국 유럽 정치 불확실성에 금 가격 상승세    True   \n",
       "1      2017-02-10                                기고  K 진단키트의 힘  기초과학    True   \n",
       "2      2017-02-10                 사설  멀어지는  V자 회복  근시안 탈피해 장기대책 강구해야    True   \n",
       "3      2017-02-10       저자와의 만남 김회권 교수   예수 알려고 신약부터   소설 마지막 장부터       True   \n",
       "4      2017-02-10                  줌인  트럼프   바이든  무역전쟁 재개 Vs 대북압박 심화    True   \n",
       "...           ...                                                ...     ...   \n",
       "671595 2017-04-10                           국내 거래 급감에   빗썸  UAE에 거래소    True   \n",
       "671596 2017-04-10                           빗썸  UAE에 공인 암호화폐 거래소 세운다    True   \n",
       "671597 2017-04-10                   애널리스트의 마켓뷰 각국 중앙은행들   물가 경계  약해져    True   \n",
       "671598 2017-04-10   무너지는 서플라이체인      개  부품사중   곳만 R D 투자   낯뜨거운 미...    True   \n",
       "671599 2017-04-10                  원자재 시장  인도네시아 쇼크  보크사이트 구리도 수출 금지    True   \n",
       "\n",
       "                                        keyword      senti  \n",
       "0        [주간상품시황, 미국, 유럽, 정치, 불확실성, 금, 가격, 상승세]  -1.455009  \n",
       "1                            [기, 진단키트, 힘, 기초과학]  -0.289148  \n",
       "2              [사설, 자, 회복, 근시안, 탈피해, 장기대책, 강구해] -26.253465  \n",
       "3           [저자, 김회권, 교수, 예수, 신약, 소설, 마지막, 장부터]  -0.810382  \n",
       "4                  [트럼프, 바, 무역전쟁, 재개, 대북압박, 심화]  57.896980  \n",
       "...                                         ...        ...  \n",
       "671595                     [국내, 것, 급감, 빗썸, 거래소]  -7.309339  \n",
       "671596                       [빗썸, 공, 암호화폐, 거래소]  -2.542468  \n",
       "671597           [애널리스트, 마켓뷰, 각국, 중앙은행들, 물, 경계]  -2.942994  \n",
       "671598               [서플라이체, 개, 부품사중, 곳, 투, 미래]  -1.109508  \n",
       "671599  [원자재, 시장, 인도네시아, 쇼크, 보크사이트, 구리, 수출, 금지] -18.074459  \n",
       "\n",
       "[671600 rows x 5 columns]"
      ]
     },
     "execution_count": 332,
     "metadata": {},
     "output_type": "execute_result"
    }
   ],
   "source": [
    "df_test"
   ]
  },
  {
   "cell_type": "code",
   "execution_count": 334,
   "id": "c258a72b",
   "metadata": {
    "ExecuteTime": {
     "end_time": "2022-02-18T02:05:20.518519Z",
     "start_time": "2022-02-18T02:05:20.432749Z"
    }
   },
   "outputs": [
    {
     "name": "stdout",
     "output_type": "stream",
     "text": [
      "일치율: 0.49993597379392496\n"
     ]
    },
    {
     "data": {
      "text/html": [
       "<div>\n",
       "<style scoped>\n",
       "    .dataframe tbody tr th:only-of-type {\n",
       "        vertical-align: middle;\n",
       "    }\n",
       "\n",
       "    .dataframe tbody tr th {\n",
       "        vertical-align: top;\n",
       "    }\n",
       "\n",
       "    .dataframe thead th {\n",
       "        text-align: right;\n",
       "    }\n",
       "</style>\n",
       "<table border=\"1\" class=\"dataframe\">\n",
       "  <thead>\n",
       "    <tr style=\"text-align: right;\">\n",
       "      <th></th>\n",
       "      <th>updown</th>\n",
       "      <th>senti_tf</th>\n",
       "    </tr>\n",
       "  </thead>\n",
       "  <tbody>\n",
       "    <tr>\n",
       "      <th>updown</th>\n",
       "      <td>1.000000</td>\n",
       "      <td>-0.001725</td>\n",
       "    </tr>\n",
       "    <tr>\n",
       "      <th>senti_tf</th>\n",
       "      <td>-0.001725</td>\n",
       "      <td>1.000000</td>\n",
       "    </tr>\n",
       "  </tbody>\n",
       "</table>\n",
       "</div>"
      ],
      "text/plain": [
       "            updown  senti_tf\n",
       "updown    1.000000 -0.001725\n",
       "senti_tf -0.001725  1.000000"
      ]
     },
     "execution_count": 334,
     "metadata": {},
     "output_type": "execute_result"
    }
   ],
   "source": [
    "df_test['senti_tf'] = df_test['senti'] > senti_mean\n",
    "correct = df_test['updown'] == df_test['senti_tf']\n",
    "print('일치율:',correct.mean())\n",
    "df_test[['updown','senti_tf']].corr()\n"
   ]
  },
  {
   "cell_type": "code",
   "execution_count": null,
   "id": "165e09a1",
   "metadata": {},
   "outputs": [],
   "source": [
    "df.groupby('date')['senti'].mean().plot()"
   ]
  },
  {
   "cell_type": "code",
   "execution_count": null,
   "id": "6d873920",
   "metadata": {},
   "outputs": [],
   "source": []
  }
 ],
 "metadata": {
  "kernelspec": {
   "display_name": "study",
   "language": "python",
   "name": "study"
  },
  "language_info": {
   "codemirror_mode": {
    "name": "ipython",
    "version": 3
   },
   "file_extension": ".py",
   "mimetype": "text/x-python",
   "name": "python",
   "nbconvert_exporter": "python",
   "pygments_lexer": "ipython3",
   "version": "3.8.12"
  },
  "toc": {
   "base_numbering": 1,
   "nav_menu": {},
   "number_sections": true,
   "sideBar": true,
   "skip_h1_title": false,
   "title_cell": "Table of Contents",
   "title_sidebar": "Contents",
   "toc_cell": false,
   "toc_position": {},
   "toc_section_display": true,
   "toc_window_display": false
  },
  "varInspector": {
   "cols": {
    "lenName": 16,
    "lenType": 16,
    "lenVar": 40
   },
   "kernels_config": {
    "python": {
     "delete_cmd_postfix": "",
     "delete_cmd_prefix": "del ",
     "library": "var_list.py",
     "varRefreshCmd": "print(var_dic_list())"
    },
    "r": {
     "delete_cmd_postfix": ") ",
     "delete_cmd_prefix": "rm(",
     "library": "var_list.r",
     "varRefreshCmd": "cat(var_dic_list()) "
    }
   },
   "oldHeight": 122.844,
   "position": {
    "height": "40px",
    "left": "1527px",
    "right": "20px",
    "top": "113px",
    "width": "250px"
   },
   "types_to_exclude": [
    "module",
    "function",
    "builtin_function_or_method",
    "instance",
    "_Feature"
   ],
   "varInspector_section_display": "none",
   "window_display": true
  }
 },
 "nbformat": 4,
 "nbformat_minor": 5
}
