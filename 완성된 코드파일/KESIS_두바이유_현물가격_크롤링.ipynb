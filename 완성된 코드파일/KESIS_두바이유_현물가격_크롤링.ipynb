{
 "cells": [
  {
   "cell_type": "code",
   "execution_count": 1,
   "id": "157a8469",
   "metadata": {
    "ExecuteTime": {
     "end_time": "2022-02-17T01:53:27.159011Z",
     "start_time": "2022-02-17T01:53:25.588038Z"
    }
   },
   "outputs": [],
   "source": [
    "import pandas as pd \n",
    "import numpy as np\n",
    "import datetime as dt\n",
    "\n",
    "from bs4 import BeautifulSoup\n",
    "from selenium import webdriver\n",
    "import time\n",
    "from selenium.webdriver.common.keys import Keys\n",
    "import warnings\n",
    "import requests\n",
    "import re\n",
    "\n",
    "import seaborn as sns\n",
    "import matplotlib.pyplot as plt\n",
    "warnings.filterwarnings(action='ignore')\n",
    "\n",
    "from dateutil.relativedelta import relativedelta\n",
    "import datetime as dt"
   ]
  },
  {
   "cell_type": "code",
   "execution_count": 2,
   "id": "6985b6e6",
   "metadata": {
    "ExecuteTime": {
     "end_time": "2022-02-17T01:55:25.470217Z",
     "start_time": "2022-02-17T01:55:24.447502Z"
    }
   },
   "outputs": [],
   "source": [
    "driver = webdriver.Chrome()"
   ]
  },
  {
   "cell_type": "code",
   "execution_count": 4,
   "id": "ae467a4b",
   "metadata": {
    "ExecuteTime": {
     "end_time": "2022-02-17T01:57:23.696568Z",
     "start_time": "2022-02-17T01:57:23.481603Z"
    }
   },
   "outputs": [],
   "source": [
    "driver.get('https://kssearch.keei.re.kr:8449/search/search_homepage/search.jsp')"
   ]
  },
  {
   "cell_type": "code",
   "execution_count": 75,
   "id": "643974d1",
   "metadata": {
    "ExecuteTime": {
     "end_time": "2022-02-17T02:55:13.063038Z",
     "start_time": "2022-02-17T02:55:13.055059Z"
    }
   },
   "outputs": [],
   "source": [
    "df_lst = []"
   ]
  },
  {
   "cell_type": "code",
   "execution_count": 99,
   "id": "5468d877",
   "metadata": {
    "ExecuteTime": {
     "end_time": "2022-02-17T03:07:52.024157Z",
     "start_time": "2022-02-17T03:07:48.836127Z"
    }
   },
   "outputs": [],
   "source": [
    "for i in range(1):\n",
    "    year = driver.find_elements_by_css_selector('body > div.wrap > div.container > div.contents > div.sectit.clearfix > dl > dt > a')[i].text[:5]\n",
    "    driver.find_elements_by_css_selector('body > div.wrap > div.container > div.contents > div.sectit.clearfix > dl > dt > a')[i].click()\n",
    "    time.sleep(2)\n",
    "    handle = driver.window_handles\n",
    "    driver.switch_to.window(handle[-1])\n",
    "    driver.switch_to.frame(driver.find_elements_by_css_selector('frameset > frame')[0])\n",
    "    html = driver.page_source\n",
    "    df = pd.read_html(html)[8]\n",
    "    df.columns = df.iloc[0]\n",
    "    df.drop(0,axis='index',inplace=True)\n",
    "    df.drop(df[df['Dubai'] == 'N.A'].index,axis='index',inplace=True)\n",
    "    df['구 분'] = df['구 분'].apply(lambda x : f'{year} {x}')\n",
    "    df_lst.append(df)\n",
    "    driver.close()\n",
    "    driver.switch_to.window(handle[0])\n",
    "    time.sleep(1)"
   ]
  },
  {
   "cell_type": "code",
   "execution_count": 100,
   "id": "62e60a66",
   "metadata": {
    "ExecuteTime": {
     "end_time": "2022-02-17T03:07:54.553161Z",
     "start_time": "2022-02-17T03:07:54.540196Z"
    }
   },
   "outputs": [
    {
     "data": {
      "text/html": [
       "<div>\n",
       "<style scoped>\n",
       "    .dataframe tbody tr th:only-of-type {\n",
       "        vertical-align: middle;\n",
       "    }\n",
       "\n",
       "    .dataframe tbody tr th {\n",
       "        vertical-align: top;\n",
       "    }\n",
       "\n",
       "    .dataframe thead th {\n",
       "        text-align: right;\n",
       "    }\n",
       "</style>\n",
       "<table border=\"1\" class=\"dataframe\">\n",
       "  <thead>\n",
       "    <tr style=\"text-align: right;\">\n",
       "      <th></th>\n",
       "      <th>구 분</th>\n",
       "      <th>WTI</th>\n",
       "      <th>Brent</th>\n",
       "      <th>Dubai</th>\n",
       "    </tr>\n",
       "  </thead>\n",
       "  <tbody>\n",
       "    <tr>\n",
       "      <th>2</th>\n",
       "      <td>2017년 2월 27일</td>\n",
       "      <td>54.05</td>\n",
       "      <td>55.93</td>\n",
       "      <td>55.18</td>\n",
       "    </tr>\n",
       "    <tr>\n",
       "      <th>3</th>\n",
       "      <td>2017년 2월 24일</td>\n",
       "      <td>53.99</td>\n",
       "      <td>55.99</td>\n",
       "      <td>54.70</td>\n",
       "    </tr>\n",
       "    <tr>\n",
       "      <th>4</th>\n",
       "      <td>2017년 2월 23일</td>\n",
       "      <td>54.45</td>\n",
       "      <td>56.58</td>\n",
       "      <td>54.75</td>\n",
       "    </tr>\n",
       "    <tr>\n",
       "      <th>5</th>\n",
       "      <td>2017년 2월 22일</td>\n",
       "      <td>53.59</td>\n",
       "      <td>55.84</td>\n",
       "      <td>54.68</td>\n",
       "    </tr>\n",
       "    <tr>\n",
       "      <th>6</th>\n",
       "      <td>2017년 2월 21일</td>\n",
       "      <td>54.06</td>\n",
       "      <td>56.66</td>\n",
       "      <td>54.64</td>\n",
       "    </tr>\n",
       "    <tr>\n",
       "      <th>7</th>\n",
       "      <td>2017년 2월 20일</td>\n",
       "      <td>N.A</td>\n",
       "      <td>56.18</td>\n",
       "      <td>54.46</td>\n",
       "    </tr>\n",
       "    <tr>\n",
       "      <th>8</th>\n",
       "      <td>2017년 2월 17일</td>\n",
       "      <td>53.40</td>\n",
       "      <td>55.81</td>\n",
       "      <td>54.06</td>\n",
       "    </tr>\n",
       "    <tr>\n",
       "      <th>9</th>\n",
       "      <td>2017년 2월 16일</td>\n",
       "      <td>53.36</td>\n",
       "      <td>55.65</td>\n",
       "      <td>53.95</td>\n",
       "    </tr>\n",
       "    <tr>\n",
       "      <th>10</th>\n",
       "      <td>2017년 2월 15일</td>\n",
       "      <td>53.11</td>\n",
       "      <td>55.75</td>\n",
       "      <td>54.00</td>\n",
       "    </tr>\n",
       "    <tr>\n",
       "      <th>11</th>\n",
       "      <td>2017년 2월 14일</td>\n",
       "      <td>53.20</td>\n",
       "      <td>55.97</td>\n",
       "      <td>54.14</td>\n",
       "    </tr>\n",
       "    <tr>\n",
       "      <th>12</th>\n",
       "      <td>2017년 2월 13일</td>\n",
       "      <td>52.93</td>\n",
       "      <td>55.59</td>\n",
       "      <td>54.76</td>\n",
       "    </tr>\n",
       "    <tr>\n",
       "      <th>13</th>\n",
       "      <td>2017년 2월 10일</td>\n",
       "      <td>53.86</td>\n",
       "      <td>56.70</td>\n",
       "      <td>53.78</td>\n",
       "    </tr>\n",
       "    <tr>\n",
       "      <th>14</th>\n",
       "      <td>2017년 2월 9일</td>\n",
       "      <td>53.00</td>\n",
       "      <td>55.63</td>\n",
       "      <td>53.79</td>\n",
       "    </tr>\n",
       "    <tr>\n",
       "      <th>15</th>\n",
       "      <td>2017년 2월 8일</td>\n",
       "      <td>52.34</td>\n",
       "      <td>55.12</td>\n",
       "      <td>53.35</td>\n",
       "    </tr>\n",
       "    <tr>\n",
       "      <th>16</th>\n",
       "      <td>2017년 2월 7일</td>\n",
       "      <td>52.17</td>\n",
       "      <td>55.05</td>\n",
       "      <td>54.17</td>\n",
       "    </tr>\n",
       "    <tr>\n",
       "      <th>17</th>\n",
       "      <td>2017년 2월 6일</td>\n",
       "      <td>53.01</td>\n",
       "      <td>55.72</td>\n",
       "      <td>55.31</td>\n",
       "    </tr>\n",
       "    <tr>\n",
       "      <th>18</th>\n",
       "      <td>2017년 2월 3일</td>\n",
       "      <td>53.83</td>\n",
       "      <td>56.81</td>\n",
       "      <td>55.45</td>\n",
       "    </tr>\n",
       "    <tr>\n",
       "      <th>19</th>\n",
       "      <td>2017년 2월 2일</td>\n",
       "      <td>53.54</td>\n",
       "      <td>56.56</td>\n",
       "      <td>54.94</td>\n",
       "    </tr>\n",
       "    <tr>\n",
       "      <th>20</th>\n",
       "      <td>2017년 2월 1일</td>\n",
       "      <td>53.88</td>\n",
       "      <td>56.80</td>\n",
       "      <td>53.22</td>\n",
       "    </tr>\n",
       "  </tbody>\n",
       "</table>\n",
       "</div>"
      ],
      "text/plain": [
       "0            구 분    WTI  Brent  Dubai\n",
       "2   2017년 2월 27일  54.05  55.93  55.18\n",
       "3   2017년 2월 24일  53.99  55.99  54.70\n",
       "4   2017년 2월 23일  54.45  56.58  54.75\n",
       "5   2017년 2월 22일  53.59  55.84  54.68\n",
       "6   2017년 2월 21일  54.06  56.66  54.64\n",
       "7   2017년 2월 20일    N.A  56.18  54.46\n",
       "8   2017년 2월 17일  53.40  55.81  54.06\n",
       "9   2017년 2월 16일  53.36  55.65  53.95\n",
       "10  2017년 2월 15일  53.11  55.75  54.00\n",
       "11  2017년 2월 14일  53.20  55.97  54.14\n",
       "12  2017년 2월 13일  52.93  55.59  54.76\n",
       "13  2017년 2월 10일  53.86  56.70  53.78\n",
       "14   2017년 2월 9일  53.00  55.63  53.79\n",
       "15   2017년 2월 8일  52.34  55.12  53.35\n",
       "16   2017년 2월 7일  52.17  55.05  54.17\n",
       "17   2017년 2월 6일  53.01  55.72  55.31\n",
       "18   2017년 2월 3일  53.83  56.81  55.45\n",
       "19   2017년 2월 2일  53.54  56.56  54.94\n",
       "20   2017년 2월 1일  53.88  56.80  53.22"
      ]
     },
     "execution_count": 100,
     "metadata": {},
     "output_type": "execute_result"
    }
   ],
   "source": [
    "df_lst[-1]"
   ]
  },
  {
   "cell_type": "code",
   "execution_count": 96,
   "id": "bfbf38b7",
   "metadata": {
    "ExecuteTime": {
     "end_time": "2022-02-17T03:06:52.068748Z",
     "start_time": "2022-02-17T03:06:52.036006Z"
    }
   },
   "outputs": [],
   "source": [
    "driver.close()\n",
    "driver.switch_to.window(handle[0])"
   ]
  },
  {
   "cell_type": "code",
   "execution_count": 110,
   "id": "bc3d7bbe",
   "metadata": {
    "ExecuteTime": {
     "end_time": "2022-02-17T03:10:25.256577Z",
     "start_time": "2022-02-17T03:10:25.237629Z"
    }
   },
   "outputs": [],
   "source": [
    "tdf = pd.concat(df_lst).rename({tdf.columns[0] : 'date'}, axis=1)"
   ]
  },
  {
   "cell_type": "code",
   "execution_count": 114,
   "id": "f3915fe4",
   "metadata": {
    "ExecuteTime": {
     "end_time": "2022-02-17T03:11:53.728382Z",
     "start_time": "2022-02-17T03:11:53.717412Z"
    }
   },
   "outputs": [],
   "source": [
    "tdf['date'] = pd.to_datetime(tdf['date'],format='%Y년 %m월 %d일')"
   ]
  },
  {
   "cell_type": "code",
   "execution_count": 118,
   "id": "8c80f3bd",
   "metadata": {
    "ExecuteTime": {
     "end_time": "2022-02-17T03:12:32.212224Z",
     "start_time": "2022-02-17T03:12:32.189978Z"
    }
   },
   "outputs": [],
   "source": [
    "tdf.to_csv('현물가격_18년4월빠짐.csv')"
   ]
  },
  {
   "cell_type": "code",
   "execution_count": null,
   "id": "7c741c7f",
   "metadata": {},
   "outputs": [],
   "source": []
  }
 ],
 "metadata": {
  "kernelspec": {
   "display_name": "study",
   "language": "python",
   "name": "study"
  },
  "language_info": {
   "codemirror_mode": {
    "name": "ipython",
    "version": 3
   },
   "file_extension": ".py",
   "mimetype": "text/x-python",
   "name": "python",
   "nbconvert_exporter": "python",
   "pygments_lexer": "ipython3",
   "version": "3.8.12"
  },
  "toc": {
   "base_numbering": 1,
   "nav_menu": {},
   "number_sections": true,
   "sideBar": true,
   "skip_h1_title": false,
   "title_cell": "Table of Contents",
   "title_sidebar": "Contents",
   "toc_cell": false,
   "toc_position": {},
   "toc_section_display": true,
   "toc_window_display": false
  },
  "varInspector": {
   "cols": {
    "lenName": 16,
    "lenType": 16,
    "lenVar": 40
   },
   "kernels_config": {
    "python": {
     "delete_cmd_postfix": "",
     "delete_cmd_prefix": "del ",
     "library": "var_list.py",
     "varRefreshCmd": "print(var_dic_list())"
    },
    "r": {
     "delete_cmd_postfix": ") ",
     "delete_cmd_prefix": "rm(",
     "library": "var_list.r",
     "varRefreshCmd": "cat(var_dic_list()) "
    }
   },
   "types_to_exclude": [
    "module",
    "function",
    "builtin_function_or_method",
    "instance",
    "_Feature"
   ],
   "window_display": true
  }
 },
 "nbformat": 4,
 "nbformat_minor": 5
}
