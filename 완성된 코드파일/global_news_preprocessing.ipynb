{
 "cells": [
  {
   "cell_type": "code",
   "execution_count": 1,
   "metadata": {
    "ExecuteTime": {
     "end_time": "2022-02-16T01:39:17.324564Z",
     "start_time": "2022-02-16T01:39:14.182523Z"
    }
   },
   "outputs": [
    {
     "name": "stdout",
     "output_type": "stream",
     "text": [
      "Requirement already satisfied: nltk in c:\\users\\bitcamp\\anaconda3\\envs\\study\\lib\\site-packages (3.6.7)\n",
      "Requirement already satisfied: joblib in c:\\users\\bitcamp\\anaconda3\\envs\\study\\lib\\site-packages (from nltk) (1.0.1)\n",
      "Requirement already satisfied: regex>=2021.8.3 in c:\\users\\bitcamp\\anaconda3\\envs\\study\\lib\\site-packages (from nltk) (2021.11.10)\n",
      "Requirement already satisfied: click in c:\\users\\bitcamp\\anaconda3\\envs\\study\\lib\\site-packages (from nltk) (8.0.3)\n",
      "Requirement already satisfied: tqdm in c:\\users\\bitcamp\\anaconda3\\envs\\study\\lib\\site-packages (from nltk) (4.62.3)\n",
      "Requirement already satisfied: colorama in c:\\users\\bitcamp\\anaconda3\\envs\\study\\lib\\site-packages (from click->nltk) (0.4.4)\n"
     ]
    }
   ],
   "source": [
    "!pip install nltk"
   ]
  },
  {
   "cell_type": "code",
   "execution_count": 22,
   "metadata": {
    "ExecuteTime": {
     "end_time": "2022-02-17T00:24:31.209403Z",
     "start_time": "2022-02-17T00:24:28.818942Z"
    }
   },
   "outputs": [
    {
     "name": "stderr",
     "output_type": "stream",
     "text": [
      "[nltk_data] Downloading package stopwords to\n",
      "[nltk_data]     C:\\Users\\bitcamp\\AppData\\Roaming\\nltk_data...\n",
      "[nltk_data]   Package stopwords is already up-to-date!\n"
     ]
    },
    {
     "data": {
      "text/plain": [
       "True"
      ]
     },
     "execution_count": 22,
     "metadata": {},
     "output_type": "execute_result"
    }
   ],
   "source": [
    "import pandas as pd\n",
    "import nltk\n",
    "from nltk.stem.porter import PorterStemmer\n",
    "from nltk.tokenize import RegexpTokenizer\n",
    "from nltk.corpus import stopwords \n",
    "\n",
    "nltk.download('stopwords')"
   ]
  },
  {
   "cell_type": "code",
   "execution_count": 23,
   "metadata": {
    "ExecuteTime": {
     "end_time": "2022-02-17T00:24:34.185811Z",
     "start_time": "2022-02-17T00:24:32.511038Z"
    }
   },
   "outputs": [],
   "source": [
    "import matplotlib.pyplot as plt\n",
    "import matplotlib as mpl\n",
    "import matplotlib.font_manager as fm\n",
    "\n",
    "mpl.rcParams['axes.unicode_minus'] = False\n",
    "path = 'C:/Windows/Fonts/malgun.ttf'\n",
    "\n",
    "font_name = fm.FontProperties(fname=path, size=50).get_name()\n",
    "plt.rc('font', family=font_name)"
   ]
  },
  {
   "cell_type": "code",
   "execution_count": 7,
   "metadata": {
    "ExecuteTime": {
     "end_time": "2022-02-16T01:42:59.010040Z",
     "start_time": "2022-02-16T01:42:58.998100Z"
    },
    "scrolled": true
   },
   "outputs": [
    {
     "data": {
      "text/plain": [
       "RegexpTokenizer(pattern='[\\\\w]+', gaps=False, discard_empty=True, flags=re.UNICODE|re.MULTILINE|re.DOTALL)"
      ]
     },
     "execution_count": 7,
     "metadata": {},
     "output_type": "execute_result"
    }
   ],
   "source": [
    "tokenizer = RegexpTokenizer('[\\w]+')\n",
    "tokenizer"
   ]
  },
  {
   "cell_type": "code",
   "execution_count": 8,
   "metadata": {
    "ExecuteTime": {
     "end_time": "2022-02-16T01:42:59.025028Z",
     "start_time": "2022-02-16T01:42:59.011037Z"
    }
   },
   "outputs": [],
   "source": [
    "stop_words = stopwords.words('english')"
   ]
  },
  {
   "cell_type": "code",
   "execution_count": 52,
   "metadata": {
    "ExecuteTime": {
     "end_time": "2022-02-16T02:03:13.331552Z",
     "start_time": "2022-02-16T02:03:13.311317Z"
    }
   },
   "outputs": [
    {
     "data": {
      "text/plain": [
       "['./data/news/global/FinancialTimes/',\n",
       " './data/news/global/NYTimes/',\n",
       " './data/news/global/TheWallStreetJournal/',\n",
       " './data/news/global/WashingtonPost/']"
      ]
     },
     "execution_count": 52,
     "metadata": {},
     "output_type": "execute_result"
    }
   ],
   "source": [
    "import os\n",
    "homepath = './data/news/global/'\n",
    "di_lst = [homepath+di+'/' for di in os.listdir(homepath) if not '.' in di]\n",
    "di_lst"
   ]
  },
  {
   "cell_type": "code",
   "execution_count": 53,
   "metadata": {
    "ExecuteTime": {
     "end_time": "2022-02-16T02:03:17.219707Z",
     "start_time": "2022-02-16T02:03:14.105445Z"
    }
   },
   "outputs": [
    {
     "name": "stderr",
     "output_type": "stream",
     "text": [
      "C:\\Users\\bitcamp\\anaconda3\\envs\\study\\lib\\site-packages\\dateutil\\parser\\_parser.py:1207: UnknownTimezoneWarning: tzname ET identified but not understood.  Pass `tzinfos` argument in order to correctly return a timezone-aware datetime.  In a future version, this will raise an exception.\n",
      "  warnings.warn(\"tzname {tzname} identified but not understood.  \"\n",
      "C:\\Users\\bitcamp\\anaconda3\\envs\\study\\lib\\site-packages\\dateutil\\parser\\_parser.py:1207: UnknownTimezoneWarning: tzname ET identified but not understood.  Pass `tzinfos` argument in order to correctly return a timezone-aware datetime.  In a future version, this will raise an exception.\n",
      "  warnings.warn(\"tzname {tzname} identified but not understood.  \"\n",
      "C:\\Users\\bitcamp\\anaconda3\\envs\\study\\lib\\site-packages\\dateutil\\parser\\_parser.py:1207: UnknownTimezoneWarning: tzname ET identified but not understood.  Pass `tzinfos` argument in order to correctly return a timezone-aware datetime.  In a future version, this will raise an exception.\n",
      "  warnings.warn(\"tzname {tzname} identified but not understood.  \"\n",
      "C:\\Users\\bitcamp\\anaconda3\\envs\\study\\lib\\site-packages\\dateutil\\parser\\_parser.py:1207: UnknownTimezoneWarning: tzname ET identified but not understood.  Pass `tzinfos` argument in order to correctly return a timezone-aware datetime.  In a future version, this will raise an exception.\n",
      "  warnings.warn(\"tzname {tzname} identified but not understood.  \"\n",
      "C:\\Users\\bitcamp\\anaconda3\\envs\\study\\lib\\site-packages\\dateutil\\parser\\_parser.py:1207: UnknownTimezoneWarning: tzname ET identified but not understood.  Pass `tzinfos` argument in order to correctly return a timezone-aware datetime.  In a future version, this will raise an exception.\n",
      "  warnings.warn(\"tzname {tzname} identified but not understood.  \"\n",
      "C:\\Users\\bitcamp\\anaconda3\\envs\\study\\lib\\site-packages\\dateutil\\parser\\_parser.py:1207: UnknownTimezoneWarning: tzname ET identified but not understood.  Pass `tzinfos` argument in order to correctly return a timezone-aware datetime.  In a future version, this will raise an exception.\n",
      "  warnings.warn(\"tzname {tzname} identified but not understood.  \"\n",
      "C:\\Users\\bitcamp\\anaconda3\\envs\\study\\lib\\site-packages\\dateutil\\parser\\_parser.py:1207: UnknownTimezoneWarning: tzname ET identified but not understood.  Pass `tzinfos` argument in order to correctly return a timezone-aware datetime.  In a future version, this will raise an exception.\n",
      "  warnings.warn(\"tzname {tzname} identified but not understood.  \"\n",
      "C:\\Users\\bitcamp\\anaconda3\\envs\\study\\lib\\site-packages\\dateutil\\parser\\_parser.py:1207: UnknownTimezoneWarning: tzname ET identified but not understood.  Pass `tzinfos` argument in order to correctly return a timezone-aware datetime.  In a future version, this will raise an exception.\n",
      "  warnings.warn(\"tzname {tzname} identified but not understood.  \"\n",
      "C:\\Users\\bitcamp\\anaconda3\\envs\\study\\lib\\site-packages\\dateutil\\parser\\_parser.py:1207: UnknownTimezoneWarning: tzname ET identified but not understood.  Pass `tzinfos` argument in order to correctly return a timezone-aware datetime.  In a future version, this will raise an exception.\n",
      "  warnings.warn(\"tzname {tzname} identified but not understood.  \"\n",
      "C:\\Users\\bitcamp\\anaconda3\\envs\\study\\lib\\site-packages\\dateutil\\parser\\_parser.py:1207: UnknownTimezoneWarning: tzname ET identified but not understood.  Pass `tzinfos` argument in order to correctly return a timezone-aware datetime.  In a future version, this will raise an exception.\n",
      "  warnings.warn(\"tzname {tzname} identified but not understood.  \"\n",
      "C:\\Users\\bitcamp\\anaconda3\\envs\\study\\lib\\site-packages\\dateutil\\parser\\_parser.py:1207: UnknownTimezoneWarning: tzname ET identified but not understood.  Pass `tzinfos` argument in order to correctly return a timezone-aware datetime.  In a future version, this will raise an exception.\n",
      "  warnings.warn(\"tzname {tzname} identified but not understood.  \"\n",
      "C:\\Users\\bitcamp\\anaconda3\\envs\\study\\lib\\site-packages\\dateutil\\parser\\_parser.py:1207: UnknownTimezoneWarning: tzname ET identified but not understood.  Pass `tzinfos` argument in order to correctly return a timezone-aware datetime.  In a future version, this will raise an exception.\n",
      "  warnings.warn(\"tzname {tzname} identified but not understood.  \"\n",
      "C:\\Users\\bitcamp\\anaconda3\\envs\\study\\lib\\site-packages\\dateutil\\parser\\_parser.py:1207: UnknownTimezoneWarning: tzname ET identified but not understood.  Pass `tzinfos` argument in order to correctly return a timezone-aware datetime.  In a future version, this will raise an exception.\n",
      "  warnings.warn(\"tzname {tzname} identified but not understood.  \"\n",
      "C:\\Users\\bitcamp\\anaconda3\\envs\\study\\lib\\site-packages\\dateutil\\parser\\_parser.py:1207: UnknownTimezoneWarning: tzname ET identified but not understood.  Pass `tzinfos` argument in order to correctly return a timezone-aware datetime.  In a future version, this will raise an exception.\n",
      "  warnings.warn(\"tzname {tzname} identified but not understood.  \"\n",
      "C:\\Users\\bitcamp\\anaconda3\\envs\\study\\lib\\site-packages\\dateutil\\parser\\_parser.py:1207: UnknownTimezoneWarning: tzname ET identified but not understood.  Pass `tzinfos` argument in order to correctly return a timezone-aware datetime.  In a future version, this will raise an exception.\n",
      "  warnings.warn(\"tzname {tzname} identified but not understood.  \"\n",
      "C:\\Users\\bitcamp\\anaconda3\\envs\\study\\lib\\site-packages\\dateutil\\parser\\_parser.py:1207: UnknownTimezoneWarning: tzname ET identified but not understood.  Pass `tzinfos` argument in order to correctly return a timezone-aware datetime.  In a future version, this will raise an exception.\n",
      "  warnings.warn(\"tzname {tzname} identified but not understood.  \"\n",
      "C:\\Users\\bitcamp\\anaconda3\\envs\\study\\lib\\site-packages\\dateutil\\parser\\_parser.py:1207: UnknownTimezoneWarning: tzname ET identified but not understood.  Pass `tzinfos` argument in order to correctly return a timezone-aware datetime.  In a future version, this will raise an exception.\n",
      "  warnings.warn(\"tzname {tzname} identified but not understood.  \"\n",
      "C:\\Users\\bitcamp\\anaconda3\\envs\\study\\lib\\site-packages\\dateutil\\parser\\_parser.py:1207: UnknownTimezoneWarning: tzname ET identified but not understood.  Pass `tzinfos` argument in order to correctly return a timezone-aware datetime.  In a future version, this will raise an exception.\n",
      "  warnings.warn(\"tzname {tzname} identified but not understood.  \"\n",
      "C:\\Users\\bitcamp\\anaconda3\\envs\\study\\lib\\site-packages\\dateutil\\parser\\_parser.py:1207: UnknownTimezoneWarning: tzname ET identified but not understood.  Pass `tzinfos` argument in order to correctly return a timezone-aware datetime.  In a future version, this will raise an exception.\n",
      "  warnings.warn(\"tzname {tzname} identified but not understood.  \"\n",
      "C:\\Users\\bitcamp\\anaconda3\\envs\\study\\lib\\site-packages\\dateutil\\parser\\_parser.py:1207: UnknownTimezoneWarning: tzname ET identified but not understood.  Pass `tzinfos` argument in order to correctly return a timezone-aware datetime.  In a future version, this will raise an exception.\n",
      "  warnings.warn(\"tzname {tzname} identified but not understood.  \"\n",
      "C:\\Users\\bitcamp\\anaconda3\\envs\\study\\lib\\site-packages\\dateutil\\parser\\_parser.py:1207: UnknownTimezoneWarning: tzname ET identified but not understood.  Pass `tzinfos` argument in order to correctly return a timezone-aware datetime.  In a future version, this will raise an exception.\n",
      "  warnings.warn(\"tzname {tzname} identified but not understood.  \"\n",
      "C:\\Users\\bitcamp\\anaconda3\\envs\\study\\lib\\site-packages\\dateutil\\parser\\_parser.py:1207: UnknownTimezoneWarning: tzname ET identified but not understood.  Pass `tzinfos` argument in order to correctly return a timezone-aware datetime.  In a future version, this will raise an exception.\n",
      "  warnings.warn(\"tzname {tzname} identified but not understood.  \"\n",
      "C:\\Users\\bitcamp\\anaconda3\\envs\\study\\lib\\site-packages\\dateutil\\parser\\_parser.py:1207: UnknownTimezoneWarning: tzname ET identified but not understood.  Pass `tzinfos` argument in order to correctly return a timezone-aware datetime.  In a future version, this will raise an exception.\n",
      "  warnings.warn(\"tzname {tzname} identified but not understood.  \"\n",
      "C:\\Users\\bitcamp\\anaconda3\\envs\\study\\lib\\site-packages\\dateutil\\parser\\_parser.py:1207: UnknownTimezoneWarning: tzname ET identified but not understood.  Pass `tzinfos` argument in order to correctly return a timezone-aware datetime.  In a future version, this will raise an exception.\n",
      "  warnings.warn(\"tzname {tzname} identified but not understood.  \"\n",
      "C:\\Users\\bitcamp\\anaconda3\\envs\\study\\lib\\site-packages\\dateutil\\parser\\_parser.py:1207: UnknownTimezoneWarning: tzname ET identified but not understood.  Pass `tzinfos` argument in order to correctly return a timezone-aware datetime.  In a future version, this will raise an exception.\n",
      "  warnings.warn(\"tzname {tzname} identified but not understood.  \"\n",
      "C:\\Users\\bitcamp\\anaconda3\\envs\\study\\lib\\site-packages\\dateutil\\parser\\_parser.py:1207: UnknownTimezoneWarning: tzname ET identified but not understood.  Pass `tzinfos` argument in order to correctly return a timezone-aware datetime.  In a future version, this will raise an exception.\n",
      "  warnings.warn(\"tzname {tzname} identified but not understood.  \"\n",
      "C:\\Users\\bitcamp\\anaconda3\\envs\\study\\lib\\site-packages\\dateutil\\parser\\_parser.py:1207: UnknownTimezoneWarning: tzname ET identified but not understood.  Pass `tzinfos` argument in order to correctly return a timezone-aware datetime.  In a future version, this will raise an exception.\n",
      "  warnings.warn(\"tzname {tzname} identified but not understood.  \"\n",
      "C:\\Users\\bitcamp\\anaconda3\\envs\\study\\lib\\site-packages\\dateutil\\parser\\_parser.py:1207: UnknownTimezoneWarning: tzname ET identified but not understood.  Pass `tzinfos` argument in order to correctly return a timezone-aware datetime.  In a future version, this will raise an exception.\n",
      "  warnings.warn(\"tzname {tzname} identified but not understood.  \"\n",
      "C:\\Users\\bitcamp\\anaconda3\\envs\\study\\lib\\site-packages\\dateutil\\parser\\_parser.py:1207: UnknownTimezoneWarning: tzname ET identified but not understood.  Pass `tzinfos` argument in order to correctly return a timezone-aware datetime.  In a future version, this will raise an exception.\n",
      "  warnings.warn(\"tzname {tzname} identified but not understood.  \"\n"
     ]
    },
    {
     "name": "stderr",
     "output_type": "stream",
     "text": [
      "C:\\Users\\bitcamp\\anaconda3\\envs\\study\\lib\\site-packages\\dateutil\\parser\\_parser.py:1207: UnknownTimezoneWarning: tzname ET identified but not understood.  Pass `tzinfos` argument in order to correctly return a timezone-aware datetime.  In a future version, this will raise an exception.\n",
      "  warnings.warn(\"tzname {tzname} identified but not understood.  \"\n",
      "C:\\Users\\bitcamp\\anaconda3\\envs\\study\\lib\\site-packages\\dateutil\\parser\\_parser.py:1207: UnknownTimezoneWarning: tzname ET identified but not understood.  Pass `tzinfos` argument in order to correctly return a timezone-aware datetime.  In a future version, this will raise an exception.\n",
      "  warnings.warn(\"tzname {tzname} identified but not understood.  \"\n",
      "C:\\Users\\bitcamp\\anaconda3\\envs\\study\\lib\\site-packages\\dateutil\\parser\\_parser.py:1207: UnknownTimezoneWarning: tzname ET identified but not understood.  Pass `tzinfos` argument in order to correctly return a timezone-aware datetime.  In a future version, this will raise an exception.\n",
      "  warnings.warn(\"tzname {tzname} identified but not understood.  \"\n",
      "C:\\Users\\bitcamp\\anaconda3\\envs\\study\\lib\\site-packages\\dateutil\\parser\\_parser.py:1207: UnknownTimezoneWarning: tzname ET identified but not understood.  Pass `tzinfos` argument in order to correctly return a timezone-aware datetime.  In a future version, this will raise an exception.\n",
      "  warnings.warn(\"tzname {tzname} identified but not understood.  \"\n",
      "C:\\Users\\bitcamp\\anaconda3\\envs\\study\\lib\\site-packages\\dateutil\\parser\\_parser.py:1207: UnknownTimezoneWarning: tzname ET identified but not understood.  Pass `tzinfos` argument in order to correctly return a timezone-aware datetime.  In a future version, this will raise an exception.\n",
      "  warnings.warn(\"tzname {tzname} identified but not understood.  \"\n",
      "C:\\Users\\bitcamp\\anaconda3\\envs\\study\\lib\\site-packages\\dateutil\\parser\\_parser.py:1207: UnknownTimezoneWarning: tzname ET identified but not understood.  Pass `tzinfos` argument in order to correctly return a timezone-aware datetime.  In a future version, this will raise an exception.\n",
      "  warnings.warn(\"tzname {tzname} identified but not understood.  \"\n",
      "C:\\Users\\bitcamp\\anaconda3\\envs\\study\\lib\\site-packages\\dateutil\\parser\\_parser.py:1207: UnknownTimezoneWarning: tzname ET identified but not understood.  Pass `tzinfos` argument in order to correctly return a timezone-aware datetime.  In a future version, this will raise an exception.\n",
      "  warnings.warn(\"tzname {tzname} identified but not understood.  \"\n",
      "C:\\Users\\bitcamp\\anaconda3\\envs\\study\\lib\\site-packages\\dateutil\\parser\\_parser.py:1207: UnknownTimezoneWarning: tzname ET identified but not understood.  Pass `tzinfos` argument in order to correctly return a timezone-aware datetime.  In a future version, this will raise an exception.\n",
      "  warnings.warn(\"tzname {tzname} identified but not understood.  \"\n",
      "C:\\Users\\bitcamp\\anaconda3\\envs\\study\\lib\\site-packages\\dateutil\\parser\\_parser.py:1207: UnknownTimezoneWarning: tzname ET identified but not understood.  Pass `tzinfos` argument in order to correctly return a timezone-aware datetime.  In a future version, this will raise an exception.\n",
      "  warnings.warn(\"tzname {tzname} identified but not understood.  \"\n",
      "C:\\Users\\bitcamp\\anaconda3\\envs\\study\\lib\\site-packages\\dateutil\\parser\\_parser.py:1207: UnknownTimezoneWarning: tzname ET identified but not understood.  Pass `tzinfos` argument in order to correctly return a timezone-aware datetime.  In a future version, this will raise an exception.\n",
      "  warnings.warn(\"tzname {tzname} identified but not understood.  \"\n",
      "C:\\Users\\bitcamp\\anaconda3\\envs\\study\\lib\\site-packages\\dateutil\\parser\\_parser.py:1207: UnknownTimezoneWarning: tzname ET identified but not understood.  Pass `tzinfos` argument in order to correctly return a timezone-aware datetime.  In a future version, this will raise an exception.\n",
      "  warnings.warn(\"tzname {tzname} identified but not understood.  \"\n",
      "C:\\Users\\bitcamp\\anaconda3\\envs\\study\\lib\\site-packages\\dateutil\\parser\\_parser.py:1207: UnknownTimezoneWarning: tzname ET identified but not understood.  Pass `tzinfos` argument in order to correctly return a timezone-aware datetime.  In a future version, this will raise an exception.\n",
      "  warnings.warn(\"tzname {tzname} identified but not understood.  \"\n",
      "C:\\Users\\bitcamp\\anaconda3\\envs\\study\\lib\\site-packages\\dateutil\\parser\\_parser.py:1207: UnknownTimezoneWarning: tzname ET identified but not understood.  Pass `tzinfos` argument in order to correctly return a timezone-aware datetime.  In a future version, this will raise an exception.\n",
      "  warnings.warn(\"tzname {tzname} identified but not understood.  \"\n",
      "C:\\Users\\bitcamp\\anaconda3\\envs\\study\\lib\\site-packages\\dateutil\\parser\\_parser.py:1207: UnknownTimezoneWarning: tzname ET identified but not understood.  Pass `tzinfos` argument in order to correctly return a timezone-aware datetime.  In a future version, this will raise an exception.\n",
      "  warnings.warn(\"tzname {tzname} identified but not understood.  \"\n",
      "C:\\Users\\bitcamp\\anaconda3\\envs\\study\\lib\\site-packages\\dateutil\\parser\\_parser.py:1207: UnknownTimezoneWarning: tzname ET identified but not understood.  Pass `tzinfos` argument in order to correctly return a timezone-aware datetime.  In a future version, this will raise an exception.\n",
      "  warnings.warn(\"tzname {tzname} identified but not understood.  \"\n",
      "C:\\Users\\bitcamp\\anaconda3\\envs\\study\\lib\\site-packages\\dateutil\\parser\\_parser.py:1207: UnknownTimezoneWarning: tzname ET identified but not understood.  Pass `tzinfos` argument in order to correctly return a timezone-aware datetime.  In a future version, this will raise an exception.\n",
      "  warnings.warn(\"tzname {tzname} identified but not understood.  \"\n",
      "C:\\Users\\bitcamp\\anaconda3\\envs\\study\\lib\\site-packages\\dateutil\\parser\\_parser.py:1207: UnknownTimezoneWarning: tzname ET identified but not understood.  Pass `tzinfos` argument in order to correctly return a timezone-aware datetime.  In a future version, this will raise an exception.\n",
      "  warnings.warn(\"tzname {tzname} identified but not understood.  \"\n",
      "C:\\Users\\bitcamp\\anaconda3\\envs\\study\\lib\\site-packages\\dateutil\\parser\\_parser.py:1207: UnknownTimezoneWarning: tzname ET identified but not understood.  Pass `tzinfos` argument in order to correctly return a timezone-aware datetime.  In a future version, this will raise an exception.\n",
      "  warnings.warn(\"tzname {tzname} identified but not understood.  \"\n",
      "C:\\Users\\bitcamp\\anaconda3\\envs\\study\\lib\\site-packages\\dateutil\\parser\\_parser.py:1207: UnknownTimezoneWarning: tzname ET identified but not understood.  Pass `tzinfos` argument in order to correctly return a timezone-aware datetime.  In a future version, this will raise an exception.\n",
      "  warnings.warn(\"tzname {tzname} identified but not understood.  \"\n",
      "C:\\Users\\bitcamp\\anaconda3\\envs\\study\\lib\\site-packages\\dateutil\\parser\\_parser.py:1207: UnknownTimezoneWarning: tzname ET identified but not understood.  Pass `tzinfos` argument in order to correctly return a timezone-aware datetime.  In a future version, this will raise an exception.\n",
      "  warnings.warn(\"tzname {tzname} identified but not understood.  \"\n",
      "C:\\Users\\bitcamp\\anaconda3\\envs\\study\\lib\\site-packages\\dateutil\\parser\\_parser.py:1207: UnknownTimezoneWarning: tzname ET identified but not understood.  Pass `tzinfos` argument in order to correctly return a timezone-aware datetime.  In a future version, this will raise an exception.\n",
      "  warnings.warn(\"tzname {tzname} identified but not understood.  \"\n",
      "C:\\Users\\bitcamp\\anaconda3\\envs\\study\\lib\\site-packages\\dateutil\\parser\\_parser.py:1207: UnknownTimezoneWarning: tzname ET identified but not understood.  Pass `tzinfos` argument in order to correctly return a timezone-aware datetime.  In a future version, this will raise an exception.\n",
      "  warnings.warn(\"tzname {tzname} identified but not understood.  \"\n",
      "C:\\Users\\bitcamp\\anaconda3\\envs\\study\\lib\\site-packages\\dateutil\\parser\\_parser.py:1207: UnknownTimezoneWarning: tzname ET identified but not understood.  Pass `tzinfos` argument in order to correctly return a timezone-aware datetime.  In a future version, this will raise an exception.\n",
      "  warnings.warn(\"tzname {tzname} identified but not understood.  \"\n",
      "C:\\Users\\bitcamp\\anaconda3\\envs\\study\\lib\\site-packages\\dateutil\\parser\\_parser.py:1207: UnknownTimezoneWarning: tzname ET identified but not understood.  Pass `tzinfos` argument in order to correctly return a timezone-aware datetime.  In a future version, this will raise an exception.\n",
      "  warnings.warn(\"tzname {tzname} identified but not understood.  \"\n",
      "C:\\Users\\bitcamp\\anaconda3\\envs\\study\\lib\\site-packages\\dateutil\\parser\\_parser.py:1207: UnknownTimezoneWarning: tzname ET identified but not understood.  Pass `tzinfos` argument in order to correctly return a timezone-aware datetime.  In a future version, this will raise an exception.\n",
      "  warnings.warn(\"tzname {tzname} identified but not understood.  \"\n",
      "C:\\Users\\bitcamp\\anaconda3\\envs\\study\\lib\\site-packages\\dateutil\\parser\\_parser.py:1207: UnknownTimezoneWarning: tzname ET identified but not understood.  Pass `tzinfos` argument in order to correctly return a timezone-aware datetime.  In a future version, this will raise an exception.\n",
      "  warnings.warn(\"tzname {tzname} identified but not understood.  \"\n",
      "C:\\Users\\bitcamp\\anaconda3\\envs\\study\\lib\\site-packages\\dateutil\\parser\\_parser.py:1207: UnknownTimezoneWarning: tzname ET identified but not understood.  Pass `tzinfos` argument in order to correctly return a timezone-aware datetime.  In a future version, this will raise an exception.\n",
      "  warnings.warn(\"tzname {tzname} identified but not understood.  \"\n"
     ]
    },
    {
     "name": "stderr",
     "output_type": "stream",
     "text": [
      "C:\\Users\\bitcamp\\anaconda3\\envs\\study\\lib\\site-packages\\dateutil\\parser\\_parser.py:1207: UnknownTimezoneWarning: tzname ET identified but not understood.  Pass `tzinfos` argument in order to correctly return a timezone-aware datetime.  In a future version, this will raise an exception.\n",
      "  warnings.warn(\"tzname {tzname} identified but not understood.  \"\n",
      "C:\\Users\\bitcamp\\anaconda3\\envs\\study\\lib\\site-packages\\dateutil\\parser\\_parser.py:1207: UnknownTimezoneWarning: tzname ET identified but not understood.  Pass `tzinfos` argument in order to correctly return a timezone-aware datetime.  In a future version, this will raise an exception.\n",
      "  warnings.warn(\"tzname {tzname} identified but not understood.  \"\n",
      "C:\\Users\\bitcamp\\anaconda3\\envs\\study\\lib\\site-packages\\dateutil\\parser\\_parser.py:1207: UnknownTimezoneWarning: tzname ET identified but not understood.  Pass `tzinfos` argument in order to correctly return a timezone-aware datetime.  In a future version, this will raise an exception.\n",
      "  warnings.warn(\"tzname {tzname} identified but not understood.  \"\n",
      "C:\\Users\\bitcamp\\anaconda3\\envs\\study\\lib\\site-packages\\dateutil\\parser\\_parser.py:1207: UnknownTimezoneWarning: tzname ET identified but not understood.  Pass `tzinfos` argument in order to correctly return a timezone-aware datetime.  In a future version, this will raise an exception.\n",
      "  warnings.warn(\"tzname {tzname} identified but not understood.  \"\n"
     ]
    }
   ],
   "source": [
    "lst = []\n",
    "for csv_path in di_lst:\n",
    "    for file in os.listdir(csv_path):\n",
    "        tdf = pd.read_csv(csv_path+file,index_col=0)\n",
    "        tdf['date'] = pd.to_datetime(tdf['date'])\n",
    "        lst.append(tdf)\n"
   ]
  },
  {
   "cell_type": "code",
   "execution_count": 59,
   "metadata": {
    "ExecuteTime": {
     "end_time": "2022-02-16T02:05:54.728412Z",
     "start_time": "2022-02-16T02:05:54.703238Z"
    },
    "scrolled": true
   },
   "outputs": [],
   "source": [
    "df = pd.concat(lst).reset_index(drop=True)\n",
    "df.dropna(subset = ['date'],inplace=True)"
   ]
  },
  {
   "cell_type": "code",
   "execution_count": 62,
   "metadata": {
    "ExecuteTime": {
     "end_time": "2022-02-16T02:06:38.072019Z",
     "start_time": "2022-02-16T02:06:38.056062Z"
    }
   },
   "outputs": [
    {
     "data": {
      "text/html": [
       "<div>\n",
       "<style scoped>\n",
       "    .dataframe tbody tr th:only-of-type {\n",
       "        vertical-align: middle;\n",
       "    }\n",
       "\n",
       "    .dataframe tbody tr th {\n",
       "        vertical-align: top;\n",
       "    }\n",
       "\n",
       "    .dataframe thead th {\n",
       "        text-align: right;\n",
       "    }\n",
       "</style>\n",
       "<table border=\"1\" class=\"dataframe\">\n",
       "  <thead>\n",
       "    <tr style=\"text-align: right;\">\n",
       "      <th></th>\n",
       "      <th>date</th>\n",
       "      <th>title</th>\n",
       "      <th>summary</th>\n",
       "    </tr>\n",
       "  </thead>\n",
       "  <tbody>\n",
       "    <tr>\n",
       "      <th>0</th>\n",
       "      <td>2017-02-10 00:00:00</td>\n",
       "      <td>Going Home to Falluja, a City Slipping Back In...</td>\n",
       "      <td>Times journalists visit a former ISIS strongho...</td>\n",
       "    </tr>\n",
       "    <tr>\n",
       "      <th>1</th>\n",
       "      <td>2017-02-10 00:00:00</td>\n",
       "      <td>Oil stockpiles to remain high in H1, says IEA</td>\n",
       "      <td>...Despite steep Opec production cuts to reduc...</td>\n",
       "    </tr>\n",
       "    <tr>\n",
       "      <th>2</th>\n",
       "      <td>2017-02-10 00:00:00</td>\n",
       "      <td>Global stocks rally as China data surprises</td>\n",
       "      <td>...to $5,879 a tonne amid strength across the ...</td>\n",
       "    </tr>\n",
       "    <tr>\n",
       "      <th>3</th>\n",
       "      <td>2017-02-10 00:00:00</td>\n",
       "      <td>Asia stocks advance as yen softens and bonds r...</td>\n",
       "      <td>...of its third-quarter earnings report expect...</td>\n",
       "    </tr>\n",
       "    <tr>\n",
       "      <th>4</th>\n",
       "      <td>2017-02-10 00:00:00</td>\n",
       "      <td>Analysis | Under Trump’s plan, Mexico won’t en...</td>\n",
       "      <td>A border tax will likely damage U.S. firms and...</td>\n",
       "    </tr>\n",
       "    <tr>\n",
       "      <th>...</th>\n",
       "      <td>...</td>\n",
       "      <td>...</td>\n",
       "      <td>...</td>\n",
       "    </tr>\n",
       "    <tr>\n",
       "      <th>25819</th>\n",
       "      <td>2022-02-10 17:09:00</td>\n",
       "      <td>Fairfax India Holdings Corporation: Financial ...</td>\n",
       "      <td>NaN</td>\n",
       "    </tr>\n",
       "    <tr>\n",
       "      <th>25820</th>\n",
       "      <td>2022-02-10 17:28:00</td>\n",
       "      <td>This Fed Nominee Will Cost You at the Pump</td>\n",
       "      <td>Sarah Bloom Raskin’s confirmation would be the...</td>\n",
       "    </tr>\n",
       "    <tr>\n",
       "      <th>25821</th>\n",
       "      <td>2022-02-10 17:30:00</td>\n",
       "      <td>HNR Acquisition Corp Announces Pricing of $75,...</td>\n",
       "      <td>NaN</td>\n",
       "    </tr>\n",
       "    <tr>\n",
       "      <th>25822</th>\n",
       "      <td>2022-02-10 18:06:00</td>\n",
       "      <td>Russel Metal Sees Steel Demand Continuing to I...</td>\n",
       "      <td>NaN</td>\n",
       "    </tr>\n",
       "    <tr>\n",
       "      <th>25823</th>\n",
       "      <td>2022-02-10 19:15:00</td>\n",
       "      <td>Bengal Energy Announces Fiscal 2022 Third Quar...</td>\n",
       "      <td>NaN</td>\n",
       "    </tr>\n",
       "  </tbody>\n",
       "</table>\n",
       "<p>25824 rows × 3 columns</p>\n",
       "</div>"
      ],
      "text/plain": [
       "                     date                                              title  \\\n",
       "0     2017-02-10 00:00:00  Going Home to Falluja, a City Slipping Back In...   \n",
       "1     2017-02-10 00:00:00      Oil stockpiles to remain high in H1, says IEA   \n",
       "2     2017-02-10 00:00:00        Global stocks rally as China data surprises   \n",
       "3     2017-02-10 00:00:00  Asia stocks advance as yen softens and bonds r...   \n",
       "4     2017-02-10 00:00:00  Analysis | Under Trump’s plan, Mexico won’t en...   \n",
       "...                   ...                                                ...   \n",
       "25819 2022-02-10 17:09:00  Fairfax India Holdings Corporation: Financial ...   \n",
       "25820 2022-02-10 17:28:00         This Fed Nominee Will Cost You at the Pump   \n",
       "25821 2022-02-10 17:30:00  HNR Acquisition Corp Announces Pricing of $75,...   \n",
       "25822 2022-02-10 18:06:00  Russel Metal Sees Steel Demand Continuing to I...   \n",
       "25823 2022-02-10 19:15:00  Bengal Energy Announces Fiscal 2022 Third Quar...   \n",
       "\n",
       "                                                 summary  \n",
       "0      Times journalists visit a former ISIS strongho...  \n",
       "1      ...Despite steep Opec production cuts to reduc...  \n",
       "2      ...to $5,879 a tonne amid strength across the ...  \n",
       "3      ...of its third-quarter earnings report expect...  \n",
       "4      A border tax will likely damage U.S. firms and...  \n",
       "...                                                  ...  \n",
       "25819                                                NaN  \n",
       "25820  Sarah Bloom Raskin’s confirmation would be the...  \n",
       "25821                                                NaN  \n",
       "25822                                                NaN  \n",
       "25823                                                NaN  \n",
       "\n",
       "[25824 rows x 3 columns]"
      ]
     },
     "execution_count": 62,
     "metadata": {},
     "output_type": "execute_result"
    }
   ],
   "source": [
    "df = df.sort_values('date').reset_index(drop=True)\n",
    "df"
   ]
  },
  {
   "cell_type": "code",
   "execution_count": 104,
   "metadata": {
    "ExecuteTime": {
     "end_time": "2022-02-16T03:23:02.870189Z",
     "start_time": "2022-02-16T03:23:02.853215Z"
    }
   },
   "outputs": [],
   "source": [
    "tdf = df\n"
   ]
  },
  {
   "cell_type": "code",
   "execution_count": 108,
   "metadata": {
    "ExecuteTime": {
     "end_time": "2022-02-16T03:24:35.754867Z",
     "start_time": "2022-02-16T03:24:35.679208Z"
    }
   },
   "outputs": [],
   "source": [
    "test = tdf.set_index('date').astype(str).resample('3D').apply(lambda x : ' '.join(x))"
   ]
  },
  {
   "cell_type": "code",
   "execution_count": 112,
   "metadata": {
    "ExecuteTime": {
     "end_time": "2022-02-16T03:25:33.665634Z",
     "start_time": "2022-02-16T03:25:33.646718Z"
    }
   },
   "outputs": [
    {
     "data": {
      "text/plain": [
       "'Going Home to Falluja, a City Slipping Back Into Turmoil Oil stockpiles to remain high in H1, says IEA Global stocks rally as China data surprises Asia stocks advance as yen softens and bonds retreat Analysis | Under Trump’s plan, Mexico won’t end up paying for the wall. You will. Nigeria’s government takes over Arik Air to avert ‘catastrophe’ Opec beats oil output cut expectations, says watchdog Meet Luther Strange, the man replacing Jeff Sessions in the Senate ScottishPower latest UK energy company to raise prices Chinese-backed Forest City rises above the sea UK set to receive first LNG import from Peru WSJ’s Daily Shot: “Phenomenal” Tax Announcement Becomes a Trump-on Day State Universities Become Prime Targets for Budget Cuts The Morning Risk Report: Pay Ratio Rule Faces SEC Challenge The Morning Ledger: Chinese Companies Rush in Where Bankers Fear to Lend Oil Up on Optimism Over OPEC’s Supply Cuts—Energy Journal IEA Says OPEC Reaches Record Compliance With Agreed Cuts U.S. Oil Exports Rising, But Face Hurdles     Inflation Bet Takes a Break Vanguard in Talks With Potential Stalking-Horse Bidder Emerald Oil Cleared to Poll Creditors on Bankruptcy Plan Mexico’s Industrial Production Down in December, Flat in 2016 Will Trump Import Inflation? Not Just Yet     U.S. Oil-Rig Count Climbs by 8 Stone Energy Wins Court Approval to Sell Appalachian Drilling Assets Bulls Are Back for European Stocks as Earnings Stagnation Ends     Oil Rises on Global Supply Cuts  Natural Gas Falls on Warmer Weather Forecast Energy Shares: Last Year’s Winners, This Year’s Laggards  Several Killed as Antigovernment Protests Flare Up Again in Baghdad Trudeau and Trump Are to Meet, and Yellen Will Address Congress Oil and gas discoveries dry up to lowest total for 60 years Week ahead: Opec data, Netanyahu to visit Trump and Rolls-Royce results Japanese Firms Raise Profit Forecasts Amid Weaker Yen Border Tax Could Upend Global Markets, but Investors Shy Away From Any Bets  WSJ’s Daily Shot: The Stock Market That Can Do No Wrong'"
      ]
     },
     "execution_count": 112,
     "metadata": {},
     "output_type": "execute_result"
    }
   ],
   "source": [
    "test.iloc[0,0]"
   ]
  },
  {
   "cell_type": "code",
   "execution_count": null,
   "metadata": {},
   "outputs": [],
   "source": []
  },
  {
   "cell_type": "code",
   "execution_count": 132,
   "metadata": {
    "ExecuteTime": {
     "end_time": "2022-02-16T03:53:48.928049Z",
     "start_time": "2022-02-16T03:53:48.304791Z"
    }
   },
   "outputs": [],
   "source": [
    "\n",
    "word_lst = []\n",
    "for lines in test['title']:\n",
    "    words =  lines.lower()\n",
    "    tokens = tokenizer.tokenize(words)\n",
    "    stopped_tokens = [i for i in list((tokens)) if not i in stop_words]\n",
    "    word_lst.extend([i for i in stopped_tokens if len(i)>1])\n",
    "    "
   ]
  },
  {
   "cell_type": "code",
   "execution_count": 135,
   "metadata": {
    "ExecuteTime": {
     "end_time": "2022-02-16T03:54:32.680892Z",
     "start_time": "2022-02-16T03:54:32.641364Z"
    }
   },
   "outputs": [],
   "source": [
    "pd.Series(word_lst).value_counts().head(200).reset_index().to_csv('keyword_ranking_english.csv')"
   ]
  },
  {
   "cell_type": "code",
   "execution_count": 24,
   "metadata": {
    "ExecuteTime": {
     "end_time": "2022-02-17T00:24:37.328840Z",
     "start_time": "2022-02-17T00:24:37.312625Z"
    }
   },
   "outputs": [],
   "source": [
    "import pandas as pd\n",
    "from konlpy.tag import Hannanum\n",
    "han = Hannanum()"
   ]
  },
  {
   "cell_type": "code",
   "execution_count": 2,
   "metadata": {
    "ExecuteTime": {
     "end_time": "2022-02-16T06:13:03.938893Z",
     "start_time": "2022-02-16T06:13:03.925928Z"
    }
   },
   "outputs": [],
   "source": [
    "import os\n",
    "homepath = './data/news/Korean/'"
   ]
  },
  {
   "cell_type": "code",
   "execution_count": 9,
   "metadata": {
    "ExecuteTime": {
     "end_time": "2022-02-16T07:08:08.368897Z",
     "start_time": "2022-02-16T07:08:06.082320Z"
    }
   },
   "outputs": [],
   "source": [
    "datelst = ['2022.02.09.','2022.02.08.','2022.02.07.','2022.02.06.','2022.02.05.','2022.02.04.','2022.02.03.']\n",
    "lst = []\n",
    "for file in os.listdir(homepath):\n",
    "    tdf = pd.read_csv(homepath+file,index_col=0)\n",
    "    tdf.drop_duplicates(inplace=True)\n",
    "    tdf['날짜'] = (\n",
    "        tdf['날짜'].str.replace('일 전','')\n",
    "        .apply(lambda x : datelst[int(x)-1] if x in ['1','2','3','4','5','6','7'] else x)\n",
    "        .astype('datetime64')\n",
    "        )\n",
    "    lst.append(tdf)\n"
   ]
  },
  {
   "cell_type": "code",
   "execution_count": 10,
   "metadata": {
    "ExecuteTime": {
     "end_time": "2022-02-16T07:08:08.816900Z",
     "start_time": "2022-02-16T07:08:08.786420Z"
    }
   },
   "outputs": [
    {
     "data": {
      "text/html": [
       "<div>\n",
       "<style scoped>\n",
       "    .dataframe tbody tr th:only-of-type {\n",
       "        vertical-align: middle;\n",
       "    }\n",
       "\n",
       "    .dataframe tbody tr th {\n",
       "        vertical-align: top;\n",
       "    }\n",
       "\n",
       "    .dataframe thead th {\n",
       "        text-align: right;\n",
       "    }\n",
       "</style>\n",
       "<table border=\"1\" class=\"dataframe\">\n",
       "  <thead>\n",
       "    <tr style=\"text-align: right;\">\n",
       "      <th></th>\n",
       "      <th>date</th>\n",
       "      <th>title</th>\n",
       "      <th>summary</th>\n",
       "    </tr>\n",
       "  </thead>\n",
       "  <tbody>\n",
       "    <tr>\n",
       "      <th>0</th>\n",
       "      <td>2017-03-10</td>\n",
       "      <td>국제유가, 美원유재고 급증에 속락…WTI 50달러선 무너져</td>\n",
       "      <td>급락한 유가는 이날 이틀째 하강했다. 지난 3일로 끝난 주간의 미 원유재고가 전문가...</td>\n",
       "    </tr>\n",
       "    <tr>\n",
       "      <th>1</th>\n",
       "      <td>2017-03-10</td>\n",
       "      <td>OPEC·셰일업계 ‘삐걱’…국제유가 40달러로 주저앉나</td>\n",
       "      <td>석유수출국기구(OPEC)가 지난해 힘겨운 감산 합의 끝에 끌어올려 놓은 국제유가가 ...</td>\n",
       "    </tr>\n",
       "    <tr>\n",
       "      <th>2</th>\n",
       "      <td>2017-03-09</td>\n",
       "      <td>국제유가, 심리저항선 '배럴당 50달러' 무너져</td>\n",
       "      <td>[WTI, 1.5% 내려가 49,54달러 기록…美 과잉생산 우려 배경] 미국 텍사스...</td>\n",
       "    </tr>\n",
       "    <tr>\n",
       "      <th>3</th>\n",
       "      <td>2017-03-09</td>\n",
       "      <td>[국제유가] 미국 원유재고 증가로 '급락'… WTI 5.4%↓</td>\n",
       "      <td>본문 이미지 영역 국제유가 급락. /사진=머니투데이 DB 8일(현지시간) 국제유가가...</td>\n",
       "    </tr>\n",
       "    <tr>\n",
       "      <th>4</th>\n",
       "      <td>2017-03-09</td>\n",
       "      <td>국제유가 50달러선 아슬아슬…셰일석유·감산연장 향후 변수</td>\n",
       "      <td>2016.04.18 = 국제유가가 8일(현지시간) 5% 이상 급락했다. 미국 원유 ...</td>\n",
       "    </tr>\n",
       "    <tr>\n",
       "      <th>...</th>\n",
       "      <td>...</td>\n",
       "      <td>...</td>\n",
       "      <td>...</td>\n",
       "    </tr>\n",
       "    <tr>\n",
       "      <th>157014</th>\n",
       "      <td>2022-01-12</td>\n",
       "      <td>[12일 마감시황] 코스피, 기관·외국인 매수에 상승…2972.48 마감</td>\n",
       "      <td>코스피는 긴축 우려 완화, 국제 유가 급등 등에 상승 출발했다. 이후 아시아 증시 ...</td>\n",
       "    </tr>\n",
       "    <tr>\n",
       "      <th>157015</th>\n",
       "      <td>2022-01-18</td>\n",
       "      <td>삼성SDI SK이노베이션 훨훨... 스푸트니크주 휴메딕스 프레스티지바이오파마 ...</td>\n",
       "      <td>김석환 미래에셋증권 연구원은 \"국제유가 급등과 미 국채금리 상승에 따른 부담 매물이...</td>\n",
       "    </tr>\n",
       "    <tr>\n",
       "      <th>157016</th>\n",
       "      <td>2022-01-12</td>\n",
       "      <td>[내일을 향해 쏴라!] 동서학 개미 집중! 한국 '유니퀘스트', 미국 '원메인 홀...</td>\n",
       "      <td>파월 발언에 안도, 주식시장 한파는 끝났나?- 되찾은 안정감에 저가 매수세 강하게 ...</td>\n",
       "    </tr>\n",
       "    <tr>\n",
       "      <th>157017</th>\n",
       "      <td>2022-01-17</td>\n",
       "      <td>[이진우의 주간증시] 서학개미 수익률 ‘경고등’…나스닥 200일선이 관건?</td>\n",
       "      <td>마지막으로 국제유가도 살펴볼까요? 새해들어 유가 상승세가 심상치가 않은데, 2개월만...</td>\n",
       "    </tr>\n",
       "    <tr>\n",
       "      <th>157018</th>\n",
       "      <td>2022-01-15</td>\n",
       "      <td>[뉴욕증시] 3대 지수 혼조 마감…기술주 일제히 상승</td>\n",
       "      <td>국제유가 상승하면서 에너지 업종은 2.45% 폭등했다. 또 카지노 업체들은 마카오 ...</td>\n",
       "    </tr>\n",
       "  </tbody>\n",
       "</table>\n",
       "<p>157019 rows × 3 columns</p>\n",
       "</div>"
      ],
      "text/plain": [
       "             date                                             title  \\\n",
       "0      2017-03-10                  국제유가, 美원유재고 급증에 속락…WTI 50달러선 무너져   \n",
       "1      2017-03-10                    OPEC·셰일업계 ‘삐걱’…국제유가 40달러로 주저앉나   \n",
       "2      2017-03-09                        국제유가, 심리저항선 '배럴당 50달러' 무너져   \n",
       "3      2017-03-09                [국제유가] 미국 원유재고 증가로 '급락'… WTI 5.4%↓   \n",
       "4      2017-03-09                   국제유가 50달러선 아슬아슬…셰일석유·감산연장 향후 변수   \n",
       "...           ...                                               ...   \n",
       "157014 2022-01-12          [12일 마감시황] 코스피, 기관·외국인 매수에 상승…2972.48 마감   \n",
       "157015 2022-01-18    삼성SDI SK이노베이션 훨훨... 스푸트니크주 휴메딕스 프레스티지바이오파마 ...   \n",
       "157016 2022-01-12  [내일을 향해 쏴라!] 동서학 개미 집중! 한국 '유니퀘스트', 미국 '원메인 홀...   \n",
       "157017 2022-01-17         [이진우의 주간증시] 서학개미 수익률 ‘경고등’…나스닥 200일선이 관건?   \n",
       "157018 2022-01-15                     [뉴욕증시] 3대 지수 혼조 마감…기술주 일제히 상승   \n",
       "\n",
       "                                                  summary  \n",
       "0       급락한 유가는 이날 이틀째 하강했다. 지난 3일로 끝난 주간의 미 원유재고가 전문가...  \n",
       "1       석유수출국기구(OPEC)가 지난해 힘겨운 감산 합의 끝에 끌어올려 놓은 국제유가가 ...  \n",
       "2       [WTI, 1.5% 내려가 49,54달러 기록…美 과잉생산 우려 배경] 미국 텍사스...  \n",
       "3       본문 이미지 영역 국제유가 급락. /사진=머니투데이 DB 8일(현지시간) 국제유가가...  \n",
       "4       2016.04.18 = 국제유가가 8일(현지시간) 5% 이상 급락했다. 미국 원유 ...  \n",
       "...                                                   ...  \n",
       "157014  코스피는 긴축 우려 완화, 국제 유가 급등 등에 상승 출발했다. 이후 아시아 증시 ...  \n",
       "157015  김석환 미래에셋증권 연구원은 \"국제유가 급등과 미 국채금리 상승에 따른 부담 매물이...  \n",
       "157016  파월 발언에 안도, 주식시장 한파는 끝났나?- 되찾은 안정감에 저가 매수세 강하게 ...  \n",
       "157017  마지막으로 국제유가도 살펴볼까요? 새해들어 유가 상승세가 심상치가 않은데, 2개월만...  \n",
       "157018  국제유가 상승하면서 에너지 업종은 2.45% 폭등했다. 또 카지노 업체들은 마카오 ...  \n",
       "\n",
       "[157019 rows x 3 columns]"
      ]
     },
     "execution_count": 10,
     "metadata": {},
     "output_type": "execute_result"
    }
   ],
   "source": [
    "df = pd.concat(lst).reset_index(drop=True)\n",
    "df.columns = ['date','title','summary']\n",
    "df.dropna(subset = ['date'],inplace=True)\n",
    "df"
   ]
  },
  {
   "cell_type": "code",
   "execution_count": 13,
   "metadata": {
    "ExecuteTime": {
     "end_time": "2022-02-16T07:12:27.418442Z",
     "start_time": "2022-02-16T07:08:31.722632Z"
    }
   },
   "outputs": [],
   "source": [
    "word = []\n",
    "for lines in df['title']:\n",
    "    word.extend(han.nouns(lines))\n",
    "\n"
   ]
  },
  {
   "cell_type": "code",
   "execution_count": 14,
   "metadata": {
    "ExecuteTime": {
     "end_time": "2022-02-16T07:12:28.079676Z",
     "start_time": "2022-02-16T07:12:27.866216Z"
    }
   },
   "outputs": [],
   "source": [
    "pd.Series(word).value_counts().head(200).reset_index().to_csv('keyword_ranking_korean.csv')"
   ]
  }
 ],
 "metadata": {
  "kernelspec": {
   "display_name": "Python 3 (ipykernel)",
   "language": "python",
   "name": "python3"
  },
  "language_info": {
   "codemirror_mode": {
    "name": "ipython",
    "version": 3
   },
   "file_extension": ".py",
   "mimetype": "text/x-python",
   "name": "python",
   "nbconvert_exporter": "python",
   "pygments_lexer": "ipython3",
   "version": "3.8.12"
  },
  "toc": {
   "base_numbering": 1,
   "nav_menu": {},
   "number_sections": true,
   "sideBar": true,
   "skip_h1_title": false,
   "title_cell": "Table of Contents",
   "title_sidebar": "Contents",
   "toc_cell": false,
   "toc_position": {},
   "toc_section_display": true,
   "toc_window_display": false
  },
  "varInspector": {
   "cols": {
    "lenName": 16,
    "lenType": 16,
    "lenVar": 40
   },
   "kernels_config": {
    "python": {
     "delete_cmd_postfix": "",
     "delete_cmd_prefix": "del ",
     "library": "var_list.py",
     "varRefreshCmd": "print(var_dic_list())"
    },
    "r": {
     "delete_cmd_postfix": ") ",
     "delete_cmd_prefix": "rm(",
     "library": "var_list.r",
     "varRefreshCmd": "cat(var_dic_list()) "
    }
   },
   "position": {
    "height": "144.844px",
    "left": "1560.33px",
    "right": "20px",
    "top": "112px",
    "width": "350px"
   },
   "types_to_exclude": [
    "module",
    "function",
    "builtin_function_or_method",
    "instance",
    "_Feature"
   ],
   "window_display": true
  }
 },
 "nbformat": 4,
 "nbformat_minor": 4
}
