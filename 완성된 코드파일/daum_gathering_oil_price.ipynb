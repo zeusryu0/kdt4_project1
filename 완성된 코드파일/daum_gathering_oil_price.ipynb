{
 "cells": [
  {
   "cell_type": "code",
   "execution_count": 1,
   "id": "b5f520e3",
   "metadata": {
    "ExecuteTime": {
     "end_time": "2022-02-10T01:38:25.910247Z",
     "start_time": "2022-02-10T01:38:24.388882Z"
    }
   },
   "outputs": [],
   "source": [
    "from bs4 import BeautifulSoup\n",
    "from selenium import webdriver\n",
    "import time\n",
    "from selenium.webdriver.common.keys import Keys\n",
    "import warnings\n",
    "import requests\n",
    "import re\n",
    "\n",
    "import pandas as pd\n",
    "import numpy as np\n",
    "import seaborn as sns\n",
    "import matplotlib.pyplot as plt\n",
    "warnings.filterwarnings(action='ignore')"
   ]
  },
  {
   "cell_type": "markdown",
   "id": "910124b6",
   "metadata": {},
   "source": [
    "### WTI 원유선물"
   ]
  },
  {
   "cell_type": "code",
   "execution_count": 24,
   "id": "a43ef1bd",
   "metadata": {
    "ExecuteTime": {
     "end_time": "2022-02-10T01:45:31.885562Z",
     "start_time": "2022-02-10T01:45:31.871600Z"
    }
   },
   "outputs": [],
   "source": [
    "codename = 'WTI원유선물'"
   ]
  },
  {
   "cell_type": "code",
   "execution_count": 25,
   "id": "c19fba68",
   "metadata": {
    "ExecuteTime": {
     "end_time": "2022-02-10T01:45:32.320727Z",
     "start_time": "2022-02-10T01:45:32.301780Z"
    }
   },
   "outputs": [],
   "source": [
    "import MySQLdb\n",
    "db = MySQLdb.connect(host = 'localhost', user = 'root', password = '1234')\n",
    "cursor = db.cursor()"
   ]
  },
  {
   "cell_type": "code",
   "execution_count": 26,
   "id": "986bb69a",
   "metadata": {
    "ExecuteTime": {
     "end_time": "2022-02-10T01:45:32.940805Z",
     "start_time": "2022-02-10T01:45:32.934821Z"
    }
   },
   "outputs": [],
   "source": [
    "db.commit()"
   ]
  },
  {
   "cell_type": "code",
   "execution_count": 27,
   "id": "64e688c1",
   "metadata": {
    "ExecuteTime": {
     "end_time": "2022-02-10T01:45:34.638155Z",
     "start_time": "2022-02-10T01:45:34.623186Z"
    }
   },
   "outputs": [
    {
     "data": {
      "text/plain": [
       "1"
      ]
     },
     "execution_count": 27,
     "metadata": {},
     "output_type": "execute_result"
    }
   ],
   "source": [
    "sql = \"\"\"\n",
    "    create database if not exists oil_price;\n",
    "\"\"\"\n",
    "cursor.execute(sql)"
   ]
  },
  {
   "cell_type": "code",
   "execution_count": 28,
   "id": "77718c68",
   "metadata": {
    "ExecuteTime": {
     "end_time": "2022-02-10T01:45:35.632085Z",
     "start_time": "2022-02-10T01:45:35.622116Z"
    }
   },
   "outputs": [
    {
     "data": {
      "text/plain": [
       "0"
      ]
     },
     "execution_count": 28,
     "metadata": {},
     "output_type": "execute_result"
    }
   ],
   "source": [
    "sql = \"\"\"\n",
    "    use oil_price;\n",
    "\"\"\"\n",
    "cursor.execute(sql)"
   ]
  },
  {
   "cell_type": "code",
   "execution_count": 29,
   "id": "1315b980",
   "metadata": {
    "ExecuteTime": {
     "end_time": "2022-02-10T01:45:36.831635Z",
     "start_time": "2022-02-10T01:45:36.814650Z"
    }
   },
   "outputs": [
    {
     "data": {
      "text/plain": [
       "0"
      ]
     },
     "execution_count": 29,
     "metadata": {},
     "output_type": "execute_result"
    }
   ],
   "source": [
    "sql = \"\"\"\n",
    "    drop table if exists daum;\n",
    "\"\"\"\n",
    "cursor.execute(sql)"
   ]
  },
  {
   "cell_type": "code",
   "execution_count": 30,
   "id": "b7e26ca4",
   "metadata": {
    "ExecuteTime": {
     "end_time": "2022-02-10T01:45:39.904311Z",
     "start_time": "2022-02-10T01:45:39.863746Z"
    }
   },
   "outputs": [
    {
     "data": {
      "text/plain": [
       "0"
      ]
     },
     "execution_count": 30,
     "metadata": {},
     "output_type": "execute_result"
    }
   ],
   "source": [
    "sql = \"\"\"\n",
    "    create table if not exists daum (\n",
    "        company char(20) not null,\n",
    "        date char(10) not null,\n",
    "        종가 float,\n",
    "        전일비 float,\n",
    "        등락률 float\n",
    "    );\n",
    "\"\"\"\n",
    "cursor.execute(sql)"
   ]
  },
  {
   "cell_type": "code",
   "execution_count": 11,
   "id": "e19c2261",
   "metadata": {
    "ExecuteTime": {
     "end_time": "2022-02-09T10:15:43.379480Z",
     "start_time": "2022-02-09T10:15:43.344574Z"
    }
   },
   "outputs": [
    {
     "data": {
      "text/plain": [
       "'<html>\\r\\n<head><title>403 Forbidden</title></head>\\r\\n<body bgcolor=\"white\">\\r\\n<center><h1>403 Forbidden</h1></center>\\r\\n<hr><center>nginx</center>\\r\\n</body>\\r\\n</html>\\r\\n'"
      ]
     },
     "execution_count": 11,
     "metadata": {},
     "output_type": "execute_result"
    }
   ],
   "source": [
    "# 권한 오류로 개같이 멸망\n",
    "# url = 'https://finance.daum.net/api/domestic/exchanges/COMMODITY-/CLc1/days?symbolCode=COMMODITY-%2FCLc1&page=1&perPage=30&fieldName=changeRate&order=desc&pagination=true'\n",
    "# res_set = {\n",
    "#     'symbolCode': 'COMMODITY-/CLc1',\n",
    "#     'page' : '1',\n",
    "#     'perPage': '30',\n",
    "#     'fieldName': 'changeRate',\n",
    "#     'order': 'desc',\n",
    "#     'pagination': 'true'\n",
    "# }\n",
    "# requests.post(url, res_set).text\n"
   ]
  },
  {
   "cell_type": "code",
   "execution_count": 31,
   "id": "e494e131",
   "metadata": {
    "ExecuteTime": {
     "end_time": "2022-02-10T01:45:48.867708Z",
     "start_time": "2022-02-10T01:45:47.822931Z"
    }
   },
   "outputs": [],
   "source": [
    "driver = webdriver.Chrome()"
   ]
  },
  {
   "cell_type": "code",
   "execution_count": 32,
   "id": "d13bdd45",
   "metadata": {
    "ExecuteTime": {
     "end_time": "2022-02-10T01:45:58.500235Z",
     "start_time": "2022-02-10T01:45:57.278929Z"
    }
   },
   "outputs": [],
   "source": [
    "\n",
    "url = 'https://finance.daum.net/domestic/exchange/COMMODITY-%2FCLc1'\n",
    "driver.get(url)\n",
    "time.sleep(0.5)"
   ]
  },
  {
   "cell_type": "code",
   "execution_count": 33,
   "id": "a18a9fb6",
   "metadata": {
    "ExecuteTime": {
     "end_time": "2022-02-10T01:46:07.486903Z",
     "start_time": "2022-02-10T01:46:01.726804Z"
    }
   },
   "outputs": [],
   "source": [
    "for _ in range(1):\n",
    "    for page in range(2,12):\n",
    "        html = driver.page_source\n",
    "        df = pd.read_html(html)[0]\n",
    "        df['전일비'] = df['전일비'].str.replace('▼','-').str.replace('▲','').astype('float')\n",
    "        df['등락률'] = df['등락률'].str.replace('%','').astype(float)\n",
    "        for i in range(len(df)):\n",
    "            sql = f\"\"\"\n",
    "                insert into daum values ('{codename}','{df.iloc[i,0]}',{df.iloc[i,1]}, {df.iloc[i,2]}, {df.iloc[i,3]})\"\"\"\n",
    "            cursor.execute(sql)\n",
    "        path = f'div.paging > a:nth-child({page})'\n",
    "        driver.find_element_by_css_selector(path).click()\n",
    "        time.sleep(0.5)\n",
    "db.commit()"
   ]
  },
  {
   "cell_type": "code",
   "execution_count": 34,
   "id": "b2f46124",
   "metadata": {
    "ExecuteTime": {
     "end_time": "2022-02-10T01:48:40.571968Z",
     "start_time": "2022-02-10T01:46:12.279639Z"
    }
   },
   "outputs": [
    {
     "ename": "NoSuchElementException",
     "evalue": "Message: no such element: Unable to locate element: {\"method\":\"css selector\",\"selector\":\"div.paging > a:nth-child(13)\"}\n  (Session info: chrome=98.0.4758.82)\nStacktrace:\nBacktrace:\n\tOrdinal0 [0x00AEFDC3+2555331]\n\tOrdinal0 [0x00A877F1+2127857]\n\tOrdinal0 [0x00982E08+1060360]\n\tOrdinal0 [0x009AE49E+1238174]\n\tOrdinal0 [0x009AE69B+1238683]\n\tOrdinal0 [0x009D9252+1413714]\n\tOrdinal0 [0x009C7B54+1342292]\n\tOrdinal0 [0x009D75FA+1406458]\n\tOrdinal0 [0x009C7976+1341814]\n\tOrdinal0 [0x009A36B6+1193654]\n\tOrdinal0 [0x009A4546+1197382]\n\tGetHandleVerifier [0x00C89622+1619522]\n\tGetHandleVerifier [0x00D3882C+2336844]\n\tGetHandleVerifier [0x00B823E1+541697]\n\tGetHandleVerifier [0x00B81443+537699]\n\tOrdinal0 [0x00A8D18E+2150798]\n\tOrdinal0 [0x00A91518+2168088]\n\tOrdinal0 [0x00A91660+2168416]\n\tOrdinal0 [0x00A9B330+2208560]\n\tBaseThreadInitThunk [0x7714FA29+25]\n\tRtlGetAppContainerNamedObjectPath [0x772F7A9E+286]\n\tRtlGetAppContainerNamedObjectPath [0x772F7A6E+238]\n",
     "output_type": "error",
     "traceback": [
      "\u001b[1;31m---------------------------------------------------------------------------\u001b[0m",
      "\u001b[1;31mNoSuchElementException\u001b[0m                    Traceback (most recent call last)",
      "\u001b[1;32m~\\AppData\\Local\\Temp/ipykernel_7100/1711992680.py\u001b[0m in \u001b[0;36m<module>\u001b[1;34m\u001b[0m\n\u001b[0;32m     10\u001b[0m             \u001b[0mcursor\u001b[0m\u001b[1;33m.\u001b[0m\u001b[0mexecute\u001b[0m\u001b[1;33m(\u001b[0m\u001b[0msql\u001b[0m\u001b[1;33m)\u001b[0m\u001b[1;33m\u001b[0m\u001b[1;33m\u001b[0m\u001b[0m\n\u001b[0;32m     11\u001b[0m         \u001b[0mpath\u001b[0m \u001b[1;33m=\u001b[0m \u001b[1;34mf'div.paging > a:nth-child({page})'\u001b[0m\u001b[1;33m\u001b[0m\u001b[1;33m\u001b[0m\u001b[0m\n\u001b[1;32m---> 12\u001b[1;33m         \u001b[0mdriver\u001b[0m\u001b[1;33m.\u001b[0m\u001b[0mfind_element_by_css_selector\u001b[0m\u001b[1;33m(\u001b[0m\u001b[0mpath\u001b[0m\u001b[1;33m)\u001b[0m\u001b[1;33m.\u001b[0m\u001b[0mclick\u001b[0m\u001b[1;33m(\u001b[0m\u001b[1;33m)\u001b[0m\u001b[1;33m\u001b[0m\u001b[1;33m\u001b[0m\u001b[0m\n\u001b[0m\u001b[0;32m     13\u001b[0m         \u001b[0mtime\u001b[0m\u001b[1;33m.\u001b[0m\u001b[0msleep\u001b[0m\u001b[1;33m(\u001b[0m\u001b[1;36m0.5\u001b[0m\u001b[1;33m)\u001b[0m\u001b[1;33m\u001b[0m\u001b[1;33m\u001b[0m\u001b[0m\n\u001b[0;32m     14\u001b[0m \u001b[0mdb\u001b[0m\u001b[1;33m.\u001b[0m\u001b[0mcommit\u001b[0m\u001b[1;33m(\u001b[0m\u001b[1;33m)\u001b[0m\u001b[1;33m\u001b[0m\u001b[1;33m\u001b[0m\u001b[0m\n",
      "\u001b[1;32m~\\anaconda3\\envs\\study\\lib\\site-packages\\selenium\\webdriver\\remote\\webdriver.py\u001b[0m in \u001b[0;36mfind_element_by_css_selector\u001b[1;34m(self, css_selector)\u001b[0m\n\u001b[0;32m    806\u001b[0m             \u001b[0mstacklevel\u001b[0m\u001b[1;33m=\u001b[0m\u001b[1;36m2\u001b[0m\u001b[1;33m,\u001b[0m\u001b[1;33m\u001b[0m\u001b[1;33m\u001b[0m\u001b[0m\n\u001b[0;32m    807\u001b[0m         )\n\u001b[1;32m--> 808\u001b[1;33m         \u001b[1;32mreturn\u001b[0m \u001b[0mself\u001b[0m\u001b[1;33m.\u001b[0m\u001b[0mfind_element\u001b[0m\u001b[1;33m(\u001b[0m\u001b[0mby\u001b[0m\u001b[1;33m=\u001b[0m\u001b[0mBy\u001b[0m\u001b[1;33m.\u001b[0m\u001b[0mCSS_SELECTOR\u001b[0m\u001b[1;33m,\u001b[0m \u001b[0mvalue\u001b[0m\u001b[1;33m=\u001b[0m\u001b[0mcss_selector\u001b[0m\u001b[1;33m)\u001b[0m\u001b[1;33m\u001b[0m\u001b[1;33m\u001b[0m\u001b[0m\n\u001b[0m\u001b[0;32m    809\u001b[0m \u001b[1;33m\u001b[0m\u001b[0m\n\u001b[0;32m    810\u001b[0m     \u001b[1;32mdef\u001b[0m \u001b[0mfind_elements_by_css_selector\u001b[0m\u001b[1;33m(\u001b[0m\u001b[0mself\u001b[0m\u001b[1;33m,\u001b[0m \u001b[0mcss_selector\u001b[0m\u001b[1;33m)\u001b[0m \u001b[1;33m->\u001b[0m \u001b[0mWebElement\u001b[0m\u001b[1;33m:\u001b[0m\u001b[1;33m\u001b[0m\u001b[1;33m\u001b[0m\u001b[0m\n",
      "\u001b[1;32m~\\anaconda3\\envs\\study\\lib\\site-packages\\selenium\\webdriver\\remote\\webdriver.py\u001b[0m in \u001b[0;36mfind_element\u001b[1;34m(self, by, value)\u001b[0m\n\u001b[0;32m   1242\u001b[0m             \u001b[0mvalue\u001b[0m \u001b[1;33m=\u001b[0m \u001b[1;34m'[name=\"%s\"]'\u001b[0m \u001b[1;33m%\u001b[0m \u001b[0mvalue\u001b[0m\u001b[1;33m\u001b[0m\u001b[1;33m\u001b[0m\u001b[0m\n\u001b[0;32m   1243\u001b[0m \u001b[1;33m\u001b[0m\u001b[0m\n\u001b[1;32m-> 1244\u001b[1;33m         return self.execute(Command.FIND_ELEMENT, {\n\u001b[0m\u001b[0;32m   1245\u001b[0m             \u001b[1;34m'using'\u001b[0m\u001b[1;33m:\u001b[0m \u001b[0mby\u001b[0m\u001b[1;33m,\u001b[0m\u001b[1;33m\u001b[0m\u001b[1;33m\u001b[0m\u001b[0m\n\u001b[0;32m   1246\u001b[0m             'value': value})['value']\n",
      "\u001b[1;32m~\\anaconda3\\envs\\study\\lib\\site-packages\\selenium\\webdriver\\remote\\webdriver.py\u001b[0m in \u001b[0;36mexecute\u001b[1;34m(self, driver_command, params)\u001b[0m\n\u001b[0;32m    422\u001b[0m         \u001b[0mresponse\u001b[0m \u001b[1;33m=\u001b[0m \u001b[0mself\u001b[0m\u001b[1;33m.\u001b[0m\u001b[0mcommand_executor\u001b[0m\u001b[1;33m.\u001b[0m\u001b[0mexecute\u001b[0m\u001b[1;33m(\u001b[0m\u001b[0mdriver_command\u001b[0m\u001b[1;33m,\u001b[0m \u001b[0mparams\u001b[0m\u001b[1;33m)\u001b[0m\u001b[1;33m\u001b[0m\u001b[1;33m\u001b[0m\u001b[0m\n\u001b[0;32m    423\u001b[0m         \u001b[1;32mif\u001b[0m \u001b[0mresponse\u001b[0m\u001b[1;33m:\u001b[0m\u001b[1;33m\u001b[0m\u001b[1;33m\u001b[0m\u001b[0m\n\u001b[1;32m--> 424\u001b[1;33m             \u001b[0mself\u001b[0m\u001b[1;33m.\u001b[0m\u001b[0merror_handler\u001b[0m\u001b[1;33m.\u001b[0m\u001b[0mcheck_response\u001b[0m\u001b[1;33m(\u001b[0m\u001b[0mresponse\u001b[0m\u001b[1;33m)\u001b[0m\u001b[1;33m\u001b[0m\u001b[1;33m\u001b[0m\u001b[0m\n\u001b[0m\u001b[0;32m    425\u001b[0m             response['value'] = self._unwrap_value(\n\u001b[0;32m    426\u001b[0m                 response.get('value', None))\n",
      "\u001b[1;32m~\\anaconda3\\envs\\study\\lib\\site-packages\\selenium\\webdriver\\remote\\errorhandler.py\u001b[0m in \u001b[0;36mcheck_response\u001b[1;34m(self, response)\u001b[0m\n\u001b[0;32m    245\u001b[0m                 \u001b[0malert_text\u001b[0m \u001b[1;33m=\u001b[0m \u001b[0mvalue\u001b[0m\u001b[1;33m[\u001b[0m\u001b[1;34m'alert'\u001b[0m\u001b[1;33m]\u001b[0m\u001b[1;33m.\u001b[0m\u001b[0mget\u001b[0m\u001b[1;33m(\u001b[0m\u001b[1;34m'text'\u001b[0m\u001b[1;33m)\u001b[0m\u001b[1;33m\u001b[0m\u001b[1;33m\u001b[0m\u001b[0m\n\u001b[0;32m    246\u001b[0m             \u001b[1;32mraise\u001b[0m \u001b[0mexception_class\u001b[0m\u001b[1;33m(\u001b[0m\u001b[0mmessage\u001b[0m\u001b[1;33m,\u001b[0m \u001b[0mscreen\u001b[0m\u001b[1;33m,\u001b[0m \u001b[0mstacktrace\u001b[0m\u001b[1;33m,\u001b[0m \u001b[0malert_text\u001b[0m\u001b[1;33m)\u001b[0m  \u001b[1;31m# type: ignore[call-arg]  # mypy is not smart enough here\u001b[0m\u001b[1;33m\u001b[0m\u001b[1;33m\u001b[0m\u001b[0m\n\u001b[1;32m--> 247\u001b[1;33m         \u001b[1;32mraise\u001b[0m \u001b[0mexception_class\u001b[0m\u001b[1;33m(\u001b[0m\u001b[0mmessage\u001b[0m\u001b[1;33m,\u001b[0m \u001b[0mscreen\u001b[0m\u001b[1;33m,\u001b[0m \u001b[0mstacktrace\u001b[0m\u001b[1;33m)\u001b[0m\u001b[1;33m\u001b[0m\u001b[1;33m\u001b[0m\u001b[0m\n\u001b[0m\u001b[0;32m    248\u001b[0m \u001b[1;33m\u001b[0m\u001b[0m\n\u001b[0;32m    249\u001b[0m     \u001b[1;32mdef\u001b[0m \u001b[0m_value_or_default\u001b[0m\u001b[1;33m(\u001b[0m\u001b[0mself\u001b[0m\u001b[1;33m,\u001b[0m \u001b[0mobj\u001b[0m\u001b[1;33m:\u001b[0m \u001b[0mMapping\u001b[0m\u001b[1;33m[\u001b[0m\u001b[0m_KT\u001b[0m\u001b[1;33m,\u001b[0m \u001b[0m_VT\u001b[0m\u001b[1;33m]\u001b[0m\u001b[1;33m,\u001b[0m \u001b[0mkey\u001b[0m\u001b[1;33m:\u001b[0m \u001b[0m_KT\u001b[0m\u001b[1;33m,\u001b[0m \u001b[0mdefault\u001b[0m\u001b[1;33m:\u001b[0m \u001b[0m_VT\u001b[0m\u001b[1;33m)\u001b[0m \u001b[1;33m->\u001b[0m \u001b[0m_VT\u001b[0m\u001b[1;33m:\u001b[0m\u001b[1;33m\u001b[0m\u001b[1;33m\u001b[0m\u001b[0m\n",
      "\u001b[1;31mNoSuchElementException\u001b[0m: Message: no such element: Unable to locate element: {\"method\":\"css selector\",\"selector\":\"div.paging > a:nth-child(13)\"}\n  (Session info: chrome=98.0.4758.82)\nStacktrace:\nBacktrace:\n\tOrdinal0 [0x00AEFDC3+2555331]\n\tOrdinal0 [0x00A877F1+2127857]\n\tOrdinal0 [0x00982E08+1060360]\n\tOrdinal0 [0x009AE49E+1238174]\n\tOrdinal0 [0x009AE69B+1238683]\n\tOrdinal0 [0x009D9252+1413714]\n\tOrdinal0 [0x009C7B54+1342292]\n\tOrdinal0 [0x009D75FA+1406458]\n\tOrdinal0 [0x009C7976+1341814]\n\tOrdinal0 [0x009A36B6+1193654]\n\tOrdinal0 [0x009A4546+1197382]\n\tGetHandleVerifier [0x00C89622+1619522]\n\tGetHandleVerifier [0x00D3882C+2336844]\n\tGetHandleVerifier [0x00B823E1+541697]\n\tGetHandleVerifier [0x00B81443+537699]\n\tOrdinal0 [0x00A8D18E+2150798]\n\tOrdinal0 [0x00A91518+2168088]\n\tOrdinal0 [0x00A91660+2168416]\n\tOrdinal0 [0x00A9B330+2208560]\n\tBaseThreadInitThunk [0x7714FA29+25]\n\tRtlGetAppContainerNamedObjectPath [0x772F7A9E+286]\n\tRtlGetAppContainerNamedObjectPath [0x772F7A6E+238]\n"
     ]
    }
   ],
   "source": [
    "for _ in range(26):\n",
    "    for page in range(4,14):\n",
    "        html = driver.page_source\n",
    "        df = pd.read_html(html)[0]\n",
    "        df['전일비'] = df['전일비'].str.replace('▼','-').str.replace('▲','').astype('float')\n",
    "        df['등락률'] = df['등락률'].str.replace('%','').astype(float)\n",
    "        for i in range(len(df)):\n",
    "            sql = f\"\"\"\n",
    "                insert into daum values ('{codename}','{df.iloc[i,0]}',{df.iloc[i,1]}, {df.iloc[i,2]}, {df.iloc[i,3]})\"\"\"\n",
    "            cursor.execute(sql)\n",
    "        path = f'div.paging > a:nth-child({page})'\n",
    "        driver.find_element_by_css_selector(path).click()\n",
    "        time.sleep(0.5)\n",
    "db.commit()"
   ]
  },
  {
   "cell_type": "code",
   "execution_count": null,
   "id": "0bb61d4e",
   "metadata": {},
   "outputs": [],
   "source": []
  },
  {
   "cell_type": "code",
   "execution_count": 29,
   "id": "c44b8a26",
   "metadata": {
    "ExecuteTime": {
     "end_time": "2022-02-09T10:37:45.134284Z",
     "start_time": "2022-02-09T10:37:45.097383Z"
    }
   },
   "outputs": [],
   "source": []
  },
  {
   "cell_type": "code",
   "execution_count": 35,
   "id": "b4baa328",
   "metadata": {
    "ExecuteTime": {
     "end_time": "2022-02-10T01:48:44.817378Z",
     "start_time": "2022-02-10T01:48:44.808411Z"
    }
   },
   "outputs": [],
   "source": [
    "db.commit()"
   ]
  },
  {
   "cell_type": "code",
   "execution_count": 36,
   "id": "fbbb70a3",
   "metadata": {
    "ExecuteTime": {
     "end_time": "2022-02-10T01:48:46.566178Z",
     "start_time": "2022-02-10T01:48:46.534885Z"
    },
    "scrolled": true
   },
   "outputs": [
    {
     "data": {
      "text/html": [
       "<div>\n",
       "<style scoped>\n",
       "    .dataframe tbody tr th:only-of-type {\n",
       "        vertical-align: middle;\n",
       "    }\n",
       "\n",
       "    .dataframe tbody tr th {\n",
       "        vertical-align: top;\n",
       "    }\n",
       "\n",
       "    .dataframe thead th {\n",
       "        text-align: right;\n",
       "    }\n",
       "</style>\n",
       "<table border=\"1\" class=\"dataframe\">\n",
       "  <thead>\n",
       "    <tr style=\"text-align: right;\">\n",
       "      <th></th>\n",
       "      <th>company</th>\n",
       "      <th>date</th>\n",
       "      <th>종가</th>\n",
       "      <th>전일비</th>\n",
       "      <th>등락률</th>\n",
       "    </tr>\n",
       "  </thead>\n",
       "  <tbody>\n",
       "    <tr>\n",
       "      <th>0</th>\n",
       "      <td>WTI원유선물</td>\n",
       "      <td>2022.02.09</td>\n",
       "      <td>89.66</td>\n",
       "      <td>0.30</td>\n",
       "      <td>0.34</td>\n",
       "    </tr>\n",
       "    <tr>\n",
       "      <th>1</th>\n",
       "      <td>WTI원유선물</td>\n",
       "      <td>2022.02.08</td>\n",
       "      <td>89.36</td>\n",
       "      <td>-1.96</td>\n",
       "      <td>-2.15</td>\n",
       "    </tr>\n",
       "    <tr>\n",
       "      <th>2</th>\n",
       "      <td>WTI원유선물</td>\n",
       "      <td>2022.02.07</td>\n",
       "      <td>91.32</td>\n",
       "      <td>-0.99</td>\n",
       "      <td>-1.07</td>\n",
       "    </tr>\n",
       "    <tr>\n",
       "      <th>3</th>\n",
       "      <td>WTI원유선물</td>\n",
       "      <td>2022.02.04</td>\n",
       "      <td>92.31</td>\n",
       "      <td>2.04</td>\n",
       "      <td>2.26</td>\n",
       "    </tr>\n",
       "    <tr>\n",
       "      <th>4</th>\n",
       "      <td>WTI원유선물</td>\n",
       "      <td>2022.02.03</td>\n",
       "      <td>90.27</td>\n",
       "      <td>2.01</td>\n",
       "      <td>2.28</td>\n",
       "    </tr>\n",
       "    <tr>\n",
       "      <th>...</th>\n",
       "      <td>...</td>\n",
       "      <td>...</td>\n",
       "      <td>...</td>\n",
       "      <td>...</td>\n",
       "      <td>...</td>\n",
       "    </tr>\n",
       "    <tr>\n",
       "      <th>8067</th>\n",
       "      <td>WTI원유선물</td>\n",
       "      <td>1990.01.08</td>\n",
       "      <td>21.62</td>\n",
       "      <td>-1.46</td>\n",
       "      <td>-6.33</td>\n",
       "    </tr>\n",
       "    <tr>\n",
       "      <th>8068</th>\n",
       "      <td>WTI원유선물</td>\n",
       "      <td>1990.01.05</td>\n",
       "      <td>23.08</td>\n",
       "      <td>-0.33</td>\n",
       "      <td>-1.41</td>\n",
       "    </tr>\n",
       "    <tr>\n",
       "      <th>8069</th>\n",
       "      <td>WTI원유선물</td>\n",
       "      <td>1990.01.04</td>\n",
       "      <td>23.41</td>\n",
       "      <td>-0.27</td>\n",
       "      <td>-1.14</td>\n",
       "    </tr>\n",
       "    <tr>\n",
       "      <th>8070</th>\n",
       "      <td>WTI원유선물</td>\n",
       "      <td>1990.01.03</td>\n",
       "      <td>23.68</td>\n",
       "      <td>0.79</td>\n",
       "      <td>3.45</td>\n",
       "    </tr>\n",
       "    <tr>\n",
       "      <th>8071</th>\n",
       "      <td>WTI원유선물</td>\n",
       "      <td>1990.01.02</td>\n",
       "      <td>22.89</td>\n",
       "      <td>-91.04</td>\n",
       "      <td>-79.91</td>\n",
       "    </tr>\n",
       "  </tbody>\n",
       "</table>\n",
       "<p>8072 rows × 5 columns</p>\n",
       "</div>"
      ],
      "text/plain": [
       "      company        date     종가    전일비    등락률\n",
       "0     WTI원유선물  2022.02.09  89.66   0.30   0.34\n",
       "1     WTI원유선물  2022.02.08  89.36  -1.96  -2.15\n",
       "2     WTI원유선물  2022.02.07  91.32  -0.99  -1.07\n",
       "3     WTI원유선물  2022.02.04  92.31   2.04   2.26\n",
       "4     WTI원유선물  2022.02.03  90.27   2.01   2.28\n",
       "...       ...         ...    ...    ...    ...\n",
       "8067  WTI원유선물  1990.01.08  21.62  -1.46  -6.33\n",
       "8068  WTI원유선물  1990.01.05  23.08  -0.33  -1.41\n",
       "8069  WTI원유선물  1990.01.04  23.41  -0.27  -1.14\n",
       "8070  WTI원유선물  1990.01.03  23.68   0.79   3.45\n",
       "8071  WTI원유선물  1990.01.02  22.89 -91.04 -79.91\n",
       "\n",
       "[8072 rows x 5 columns]"
      ]
     },
     "execution_count": 36,
     "metadata": {},
     "output_type": "execute_result"
    }
   ],
   "source": [
    "pd.read_sql('select * from daum', db)"
   ]
  },
  {
   "cell_type": "markdown",
   "id": "ef9fce2b",
   "metadata": {},
   "source": [
    "### 두바이유"
   ]
  },
  {
   "cell_type": "code",
   "execution_count": 37,
   "id": "6f43711d",
   "metadata": {
    "ExecuteTime": {
     "end_time": "2022-02-10T01:48:49.578536Z",
     "start_time": "2022-02-10T01:48:49.567563Z"
    }
   },
   "outputs": [],
   "source": [
    "codename = '두바이유선물'"
   ]
  },
  {
   "cell_type": "code",
   "execution_count": 38,
   "id": "51eafb20",
   "metadata": {
    "ExecuteTime": {
     "end_time": "2022-02-10T01:48:50.027116Z",
     "start_time": "2022-02-10T01:48:50.010133Z"
    }
   },
   "outputs": [],
   "source": [
    "import MySQLdb\n",
    "db = MySQLdb.connect(host = 'localhost', user = 'root', password = '1234')\n",
    "cursor = db.cursor()"
   ]
  },
  {
   "cell_type": "code",
   "execution_count": 39,
   "id": "a72f3098",
   "metadata": {
    "ExecuteTime": {
     "end_time": "2022-02-10T01:48:50.787214Z",
     "start_time": "2022-02-10T01:48:50.768264Z"
    }
   },
   "outputs": [
    {
     "data": {
      "text/plain": [
       "0"
      ]
     },
     "execution_count": 39,
     "metadata": {},
     "output_type": "execute_result"
    }
   ],
   "source": [
    "sql = \"\"\"\n",
    "    use oil_price;\n",
    "\"\"\"\n",
    "cursor.execute(sql)"
   ]
  },
  {
   "cell_type": "code",
   "execution_count": 40,
   "id": "3a9c1f77",
   "metadata": {
    "ExecuteTime": {
     "end_time": "2022-02-10T01:48:54.163348Z",
     "start_time": "2022-02-10T01:48:53.551874Z"
    }
   },
   "outputs": [],
   "source": [
    "url = 'https://finance.daum.net/domestic/exchange/COMMODITY-%2FDCc1'\n",
    "driver.get(url)\n",
    "time.sleep(0.5)"
   ]
  },
  {
   "cell_type": "code",
   "execution_count": 41,
   "id": "47854f2f",
   "metadata": {
    "ExecuteTime": {
     "end_time": "2022-02-10T01:49:06.767979Z",
     "start_time": "2022-02-10T01:49:01.006741Z"
    }
   },
   "outputs": [],
   "source": [
    "# 1~10\n",
    "for _ in range(1):\n",
    "    for page in range(2,12):\n",
    "        html = driver.page_source\n",
    "        df = pd.read_html(html)[0]\n",
    "        df['전일비'] = df['전일비'].str.replace('▼','-').str.replace('▲','').astype('float')\n",
    "        df['등락률'] = df['등락률'].str.replace('%','').astype(float)\n",
    "        for i in range(len(df)):\n",
    "            sql = f\"\"\"\n",
    "                insert into daum values ('{codename}','{df.iloc[i,0]}',{df.iloc[i,1]}, {df.iloc[i,2]}, {df.iloc[i,3]})\"\"\"\n",
    "            cursor.execute(sql)\n",
    "        path = f'div.paging > a:nth-child({page})'\n",
    "        driver.find_element_by_css_selector(path).click()\n",
    "        time.sleep(0.5)\n",
    "db.commit()"
   ]
  },
  {
   "cell_type": "code",
   "execution_count": 42,
   "id": "0e2d2858",
   "metadata": {
    "ExecuteTime": {
     "end_time": "2022-02-10T01:50:27.720569Z",
     "start_time": "2022-02-10T01:49:13.360159Z"
    }
   },
   "outputs": [],
   "source": [
    "# 11~130\n",
    "for _ in range(13):\n",
    "    for page in range(4,14):\n",
    "        html = driver.page_source\n",
    "        df = pd.read_html(html)[0]\n",
    "        df['전일비'] = df['전일비'].str.replace('▼','-').str.replace('▲','').astype('float')\n",
    "        df['등락률'] = df['등락률'].str.replace('%','').astype(float)\n",
    "        for i in range(len(df)):\n",
    "            sql = f\"\"\"\n",
    "                insert into daum values ('{codename}','{df.iloc[i,0]}',{df.iloc[i,1]}, {df.iloc[i,2]}, {df.iloc[i,3]})\"\"\"\n",
    "            cursor.execute(sql)\n",
    "        path = f'div.paging > a:nth-child({page})'\n",
    "        driver.find_element_by_css_selector(path).click()\n",
    "        time.sleep(0.5)\n",
    "db.commit()"
   ]
  },
  {
   "cell_type": "code",
   "execution_count": 56,
   "id": "3e9fbe8a",
   "metadata": {
    "ExecuteTime": {
     "end_time": "2022-02-10T01:56:21.944328Z",
     "start_time": "2022-02-10T01:56:20.187638Z"
    }
   },
   "outputs": [
    {
     "ename": "NoSuchElementException",
     "evalue": "Message: no such element: Unable to locate element: {\"method\":\"css selector\",\"selector\":\"div.paging > a:nth-child(13)\"}\n  (Session info: chrome=98.0.4758.82)\nStacktrace:\nBacktrace:\n\tOrdinal0 [0x00AEFDC3+2555331]\n\tOrdinal0 [0x00A877F1+2127857]\n\tOrdinal0 [0x00982E08+1060360]\n\tOrdinal0 [0x009AE49E+1238174]\n\tOrdinal0 [0x009AE69B+1238683]\n\tOrdinal0 [0x009D9252+1413714]\n\tOrdinal0 [0x009C7B54+1342292]\n\tOrdinal0 [0x009D75FA+1406458]\n\tOrdinal0 [0x009C7976+1341814]\n\tOrdinal0 [0x009A36B6+1193654]\n\tOrdinal0 [0x009A4546+1197382]\n\tGetHandleVerifier [0x00C89622+1619522]\n\tGetHandleVerifier [0x00D3882C+2336844]\n\tGetHandleVerifier [0x00B823E1+541697]\n\tGetHandleVerifier [0x00B81443+537699]\n\tOrdinal0 [0x00A8D18E+2150798]\n\tOrdinal0 [0x00A91518+2168088]\n\tOrdinal0 [0x00A91660+2168416]\n\tOrdinal0 [0x00A9B330+2208560]\n\tBaseThreadInitThunk [0x7714FA29+25]\n\tRtlGetAppContainerNamedObjectPath [0x772F7A9E+286]\n\tRtlGetAppContainerNamedObjectPath [0x772F7A6E+238]\n",
     "output_type": "error",
     "traceback": [
      "\u001b[1;31m---------------------------------------------------------------------------\u001b[0m",
      "\u001b[1;31mNoSuchElementException\u001b[0m                    Traceback (most recent call last)",
      "\u001b[1;32m~\\AppData\\Local\\Temp/ipykernel_7100/3194953080.py\u001b[0m in \u001b[0;36m<module>\u001b[1;34m\u001b[0m\n\u001b[0;32m     11\u001b[0m             \u001b[0mcursor\u001b[0m\u001b[1;33m.\u001b[0m\u001b[0mexecute\u001b[0m\u001b[1;33m(\u001b[0m\u001b[0msql\u001b[0m\u001b[1;33m)\u001b[0m\u001b[1;33m\u001b[0m\u001b[1;33m\u001b[0m\u001b[0m\n\u001b[0;32m     12\u001b[0m         \u001b[0mpath\u001b[0m \u001b[1;33m=\u001b[0m \u001b[1;34mf'div.paging > a:nth-child({page})'\u001b[0m\u001b[1;33m\u001b[0m\u001b[1;33m\u001b[0m\u001b[0m\n\u001b[1;32m---> 13\u001b[1;33m         \u001b[0mdriver\u001b[0m\u001b[1;33m.\u001b[0m\u001b[0mfind_element_by_css_selector\u001b[0m\u001b[1;33m(\u001b[0m\u001b[0mpath\u001b[0m\u001b[1;33m)\u001b[0m\u001b[1;33m.\u001b[0m\u001b[0mclick\u001b[0m\u001b[1;33m(\u001b[0m\u001b[1;33m)\u001b[0m\u001b[1;33m\u001b[0m\u001b[1;33m\u001b[0m\u001b[0m\n\u001b[0m\u001b[0;32m     14\u001b[0m         \u001b[0mtime\u001b[0m\u001b[1;33m.\u001b[0m\u001b[0msleep\u001b[0m\u001b[1;33m(\u001b[0m\u001b[1;36m0.5\u001b[0m\u001b[1;33m)\u001b[0m\u001b[1;33m\u001b[0m\u001b[1;33m\u001b[0m\u001b[0m\n\u001b[0;32m     15\u001b[0m \u001b[0mdb\u001b[0m\u001b[1;33m.\u001b[0m\u001b[0mcommit\u001b[0m\u001b[1;33m(\u001b[0m\u001b[1;33m)\u001b[0m\u001b[1;33m\u001b[0m\u001b[1;33m\u001b[0m\u001b[0m\n",
      "\u001b[1;32m~\\anaconda3\\envs\\study\\lib\\site-packages\\selenium\\webdriver\\remote\\webdriver.py\u001b[0m in \u001b[0;36mfind_element_by_css_selector\u001b[1;34m(self, css_selector)\u001b[0m\n\u001b[0;32m    806\u001b[0m             \u001b[0mstacklevel\u001b[0m\u001b[1;33m=\u001b[0m\u001b[1;36m2\u001b[0m\u001b[1;33m,\u001b[0m\u001b[1;33m\u001b[0m\u001b[1;33m\u001b[0m\u001b[0m\n\u001b[0;32m    807\u001b[0m         )\n\u001b[1;32m--> 808\u001b[1;33m         \u001b[1;32mreturn\u001b[0m \u001b[0mself\u001b[0m\u001b[1;33m.\u001b[0m\u001b[0mfind_element\u001b[0m\u001b[1;33m(\u001b[0m\u001b[0mby\u001b[0m\u001b[1;33m=\u001b[0m\u001b[0mBy\u001b[0m\u001b[1;33m.\u001b[0m\u001b[0mCSS_SELECTOR\u001b[0m\u001b[1;33m,\u001b[0m \u001b[0mvalue\u001b[0m\u001b[1;33m=\u001b[0m\u001b[0mcss_selector\u001b[0m\u001b[1;33m)\u001b[0m\u001b[1;33m\u001b[0m\u001b[1;33m\u001b[0m\u001b[0m\n\u001b[0m\u001b[0;32m    809\u001b[0m \u001b[1;33m\u001b[0m\u001b[0m\n\u001b[0;32m    810\u001b[0m     \u001b[1;32mdef\u001b[0m \u001b[0mfind_elements_by_css_selector\u001b[0m\u001b[1;33m(\u001b[0m\u001b[0mself\u001b[0m\u001b[1;33m,\u001b[0m \u001b[0mcss_selector\u001b[0m\u001b[1;33m)\u001b[0m \u001b[1;33m->\u001b[0m \u001b[0mWebElement\u001b[0m\u001b[1;33m:\u001b[0m\u001b[1;33m\u001b[0m\u001b[1;33m\u001b[0m\u001b[0m\n",
      "\u001b[1;32m~\\anaconda3\\envs\\study\\lib\\site-packages\\selenium\\webdriver\\remote\\webdriver.py\u001b[0m in \u001b[0;36mfind_element\u001b[1;34m(self, by, value)\u001b[0m\n\u001b[0;32m   1242\u001b[0m             \u001b[0mvalue\u001b[0m \u001b[1;33m=\u001b[0m \u001b[1;34m'[name=\"%s\"]'\u001b[0m \u001b[1;33m%\u001b[0m \u001b[0mvalue\u001b[0m\u001b[1;33m\u001b[0m\u001b[1;33m\u001b[0m\u001b[0m\n\u001b[0;32m   1243\u001b[0m \u001b[1;33m\u001b[0m\u001b[0m\n\u001b[1;32m-> 1244\u001b[1;33m         return self.execute(Command.FIND_ELEMENT, {\n\u001b[0m\u001b[0;32m   1245\u001b[0m             \u001b[1;34m'using'\u001b[0m\u001b[1;33m:\u001b[0m \u001b[0mby\u001b[0m\u001b[1;33m,\u001b[0m\u001b[1;33m\u001b[0m\u001b[1;33m\u001b[0m\u001b[0m\n\u001b[0;32m   1246\u001b[0m             'value': value})['value']\n",
      "\u001b[1;32m~\\anaconda3\\envs\\study\\lib\\site-packages\\selenium\\webdriver\\remote\\webdriver.py\u001b[0m in \u001b[0;36mexecute\u001b[1;34m(self, driver_command, params)\u001b[0m\n\u001b[0;32m    422\u001b[0m         \u001b[0mresponse\u001b[0m \u001b[1;33m=\u001b[0m \u001b[0mself\u001b[0m\u001b[1;33m.\u001b[0m\u001b[0mcommand_executor\u001b[0m\u001b[1;33m.\u001b[0m\u001b[0mexecute\u001b[0m\u001b[1;33m(\u001b[0m\u001b[0mdriver_command\u001b[0m\u001b[1;33m,\u001b[0m \u001b[0mparams\u001b[0m\u001b[1;33m)\u001b[0m\u001b[1;33m\u001b[0m\u001b[1;33m\u001b[0m\u001b[0m\n\u001b[0;32m    423\u001b[0m         \u001b[1;32mif\u001b[0m \u001b[0mresponse\u001b[0m\u001b[1;33m:\u001b[0m\u001b[1;33m\u001b[0m\u001b[1;33m\u001b[0m\u001b[0m\n\u001b[1;32m--> 424\u001b[1;33m             \u001b[0mself\u001b[0m\u001b[1;33m.\u001b[0m\u001b[0merror_handler\u001b[0m\u001b[1;33m.\u001b[0m\u001b[0mcheck_response\u001b[0m\u001b[1;33m(\u001b[0m\u001b[0mresponse\u001b[0m\u001b[1;33m)\u001b[0m\u001b[1;33m\u001b[0m\u001b[1;33m\u001b[0m\u001b[0m\n\u001b[0m\u001b[0;32m    425\u001b[0m             response['value'] = self._unwrap_value(\n\u001b[0;32m    426\u001b[0m                 response.get('value', None))\n",
      "\u001b[1;32m~\\anaconda3\\envs\\study\\lib\\site-packages\\selenium\\webdriver\\remote\\errorhandler.py\u001b[0m in \u001b[0;36mcheck_response\u001b[1;34m(self, response)\u001b[0m\n\u001b[0;32m    245\u001b[0m                 \u001b[0malert_text\u001b[0m \u001b[1;33m=\u001b[0m \u001b[0mvalue\u001b[0m\u001b[1;33m[\u001b[0m\u001b[1;34m'alert'\u001b[0m\u001b[1;33m]\u001b[0m\u001b[1;33m.\u001b[0m\u001b[0mget\u001b[0m\u001b[1;33m(\u001b[0m\u001b[1;34m'text'\u001b[0m\u001b[1;33m)\u001b[0m\u001b[1;33m\u001b[0m\u001b[1;33m\u001b[0m\u001b[0m\n\u001b[0;32m    246\u001b[0m             \u001b[1;32mraise\u001b[0m \u001b[0mexception_class\u001b[0m\u001b[1;33m(\u001b[0m\u001b[0mmessage\u001b[0m\u001b[1;33m,\u001b[0m \u001b[0mscreen\u001b[0m\u001b[1;33m,\u001b[0m \u001b[0mstacktrace\u001b[0m\u001b[1;33m,\u001b[0m \u001b[0malert_text\u001b[0m\u001b[1;33m)\u001b[0m  \u001b[1;31m# type: ignore[call-arg]  # mypy is not smart enough here\u001b[0m\u001b[1;33m\u001b[0m\u001b[1;33m\u001b[0m\u001b[0m\n\u001b[1;32m--> 247\u001b[1;33m         \u001b[1;32mraise\u001b[0m \u001b[0mexception_class\u001b[0m\u001b[1;33m(\u001b[0m\u001b[0mmessage\u001b[0m\u001b[1;33m,\u001b[0m \u001b[0mscreen\u001b[0m\u001b[1;33m,\u001b[0m \u001b[0mstacktrace\u001b[0m\u001b[1;33m)\u001b[0m\u001b[1;33m\u001b[0m\u001b[1;33m\u001b[0m\u001b[0m\n\u001b[0m\u001b[0;32m    248\u001b[0m \u001b[1;33m\u001b[0m\u001b[0m\n\u001b[0;32m    249\u001b[0m     \u001b[1;32mdef\u001b[0m \u001b[0m_value_or_default\u001b[0m\u001b[1;33m(\u001b[0m\u001b[0mself\u001b[0m\u001b[1;33m,\u001b[0m \u001b[0mobj\u001b[0m\u001b[1;33m:\u001b[0m \u001b[0mMapping\u001b[0m\u001b[1;33m[\u001b[0m\u001b[0m_KT\u001b[0m\u001b[1;33m,\u001b[0m \u001b[0m_VT\u001b[0m\u001b[1;33m]\u001b[0m\u001b[1;33m,\u001b[0m \u001b[0mkey\u001b[0m\u001b[1;33m:\u001b[0m \u001b[0m_KT\u001b[0m\u001b[1;33m,\u001b[0m \u001b[0mdefault\u001b[0m\u001b[1;33m:\u001b[0m \u001b[0m_VT\u001b[0m\u001b[1;33m)\u001b[0m \u001b[1;33m->\u001b[0m \u001b[0m_VT\u001b[0m\u001b[1;33m:\u001b[0m\u001b[1;33m\u001b[0m\u001b[1;33m\u001b[0m\u001b[0m\n",
      "\u001b[1;31mNoSuchElementException\u001b[0m: Message: no such element: Unable to locate element: {\"method\":\"css selector\",\"selector\":\"div.paging > a:nth-child(13)\"}\n  (Session info: chrome=98.0.4758.82)\nStacktrace:\nBacktrace:\n\tOrdinal0 [0x00AEFDC3+2555331]\n\tOrdinal0 [0x00A877F1+2127857]\n\tOrdinal0 [0x00982E08+1060360]\n\tOrdinal0 [0x009AE49E+1238174]\n\tOrdinal0 [0x009AE69B+1238683]\n\tOrdinal0 [0x009D9252+1413714]\n\tOrdinal0 [0x009C7B54+1342292]\n\tOrdinal0 [0x009D75FA+1406458]\n\tOrdinal0 [0x009C7976+1341814]\n\tOrdinal0 [0x009A36B6+1193654]\n\tOrdinal0 [0x009A4546+1197382]\n\tGetHandleVerifier [0x00C89622+1619522]\n\tGetHandleVerifier [0x00D3882C+2336844]\n\tGetHandleVerifier [0x00B823E1+541697]\n\tGetHandleVerifier [0x00B81443+537699]\n\tOrdinal0 [0x00A8D18E+2150798]\n\tOrdinal0 [0x00A91518+2168088]\n\tOrdinal0 [0x00A91660+2168416]\n\tOrdinal0 [0x00A9B330+2208560]\n\tBaseThreadInitThunk [0x7714FA29+25]\n\tRtlGetAppContainerNamedObjectPath [0x772F7A9E+286]\n\tRtlGetAppContainerNamedObjectPath [0x772F7A6E+238]\n"
     ]
    }
   ],
   "source": [
    "# 131~134\n",
    "for _ in range(1):\n",
    "    for page in range(10,16):\n",
    "        html = driver.page_source\n",
    "        df = pd.read_html(html)[0]\n",
    "        df['전일비'] = df['전일비'].str.replace('▼','-').str.replace('▲','').astype('float')\n",
    "        df['등락률'] = df['등락률'].str.replace('%','').astype(float)\n",
    "        for i in range(len(df)):\n",
    "            sql = f\"\"\"\n",
    "                insert into daum values ('{codename}','{df.iloc[i,0]}',{df.iloc[i,1]}, {df.iloc[i,2]}, {df.iloc[i,3]})\"\"\"\n",
    "            cursor.execute(sql)\n",
    "        path = f'div.paging > a:nth-child({page})'\n",
    "        driver.find_element_by_css_selector(path).click()\n",
    "        time.sleep(0.5)\n",
    "db.commit()"
   ]
  },
  {
   "cell_type": "code",
   "execution_count": 66,
   "id": "2f187497",
   "metadata": {
    "ExecuteTime": {
     "end_time": "2022-02-10T02:05:10.108889Z",
     "start_time": "2022-02-10T02:05:10.103902Z"
    }
   },
   "outputs": [],
   "source": [
    "db.commit()"
   ]
  },
  {
   "cell_type": "code",
   "execution_count": 67,
   "id": "65e80b98",
   "metadata": {
    "ExecuteTime": {
     "end_time": "2022-02-10T02:05:38.596622Z",
     "start_time": "2022-02-10T02:05:38.544324Z"
    },
    "scrolled": true
   },
   "outputs": [
    {
     "data": {
      "text/html": [
       "<div>\n",
       "<style scoped>\n",
       "    .dataframe tbody tr th:only-of-type {\n",
       "        vertical-align: middle;\n",
       "    }\n",
       "\n",
       "    .dataframe tbody tr th {\n",
       "        vertical-align: top;\n",
       "    }\n",
       "\n",
       "    .dataframe thead th {\n",
       "        text-align: right;\n",
       "    }\n",
       "</style>\n",
       "<table border=\"1\" class=\"dataframe\">\n",
       "  <thead>\n",
       "    <tr style=\"text-align: right;\">\n",
       "      <th></th>\n",
       "      <th>company</th>\n",
       "      <th>date</th>\n",
       "      <th>종가</th>\n",
       "      <th>전일비</th>\n",
       "      <th>등락률</th>\n",
       "    </tr>\n",
       "  </thead>\n",
       "  <tbody>\n",
       "    <tr>\n",
       "      <th>0</th>\n",
       "      <td>WTI원유선물</td>\n",
       "      <td>2022.02.09</td>\n",
       "      <td>89.66</td>\n",
       "      <td>0.30</td>\n",
       "      <td>0.34</td>\n",
       "    </tr>\n",
       "    <tr>\n",
       "      <th>1</th>\n",
       "      <td>WTI원유선물</td>\n",
       "      <td>2022.02.08</td>\n",
       "      <td>89.36</td>\n",
       "      <td>-1.96</td>\n",
       "      <td>-2.15</td>\n",
       "    </tr>\n",
       "    <tr>\n",
       "      <th>2</th>\n",
       "      <td>WTI원유선물</td>\n",
       "      <td>2022.02.07</td>\n",
       "      <td>91.32</td>\n",
       "      <td>-0.99</td>\n",
       "      <td>-1.07</td>\n",
       "    </tr>\n",
       "    <tr>\n",
       "      <th>3</th>\n",
       "      <td>WTI원유선물</td>\n",
       "      <td>2022.02.04</td>\n",
       "      <td>92.31</td>\n",
       "      <td>2.04</td>\n",
       "      <td>2.26</td>\n",
       "    </tr>\n",
       "    <tr>\n",
       "      <th>4</th>\n",
       "      <td>WTI원유선물</td>\n",
       "      <td>2022.02.03</td>\n",
       "      <td>90.27</td>\n",
       "      <td>2.01</td>\n",
       "      <td>2.28</td>\n",
       "    </tr>\n",
       "    <tr>\n",
       "      <th>...</th>\n",
       "      <td>...</td>\n",
       "      <td>...</td>\n",
       "      <td>...</td>\n",
       "      <td>...</td>\n",
       "      <td>...</td>\n",
       "    </tr>\n",
       "    <tr>\n",
       "      <th>13111</th>\n",
       "      <td>두바이유선물</td>\n",
       "      <td>2006.01.17</td>\n",
       "      <td>60.25</td>\n",
       "      <td>2.45</td>\n",
       "      <td>4.24</td>\n",
       "    </tr>\n",
       "    <tr>\n",
       "      <th>13112</th>\n",
       "      <td>두바이유선물</td>\n",
       "      <td>2006.01.13</td>\n",
       "      <td>57.80</td>\n",
       "      <td>-0.31</td>\n",
       "      <td>-0.53</td>\n",
       "    </tr>\n",
       "    <tr>\n",
       "      <th>13113</th>\n",
       "      <td>두바이유선물</td>\n",
       "      <td>2006.01.12</td>\n",
       "      <td>58.11</td>\n",
       "      <td>0.42</td>\n",
       "      <td>0.73</td>\n",
       "    </tr>\n",
       "    <tr>\n",
       "      <th>13114</th>\n",
       "      <td>두바이유선물</td>\n",
       "      <td>2006.01.11</td>\n",
       "      <td>57.69</td>\n",
       "      <td>-0.38</td>\n",
       "      <td>-0.65</td>\n",
       "    </tr>\n",
       "    <tr>\n",
       "      <th>13115</th>\n",
       "      <td>두바이유선물</td>\n",
       "      <td>2006.01.10</td>\n",
       "      <td>58.07</td>\n",
       "      <td>-1.03</td>\n",
       "      <td>-1.74</td>\n",
       "    </tr>\n",
       "  </tbody>\n",
       "</table>\n",
       "<p>13116 rows × 5 columns</p>\n",
       "</div>"
      ],
      "text/plain": [
       "       company        date     종가   전일비   등락률\n",
       "0      WTI원유선물  2022.02.09  89.66  0.30  0.34\n",
       "1      WTI원유선물  2022.02.08  89.36 -1.96 -2.15\n",
       "2      WTI원유선물  2022.02.07  91.32 -0.99 -1.07\n",
       "3      WTI원유선물  2022.02.04  92.31  2.04  2.26\n",
       "4      WTI원유선물  2022.02.03  90.27  2.01  2.28\n",
       "...        ...         ...    ...   ...   ...\n",
       "13111   두바이유선물  2006.01.17  60.25  2.45  4.24\n",
       "13112   두바이유선물  2006.01.13  57.80 -0.31 -0.53\n",
       "13113   두바이유선물  2006.01.12  58.11  0.42  0.73\n",
       "13114   두바이유선물  2006.01.11  57.69 -0.38 -0.65\n",
       "13115   두바이유선물  2006.01.10  58.07 -1.03 -1.74\n",
       "\n",
       "[13116 rows x 5 columns]"
      ]
     },
     "execution_count": 67,
     "metadata": {},
     "output_type": "execute_result"
    }
   ],
   "source": [
    "tmpdf =pd.read_sql('select * from daum', db)\n",
    "tmpdf"
   ]
  },
  {
   "cell_type": "markdown",
   "id": "9bdd2f01",
   "metadata": {},
   "source": [
    "### 브렌트원유"
   ]
  },
  {
   "cell_type": "code",
   "execution_count": 68,
   "id": "d4f33a74",
   "metadata": {
    "ExecuteTime": {
     "end_time": "2022-02-10T02:05:55.425197Z",
     "start_time": "2022-02-10T02:05:55.416221Z"
    }
   },
   "outputs": [],
   "source": [
    "codename = '브렌트원유선물'"
   ]
  },
  {
   "cell_type": "code",
   "execution_count": 69,
   "id": "0f7b13eb",
   "metadata": {
    "ExecuteTime": {
     "end_time": "2022-02-10T02:05:56.045959Z",
     "start_time": "2022-02-10T02:05:56.031966Z"
    }
   },
   "outputs": [],
   "source": [
    "import MySQLdb\n",
    "db = MySQLdb.connect(host = 'localhost', user = 'root', password = '1234')\n",
    "cursor = db.cursor()"
   ]
  },
  {
   "cell_type": "code",
   "execution_count": 70,
   "id": "f1c7ecb8",
   "metadata": {
    "ExecuteTime": {
     "end_time": "2022-02-10T02:05:57.121524Z",
     "start_time": "2022-02-10T02:05:57.112517Z"
    }
   },
   "outputs": [
    {
     "data": {
      "text/plain": [
       "0"
      ]
     },
     "execution_count": 70,
     "metadata": {},
     "output_type": "execute_result"
    }
   ],
   "source": [
    "sql = \"\"\"\n",
    "    use oil_price;\n",
    "\"\"\"\n",
    "cursor.execute(sql)"
   ]
  },
  {
   "cell_type": "code",
   "execution_count": 71,
   "id": "c458d880",
   "metadata": {
    "ExecuteTime": {
     "end_time": "2022-02-10T02:05:59.420583Z",
     "start_time": "2022-02-10T02:05:58.632719Z"
    }
   },
   "outputs": [],
   "source": [
    "url = 'https://finance.daum.net/domestic/exchange/COMMODITY-%2FLCOc1'\n",
    "driver.get(url)\n",
    "time.sleep(0.5)"
   ]
  },
  {
   "cell_type": "code",
   "execution_count": 72,
   "id": "dcb1fcab",
   "metadata": {
    "ExecuteTime": {
     "end_time": "2022-02-10T02:06:08.599698Z",
     "start_time": "2022-02-10T02:06:02.878604Z"
    }
   },
   "outputs": [],
   "source": [
    "# 1~10\n",
    "for _ in range(1):\n",
    "    for page in range(2,12):\n",
    "        html = driver.page_source\n",
    "        df = pd.read_html(html)[0]\n",
    "        df['전일비'] = df['전일비'].str.replace('▼','-').str.replace('▲','').astype('float')\n",
    "        df['등락률'] = df['등락률'].str.replace('%','').astype(float)\n",
    "        for i in range(len(df)):\n",
    "            sql = f\"\"\"\n",
    "                insert into daum values ('{codename}','{df.iloc[i,0]}',{df.iloc[i,1]}, {df.iloc[i,2]}, {df.iloc[i,3]})\"\"\"\n",
    "            cursor.execute(sql)\n",
    "        path = f'div.paging > a:nth-child({page})'\n",
    "        driver.find_element_by_css_selector(path).click()\n",
    "        time.sleep(0.5)\n",
    "db.commit()"
   ]
  },
  {
   "cell_type": "code",
   "execution_count": 73,
   "id": "0d8332f6",
   "metadata": {
    "ExecuteTime": {
     "end_time": "2022-02-10T02:08:50.147764Z",
     "start_time": "2022-02-10T02:06:15.128295Z"
    }
   },
   "outputs": [],
   "source": [
    "# 11~270\n",
    "for _ in range(27):\n",
    "    for page in range(4,14):\n",
    "        html = driver.page_source\n",
    "        df = pd.read_html(html)[0]\n",
    "        df['전일비'] = df['전일비'].str.replace('▼','-').str.replace('▲','').astype('float')\n",
    "        df['등락률'] = df['등락률'].str.replace('%','').astype(float)\n",
    "        for i in range(len(df)):\n",
    "            sql = f\"\"\"\n",
    "                insert into daum values ('{codename}','{df.iloc[i,0]}',{df.iloc[i,1]}, {df.iloc[i,2]}, {df.iloc[i,3]})\"\"\"\n",
    "            cursor.execute(sql)\n",
    "        path = f'div.paging > a:nth-child({page})'\n",
    "        driver.find_element_by_css_selector(path).click()\n",
    "        time.sleep(0.5)\n",
    "db.commit()"
   ]
  },
  {
   "cell_type": "code",
   "execution_count": 77,
   "id": "ed368f75",
   "metadata": {
    "ExecuteTime": {
     "end_time": "2022-02-10T02:10:29.440766Z",
     "start_time": "2022-02-10T02:10:27.650674Z"
    }
   },
   "outputs": [
    {
     "ename": "NoSuchElementException",
     "evalue": "Message: no such element: Unable to locate element: {\"method\":\"css selector\",\"selector\":\"div.paging > a:nth-child(13)\"}\n  (Session info: chrome=98.0.4758.82)\nStacktrace:\nBacktrace:\n\tOrdinal0 [0x00AEFDC3+2555331]\n\tOrdinal0 [0x00A877F1+2127857]\n\tOrdinal0 [0x00982E08+1060360]\n\tOrdinal0 [0x009AE49E+1238174]\n\tOrdinal0 [0x009AE69B+1238683]\n\tOrdinal0 [0x009D9252+1413714]\n\tOrdinal0 [0x009C7B54+1342292]\n\tOrdinal0 [0x009D75FA+1406458]\n\tOrdinal0 [0x009C7976+1341814]\n\tOrdinal0 [0x009A36B6+1193654]\n\tOrdinal0 [0x009A4546+1197382]\n\tGetHandleVerifier [0x00C89622+1619522]\n\tGetHandleVerifier [0x00D3882C+2336844]\n\tGetHandleVerifier [0x00B823E1+541697]\n\tGetHandleVerifier [0x00B81443+537699]\n\tOrdinal0 [0x00A8D18E+2150798]\n\tOrdinal0 [0x00A91518+2168088]\n\tOrdinal0 [0x00A91660+2168416]\n\tOrdinal0 [0x00A9B330+2208560]\n\tBaseThreadInitThunk [0x7714FA29+25]\n\tRtlGetAppContainerNamedObjectPath [0x772F7A9E+286]\n\tRtlGetAppContainerNamedObjectPath [0x772F7A6E+238]\n",
     "output_type": "error",
     "traceback": [
      "\u001b[1;31m---------------------------------------------------------------------------\u001b[0m",
      "\u001b[1;31mNoSuchElementException\u001b[0m                    Traceback (most recent call last)",
      "\u001b[1;32m~\\AppData\\Local\\Temp/ipykernel_7100/4015301478.py\u001b[0m in \u001b[0;36m<module>\u001b[1;34m\u001b[0m\n\u001b[0;32m     11\u001b[0m             \u001b[0mcursor\u001b[0m\u001b[1;33m.\u001b[0m\u001b[0mexecute\u001b[0m\u001b[1;33m(\u001b[0m\u001b[0msql\u001b[0m\u001b[1;33m)\u001b[0m\u001b[1;33m\u001b[0m\u001b[1;33m\u001b[0m\u001b[0m\n\u001b[0;32m     12\u001b[0m         \u001b[0mpath\u001b[0m \u001b[1;33m=\u001b[0m \u001b[1;34mf'div.paging > a:nth-child({page})'\u001b[0m\u001b[1;33m\u001b[0m\u001b[1;33m\u001b[0m\u001b[0m\n\u001b[1;32m---> 13\u001b[1;33m         \u001b[0mdriver\u001b[0m\u001b[1;33m.\u001b[0m\u001b[0mfind_element_by_css_selector\u001b[0m\u001b[1;33m(\u001b[0m\u001b[0mpath\u001b[0m\u001b[1;33m)\u001b[0m\u001b[1;33m.\u001b[0m\u001b[0mclick\u001b[0m\u001b[1;33m(\u001b[0m\u001b[1;33m)\u001b[0m\u001b[1;33m\u001b[0m\u001b[1;33m\u001b[0m\u001b[0m\n\u001b[0m\u001b[0;32m     14\u001b[0m         \u001b[0mtime\u001b[0m\u001b[1;33m.\u001b[0m\u001b[0msleep\u001b[0m\u001b[1;33m(\u001b[0m\u001b[1;36m0.5\u001b[0m\u001b[1;33m)\u001b[0m\u001b[1;33m\u001b[0m\u001b[1;33m\u001b[0m\u001b[0m\n\u001b[0;32m     15\u001b[0m \u001b[0mdb\u001b[0m\u001b[1;33m.\u001b[0m\u001b[0mcommit\u001b[0m\u001b[1;33m(\u001b[0m\u001b[1;33m)\u001b[0m\u001b[1;33m\u001b[0m\u001b[1;33m\u001b[0m\u001b[0m\n",
      "\u001b[1;32m~\\anaconda3\\envs\\study\\lib\\site-packages\\selenium\\webdriver\\remote\\webdriver.py\u001b[0m in \u001b[0;36mfind_element_by_css_selector\u001b[1;34m(self, css_selector)\u001b[0m\n\u001b[0;32m    806\u001b[0m             \u001b[0mstacklevel\u001b[0m\u001b[1;33m=\u001b[0m\u001b[1;36m2\u001b[0m\u001b[1;33m,\u001b[0m\u001b[1;33m\u001b[0m\u001b[1;33m\u001b[0m\u001b[0m\n\u001b[0;32m    807\u001b[0m         )\n\u001b[1;32m--> 808\u001b[1;33m         \u001b[1;32mreturn\u001b[0m \u001b[0mself\u001b[0m\u001b[1;33m.\u001b[0m\u001b[0mfind_element\u001b[0m\u001b[1;33m(\u001b[0m\u001b[0mby\u001b[0m\u001b[1;33m=\u001b[0m\u001b[0mBy\u001b[0m\u001b[1;33m.\u001b[0m\u001b[0mCSS_SELECTOR\u001b[0m\u001b[1;33m,\u001b[0m \u001b[0mvalue\u001b[0m\u001b[1;33m=\u001b[0m\u001b[0mcss_selector\u001b[0m\u001b[1;33m)\u001b[0m\u001b[1;33m\u001b[0m\u001b[1;33m\u001b[0m\u001b[0m\n\u001b[0m\u001b[0;32m    809\u001b[0m \u001b[1;33m\u001b[0m\u001b[0m\n\u001b[0;32m    810\u001b[0m     \u001b[1;32mdef\u001b[0m \u001b[0mfind_elements_by_css_selector\u001b[0m\u001b[1;33m(\u001b[0m\u001b[0mself\u001b[0m\u001b[1;33m,\u001b[0m \u001b[0mcss_selector\u001b[0m\u001b[1;33m)\u001b[0m \u001b[1;33m->\u001b[0m \u001b[0mWebElement\u001b[0m\u001b[1;33m:\u001b[0m\u001b[1;33m\u001b[0m\u001b[1;33m\u001b[0m\u001b[0m\n",
      "\u001b[1;32m~\\anaconda3\\envs\\study\\lib\\site-packages\\selenium\\webdriver\\remote\\webdriver.py\u001b[0m in \u001b[0;36mfind_element\u001b[1;34m(self, by, value)\u001b[0m\n\u001b[0;32m   1242\u001b[0m             \u001b[0mvalue\u001b[0m \u001b[1;33m=\u001b[0m \u001b[1;34m'[name=\"%s\"]'\u001b[0m \u001b[1;33m%\u001b[0m \u001b[0mvalue\u001b[0m\u001b[1;33m\u001b[0m\u001b[1;33m\u001b[0m\u001b[0m\n\u001b[0;32m   1243\u001b[0m \u001b[1;33m\u001b[0m\u001b[0m\n\u001b[1;32m-> 1244\u001b[1;33m         return self.execute(Command.FIND_ELEMENT, {\n\u001b[0m\u001b[0;32m   1245\u001b[0m             \u001b[1;34m'using'\u001b[0m\u001b[1;33m:\u001b[0m \u001b[0mby\u001b[0m\u001b[1;33m,\u001b[0m\u001b[1;33m\u001b[0m\u001b[1;33m\u001b[0m\u001b[0m\n\u001b[0;32m   1246\u001b[0m             'value': value})['value']\n",
      "\u001b[1;32m~\\anaconda3\\envs\\study\\lib\\site-packages\\selenium\\webdriver\\remote\\webdriver.py\u001b[0m in \u001b[0;36mexecute\u001b[1;34m(self, driver_command, params)\u001b[0m\n\u001b[0;32m    422\u001b[0m         \u001b[0mresponse\u001b[0m \u001b[1;33m=\u001b[0m \u001b[0mself\u001b[0m\u001b[1;33m.\u001b[0m\u001b[0mcommand_executor\u001b[0m\u001b[1;33m.\u001b[0m\u001b[0mexecute\u001b[0m\u001b[1;33m(\u001b[0m\u001b[0mdriver_command\u001b[0m\u001b[1;33m,\u001b[0m \u001b[0mparams\u001b[0m\u001b[1;33m)\u001b[0m\u001b[1;33m\u001b[0m\u001b[1;33m\u001b[0m\u001b[0m\n\u001b[0;32m    423\u001b[0m         \u001b[1;32mif\u001b[0m \u001b[0mresponse\u001b[0m\u001b[1;33m:\u001b[0m\u001b[1;33m\u001b[0m\u001b[1;33m\u001b[0m\u001b[0m\n\u001b[1;32m--> 424\u001b[1;33m             \u001b[0mself\u001b[0m\u001b[1;33m.\u001b[0m\u001b[0merror_handler\u001b[0m\u001b[1;33m.\u001b[0m\u001b[0mcheck_response\u001b[0m\u001b[1;33m(\u001b[0m\u001b[0mresponse\u001b[0m\u001b[1;33m)\u001b[0m\u001b[1;33m\u001b[0m\u001b[1;33m\u001b[0m\u001b[0m\n\u001b[0m\u001b[0;32m    425\u001b[0m             response['value'] = self._unwrap_value(\n\u001b[0;32m    426\u001b[0m                 response.get('value', None))\n",
      "\u001b[1;32m~\\anaconda3\\envs\\study\\lib\\site-packages\\selenium\\webdriver\\remote\\errorhandler.py\u001b[0m in \u001b[0;36mcheck_response\u001b[1;34m(self, response)\u001b[0m\n\u001b[0;32m    245\u001b[0m                 \u001b[0malert_text\u001b[0m \u001b[1;33m=\u001b[0m \u001b[0mvalue\u001b[0m\u001b[1;33m[\u001b[0m\u001b[1;34m'alert'\u001b[0m\u001b[1;33m]\u001b[0m\u001b[1;33m.\u001b[0m\u001b[0mget\u001b[0m\u001b[1;33m(\u001b[0m\u001b[1;34m'text'\u001b[0m\u001b[1;33m)\u001b[0m\u001b[1;33m\u001b[0m\u001b[1;33m\u001b[0m\u001b[0m\n\u001b[0;32m    246\u001b[0m             \u001b[1;32mraise\u001b[0m \u001b[0mexception_class\u001b[0m\u001b[1;33m(\u001b[0m\u001b[0mmessage\u001b[0m\u001b[1;33m,\u001b[0m \u001b[0mscreen\u001b[0m\u001b[1;33m,\u001b[0m \u001b[0mstacktrace\u001b[0m\u001b[1;33m,\u001b[0m \u001b[0malert_text\u001b[0m\u001b[1;33m)\u001b[0m  \u001b[1;31m# type: ignore[call-arg]  # mypy is not smart enough here\u001b[0m\u001b[1;33m\u001b[0m\u001b[1;33m\u001b[0m\u001b[0m\n\u001b[1;32m--> 247\u001b[1;33m         \u001b[1;32mraise\u001b[0m \u001b[0mexception_class\u001b[0m\u001b[1;33m(\u001b[0m\u001b[0mmessage\u001b[0m\u001b[1;33m,\u001b[0m \u001b[0mscreen\u001b[0m\u001b[1;33m,\u001b[0m \u001b[0mstacktrace\u001b[0m\u001b[1;33m)\u001b[0m\u001b[1;33m\u001b[0m\u001b[1;33m\u001b[0m\u001b[0m\n\u001b[0m\u001b[0;32m    248\u001b[0m \u001b[1;33m\u001b[0m\u001b[0m\n\u001b[0;32m    249\u001b[0m     \u001b[1;32mdef\u001b[0m \u001b[0m_value_or_default\u001b[0m\u001b[1;33m(\u001b[0m\u001b[0mself\u001b[0m\u001b[1;33m,\u001b[0m \u001b[0mobj\u001b[0m\u001b[1;33m:\u001b[0m \u001b[0mMapping\u001b[0m\u001b[1;33m[\u001b[0m\u001b[0m_KT\u001b[0m\u001b[1;33m,\u001b[0m \u001b[0m_VT\u001b[0m\u001b[1;33m]\u001b[0m\u001b[1;33m,\u001b[0m \u001b[0mkey\u001b[0m\u001b[1;33m:\u001b[0m \u001b[0m_KT\u001b[0m\u001b[1;33m,\u001b[0m \u001b[0mdefault\u001b[0m\u001b[1;33m:\u001b[0m \u001b[0m_VT\u001b[0m\u001b[1;33m)\u001b[0m \u001b[1;33m->\u001b[0m \u001b[0m_VT\u001b[0m\u001b[1;33m:\u001b[0m\u001b[1;33m\u001b[0m\u001b[1;33m\u001b[0m\u001b[0m\n",
      "\u001b[1;31mNoSuchElementException\u001b[0m: Message: no such element: Unable to locate element: {\"method\":\"css selector\",\"selector\":\"div.paging > a:nth-child(13)\"}\n  (Session info: chrome=98.0.4758.82)\nStacktrace:\nBacktrace:\n\tOrdinal0 [0x00AEFDC3+2555331]\n\tOrdinal0 [0x00A877F1+2127857]\n\tOrdinal0 [0x00982E08+1060360]\n\tOrdinal0 [0x009AE49E+1238174]\n\tOrdinal0 [0x009AE69B+1238683]\n\tOrdinal0 [0x009D9252+1413714]\n\tOrdinal0 [0x009C7B54+1342292]\n\tOrdinal0 [0x009D75FA+1406458]\n\tOrdinal0 [0x009C7976+1341814]\n\tOrdinal0 [0x009A36B6+1193654]\n\tOrdinal0 [0x009A4546+1197382]\n\tGetHandleVerifier [0x00C89622+1619522]\n\tGetHandleVerifier [0x00D3882C+2336844]\n\tGetHandleVerifier [0x00B823E1+541697]\n\tGetHandleVerifier [0x00B81443+537699]\n\tOrdinal0 [0x00A8D18E+2150798]\n\tOrdinal0 [0x00A91518+2168088]\n\tOrdinal0 [0x00A91660+2168416]\n\tOrdinal0 [0x00A9B330+2208560]\n\tBaseThreadInitThunk [0x7714FA29+25]\n\tRtlGetAppContainerNamedObjectPath [0x772F7A9E+286]\n\tRtlGetAppContainerNamedObjectPath [0x772F7A6E+238]\n"
     ]
    }
   ],
   "source": [
    "# 131~134\n",
    "for _ in range(1):\n",
    "    for page in range(10,17):\n",
    "        html = driver.page_source\n",
    "        df = pd.read_html(html)[0]\n",
    "        df['전일비'] = df['전일비'].str.replace('▼','-').str.replace('▲','').astype('float')\n",
    "        df['등락률'] = df['등락률'].str.replace('%','').str.replace(',','').astype(float)\n",
    "        for i in range(len(df)):\n",
    "            sql = f\"\"\"\n",
    "                insert into daum values ('{codename}','{df.iloc[i,0]}',{df.iloc[i,1]}, {df.iloc[i,2]}, {df.iloc[i,3]})\"\"\"\n",
    "            cursor.execute(sql)\n",
    "        path = f'div.paging > a:nth-child({page})'\n",
    "        driver.find_element_by_css_selector(path).click()\n",
    "        time.sleep(0.5)\n",
    "db.commit()"
   ]
  },
  {
   "cell_type": "code",
   "execution_count": 78,
   "id": "1365dc8e",
   "metadata": {
    "ExecuteTime": {
     "end_time": "2022-02-10T02:10:33.044115Z",
     "start_time": "2022-02-10T02:10:33.034141Z"
    }
   },
   "outputs": [],
   "source": [
    "db.commit()"
   ]
  },
  {
   "cell_type": "markdown",
   "id": "966506d3",
   "metadata": {
    "ExecuteTime": {
     "end_time": "2022-02-09T11:44:58.294427Z",
     "start_time": "2022-02-09T11:44:58.284453Z"
    }
   },
   "source": [
    "# 복기"
   ]
  },
  {
   "cell_type": "code",
   "execution_count": 79,
   "id": "15c11693",
   "metadata": {
    "ExecuteTime": {
     "end_time": "2022-02-10T02:10:37.699265Z",
     "start_time": "2022-02-10T02:10:37.633687Z"
    },
    "scrolled": true
   },
   "outputs": [],
   "source": [
    "tmpdf =pd.read_sql('select * from daum', db)"
   ]
  },
  {
   "cell_type": "code",
   "execution_count": 81,
   "id": "d7ac47da",
   "metadata": {
    "ExecuteTime": {
     "end_time": "2022-02-10T02:10:54.022644Z",
     "start_time": "2022-02-10T02:10:53.994691Z"
    }
   },
   "outputs": [
    {
     "data": {
      "text/html": [
       "<div>\n",
       "<style scoped>\n",
       "    .dataframe tbody tr th:only-of-type {\n",
       "        vertical-align: middle;\n",
       "    }\n",
       "\n",
       "    .dataframe tbody tr th {\n",
       "        vertical-align: top;\n",
       "    }\n",
       "\n",
       "    .dataframe thead th {\n",
       "        text-align: right;\n",
       "    }\n",
       "</style>\n",
       "<table border=\"1\" class=\"dataframe\">\n",
       "  <thead>\n",
       "    <tr style=\"text-align: right;\">\n",
       "      <th></th>\n",
       "      <th>company</th>\n",
       "      <th>date</th>\n",
       "      <th>종가</th>\n",
       "      <th>전일비</th>\n",
       "      <th>등락률</th>\n",
       "    </tr>\n",
       "  </thead>\n",
       "  <tbody>\n",
       "    <tr>\n",
       "      <th>0</th>\n",
       "      <td>WTI원유선물</td>\n",
       "      <td>2022.02.09</td>\n",
       "      <td>89.66</td>\n",
       "      <td>0.30</td>\n",
       "      <td>0.34</td>\n",
       "    </tr>\n",
       "    <tr>\n",
       "      <th>1</th>\n",
       "      <td>WTI원유선물</td>\n",
       "      <td>2022.02.08</td>\n",
       "      <td>89.36</td>\n",
       "      <td>-1.96</td>\n",
       "      <td>-2.15</td>\n",
       "    </tr>\n",
       "    <tr>\n",
       "      <th>2</th>\n",
       "      <td>WTI원유선물</td>\n",
       "      <td>2022.02.07</td>\n",
       "      <td>91.32</td>\n",
       "      <td>-0.99</td>\n",
       "      <td>-1.07</td>\n",
       "    </tr>\n",
       "    <tr>\n",
       "      <th>3</th>\n",
       "      <td>WTI원유선물</td>\n",
       "      <td>2022.02.04</td>\n",
       "      <td>92.31</td>\n",
       "      <td>2.04</td>\n",
       "      <td>2.26</td>\n",
       "    </tr>\n",
       "    <tr>\n",
       "      <th>4</th>\n",
       "      <td>WTI원유선물</td>\n",
       "      <td>2022.02.03</td>\n",
       "      <td>90.27</td>\n",
       "      <td>2.01</td>\n",
       "      <td>2.28</td>\n",
       "    </tr>\n",
       "    <tr>\n",
       "      <th>...</th>\n",
       "      <td>...</td>\n",
       "      <td>...</td>\n",
       "      <td>...</td>\n",
       "      <td>...</td>\n",
       "      <td>...</td>\n",
       "    </tr>\n",
       "    <tr>\n",
       "      <th>21614</th>\n",
       "      <td>브렌트원유선물</td>\n",
       "      <td>1990.01.08</td>\n",
       "      <td>20.52</td>\n",
       "      <td>-1.48</td>\n",
       "      <td>-6.73</td>\n",
       "    </tr>\n",
       "    <tr>\n",
       "      <th>21615</th>\n",
       "      <td>브렌트원유선물</td>\n",
       "      <td>1990.01.05</td>\n",
       "      <td>22.00</td>\n",
       "      <td>0.49</td>\n",
       "      <td>2.28</td>\n",
       "    </tr>\n",
       "    <tr>\n",
       "      <th>21616</th>\n",
       "      <td>브렌트원유선물</td>\n",
       "      <td>1990.01.04</td>\n",
       "      <td>21.51</td>\n",
       "      <td>-0.18</td>\n",
       "      <td>-0.83</td>\n",
       "    </tr>\n",
       "    <tr>\n",
       "      <th>21617</th>\n",
       "      <td>브렌트원유선물</td>\n",
       "      <td>1990.01.03</td>\n",
       "      <td>21.69</td>\n",
       "      <td>1.18</td>\n",
       "      <td>5.75</td>\n",
       "    </tr>\n",
       "    <tr>\n",
       "      <th>21618</th>\n",
       "      <td>브렌트원유선물</td>\n",
       "      <td>1990.01.02</td>\n",
       "      <td>20.51</td>\n",
       "      <td>19.43</td>\n",
       "      <td>1799.07</td>\n",
       "    </tr>\n",
       "  </tbody>\n",
       "</table>\n",
       "<p>20243 rows × 5 columns</p>\n",
       "</div>"
      ],
      "text/plain": [
       "       company        date     종가    전일비      등락률\n",
       "0      WTI원유선물  2022.02.09  89.66   0.30     0.34\n",
       "1      WTI원유선물  2022.02.08  89.36  -1.96    -2.15\n",
       "2      WTI원유선물  2022.02.07  91.32  -0.99    -1.07\n",
       "3      WTI원유선물  2022.02.04  92.31   2.04     2.26\n",
       "4      WTI원유선물  2022.02.03  90.27   2.01     2.28\n",
       "...        ...         ...    ...    ...      ...\n",
       "21614  브렌트원유선물  1990.01.08  20.52  -1.48    -6.73\n",
       "21615  브렌트원유선물  1990.01.05  22.00   0.49     2.28\n",
       "21616  브렌트원유선물  1990.01.04  21.51  -0.18    -0.83\n",
       "21617  브렌트원유선물  1990.01.03  21.69   1.18     5.75\n",
       "21618  브렌트원유선물  1990.01.02  20.51  19.43  1799.07\n",
       "\n",
       "[20243 rows x 5 columns]"
      ]
     },
     "execution_count": 81,
     "metadata": {},
     "output_type": "execute_result"
    }
   ],
   "source": [
    "tmpdf = tmpdf.drop_duplicates()\n",
    "tmpdf"
   ]
  },
  {
   "cell_type": "code",
   "execution_count": 82,
   "id": "1e960135",
   "metadata": {
    "ExecuteTime": {
     "end_time": "2022-02-10T02:11:23.934963Z",
     "start_time": "2022-02-10T02:11:23.916014Z"
    }
   },
   "outputs": [
    {
     "data": {
      "text/html": [
       "<div>\n",
       "<style scoped>\n",
       "    .dataframe tbody tr th:only-of-type {\n",
       "        vertical-align: middle;\n",
       "    }\n",
       "\n",
       "    .dataframe tbody tr th {\n",
       "        vertical-align: top;\n",
       "    }\n",
       "\n",
       "    .dataframe thead th {\n",
       "        text-align: right;\n",
       "    }\n",
       "</style>\n",
       "<table border=\"1\" class=\"dataframe\">\n",
       "  <thead>\n",
       "    <tr style=\"text-align: right;\">\n",
       "      <th></th>\n",
       "      <th>company</th>\n",
       "      <th>date</th>\n",
       "      <th>종가</th>\n",
       "      <th>전일비</th>\n",
       "      <th>등락률</th>\n",
       "    </tr>\n",
       "  </thead>\n",
       "  <tbody>\n",
       "    <tr>\n",
       "      <th>13116</th>\n",
       "      <td>브렌트원유선물</td>\n",
       "      <td>2022.02.09</td>\n",
       "      <td>91.55</td>\n",
       "      <td>0.77</td>\n",
       "      <td>0.85</td>\n",
       "    </tr>\n",
       "    <tr>\n",
       "      <th>13117</th>\n",
       "      <td>브렌트원유선물</td>\n",
       "      <td>2022.02.08</td>\n",
       "      <td>90.78</td>\n",
       "      <td>-1.91</td>\n",
       "      <td>-2.06</td>\n",
       "    </tr>\n",
       "    <tr>\n",
       "      <th>13118</th>\n",
       "      <td>브렌트원유선물</td>\n",
       "      <td>2022.02.07</td>\n",
       "      <td>92.69</td>\n",
       "      <td>-0.58</td>\n",
       "      <td>-0.62</td>\n",
       "    </tr>\n",
       "    <tr>\n",
       "      <th>13119</th>\n",
       "      <td>브렌트원유선물</td>\n",
       "      <td>2022.02.04</td>\n",
       "      <td>93.27</td>\n",
       "      <td>2.16</td>\n",
       "      <td>2.37</td>\n",
       "    </tr>\n",
       "    <tr>\n",
       "      <th>13120</th>\n",
       "      <td>브렌트원유선물</td>\n",
       "      <td>2022.02.03</td>\n",
       "      <td>91.11</td>\n",
       "      <td>1.64</td>\n",
       "      <td>1.83</td>\n",
       "    </tr>\n",
       "    <tr>\n",
       "      <th>...</th>\n",
       "      <td>...</td>\n",
       "      <td>...</td>\n",
       "      <td>...</td>\n",
       "      <td>...</td>\n",
       "      <td>...</td>\n",
       "    </tr>\n",
       "    <tr>\n",
       "      <th>21614</th>\n",
       "      <td>브렌트원유선물</td>\n",
       "      <td>1990.01.08</td>\n",
       "      <td>20.52</td>\n",
       "      <td>-1.48</td>\n",
       "      <td>-6.73</td>\n",
       "    </tr>\n",
       "    <tr>\n",
       "      <th>21615</th>\n",
       "      <td>브렌트원유선물</td>\n",
       "      <td>1990.01.05</td>\n",
       "      <td>22.00</td>\n",
       "      <td>0.49</td>\n",
       "      <td>2.28</td>\n",
       "    </tr>\n",
       "    <tr>\n",
       "      <th>21616</th>\n",
       "      <td>브렌트원유선물</td>\n",
       "      <td>1990.01.04</td>\n",
       "      <td>21.51</td>\n",
       "      <td>-0.18</td>\n",
       "      <td>-0.83</td>\n",
       "    </tr>\n",
       "    <tr>\n",
       "      <th>21617</th>\n",
       "      <td>브렌트원유선물</td>\n",
       "      <td>1990.01.03</td>\n",
       "      <td>21.69</td>\n",
       "      <td>1.18</td>\n",
       "      <td>5.75</td>\n",
       "    </tr>\n",
       "    <tr>\n",
       "      <th>21618</th>\n",
       "      <td>브렌트원유선물</td>\n",
       "      <td>1990.01.02</td>\n",
       "      <td>20.51</td>\n",
       "      <td>19.43</td>\n",
       "      <td>1799.07</td>\n",
       "    </tr>\n",
       "  </tbody>\n",
       "</table>\n",
       "<p>8203 rows × 5 columns</p>\n",
       "</div>"
      ],
      "text/plain": [
       "       company        date     종가    전일비      등락률\n",
       "13116  브렌트원유선물  2022.02.09  91.55   0.77     0.85\n",
       "13117  브렌트원유선물  2022.02.08  90.78  -1.91    -2.06\n",
       "13118  브렌트원유선물  2022.02.07  92.69  -0.58    -0.62\n",
       "13119  브렌트원유선물  2022.02.04  93.27   2.16     2.37\n",
       "13120  브렌트원유선물  2022.02.03  91.11   1.64     1.83\n",
       "...        ...         ...    ...    ...      ...\n",
       "21614  브렌트원유선물  1990.01.08  20.52  -1.48    -6.73\n",
       "21615  브렌트원유선물  1990.01.05  22.00   0.49     2.28\n",
       "21616  브렌트원유선물  1990.01.04  21.51  -0.18    -0.83\n",
       "21617  브렌트원유선물  1990.01.03  21.69   1.18     5.75\n",
       "21618  브렌트원유선물  1990.01.02  20.51  19.43  1799.07\n",
       "\n",
       "[8203 rows x 5 columns]"
      ]
     },
     "execution_count": 82,
     "metadata": {},
     "output_type": "execute_result"
    }
   ],
   "source": [
    "tmpdf[tmpdf['company']=='브렌트원유선물']"
   ]
  },
  {
   "cell_type": "code",
   "execution_count": 83,
   "id": "43d070b3",
   "metadata": {
    "ExecuteTime": {
     "end_time": "2022-02-10T02:11:25.661662Z",
     "start_time": "2022-02-10T02:11:25.634735Z"
    }
   },
   "outputs": [
    {
     "data": {
      "text/html": [
       "<div>\n",
       "<style scoped>\n",
       "    .dataframe tbody tr th:only-of-type {\n",
       "        vertical-align: middle;\n",
       "    }\n",
       "\n",
       "    .dataframe tbody tr th {\n",
       "        vertical-align: top;\n",
       "    }\n",
       "\n",
       "    .dataframe thead th {\n",
       "        text-align: right;\n",
       "    }\n",
       "</style>\n",
       "<table border=\"1\" class=\"dataframe\">\n",
       "  <thead>\n",
       "    <tr style=\"text-align: right;\">\n",
       "      <th></th>\n",
       "      <th>company</th>\n",
       "      <th>date</th>\n",
       "      <th>종가</th>\n",
       "      <th>전일비</th>\n",
       "      <th>등락률</th>\n",
       "    </tr>\n",
       "  </thead>\n",
       "  <tbody>\n",
       "    <tr>\n",
       "      <th>8072</th>\n",
       "      <td>두바이유선물</td>\n",
       "      <td>2022.02.09</td>\n",
       "      <td>89.883</td>\n",
       "      <td>0.601</td>\n",
       "      <td>0.67</td>\n",
       "    </tr>\n",
       "    <tr>\n",
       "      <th>8073</th>\n",
       "      <td>두바이유선물</td>\n",
       "      <td>2022.02.08</td>\n",
       "      <td>89.282</td>\n",
       "      <td>-1.475</td>\n",
       "      <td>-1.63</td>\n",
       "    </tr>\n",
       "    <tr>\n",
       "      <th>8074</th>\n",
       "      <td>두바이유선물</td>\n",
       "      <td>2022.02.07</td>\n",
       "      <td>90.757</td>\n",
       "      <td>-0.299</td>\n",
       "      <td>-0.33</td>\n",
       "    </tr>\n",
       "    <tr>\n",
       "      <th>8075</th>\n",
       "      <td>두바이유선물</td>\n",
       "      <td>2022.02.04</td>\n",
       "      <td>91.056</td>\n",
       "      <td>1.900</td>\n",
       "      <td>2.13</td>\n",
       "    </tr>\n",
       "    <tr>\n",
       "      <th>8076</th>\n",
       "      <td>두바이유선물</td>\n",
       "      <td>2022.02.03</td>\n",
       "      <td>89.156</td>\n",
       "      <td>1.391</td>\n",
       "      <td>1.58</td>\n",
       "    </tr>\n",
       "    <tr>\n",
       "      <th>...</th>\n",
       "      <td>...</td>\n",
       "      <td>...</td>\n",
       "      <td>...</td>\n",
       "      <td>...</td>\n",
       "      <td>...</td>\n",
       "    </tr>\n",
       "    <tr>\n",
       "      <th>12635</th>\n",
       "      <td>두바이유선물</td>\n",
       "      <td>2006.01.30</td>\n",
       "      <td>61.430</td>\n",
       "      <td>0.540</td>\n",
       "      <td>0.89</td>\n",
       "    </tr>\n",
       "    <tr>\n",
       "      <th>12636</th>\n",
       "      <td>두바이유선물</td>\n",
       "      <td>2006.01.27</td>\n",
       "      <td>60.890</td>\n",
       "      <td>0.940</td>\n",
       "      <td>1.57</td>\n",
       "    </tr>\n",
       "    <tr>\n",
       "      <th>12637</th>\n",
       "      <td>두바이유선물</td>\n",
       "      <td>2006.01.26</td>\n",
       "      <td>59.950</td>\n",
       "      <td>0.630</td>\n",
       "      <td>1.06</td>\n",
       "    </tr>\n",
       "    <tr>\n",
       "      <th>12638</th>\n",
       "      <td>두바이유선물</td>\n",
       "      <td>2006.01.25</td>\n",
       "      <td>59.320</td>\n",
       "      <td>-1.470</td>\n",
       "      <td>-2.42</td>\n",
       "    </tr>\n",
       "    <tr>\n",
       "      <th>12639</th>\n",
       "      <td>두바이유선물</td>\n",
       "      <td>2006.01.24</td>\n",
       "      <td>60.790</td>\n",
       "      <td>-0.280</td>\n",
       "      <td>-0.46</td>\n",
       "    </tr>\n",
       "  </tbody>\n",
       "</table>\n",
       "<p>3968 rows × 5 columns</p>\n",
       "</div>"
      ],
      "text/plain": [
       "      company        date      종가    전일비   등락률\n",
       "8072   두바이유선물  2022.02.09  89.883  0.601  0.67\n",
       "8073   두바이유선물  2022.02.08  89.282 -1.475 -1.63\n",
       "8074   두바이유선물  2022.02.07  90.757 -0.299 -0.33\n",
       "8075   두바이유선물  2022.02.04  91.056  1.900  2.13\n",
       "8076   두바이유선물  2022.02.03  89.156  1.391  1.58\n",
       "...       ...         ...     ...    ...   ...\n",
       "12635  두바이유선물  2006.01.30  61.430  0.540  0.89\n",
       "12636  두바이유선물  2006.01.27  60.890  0.940  1.57\n",
       "12637  두바이유선물  2006.01.26  59.950  0.630  1.06\n",
       "12638  두바이유선물  2006.01.25  59.320 -1.470 -2.42\n",
       "12639  두바이유선물  2006.01.24  60.790 -0.280 -0.46\n",
       "\n",
       "[3968 rows x 5 columns]"
      ]
     },
     "execution_count": 83,
     "metadata": {},
     "output_type": "execute_result"
    }
   ],
   "source": [
    "tmpdf[tmpdf['company']=='두바이유선물']"
   ]
  },
  {
   "cell_type": "code",
   "execution_count": 84,
   "id": "598b7140",
   "metadata": {
    "ExecuteTime": {
     "end_time": "2022-02-10T02:11:27.437528Z",
     "start_time": "2022-02-10T02:11:27.418551Z"
    }
   },
   "outputs": [
    {
     "data": {
      "text/html": [
       "<div>\n",
       "<style scoped>\n",
       "    .dataframe tbody tr th:only-of-type {\n",
       "        vertical-align: middle;\n",
       "    }\n",
       "\n",
       "    .dataframe tbody tr th {\n",
       "        vertical-align: top;\n",
       "    }\n",
       "\n",
       "    .dataframe thead th {\n",
       "        text-align: right;\n",
       "    }\n",
       "</style>\n",
       "<table border=\"1\" class=\"dataframe\">\n",
       "  <thead>\n",
       "    <tr style=\"text-align: right;\">\n",
       "      <th></th>\n",
       "      <th>company</th>\n",
       "      <th>date</th>\n",
       "      <th>종가</th>\n",
       "      <th>전일비</th>\n",
       "      <th>등락률</th>\n",
       "    </tr>\n",
       "  </thead>\n",
       "  <tbody>\n",
       "    <tr>\n",
       "      <th>0</th>\n",
       "      <td>WTI원유선물</td>\n",
       "      <td>2022.02.09</td>\n",
       "      <td>89.66</td>\n",
       "      <td>0.30</td>\n",
       "      <td>0.34</td>\n",
       "    </tr>\n",
       "    <tr>\n",
       "      <th>1</th>\n",
       "      <td>WTI원유선물</td>\n",
       "      <td>2022.02.08</td>\n",
       "      <td>89.36</td>\n",
       "      <td>-1.96</td>\n",
       "      <td>-2.15</td>\n",
       "    </tr>\n",
       "    <tr>\n",
       "      <th>2</th>\n",
       "      <td>WTI원유선물</td>\n",
       "      <td>2022.02.07</td>\n",
       "      <td>91.32</td>\n",
       "      <td>-0.99</td>\n",
       "      <td>-1.07</td>\n",
       "    </tr>\n",
       "    <tr>\n",
       "      <th>3</th>\n",
       "      <td>WTI원유선물</td>\n",
       "      <td>2022.02.04</td>\n",
       "      <td>92.31</td>\n",
       "      <td>2.04</td>\n",
       "      <td>2.26</td>\n",
       "    </tr>\n",
       "    <tr>\n",
       "      <th>4</th>\n",
       "      <td>WTI원유선물</td>\n",
       "      <td>2022.02.03</td>\n",
       "      <td>90.27</td>\n",
       "      <td>2.01</td>\n",
       "      <td>2.28</td>\n",
       "    </tr>\n",
       "    <tr>\n",
       "      <th>...</th>\n",
       "      <td>...</td>\n",
       "      <td>...</td>\n",
       "      <td>...</td>\n",
       "      <td>...</td>\n",
       "      <td>...</td>\n",
       "    </tr>\n",
       "    <tr>\n",
       "      <th>8067</th>\n",
       "      <td>WTI원유선물</td>\n",
       "      <td>1990.01.08</td>\n",
       "      <td>21.62</td>\n",
       "      <td>-1.46</td>\n",
       "      <td>-6.33</td>\n",
       "    </tr>\n",
       "    <tr>\n",
       "      <th>8068</th>\n",
       "      <td>WTI원유선물</td>\n",
       "      <td>1990.01.05</td>\n",
       "      <td>23.08</td>\n",
       "      <td>-0.33</td>\n",
       "      <td>-1.41</td>\n",
       "    </tr>\n",
       "    <tr>\n",
       "      <th>8069</th>\n",
       "      <td>WTI원유선물</td>\n",
       "      <td>1990.01.04</td>\n",
       "      <td>23.41</td>\n",
       "      <td>-0.27</td>\n",
       "      <td>-1.14</td>\n",
       "    </tr>\n",
       "    <tr>\n",
       "      <th>8070</th>\n",
       "      <td>WTI원유선물</td>\n",
       "      <td>1990.01.03</td>\n",
       "      <td>23.68</td>\n",
       "      <td>0.79</td>\n",
       "      <td>3.45</td>\n",
       "    </tr>\n",
       "    <tr>\n",
       "      <th>8071</th>\n",
       "      <td>WTI원유선물</td>\n",
       "      <td>1990.01.02</td>\n",
       "      <td>22.89</td>\n",
       "      <td>-91.04</td>\n",
       "      <td>-79.91</td>\n",
       "    </tr>\n",
       "  </tbody>\n",
       "</table>\n",
       "<p>8072 rows × 5 columns</p>\n",
       "</div>"
      ],
      "text/plain": [
       "      company        date     종가    전일비    등락률\n",
       "0     WTI원유선물  2022.02.09  89.66   0.30   0.34\n",
       "1     WTI원유선물  2022.02.08  89.36  -1.96  -2.15\n",
       "2     WTI원유선물  2022.02.07  91.32  -0.99  -1.07\n",
       "3     WTI원유선물  2022.02.04  92.31   2.04   2.26\n",
       "4     WTI원유선물  2022.02.03  90.27   2.01   2.28\n",
       "...       ...         ...    ...    ...    ...\n",
       "8067  WTI원유선물  1990.01.08  21.62  -1.46  -6.33\n",
       "8068  WTI원유선물  1990.01.05  23.08  -0.33  -1.41\n",
       "8069  WTI원유선물  1990.01.04  23.41  -0.27  -1.14\n",
       "8070  WTI원유선물  1990.01.03  23.68   0.79   3.45\n",
       "8071  WTI원유선물  1990.01.02  22.89 -91.04 -79.91\n",
       "\n",
       "[8072 rows x 5 columns]"
      ]
     },
     "execution_count": 84,
     "metadata": {},
     "output_type": "execute_result"
    }
   ],
   "source": [
    "tmpdf[tmpdf['company']=='WTI원유선물']"
   ]
  },
  {
   "cell_type": "code",
   "execution_count": 85,
   "id": "d2fa2a89",
   "metadata": {
    "ExecuteTime": {
     "end_time": "2022-02-10T02:11:34.749520Z",
     "start_time": "2022-02-10T02:11:34.674794Z"
    }
   },
   "outputs": [],
   "source": [
    "tmpdf.to_csv('daum_oil.csv',index=False)"
   ]
  },
  {
   "cell_type": "code",
   "execution_count": 91,
   "id": "64ad8822",
   "metadata": {
    "ExecuteTime": {
     "end_time": "2022-02-10T08:59:53.313951Z",
     "start_time": "2022-02-10T08:59:53.273090Z"
    }
   },
   "outputs": [],
   "source": [
    "url = 'https://dart.fss.or.kr/report/viewer.do?rcpNo=20211112000348&dcmNo=8271438&eleId=12&offset=54809&length=43207&dtd=dart3.xsd'\n",
    "driver.get(url)"
   ]
  },
  {
   "cell_type": "code",
   "execution_count": 92,
   "id": "0a9af46b",
   "metadata": {
    "ExecuteTime": {
     "end_time": "2022-02-10T09:00:02.486953Z",
     "start_time": "2022-02-10T09:00:02.462019Z"
    }
   },
   "outputs": [],
   "source": [
    "html = driver.page_source"
   ]
  },
  {
   "cell_type": "code",
   "execution_count": 94,
   "id": "b14e3120",
   "metadata": {
    "ExecuteTime": {
     "end_time": "2022-02-10T09:00:08.471599Z",
     "start_time": "2022-02-10T09:00:08.427583Z"
    },
    "scrolled": true
   },
   "outputs": [
    {
     "data": {
      "text/html": [
       "<div>\n",
       "<style scoped>\n",
       "    .dataframe tbody tr th:only-of-type {\n",
       "        vertical-align: middle;\n",
       "    }\n",
       "\n",
       "    .dataframe tbody tr th {\n",
       "        vertical-align: top;\n",
       "    }\n",
       "\n",
       "    .dataframe thead th {\n",
       "        text-align: right;\n",
       "    }\n",
       "</style>\n",
       "<table border=\"1\" class=\"dataframe\">\n",
       "  <thead>\n",
       "    <tr style=\"text-align: right;\">\n",
       "      <th></th>\n",
       "      <th>유 형</th>\n",
       "      <th>품 목</th>\n",
       "      <th>구 분</th>\n",
       "      <th>2021년3분기말</th>\n",
       "      <th>2020년 (제21기)</th>\n",
       "      <th>2019년(제20기)</th>\n",
       "    </tr>\n",
       "  </thead>\n",
       "  <tbody>\n",
       "    <tr>\n",
       "      <th>0</th>\n",
       "      <td>상품</td>\n",
       "      <td>화장품안료</td>\n",
       "      <td>국내</td>\n",
       "      <td>-</td>\n",
       "      <td>-</td>\n",
       "      <td>-</td>\n",
       "    </tr>\n",
       "    <tr>\n",
       "      <th>1</th>\n",
       "      <td>상품</td>\n",
       "      <td>화장품안료</td>\n",
       "      <td>수입</td>\n",
       "      <td>1,107,128 $473,530 EUR424,254</td>\n",
       "      <td>1,854,415 $1,039,587 EUR472,884</td>\n",
       "      <td>3,018,085 $1,949,113 EUR578,789</td>\n",
       "    </tr>\n",
       "    <tr>\n",
       "      <th>2</th>\n",
       "      <td>상품</td>\n",
       "      <td>기타</td>\n",
       "      <td>국내</td>\n",
       "      <td>42872</td>\n",
       "      <td>65789</td>\n",
       "      <td>146553</td>\n",
       "    </tr>\n",
       "    <tr>\n",
       "      <th>3</th>\n",
       "      <td>상품</td>\n",
       "      <td>기타</td>\n",
       "      <td>수입</td>\n",
       "      <td>65,779 $57,964</td>\n",
       "      <td>75,304$66,015</td>\n",
       "      <td>74,957$64,800</td>\n",
       "    </tr>\n",
       "    <tr>\n",
       "      <th>4</th>\n",
       "      <td>소 계</td>\n",
       "      <td>소 계</td>\n",
       "      <td>국내</td>\n",
       "      <td>42872</td>\n",
       "      <td>65789</td>\n",
       "      <td>146553</td>\n",
       "    </tr>\n",
       "    <tr>\n",
       "      <th>5</th>\n",
       "      <td>소 계</td>\n",
       "      <td>소 계</td>\n",
       "      <td>수입</td>\n",
       "      <td>1,172,907 $531,495 EUR424,254</td>\n",
       "      <td>1,929,719 $1,105,603 EUR472,884</td>\n",
       "      <td>3,093,042 $2,013,913 EUR578,789</td>\n",
       "    </tr>\n",
       "    <tr>\n",
       "      <th>6</th>\n",
       "      <td>원재료</td>\n",
       "      <td>합성Mica</td>\n",
       "      <td>국내</td>\n",
       "      <td>1046778</td>\n",
       "      <td>1658334</td>\n",
       "      <td>1951342</td>\n",
       "    </tr>\n",
       "    <tr>\n",
       "      <th>7</th>\n",
       "      <td>원재료</td>\n",
       "      <td>합성Mica</td>\n",
       "      <td>수입</td>\n",
       "      <td>-</td>\n",
       "      <td>-</td>\n",
       "      <td>-</td>\n",
       "    </tr>\n",
       "    <tr>\n",
       "      <th>8</th>\n",
       "      <td>원재료</td>\n",
       "      <td>TiCl4</td>\n",
       "      <td>국내</td>\n",
       "      <td>1476899</td>\n",
       "      <td>1653289</td>\n",
       "      <td>1942233</td>\n",
       "    </tr>\n",
       "    <tr>\n",
       "      <th>9</th>\n",
       "      <td>원재료</td>\n",
       "      <td>TiCl4</td>\n",
       "      <td>수입</td>\n",
       "      <td>-</td>\n",
       "      <td>-</td>\n",
       "      <td>-</td>\n",
       "    </tr>\n",
       "    <tr>\n",
       "      <th>10</th>\n",
       "      <td>원재료</td>\n",
       "      <td>기 타</td>\n",
       "      <td>국내</td>\n",
       "      <td>2429075</td>\n",
       "      <td>1802163</td>\n",
       "      <td>2512687</td>\n",
       "    </tr>\n",
       "    <tr>\n",
       "      <th>11</th>\n",
       "      <td>원재료</td>\n",
       "      <td>기 타</td>\n",
       "      <td>수입</td>\n",
       "      <td>1,085,102 $782,080 ￡126,153</td>\n",
       "      <td>1,331,394 $487,560 ￡492,104</td>\n",
       "      <td>1,102,661 $368,596 ￡462,468</td>\n",
       "    </tr>\n",
       "    <tr>\n",
       "      <th>12</th>\n",
       "      <td>소 계</td>\n",
       "      <td>소 계</td>\n",
       "      <td>국내</td>\n",
       "      <td>4952752</td>\n",
       "      <td>5113786</td>\n",
       "      <td>6406262</td>\n",
       "    </tr>\n",
       "    <tr>\n",
       "      <th>13</th>\n",
       "      <td>소 계</td>\n",
       "      <td>소 계</td>\n",
       "      <td>수입</td>\n",
       "      <td>1,085,102 $782,080 ￡126,153</td>\n",
       "      <td>1,331,394 $487,560 ￡492,104</td>\n",
       "      <td>1,102,661 $368,596 ￡462,468</td>\n",
       "    </tr>\n",
       "    <tr>\n",
       "      <th>14</th>\n",
       "      <td>부재료</td>\n",
       "      <td>가성소다</td>\n",
       "      <td>국내</td>\n",
       "      <td>589548</td>\n",
       "      <td>704441</td>\n",
       "      <td>898901</td>\n",
       "    </tr>\n",
       "    <tr>\n",
       "      <th>15</th>\n",
       "      <td>부재료</td>\n",
       "      <td>가성소다</td>\n",
       "      <td>수입</td>\n",
       "      <td>-</td>\n",
       "      <td>-</td>\n",
       "      <td>-</td>\n",
       "    </tr>\n",
       "    <tr>\n",
       "      <th>16</th>\n",
       "      <td>부재료</td>\n",
       "      <td>Box(25kg)</td>\n",
       "      <td>국내</td>\n",
       "      <td>82714</td>\n",
       "      <td>95624</td>\n",
       "      <td>116158</td>\n",
       "    </tr>\n",
       "    <tr>\n",
       "      <th>17</th>\n",
       "      <td>부재료</td>\n",
       "      <td>Box(25kg)</td>\n",
       "      <td>수입</td>\n",
       "      <td>-</td>\n",
       "      <td>-</td>\n",
       "      <td>-</td>\n",
       "    </tr>\n",
       "    <tr>\n",
       "      <th>18</th>\n",
       "      <td>부재료</td>\n",
       "      <td>기 타</td>\n",
       "      <td>국내</td>\n",
       "      <td>822076</td>\n",
       "      <td>1046537</td>\n",
       "      <td>1057943</td>\n",
       "    </tr>\n",
       "    <tr>\n",
       "      <th>19</th>\n",
       "      <td>부재료</td>\n",
       "      <td>기 타</td>\n",
       "      <td>수입</td>\n",
       "      <td>-</td>\n",
       "      <td>-</td>\n",
       "      <td>-</td>\n",
       "    </tr>\n",
       "    <tr>\n",
       "      <th>20</th>\n",
       "      <td>소 계</td>\n",
       "      <td>소 계</td>\n",
       "      <td>국내</td>\n",
       "      <td>1494339</td>\n",
       "      <td>1846603</td>\n",
       "      <td>207300</td>\n",
       "    </tr>\n",
       "    <tr>\n",
       "      <th>21</th>\n",
       "      <td>소 계</td>\n",
       "      <td>소 계</td>\n",
       "      <td>수입</td>\n",
       "      <td>-</td>\n",
       "      <td>-</td>\n",
       "      <td>-</td>\n",
       "    </tr>\n",
       "    <tr>\n",
       "      <th>22</th>\n",
       "      <td>외주 가공비</td>\n",
       "      <td>외주 가공비</td>\n",
       "      <td>국내</td>\n",
       "      <td>99398</td>\n",
       "      <td>249258</td>\n",
       "      <td>553337</td>\n",
       "    </tr>\n",
       "    <tr>\n",
       "      <th>23</th>\n",
       "      <td>외주 가공비</td>\n",
       "      <td>외주 가공비</td>\n",
       "      <td>수입</td>\n",
       "      <td>-</td>\n",
       "      <td>-</td>\n",
       "      <td>-</td>\n",
       "    </tr>\n",
       "    <tr>\n",
       "      <th>24</th>\n",
       "      <td>소 계</td>\n",
       "      <td>소 계</td>\n",
       "      <td>국내</td>\n",
       "      <td>99398</td>\n",
       "      <td>249258</td>\n",
       "      <td>553337</td>\n",
       "    </tr>\n",
       "    <tr>\n",
       "      <th>25</th>\n",
       "      <td>소 계</td>\n",
       "      <td>소 계</td>\n",
       "      <td>수입</td>\n",
       "      <td>-</td>\n",
       "      <td>-</td>\n",
       "      <td>-</td>\n",
       "    </tr>\n",
       "    <tr>\n",
       "      <th>26</th>\n",
       "      <td>합 계</td>\n",
       "      <td>합 계</td>\n",
       "      <td>국내</td>\n",
       "      <td>6589361</td>\n",
       "      <td>7275436</td>\n",
       "      <td>9193242</td>\n",
       "    </tr>\n",
       "    <tr>\n",
       "      <th>27</th>\n",
       "      <td>합 계</td>\n",
       "      <td>합 계</td>\n",
       "      <td>수입</td>\n",
       "      <td>2,258,009 $1,313,575 EUR424,254 ￡126,153</td>\n",
       "      <td>3,261,113 $1,593,163 EUR472,884 ￡492,104</td>\n",
       "      <td>4,181,615 $2,382,509 EUR578,789 ￡462,468</td>\n",
       "    </tr>\n",
       "  </tbody>\n",
       "</table>\n",
       "</div>"
      ],
      "text/plain": [
       "       유 형        품 목 구 분                                 2021년3분기말  \\\n",
       "0       상품      화장품안료  국내                                         -   \n",
       "1       상품      화장품안료  수입             1,107,128 $473,530 EUR424,254   \n",
       "2       상품         기타  국내                                     42872   \n",
       "3       상품         기타  수입                            65,779 $57,964   \n",
       "4      소 계        소 계  국내                                     42872   \n",
       "5      소 계        소 계  수입             1,172,907 $531,495 EUR424,254   \n",
       "6      원재료     합성Mica  국내                                   1046778   \n",
       "7      원재료     합성Mica  수입                                         -   \n",
       "8      원재료      TiCl4  국내                                   1476899   \n",
       "9      원재료      TiCl4  수입                                         -   \n",
       "10     원재료        기 타  국내                                   2429075   \n",
       "11     원재료        기 타  수입               1,085,102 $782,080 ￡126,153   \n",
       "12     소 계        소 계  국내                                   4952752   \n",
       "13     소 계        소 계  수입               1,085,102 $782,080 ￡126,153   \n",
       "14     부재료       가성소다  국내                                    589548   \n",
       "15     부재료       가성소다  수입                                         -   \n",
       "16     부재료  Box(25kg)  국내                                     82714   \n",
       "17     부재료  Box(25kg)  수입                                         -   \n",
       "18     부재료        기 타  국내                                    822076   \n",
       "19     부재료        기 타  수입                                         -   \n",
       "20     소 계        소 계  국내                                   1494339   \n",
       "21     소 계        소 계  수입                                         -   \n",
       "22  외주 가공비     외주 가공비  국내                                     99398   \n",
       "23  외주 가공비     외주 가공비  수입                                         -   \n",
       "24     소 계        소 계  국내                                     99398   \n",
       "25     소 계        소 계  수입                                         -   \n",
       "26     합 계        합 계  국내                                   6589361   \n",
       "27     합 계        합 계  수입  2,258,009 $1,313,575 EUR424,254 ￡126,153   \n",
       "\n",
       "                                2020년 (제21기)  \\\n",
       "0                                          -   \n",
       "1            1,854,415 $1,039,587 EUR472,884   \n",
       "2                                      65789   \n",
       "3                              75,304$66,015   \n",
       "4                                      65789   \n",
       "5            1,929,719 $1,105,603 EUR472,884   \n",
       "6                                    1658334   \n",
       "7                                          -   \n",
       "8                                    1653289   \n",
       "9                                          -   \n",
       "10                                   1802163   \n",
       "11               1,331,394 $487,560 ￡492,104   \n",
       "12                                   5113786   \n",
       "13               1,331,394 $487,560 ￡492,104   \n",
       "14                                    704441   \n",
       "15                                         -   \n",
       "16                                     95624   \n",
       "17                                         -   \n",
       "18                                   1046537   \n",
       "19                                         -   \n",
       "20                                   1846603   \n",
       "21                                         -   \n",
       "22                                    249258   \n",
       "23                                         -   \n",
       "24                                    249258   \n",
       "25                                         -   \n",
       "26                                   7275436   \n",
       "27  3,261,113 $1,593,163 EUR472,884 ￡492,104   \n",
       "\n",
       "                                 2019년(제20기)  \n",
       "0                                          -  \n",
       "1            3,018,085 $1,949,113 EUR578,789  \n",
       "2                                     146553  \n",
       "3                              74,957$64,800  \n",
       "4                                     146553  \n",
       "5            3,093,042 $2,013,913 EUR578,789  \n",
       "6                                    1951342  \n",
       "7                                          -  \n",
       "8                                    1942233  \n",
       "9                                          -  \n",
       "10                                   2512687  \n",
       "11               1,102,661 $368,596 ￡462,468  \n",
       "12                                   6406262  \n",
       "13               1,102,661 $368,596 ￡462,468  \n",
       "14                                    898901  \n",
       "15                                         -  \n",
       "16                                    116158  \n",
       "17                                         -  \n",
       "18                                   1057943  \n",
       "19                                         -  \n",
       "20                                    207300  \n",
       "21                                         -  \n",
       "22                                    553337  \n",
       "23                                         -  \n",
       "24                                    553337  \n",
       "25                                         -  \n",
       "26                                   9193242  \n",
       "27  4,181,615 $2,382,509 EUR578,789 ￡462,468  "
      ]
     },
     "execution_count": 94,
     "metadata": {},
     "output_type": "execute_result"
    }
   ],
   "source": [
    "pd.read_html(html)[0]"
   ]
  },
  {
   "cell_type": "code",
   "execution_count": null,
   "id": "505fceb5",
   "metadata": {},
   "outputs": [],
   "source": []
  }
 ],
 "metadata": {
  "kernelspec": {
   "display_name": "study",
   "language": "python",
   "name": "study"
  },
  "language_info": {
   "codemirror_mode": {
    "name": "ipython",
    "version": 3
   },
   "file_extension": ".py",
   "mimetype": "text/x-python",
   "name": "python",
   "nbconvert_exporter": "python",
   "pygments_lexer": "ipython3",
   "version": "3.8.12"
  },
  "toc": {
   "base_numbering": 1,
   "nav_menu": {},
   "number_sections": true,
   "sideBar": true,
   "skip_h1_title": false,
   "title_cell": "Table of Contents",
   "title_sidebar": "Contents",
   "toc_cell": false,
   "toc_position": {},
   "toc_section_display": true,
   "toc_window_display": true
  },
  "varInspector": {
   "cols": {
    "lenName": 16,
    "lenType": 16,
    "lenVar": 40
   },
   "kernels_config": {
    "python": {
     "delete_cmd_postfix": "",
     "delete_cmd_prefix": "del ",
     "library": "var_list.py",
     "varRefreshCmd": "print(var_dic_list())"
    },
    "r": {
     "delete_cmd_postfix": ") ",
     "delete_cmd_prefix": "rm(",
     "library": "var_list.r",
     "varRefreshCmd": "cat(var_dic_list()) "
    }
   },
   "oldHeight": 122.844,
   "position": {
    "height": "40px",
    "left": "803px",
    "right": "20px",
    "top": "111px",
    "width": "250px"
   },
   "types_to_exclude": [
    "module",
    "function",
    "builtin_function_or_method",
    "instance",
    "_Feature"
   ],
   "varInspector_section_display": "none",
   "window_display": true
  }
 },
 "nbformat": 4,
 "nbformat_minor": 5
}
